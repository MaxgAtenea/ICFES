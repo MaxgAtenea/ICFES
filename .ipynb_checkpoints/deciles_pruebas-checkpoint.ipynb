{
 "cells": [
  {
   "cell_type": "code",
   "execution_count": 1,
   "id": "fd5bb2dd-d609-4c6e-bd7b-0504248a63b0",
   "metadata": {},
   "outputs": [],
   "source": [
    "import pandas as pd\n",
    "import csv"
   ]
  },
  {
   "cell_type": "markdown",
   "id": "1fa03a4d-ffef-40a2-b643-cb880ec79c60",
   "metadata": {},
   "source": [
    "### CONSTANTES"
   ]
  },
  {
   "cell_type": "code",
   "execution_count": 2,
   "id": "732fa86a-27e0-4829-ad64-7a841e1c3409",
   "metadata": {},
   "outputs": [],
   "source": [
    "RUTA_SABERPRO = \"data/SABERPRO_raw/\"\n",
    "RUTA_SABERTYT = \"data/SABERTYT_raw/\"\n",
    "RUTA_TIR = \"data/TIR/\""
   ]
  },
  {
   "cell_type": "code",
   "execution_count": 3,
   "id": "ae414db7-9a54-48d2-86bb-95c12d9406de",
   "metadata": {},
   "outputs": [],
   "source": [
    "#Llaves TIR\n",
    "LLAVE_TIR = ['codigo_snies_del_programa']\n",
    "COLUMNAS_TIR = ['tir']\n",
    "#Llaves Saber PRO/TYT\n",
    "LLAVE_ICFES = ['estu_snies_prgmacademico']\n",
    "COLUMNAS_ICFES = ['estu_consecutivo','punt_global']"
   ]
  },
  {
   "cell_type": "markdown",
   "id": "b89805a8-0a1c-4587-9d49-7e7183f246dd",
   "metadata": {},
   "source": [
    "### FUNCIONES"
   ]
  },
  {
   "cell_type": "code",
   "execution_count": 4,
   "id": "7e8e0419-948b-4404-ad88-7df84d5a43a1",
   "metadata": {},
   "outputs": [],
   "source": [
    "def clean_percentage_column(df, column_name):\n",
    "    \"\"\"\n",
    "    Converts a percentage string column like '40,51%' to a float decimal like 0.4051.\n",
    "    Leaves NaN values untouched.\n",
    "\n",
    "    Parameters:\n",
    "        df (pd.DataFrame): The DataFrame containing the TIR column.\n",
    "        column_name (str): The name of the column to clean.\n",
    "\n",
    "    Returns:\n",
    "        pd.DataFrame: The DataFrame with the cleaned column.\n",
    "    \"\"\"\n",
    "    df[column_name] = (\n",
    "        df[column_name]\n",
    "        .str.replace(\"%\", \"\", regex=False)\n",
    "        .str.replace(\",\", \".\", regex=False)\n",
    "        .astype(float)\n",
    "        / 100\n",
    "    )\n",
    "    return df\n"
   ]
  },
  {
   "cell_type": "code",
   "execution_count": 5,
   "id": "9fb9a9f2-b329-413d-892a-c4e9b310d38b",
   "metadata": {},
   "outputs": [],
   "source": [
    "def calcular_cuantiles(\n",
    "    df,\n",
    "    columnas_grupo,\n",
    "    columna_calcular,\n",
    "    n_cuantiles=100,\n",
    "    n_cuantiles_top=None,\n",
    "    nombres_index=None\n",
    "):\n",
    "    \"\"\"\n",
    "    Calcula tabla de cuantiles con conteos y total de personas por grupo,\n",
    "    usando ranking porcentual para asignar grupos.\n",
    "\n",
    "    Parámetros:\n",
    "    - df: DataFrame de entrada\n",
    "    - columnas_grupo: lista de columnas para agrupar (puede ser 1 o más)\n",
    "    - columna_calcular: columna sobre la que se calcularán los cuantiles\n",
    "    - n_cuantiles: número total de grupos en que se divide (deciles=10, percentiles=100, etc.)\n",
    "    - n_cuantiles_top: cuántos grupos desde el mayor hacia el menor se quieren mantener (opcional)\n",
    "    - nombres_index: diccionario opcional para renombrar los índices, ej. {\"columna1\": \"NuevoNombre\"}\n",
    "\n",
    "    Retorna:\n",
    "    - DataFrame con conteo por grupo y total por grupo (solo últimos n_cuantiles_top si se indica)\n",
    "    \"\"\"\n",
    "    df = df.copy()\n",
    "\n",
    "    # Ranking porcentual dentro de cada grupo\n",
    "    df[\"pct_rank\"] = df.groupby(columnas_grupo)[columna_calcular].transform(\n",
    "        lambda x: x.rank(method='first', pct=True)\n",
    "    )\n",
    "\n",
    "    # Asignar grupo cuantílico según ranking\n",
    "    df[\"grupo_cuantil\"] = (df[\"pct_rank\"] * n_cuantiles).apply(np.ceil).astype(int)\n",
    "\n",
    "    # Corrección valores fuera de rango por redondeo\n",
    "    df.loc[df[\"grupo_cuantil\"] < 1, \"grupo_cuantil\"] = 1\n",
    "    df.loc[df[\"grupo_cuantil\"] > n_cuantiles, \"grupo_cuantil\"] = n_cuantiles\n",
    "\n",
    "    # Contar personas por grupo y cuantil\n",
    "    conteo = df.groupby(columnas_grupo + [\"grupo_cuantil\"]).size().reset_index(name=\"conteo\")\n",
    "\n",
    "    # Crear tabla pivote\n",
    "    tabla = conteo.pivot(index=columnas_grupo, columns=\"grupo_cuantil\", values=\"conteo\").fillna(0).astype(int)\n",
    "\n",
    "    # Si se indica n_cuantiles_top, mantener solo los últimos n grupos\n",
    "    if n_cuantiles_top is not None:\n",
    "        ultimos_cuantiles = list(range(n_cuantiles - n_cuantiles_top + 1, n_cuantiles + 1))\n",
    "        # Filtrar columnas para mantener solo los cuantiles deseados\n",
    "        tabla = tabla[ultimos_cuantiles]\n",
    "\n",
    "    # Agregar columna total sumando solo los cuantiles presentes\n",
    "    tabla[\"total_personas\"] = tabla.sum(axis=1)\n",
    "\n",
    "    # Renombrar índices si se indica\n",
    "    if nombres_index:\n",
    "        tabla = tabla.rename_axis(index=nombres_index)\n",
    "\n",
    "    return tabla"
   ]
  },
  {
   "cell_type": "code",
   "execution_count": 6,
   "id": "ec246a17-0374-487a-ac43-9c370908d5b4",
   "metadata": {},
   "outputs": [],
   "source": [
    "def calcular_cuantiles_general(\n",
    "    df,\n",
    "    columnas_grupo,\n",
    "    columna_calcular,\n",
    "    n_cuantiles=100,\n",
    "    n_cuantiles_top=None,\n",
    "    nombres_index=None,\n",
    "    columna_clasificacion=None\n",
    "):\n",
    "    \"\"\"\n",
    "    Calcula tabla de cuantiles con conteo de personas por grupo,\n",
    "    usando ranking porcentual para asignar grupos.\n",
    "\n",
    "    Opcionalmente clasifica las filas según el valor de una columna numérica\n",
    "    en 'positiva', 'negativa' o 'nula' y agrega conteo por esas categorías.\n",
    "\n",
    "    Parámetros:\n",
    "    - df: DataFrame de entrada\n",
    "    - columnas_grupo: lista de columnas para agrupar (puede ser 1 o más)\n",
    "    - columna_calcular: columna sobre la que se calcularán los cuantiles\n",
    "    - n_cuantiles: número total de grupos en que se divide (deciles=10, percentiles=100, etc.)\n",
    "    - n_cuantiles_top: cuántos grupos desde el mayor hacia el menor se quieren mantener (opcional)\n",
    "    - nombres_index: diccionario opcional para renombrar los índices\n",
    "    - columna_clasificacion: columna numérica para clasificar en 'positiva', 'negativa' o 'nula' (opcional)\n",
    "\n",
    "    Retorna:\n",
    "    - DataFrame con conteo por grupo y total de personas por cuantil,\n",
    "      y por clasificación si se indica columna_clasificacion.\n",
    "    \"\"\"\n",
    "    import numpy as np\n",
    "\n",
    "    df = df.copy()\n",
    "\n",
    "    # Ranking porcentual dentro de cada grupo\n",
    "    df[\"pct_rank\"] = df.groupby(columnas_grupo)[columna_calcular].transform(\n",
    "        lambda x: x.rank(method='first', pct=True)\n",
    "    )\n",
    "\n",
    "    # Asignar grupo cuantílico según ranking\n",
    "    df[\"grupo_cuantil\"] = (df[\"pct_rank\"] * n_cuantiles).apply(np.ceil).astype(int)\n",
    "    df[\"grupo_cuantil\"] = df[\"grupo_cuantil\"].clip(1, n_cuantiles)\n",
    "\n",
    "    if columna_clasificacion:\n",
    "        # Clasificación en positiva/negativa/nula\n",
    "        df[\"clasificacion\"] = df[columna_clasificacion].apply(\n",
    "            lambda x: \"positiva\" if x > 0 else (\"negativa\" if x < 0 else \"nula\")\n",
    "        )\n",
    "        # Agrupar por grupo, cuantil y clasificación\n",
    "        conteo = df.groupby(columnas_grupo + [\"grupo_cuantil\", \"clasificacion\"]).size().reset_index(name=\"conteo\")\n",
    "\n",
    "        # Pivotar tabla para columnas por clasificación\n",
    "        tabla = conteo.pivot_table(\n",
    "            index=columnas_grupo + [\"grupo_cuantil\"],\n",
    "            columns=\"clasificacion\",\n",
    "            values=\"conteo\",\n",
    "            fill_value=0,\n",
    "            aggfunc=\"sum\"\n",
    "        )\n",
    "    else:\n",
    "        # Sin clasificación, solo contar por grupo y cuantil\n",
    "        conteo = df.groupby(columnas_grupo + [\"grupo_cuantil\"]).size().reset_index(name=\"conteo\")\n",
    "        tabla = conteo.pivot_table(\n",
    "            index=columnas_grupo + [\"grupo_cuantil\"],\n",
    "            values=\"conteo\"\n",
    "        )\n",
    "\n",
    "    # Filtrar últimos cuantiles si se indica\n",
    "    if n_cuantiles_top is not None:\n",
    "        ultimos_cuantiles = list(range(n_cuantiles - n_cuantiles_top + 1, n_cuantiles + 1))\n",
    "        tabla = tabla[tabla.index.get_level_values(\"grupo_cuantil\").isin(ultimos_cuantiles)]\n",
    "\n",
    "    # Calcular total personas por grupo-cuantil\n",
    "    tabla[\"total_personas\"] = tabla.sum(axis=1)\n",
    "\n",
    "    # Renombrar índices si se pide\n",
    "    if nombres_index:\n",
    "        tabla = tabla.rename_axis(index=nombres_index)\n",
    "\n",
    "    return tabla.reset_index()\n"
   ]
  },
  {
   "cell_type": "markdown",
   "id": "5866eccf-47a9-49ac-ae11-c50139e3ee63",
   "metadata": {},
   "source": [
    "### LECTURA"
   ]
  },
  {
   "cell_type": "markdown",
   "id": "4e72f466-a6f2-44fb-bc4f-87f3fa03daf7",
   "metadata": {},
   "source": [
    "### Lectura TIR"
   ]
  },
  {
   "cell_type": "code",
   "execution_count": 7,
   "id": "eb7cf819-adf4-4812-96dc-ad0defa02776",
   "metadata": {},
   "outputs": [],
   "source": [
    "base_tir = pd.read_csv(\n",
    "    RUTA_TIR + \"base_TIR.csv\",\n",
    "    sep=\";\",\n",
    "    engine=\"python\",\n",
    "    encoding=\"utf-8\",\n",
    "    quoting=csv.QUOTE_NONE\n",
    ").rename(columns=str.lower)[LLAVE_TIR + COLUMNAS_TIR]\n",
    "\n",
    "\n",
    "base_tir = clean_percentage_column(base_tir, column_name = \"tir\")"
   ]
  },
  {
   "cell_type": "markdown",
   "id": "af5de235-ea28-4f28-8685-611f7694fdab",
   "metadata": {},
   "source": [
    "### Lectura Saber Pro"
   ]
  },
  {
   "cell_type": "code",
   "execution_count": 8,
   "id": "38d46541-f7df-48b9-99e9-172720b76247",
   "metadata": {},
   "outputs": [],
   "source": [
    "sb_20231_gen = (\n",
    "    pd.read_csv(\n",
    "        RUTA_SABERPRO + \"saberpro_20231.txt\",\n",
    "        sep=\"¬\",\n",
    "        engine=\"python\",\n",
    "        encoding=\"utf-8\",\n",
    "        quoting=csv.QUOTE_NONE\n",
    "    )\n",
    "    .rename(columns=str.lower)\n",
    "    .query('estu_prgm_municipio == \"BOGOTÁ D.C.\"')\n",
    ")[LLAVE_ICFES + COLUMNAS_ICFES]"
   ]
  },
  {
   "cell_type": "code",
   "execution_count": 9,
   "id": "326651cb-4246-4d72-bba1-b39baebb8232",
   "metadata": {},
   "outputs": [],
   "source": [
    "sb_20212_gen = (\n",
    "    pd.read_csv(\n",
    "        RUTA_SABERPRO + \"saberpro_2021.txt\",\n",
    "        sep=\"¬\",\n",
    "        engine=\"python\",\n",
    "        encoding=\"utf-8\",\n",
    "        quoting=csv.QUOTE_NONE\n",
    "    )\n",
    "    .rename(columns=str.lower)\n",
    "    .query('estu_prgm_municipio == \"BOGOTÁ D.C.\" and periodo == 20212')\n",
    ")[LLAVE_ICFES + COLUMNAS_ICFES]"
   ]
  },
  {
   "cell_type": "code",
   "execution_count": 10,
   "id": "dd756505-b610-48b4-ac02-0da558c0800c",
   "metadata": {},
   "outputs": [],
   "source": [
    "sb_20212_esp = pd.read_csv(\n",
    "    RUTA_SABERPRO + \"saberpro_esp_20212.txt\",\n",
    "    sep=\"¬\",\n",
    "    engine=\"python\",\n",
    "    encoding=\"utf-8\",\n",
    "    quoting=csv.QUOTE_NONE\n",
    ").rename(columns=str.lower)"
   ]
  },
  {
   "cell_type": "markdown",
   "id": "50ef41cb-b74d-4031-a4d0-2b603e50f381",
   "metadata": {},
   "source": [
    "### Lectura Saber TYT"
   ]
  },
  {
   "cell_type": "code",
   "execution_count": 11,
   "id": "641fdd03-f6ee-484e-9adb-df3f61e76299",
   "metadata": {},
   "outputs": [],
   "source": [
    "tyt_20231_gen = (\n",
    "    pd.read_csv(\n",
    "        RUTA_SABERTYT + \"SaberTyT_2023-1.txt\",\n",
    "        sep=\";\",\n",
    "        engine=\"python\",\n",
    "        encoding=\"utf-8\",\n",
    "        quoting=csv.QUOTE_NONE\n",
    "    )\n",
    "    .query('estu_prgm_municipio == \"BOGOTÁ D.C.\"')\n",
    ")#[LLAVE_ICFES + COLUMNAS_ICFES]"
   ]
  },
  {
   "cell_type": "markdown",
   "id": "6b69dea3-8e6d-4a45-af6c-2a7888d2c5e6",
   "metadata": {},
   "source": [
    "------"
   ]
  },
  {
   "cell_type": "markdown",
   "id": "67724e34-89ba-403e-84c3-6a08b604b5b1",
   "metadata": {},
   "source": [
    "### MERGE"
   ]
  },
  {
   "cell_type": "markdown",
   "id": "13f62bc8-6665-419e-aae2-664d08b27c87",
   "metadata": {},
   "source": [
    "### Merge pruebas especificas con genericas 2021-2"
   ]
  },
  {
   "cell_type": "code",
   "execution_count": 54,
   "id": "faf35d7e-b641-4bba-993a-bbc895743a30",
   "metadata": {},
   "outputs": [],
   "source": [
    "#Merge purebas especificas con genericas\n",
    "data_20212 = pd.merge(sb_20212_esp, sb_20212_gen, on = \"ESTU_CONSECUTIVO\", how = \"inner\")"
   ]
  },
  {
   "cell_type": "code",
   "execution_count": 55,
   "id": "c9ed0dfc-081b-4b70-983f-79764f0eec2e",
   "metadata": {},
   "outputs": [],
   "source": [
    "estudiantes_duplicados = data_20212.shape[0] - data_20212[[\"ESTU_CONSECUTIVO\", \"ESTU_NUCLEO_PREGRADO\", \"RESULT_NOMBREPRUEBA\"]].drop_duplicates().shape[0]"
   ]
  },
  {
   "cell_type": "code",
   "execution_count": 56,
   "id": "56f108fb-bdf5-4f30-bffb-a08fa89bfffe",
   "metadata": {},
   "outputs": [
    {
     "name": "stdout",
     "output_type": "stream",
     "text": [
      "Estudiantes duplicados: 0\n"
     ]
    }
   ],
   "source": [
    "print(f\"Estudiantes duplicados: {estudiantes_duplicados}\")"
   ]
  },
  {
   "cell_type": "markdown",
   "id": "7b964b6c-9038-4136-8b8c-16aba2da8e6a",
   "metadata": {},
   "source": [
    "### Merge Saber pro con base de TIR"
   ]
  },
  {
   "cell_type": "code",
   "execution_count": 64,
   "id": "753eb011-290f-4bcd-b8ba-e3031eadc580",
   "metadata": {},
   "outputs": [],
   "source": [
    "data_sbpro_20231 = pd.merge(\n",
    "    sb_20231_gen,\n",
    "    base_tir,\n",
    "    left_on = LLAVE_ICFES,\n",
    "    right_on = LLAVE_TIR,\n",
    "    how = \"left\"\n",
    ")"
   ]
  },
  {
   "cell_type": "code",
   "execution_count": 117,
   "id": "d0d1f29b-bb9e-4666-b7c8-15d264c4b9e1",
   "metadata": {},
   "outputs": [],
   "source": [
    "data_sbtyt_20231 = pd.merge(\n",
    "    tyt_20231_gen,\n",
    "    base_tir,\n",
    "    left_on = LLAVE_ICFES,\n",
    "    right_on = LLAVE_TIR,\n",
    "    how = \"left\"\n",
    ")"
   ]
  },
  {
   "cell_type": "markdown",
   "id": "4b4dac54-201b-4a49-94b4-b62b8a449071",
   "metadata": {},
   "source": [
    "### Merge Saber TYT con base de TIR"
   ]
  },
  {
   "cell_type": "markdown",
   "id": "1eb4f2cc-9cd0-438d-b412-c3d77ad7041e",
   "metadata": {},
   "source": [
    "### CALCULAR DECILES"
   ]
  },
  {
   "cell_type": "code",
   "execution_count": 120,
   "id": "649a0e42-ac64-4bf5-a870-b32a4fa1b987",
   "metadata": {},
   "outputs": [],
   "source": [
    "resumen_percentiles_sbpro_gen_20231 = calcular_cuantiles_general(\n",
    "    df=data_sbpro_20231,\n",
    "    columnas_grupo=[\"estu_nucleo_pregrado\"],\n",
    "    columna_calcular=\"punt_global\",\n",
    "    columna_clasificacion=\"tir\",\n",
    "    n_cuantiles=100,\n",
    "    n_cuantiles_top=11\n",
    ")"
   ]
  },
  {
   "cell_type": "code",
   "execution_count": 125,
   "id": "4a3aadad-852e-4f7c-9112-839763094646",
   "metadata": {},
   "outputs": [],
   "source": [
    "resumen_percentiles_sbtyt_gen_20231 = calcular_cuantiles_general(\n",
    "    df=data_sbtyt_20231,\n",
    "    columnas_grupo=[\"estu_nucleo_pregrado\"],\n",
    "    columna_calcular=\"punt_global\",\n",
    "    columna_clasificacion=\"tir\",\n",
    "    n_cuantiles=100,\n",
    "    n_cuantiles_top=11\n",
    ")"
   ]
  },
  {
   "cell_type": "code",
   "execution_count": 131,
   "id": "6dc07446-5476-4449-a419-c99e7b55d581",
   "metadata": {},
   "outputs": [
    {
     "name": "stderr",
     "output_type": "stream",
     "text": [
      "/home/alejandro/.virtualenvs/mainenv/lib/python3.10/site-packages/openpyxl/workbook/child.py:99: UserWarning: Title is more than 31 characters. Some applications may not be able to read the file\n",
      "  warnings.warn(\"Title is more than 31 characters. Some applications may not be able to read the file\")\n"
     ]
    }
   ],
   "source": [
    "with pd.ExcelWriter(\"percentiles_sbpro_sbtyt.xlsx\") as writer:\n",
    "    resumen_percentiles_sbtyt_gen_20231.to_excel(writer, sheet_name=\"percentiles_generales_sbtyt_20231\")\n",
    "    resumen_percentiles_sbpro_gen_20231.to_excel(writer, sheet_name=\"percentiles_generales_sbpro_20231\")"
   ]
  },
  {
   "cell_type": "markdown",
   "id": "b9a1d223-43f1-40ad-b451-c3fd873b984d",
   "metadata": {},
   "source": [
    "### APENDICE"
   ]
  },
  {
   "cell_type": "markdown",
   "id": "ab19ea7a-4c98-417f-bfd3-4a41afc357a2",
   "metadata": {},
   "source": [
    "-----"
   ]
  },
  {
   "cell_type": "code",
   "execution_count": 64,
   "id": "b374c58e-bbd9-4b5f-bfd7-012cff301eda",
   "metadata": {},
   "outputs": [],
   "source": [
    "def calcular_cuantiles(df, columnas_grupo, columna_calcular, n_cuantiles=10, nombres_index=None):\n",
    "    \"\"\"\n",
    "    Calcula tabla de cuantiles con conteos y total de personas por grupo.\n",
    "\n",
    "    Parámetros:\n",
    "    - df: DataFrame de entrada\n",
    "    - columnas_grupo: lista de columnas para agrupar (puede ser 1 o más)\n",
    "    - columna_calcular: columna sobre la que se calcularán los cuantiles\n",
    "    - n_cuantiles: número de divisiones (por ejemplo, 10 para deciles, 4 para cuartiles)\n",
    "    - nombres_index: diccionario opcional para renombrar los índices\n",
    "\n",
    "    Retorna:\n",
    "    - DataFrame con conteo por cuantil y total por grupo\n",
    "    \"\"\"\n",
    "    df = df.copy()\n",
    "\n",
    "    # Calcular grupo de cuantil dentro de cada grupo\n",
    "    df[\"grupo_cuantil\"] = df.groupby(columnas_grupo)[columna_calcular].transform(\n",
    "        lambda x: pd.qcut(x, q=n_cuantiles, labels=False) + 1\n",
    "    )\n",
    "\n",
    "    # Contar personas por grupo y cuantil\n",
    "    conteo = df.groupby(columnas_grupo + [\"grupo_cuantil\"]).size().reset_index(name=\"conteo\")\n",
    "\n",
    "    # Crear tabla pivote\n",
    "    tabla = conteo.pivot(index=columnas_grupo, columns=\"grupo_cuantil\", values=\"conteo\").fillna(0).astype(int)\n",
    "\n",
    "    # Agregar total por grupo\n",
    "    tabla[\"total_personas\"] = tabla.sum(axis=1)\n",
    "\n",
    "    # Renombrar índices si se desea\n",
    "    if nombres_index:\n",
    "        tabla = tabla.rename_axis(index=nombres_index)\n",
    "\n",
    "    return tabla"
   ]
  },
  {
   "cell_type": "code",
   "execution_count": 68,
   "id": "f57bd31a-ece3-42b6-8406-36f80eccae66",
   "metadata": {},
   "outputs": [],
   "source": [
    "import numpy as np\n",
    "\n",
    "def calcular_cuantiles(df, columnas_grupo, columna_calcular, n_cuantiles=10, nombres_index=None, ruido=1e-6):\n",
    "    df = df.copy()\n",
    "\n",
    "    # Añadir ruido pequeño para romper empates\n",
    "    df[columna_calcular + \"_ruido\"] = df[columna_calcular] + np.random.uniform(-ruido, ruido, size=len(df))\n",
    "\n",
    "    df[\"grupo_cuantil\"] = df.groupby(columnas_grupo)[columna_calcular + \"_ruido\"].transform(\n",
    "        lambda x: pd.qcut(x, q=n_cuantiles, labels=False) + 1\n",
    "    )\n",
    "\n",
    "    conteo = df.groupby(columnas_grupo + [\"grupo_cuantil\"]).size().reset_index(name=\"conteo\")\n",
    "\n",
    "    tabla = conteo.pivot(index=columnas_grupo, columns=\"grupo_cuantil\", values=\"conteo\").fillna(0).astype(int)\n",
    "\n",
    "    tabla[\"total_personas\"] = tabla.sum(axis=1)\n",
    "\n",
    "    if nombres_index:\n",
    "        tabla = tabla.rename_axis(index=nombres_index)\n",
    "\n",
    "    return tabla\n"
   ]
  },
  {
   "cell_type": "code",
   "execution_count": 114,
   "id": "066ea69b-6f5a-4e5b-9ab9-f836afa446ec",
   "metadata": {},
   "outputs": [],
   "source": [
    "import numpy as np\n",
    "import pandas as pd\n",
    "\n",
    "def calcular_cuantiles(\n",
    "    df,\n",
    "    columnas_grupo,\n",
    "    columna_calcular,\n",
    "    n_cuantiles=100,\n",
    "    n_cuantiles_top=None,\n",
    "    nombres_index=None\n",
    "):\n",
    "    \"\"\"\n",
    "    Calcula tabla de cuantiles con conteos y total de personas por grupo,\n",
    "    usando ranking porcentual para asignar grupos.\n",
    "\n",
    "    Parámetros:\n",
    "    - df: DataFrame de entrada\n",
    "    - columnas_grupo: lista de columnas para agrupar (puede ser 1 o más)\n",
    "    - columna_calcular: columna sobre la que se calcularán los cuantiles\n",
    "    - n_cuantiles: número total de grupos en que se divide (deciles=10, percentiles=100, etc.)\n",
    "    - n_cuantiles_top: cuántos grupos desde el mayor hacia el menor se quieren mantener (opcional)\n",
    "    - nombres_index: diccionario opcional para renombrar los índices, ej. {\"columna1\": \"NuevoNombre\"}\n",
    "\n",
    "    Retorna:\n",
    "    - DataFrame con conteo por grupo y total por grupo (solo últimos n_cuantiles_top si se indica)\n",
    "    \"\"\"\n",
    "    df = df.copy()\n",
    "\n",
    "    # Ranking porcentual dentro de cada grupo\n",
    "    df[\"pct_rank\"] = df.groupby(columnas_grupo)[columna_calcular].transform(\n",
    "        lambda x: x.rank(method='first', pct=True)\n",
    "    )\n",
    "\n",
    "    # Asignar grupo cuantílico según ranking\n",
    "    df[\"grupo_cuantil\"] = (df[\"pct_rank\"] * n_cuantiles).apply(np.ceil).astype(int)\n",
    "\n",
    "    # Corrección valores fuera de rango por redondeo\n",
    "    df.loc[df[\"grupo_cuantil\"] < 1, \"grupo_cuantil\"] = 1\n",
    "    df.loc[df[\"grupo_cuantil\"] > n_cuantiles, \"grupo_cuantil\"] = n_cuantiles\n",
    "\n",
    "    # Contar personas por grupo y cuantil\n",
    "    conteo = df.groupby(columnas_grupo + [\"grupo_cuantil\"]).size().reset_index(name=\"conteo\")\n",
    "\n",
    "    # Crear tabla pivote\n",
    "    tabla = conteo.pivot(index=columnas_grupo, columns=\"grupo_cuantil\", values=\"conteo\").fillna(0).astype(int)\n",
    "\n",
    "    # Si se indica n_cuantiles_top, mantener solo los últimos n grupos\n",
    "    if n_cuantiles_top is not None:\n",
    "        ultimos_cuantiles = list(range(n_cuantiles - n_cuantiles_top + 1, n_cuantiles + 1))\n",
    "        # Filtrar columnas para mantener solo los cuantiles deseados\n",
    "        tabla = tabla[ultimos_cuantiles]\n",
    "\n",
    "    # Agregar columna total sumando solo los cuantiles presentes\n",
    "    tabla[\"total_personas\"] = tabla.sum(axis=1)\n",
    "\n",
    "    # Renombrar índices si se indica\n",
    "    if nombres_index:\n",
    "        tabla = tabla.rename_axis(index=nombres_index)\n",
    "\n",
    "    return tabla\n"
   ]
  },
  {
   "cell_type": "code",
   "execution_count": 66,
   "id": "18b070b5-34b7-4041-9eb9-46beb5fa159c",
   "metadata": {},
   "outputs": [],
   "source": [
    "import numpy as np\n",
    "import pandas as pd\n",
    "\n",
    "def calcular_cuantiles(df, columnas_grupo, columna_calcular, n_cuantiles=10, nombres_index=None):\n",
    "    \"\"\"\n",
    "    Calcula tabla de cuantiles con conteos y total de personas por grupo,\n",
    "    usando ranking porcentual para asignar grupos.\n",
    "\n",
    "    Parámetros:\n",
    "    - df: DataFrame de entrada\n",
    "    - columnas_grupo: lista de columnas para agrupar (puede ser 1 o más)\n",
    "    - columna_calcular: columna sobre la que se calcularán los cuantiles\n",
    "    - n_cuantiles: número de grupos en que se divide (deciles=10, percentiles=100, etc.)\n",
    "    - nombres_index: diccionario opcional para renombrar los índices, ej. {\"columna1\": \"NuevoNombre\"}\n",
    "\n",
    "    Retorna:\n",
    "    - DataFrame con conteo por grupo y total por grupo\n",
    "    \"\"\"\n",
    "    df = df.copy()\n",
    "\n",
    "    # Ranking porcentual dentro de cada grupo\n",
    "    df[\"pct_rank\"] = df.groupby(columnas_grupo)[columna_calcular].transform(\n",
    "        lambda x: x.rank(method='first', pct=True)\n",
    "    )\n",
    "\n",
    "    # Asignar grupo cuantílico según ranking\n",
    "    df[\"grupo_cuantil\"] = (df[\"pct_rank\"] * n_cuantiles).apply(np.ceil).astype(int)\n",
    "\n",
    "    # Corregir valores que queden en 0 (si los hay)\n",
    "    df.loc[df[\"grupo_cuantil\"] < 1, \"grupo_cuantil\"] = 1\n",
    "    # Corregir valores que queden > n_cuantiles (por efecto redondeo)\n",
    "    df.loc[df[\"grupo_cuantil\"] > n_cuantiles, \"grupo_cuantil\"] = n_cuantiles\n",
    "\n",
    "    # Contar personas por grupo y cuantil\n",
    "    conteo = df.groupby(columnas_grupo + [\"grupo_cuantil\"]).size().reset_index(name=\"conteo\")\n",
    "\n",
    "    # Crear tabla pivote\n",
    "    tabla = conteo.pivot(index=columnas_grupo, columns=\"grupo_cuantil\", values=\"conteo\").fillna(0).astype(int)\n",
    "\n",
    "    # Agregar columna de total\n",
    "    tabla[\"total_personas\"] = tabla.sum(axis=1)\n",
    "\n",
    "    # Renombrar índices si se indica\n",
    "    if nombres_index:\n",
    "        tabla = tabla.rename_axis(index=nombres_index)\n",
    "\n",
    "    return tabla\n"
   ]
  },
  {
   "cell_type": "code",
   "execution_count": 120,
   "id": "e3c6eea6-22ca-40ad-b54a-212437414124",
   "metadata": {},
   "outputs": [],
   "source": [
    "deciles_esp_20212 = calcular_cuantiles(data_20212, columnas_grupo = [\"ESTU_NUCLEO_PREGRADO\", \"RESULT_NOMBREPRUEBA\"], columna_calcular = \"RESULT_PUNTAJE\")\n",
    "deciles_gen_20212 = calcular_cuantiles(sb_20212_gen, columnas_grupo = [\"ESTU_NUCLEO_PREGRADO\"], columna_calcular = \"PUNT_GLOBAL\")\n",
    "deciles_gen_20231 = calcular_cuantiles(sb_20231_gen, columnas_grupo = [\"ESTU_NUCLEO_PREGRADO\"], columna_calcular = \"PUNT_GLOBAL\")\n",
    "percentiles_gen_20231 = calcular_cuantiles(sb_20231_gen, [\"ESTU_NUCLEO_PREGRADO\"], \"PUNT_GLOBAL\", n_cuantiles=100,n_cuantiles_top = 11)\n",
    "\n",
    "with pd.ExcelWriter(\"percentiles_resultados.xlsx\") as writer:\n",
    "    deciles_esp_20212.to_excel(writer, sheet_name=\"Deciles_Específicas_20212\")\n",
    "    deciles_gen_20212.to_excel(writer, sheet_name=\"Deciles_Generales_20212\")\n",
    "    deciles_gen_20231.to_excel(writer, sheet_name=\"Deciles_Generales_20231\")\n",
    "    percentiles_gen_20231.to_excel(writer, sheet_name=\"Percentiles_Generales_20231\")"
   ]
  },
  {
   "cell_type": "code",
   "execution_count": 61,
   "id": "1263113c-d95c-4405-aabc-d0e961e7dabd",
   "metadata": {},
   "outputs": [
    {
     "name": "stderr",
     "output_type": "stream",
     "text": [
      "/tmp/ipykernel_50481/1680761049.py:10: DeprecationWarning: DataFrameGroupBy.apply operated on the grouping columns. This behavior is deprecated, and in a future version of pandas the grouping columns will be excluded from the operation. Either pass `include_groups=False` to exclude the groupings or explicitly select the grouping columns after groupby to silence this warning.\n",
      "  valores_deciles = sb_20212_especificas.groupby(\"RESULT_NOMBREPRUEBA\").apply(obtener_deciles).reset_index(drop=True)\n"
     ]
    }
   ],
   "source": [
    "# 1. Calcular los límites de deciles por grupo\n",
    "def obtener_deciles(grupo):\n",
    "    cuantiles = grupo[\"RESULT_PUNTAJE\"].quantile([i/10 for i in range(1, 10)]).reset_index()\n",
    "    cuantiles.columns = [\"decil\", \"puntaje\"]\n",
    "    cuantiles[\"decil\"] = cuantiles[\"decil\"].apply(lambda x: int(x * 10))  # convertir 0.1 -> 1, etc.\n",
    "    cuantiles[\"RESULT_NOMBREPRUEBA\"] = grupo[\"RESULT_NOMBREPRUEBA\"].iloc[0]\n",
    "    return cuantiles\n",
    "\n",
    "# Aplicamos la función por grupo\n",
    "valores_deciles = sb_20212_especificas.groupby(\"RESULT_NOMBREPRUEBA\").apply(obtener_deciles).reset_index(drop=True)\n",
    "\n",
    "# 2. Asignar el decil como antes\n",
    "sb_20212_especificas[\"decil\"] = sb_20212_especificas.groupby(\"RESULT_NOMBREPRUEBA\")[\"RESULT_PUNTAJE\"].transform(\n",
    "    lambda x: pd.qcut(x, 10, labels=False, duplicates=\"drop\") + 1\n",
    ")\n",
    "\n",
    "# 3. Contar personas por prueba y decil\n",
    "conteo_deciles = sb_20212_especificas.groupby([\"RESULT_NOMBREPRUEBA\", \"decil\"]).size().reset_index(name=\"personas\")\n",
    "\n",
    "# 4. Unir con los valores de deciles\n",
    "conteo_con_valores = conteo_deciles.merge(\n",
    "    valores_deciles,\n",
    "    how=\"left\",\n",
    "    on=[\"RESULT_NOMBREPRUEBA\", \"decil\"]\n",
    ")\n"
   ]
  },
  {
   "cell_type": "code",
   "execution_count": 62,
   "id": "4cb28669-e3fe-461c-b5cc-843b798deab0",
   "metadata": {},
   "outputs": [
    {
     "data": {
      "text/html": [
       "<div>\n",
       "<style scoped>\n",
       "    .dataframe tbody tr th:only-of-type {\n",
       "        vertical-align: middle;\n",
       "    }\n",
       "\n",
       "    .dataframe tbody tr th {\n",
       "        vertical-align: top;\n",
       "    }\n",
       "\n",
       "    .dataframe thead th {\n",
       "        text-align: right;\n",
       "    }\n",
       "</style>\n",
       "<table border=\"1\" class=\"dataframe\">\n",
       "  <thead>\n",
       "    <tr style=\"text-align: right;\">\n",
       "      <th></th>\n",
       "      <th>RESULT_NOMBREPRUEBA</th>\n",
       "      <th>decil</th>\n",
       "      <th>personas</th>\n",
       "      <th>puntaje</th>\n",
       "    </tr>\n",
       "  </thead>\n",
       "  <tbody>\n",
       "    <tr>\n",
       "      <th>0</th>\n",
       "      <td>ANÁLISIS ECONÓMICO</td>\n",
       "      <td>1</td>\n",
       "      <td>401</td>\n",
       "      <td>88.0</td>\n",
       "    </tr>\n",
       "    <tr>\n",
       "      <th>1</th>\n",
       "      <td>ANÁLISIS ECONÓMICO</td>\n",
       "      <td>2</td>\n",
       "      <td>399</td>\n",
       "      <td>98.0</td>\n",
       "    </tr>\n",
       "    <tr>\n",
       "      <th>2</th>\n",
       "      <td>ANÁLISIS ECONÓMICO</td>\n",
       "      <td>3</td>\n",
       "      <td>369</td>\n",
       "      <td>105.0</td>\n",
       "    </tr>\n",
       "    <tr>\n",
       "      <th>3</th>\n",
       "      <td>ANÁLISIS ECONÓMICO</td>\n",
       "      <td>4</td>\n",
       "      <td>380</td>\n",
       "      <td>112.0</td>\n",
       "    </tr>\n",
       "    <tr>\n",
       "      <th>4</th>\n",
       "      <td>ANÁLISIS ECONÓMICO</td>\n",
       "      <td>5</td>\n",
       "      <td>381</td>\n",
       "      <td>119.0</td>\n",
       "    </tr>\n",
       "    <tr>\n",
       "      <th>5</th>\n",
       "      <td>ANÁLISIS ECONÓMICO</td>\n",
       "      <td>6</td>\n",
       "      <td>400</td>\n",
       "      <td>128.0</td>\n",
       "    </tr>\n",
       "    <tr>\n",
       "      <th>6</th>\n",
       "      <td>ANÁLISIS ECONÓMICO</td>\n",
       "      <td>7</td>\n",
       "      <td>369</td>\n",
       "      <td>137.0</td>\n",
       "    </tr>\n",
       "    <tr>\n",
       "      <th>7</th>\n",
       "      <td>ANÁLISIS ECONÓMICO</td>\n",
       "      <td>8</td>\n",
       "      <td>389</td>\n",
       "      <td>151.0</td>\n",
       "    </tr>\n",
       "    <tr>\n",
       "      <th>8</th>\n",
       "      <td>ANÁLISIS ECONÓMICO</td>\n",
       "      <td>9</td>\n",
       "      <td>397</td>\n",
       "      <td>172.0</td>\n",
       "    </tr>\n",
       "    <tr>\n",
       "      <th>9</th>\n",
       "      <td>ANÁLISIS ECONÓMICO</td>\n",
       "      <td>10</td>\n",
       "      <td>370</td>\n",
       "      <td>NaN</td>\n",
       "    </tr>\n",
       "  </tbody>\n",
       "</table>\n",
       "</div>"
      ],
      "text/plain": [
       "  RESULT_NOMBREPRUEBA  decil  personas  puntaje\n",
       "0  ANÁLISIS ECONÓMICO      1       401     88.0\n",
       "1  ANÁLISIS ECONÓMICO      2       399     98.0\n",
       "2  ANÁLISIS ECONÓMICO      3       369    105.0\n",
       "3  ANÁLISIS ECONÓMICO      4       380    112.0\n",
       "4  ANÁLISIS ECONÓMICO      5       381    119.0\n",
       "5  ANÁLISIS ECONÓMICO      6       400    128.0\n",
       "6  ANÁLISIS ECONÓMICO      7       369    137.0\n",
       "7  ANÁLISIS ECONÓMICO      8       389    151.0\n",
       "8  ANÁLISIS ECONÓMICO      9       397    172.0\n",
       "9  ANÁLISIS ECONÓMICO     10       370      NaN"
      ]
     },
     "execution_count": 62,
     "metadata": {},
     "output_type": "execute_result"
    }
   ],
   "source": [
    "conteo_con_valores.head(10)"
   ]
  },
  {
   "cell_type": "code",
   "execution_count": null,
   "id": "98b1a1b0-9126-4ce2-bc98-7c203cbaefba",
   "metadata": {},
   "outputs": [],
   "source": []
  }
 ],
 "metadata": {
  "kernelspec": {
   "display_name": "Python 3 (ipykernel)",
   "language": "python",
   "name": "python3"
  },
  "language_info": {
   "codemirror_mode": {
    "name": "ipython",
    "version": 3
   },
   "file_extension": ".py",
   "mimetype": "text/x-python",
   "name": "python",
   "nbconvert_exporter": "python",
   "pygments_lexer": "ipython3",
   "version": "3.10.12"
  }
 },
 "nbformat": 4,
 "nbformat_minor": 5
}
