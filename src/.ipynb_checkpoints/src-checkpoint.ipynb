{
 "cells": [
  {
   "cell_type": "markdown",
   "id": "39b61c9e-120e-4a46-8228-46a3e6143cd1",
   "metadata": {},
   "source": [
    "**CRUCES ENTRE SABER11 y SABER PRO**\n",
    "\n",
    "Saber Pro contienen un identificador único por estudiante (“estu_consecutivo”)\n",
    "para cada uno de los exámenes que, luego de aplicar un algoritmo de\n",
    "emparejamiento, permite identificar los estudiantes que presentaron el examen:\n",
    "1. Saber 11° entre 2010-1 y 2021-2,\n",
    "2. Saber Pro, entre 2012 y 2023-1\n",
    "3. Saber TyT entre la primera aplicación de 2016 y 2023-1.\n",
    "\n",
    "El algoritmo de emparejamiento utiliza seis criterios en los que se hace uso de\n",
    "llaves creadas a partir de la información de nombres y apellidos completos,\n",
    "documento de identidad y fecha de nacimiento de los estudiantes. Además, en\n",
    "caso de que el tipo y número del documento de identidad difieran entre los\n",
    "exámenes, se utiliza información de la Registraduría Nacional del Estado Civil para\n",
    "identificar al estudiante en ambos exámenes."
   ]
  },
  {
   "cell_type": "markdown",
   "id": "8cae45ee-5930-4837-a30f-9fd00d90cd3b",
   "metadata": {},
   "source": [
    "----"
   ]
  },
  {
   "cell_type": "markdown",
   "id": "8b4e04af-637a-4d4b-afd4-4a35946e4ac7",
   "metadata": {},
   "source": [
    "**SOBRE SABER 11**: *Tomamos muestra desde 2012-2*\n",
    "\n",
    "**Modificacion:**\n",
    "Con el objetivo de consolidar un Sistema Nacional de Evaluación Estandarizada \n",
    "(SNEE) que consiga la alineación de todos los exámenes que lo conforman, la \n",
    "estructura del examen Saber 11 fue modificada **a partir del segundo semestre de 2014**\n",
    "para que sus resultados fueran comparables, en términos de las competencias \n",
    "evaluadas, con los de otras pruebas del SNEE como las pruebas Saber 3°, 5° y 9° y el \n",
    "examen Saber Pro (Icfes, 2013). Esto llevó a una nueva estructura del examen para \n",
    "evaluar las pruebas genéricas: matemáticas, lectura crítica, ciencias naturales, \n",
    "sociales y ciudadanas e inglés.\n",
    "\n",
    "\n",
    "\n",
    "**Periodos recalificados:**\n",
    "\n",
    "En el marco de la Resolución 503 de 2014 del Icfes, bajo la cual se definieron la \n",
    "clasificación de planteles y la estructura del examen Saber 11 vigentes, se planteó la \n",
    "necesidad de recalificar los resultados de los estudiantes en algunos de los periodos que \n",
    "preceden al cambio en la estructura del examen, ocurrido en el segundo semestre \n",
    "de 2014, con el fin de tener resultados comparables y cumplir de esta manera con los \n",
    "requerimientos técnicos de la metodología de clasificación vigente. \n",
    "Esta metodología requiere de resultados comparables de los estudiantes, en los \n",
    "últimos tres años, de cada establecimiento educativo y sus sedes. Debido a la adopción \n",
    "de la nueva estructura del examen Saber 11 y con el fin de presentar los resultados de \n",
    "la clasificación de planteles vigente desde el segundo semestre del 2014, **se realizó un \n",
    "proceso de recalificación de los puntajes de los estudiantes que tomaron el examen en \n",
    "el segundo semestre de 2012 y 2013 con el fin de hacerlos comparables a la \n",
    "estructura vigente y contar con los tres años de resultados para cada plantel \n",
    "educativo**\n",
    "\n",
    "Con el fin de publicar los resultados de la clasificación de planteles cada semestre, \n",
    "como quedó establecido en la Resolución 503 de 2014, la recalificación de los puntajes \n",
    "de los estudiantes se hizo también para el **primer semestre del 2013 y 2014** para \n",
    "calcular la clasificación de planteles del primer semestre de 2015"
   ]
  },
  {
   "cell_type": "markdown",
   "id": "095d398d-0d00-4c9e-998a-2b962c4a7987",
   "metadata": {},
   "source": [
    "----"
   ]
  },
  {
   "cell_type": "markdown",
   "id": "bf94df59-b14f-40f2-83a8-f76682b48c53",
   "metadata": {},
   "source": [
    "**SOBRE SABER PRO**: *Tomamos muestra del 2016 en adelante*\n",
    "\n",
    "Los estudiantes que actualmente toman el examen de Saber Pro son evaluados en \n",
    "competencias específicas de acuerdo al grupo de referencia al que pertenece el programa y de \n",
    "acuerdo a lo que consideren los directores de programas cuando escogen la combinatoria de \n",
    "módulos más acordes a su malla curricular. A pesar de que se evalúan las mismas \n",
    "competencias específicas que en el periodo anterior, **a partir del 2016 se produjeron cambios \n",
    "en el diseño de los módulos y en la calificación de las mismas que imposibilitan la \n",
    "comparación entre años del periodo anterior con el actual**. Los resultados de los módulos de \n",
    "competencias específicas para este periodo resultaron en una nueva escala con año base en \n",
    "2016.\n"
   ]
  },
  {
   "cell_type": "markdown",
   "id": "18164f85-67ff-4d29-bf3d-a1b0f19d159f",
   "metadata": {},
   "source": [
    "-----"
   ]
  },
  {
   "cell_type": "code",
   "execution_count": 1,
   "id": "ff916dcc-ef66-40a5-a4ce-f92f8c59102f",
   "metadata": {},
   "outputs": [],
   "source": [
    "import pandas as pd\n",
    "import numpy as np\n",
    "import os\n",
    "import glob"
   ]
  },
  {
   "cell_type": "code",
   "execution_count": 2,
   "id": "943e497c-5dcb-4f5e-8d35-6a967dad6426",
   "metadata": {},
   "outputs": [],
   "source": [
    "#Directorios con la datos del saber 11\n",
    "\n",
    "#Datos antes del 20142 \n",
    "data_dir_sb11_before20142 = \"../data/SABER11_raw/ANTES20142/\"\n",
    "#Datos despues del 20142 (inclusive)\n",
    "data_dir_sb11_after20142 = \"../data/SABER11_raw/DESPUES20142/\"\n",
    "\n",
    "csv_files_before20142 = glob.glob(os.path.join(data_dir_sb11_before20142, \"*.txt\"))\n",
    "csv_files_after20142 = glob.glob(os.path.join(data_dir_sb11_after20142, \"*.txt\"))"
   ]
  },
  {
   "cell_type": "code",
   "execution_count": 9,
   "id": "3ecee8d5-1a78-40c4-a4d2-5dfd52ad5c89",
   "metadata": {},
   "outputs": [
    {
     "data": {
      "text/html": [
       "<div>\n",
       "<style scoped>\n",
       "    .dataframe tbody tr th:only-of-type {\n",
       "        vertical-align: middle;\n",
       "    }\n",
       "\n",
       "    .dataframe tbody tr th {\n",
       "        vertical-align: top;\n",
       "    }\n",
       "\n",
       "    .dataframe thead th {\n",
       "        text-align: right;\n",
       "    }\n",
       "</style>\n",
       "<table border=\"1\" class=\"dataframe\">\n",
       "  <thead>\n",
       "    <tr style=\"text-align: right;\">\n",
       "      <th></th>\n",
       "      <th>estu_consecutivo_sbpro</th>\n",
       "      <th>estu_consecutivo_sb11</th>\n",
       "    </tr>\n",
       "  </thead>\n",
       "  <tbody>\n",
       "    <tr>\n",
       "      <th>0</th>\n",
       "      <td>EK201210000628</td>\n",
       "      <td>SB11201020119179</td>\n",
       "    </tr>\n",
       "    <tr>\n",
       "      <th>1</th>\n",
       "      <td>EK201210001522</td>\n",
       "      <td>SB11201020119180</td>\n",
       "    </tr>\n",
       "    <tr>\n",
       "      <th>2</th>\n",
       "      <td>EK201210001647</td>\n",
       "      <td>SB11201020110588</td>\n",
       "    </tr>\n",
       "    <tr>\n",
       "      <th>3</th>\n",
       "      <td>EK201210001663</td>\n",
       "      <td>SB11201020116060</td>\n",
       "    </tr>\n",
       "    <tr>\n",
       "      <th>4</th>\n",
       "      <td>EK201210003701</td>\n",
       "      <td>SB11201020120759</td>\n",
       "    </tr>\n",
       "  </tbody>\n",
       "</table>\n",
       "</div>"
      ],
      "text/plain": [
       "  estu_consecutivo_sbpro estu_consecutivo_sb11\n",
       "0         EK201210000628      SB11201020119179\n",
       "1         EK201210001522      SB11201020119180\n",
       "2         EK201210001647      SB11201020110588\n",
       "3         EK201210001663      SB11201020116060\n",
       "4         EK201210003701      SB11201020120759"
      ]
     },
     "execution_count": 9,
     "metadata": {},
     "output_type": "execute_result"
    }
   ],
   "source": [
    "#csv con las llaves para cruzar el saber pro con saber 11\n",
    "llaves = pd.read_csv(\"../data/LLAVES/Llave_Saber11_SaberPro.txt\", sep=\";\")\n",
    "llaves.head()"
   ]
  },
  {
   "cell_type": "code",
   "execution_count": 3,
   "id": "d9000e61-35f2-493e-9aee-995a2f80d143",
   "metadata": {},
   "outputs": [],
   "source": [
    "#Constantes\n",
    "data_dir_sb11 = \"../data/SABER11_raw/\"\n",
    "\n",
    "cod_mcpio_BOGOTA = 11001\n",
    "\n",
    "cols_before_20142 = [\n",
    "    \"periodo\",\n",
    "    \"estu_consecutivo\",\n",
    "    \"cole_cod_depto_ubicacion\",\n",
    "    \"cole_cod_mcpio_ubicacion\",\n",
    "    \"cole_depto_ubicacion\",\n",
    "    \"recaf_punt_sociales_ciudadanas\",\n",
    "    \"recaf_punt_ingles\",\n",
    "    \"recaf_punt_lectura_critica\",\n",
    "    \"recaf_punt_matematicas\",\n",
    "    \"recaf_punt_c_naturales\"\n",
    "]\n",
    "\n",
    "cols_after_20142 = [\n",
    "    \"periodo\",\n",
    "    \"estu_consecutivo\",\n",
    "    \"cole_cod_depto_ubicacion\",\n",
    "    \"cole_cod_mcpio_ubicacion\",\n",
    "    \"cole_depto_ubicacion\",\n",
    "    \"punt_global\",\n",
    "    \"punt_sociales_ciudadanas\",\n",
    "    \"punt_ingles\",\n",
    "    \"punt_lectura_critica\",\n",
    "    \"punt_matematicas\",\n",
    "    \"punt_c_naturales\"\n",
    "]\n"
   ]
  },
  {
   "cell_type": "code",
   "execution_count": 4,
   "id": "f787825c-c678-4d69-9cf8-29c3ba1c1943",
   "metadata": {},
   "outputs": [],
   "source": [
    "data_list = []\n",
    "\n",
    "for file_path in csv_files_before20142:\n",
    "    try:\n",
    "        data_temp = pd.read_csv(file_path, sep=\";\", usecols=cols_before_20142, low_memory=False)        \n",
    "        data_list.append(data_temp)\n",
    "        \n",
    "    except Exception as err:\n",
    "        print(f\"Error reading {file_path}: {err}\")\n",
    "\n",
    "for file_path in csv_files_after20142:\n",
    "    try:\n",
    "        data_temp = pd.read_csv(file_path, sep=\";\", usecols=cols_after_20142, low_memory=False)        \n",
    "        data_list.append(data_temp)\n",
    "        \n",
    "    except Exception as err:\n",
    "        print(f\"Error reading {file_path}: {err}\")\n",
    "        \n",
    "        \n",
    "# Concatenate all at once (faster and more memory-efficient)\n",
    "sb11 = pd.concat(data_list, ignore_index=True)\n",
    "sb11[\"cole_cod_mcpio_ubicacion\"] = sb11[\"cole_cod_mcpio_ubicacion\"].astype(\"Int64\")\n",
    "\n",
    "del data_list\n",
    "del data_temp"
   ]
  },
  {
   "cell_type": "code",
   "execution_count": 5,
   "id": "aff69e53-781e-40ca-afd9-4c35349af1c0",
   "metadata": {},
   "outputs": [
    {
     "data": {
      "text/html": [
       "<div>\n",
       "<style scoped>\n",
       "    .dataframe tbody tr th:only-of-type {\n",
       "        vertical-align: middle;\n",
       "    }\n",
       "\n",
       "    .dataframe tbody tr th {\n",
       "        vertical-align: top;\n",
       "    }\n",
       "\n",
       "    .dataframe thead th {\n",
       "        text-align: right;\n",
       "    }\n",
       "</style>\n",
       "<table border=\"1\" class=\"dataframe\">\n",
       "  <thead>\n",
       "    <tr style=\"text-align: right;\">\n",
       "      <th></th>\n",
       "      <th>periodo</th>\n",
       "      <th>estu_consecutivo</th>\n",
       "      <th>cole_cod_depto_ubicacion</th>\n",
       "      <th>cole_cod_mcpio_ubicacion</th>\n",
       "      <th>cole_depto_ubicacion</th>\n",
       "      <th>recaf_punt_c_naturales</th>\n",
       "      <th>recaf_punt_ingles</th>\n",
       "      <th>recaf_punt_lectura_critica</th>\n",
       "      <th>recaf_punt_matematicas</th>\n",
       "      <th>recaf_punt_sociales_ciudadanas</th>\n",
       "      <th>punt_c_naturales</th>\n",
       "      <th>punt_global</th>\n",
       "      <th>punt_ingles</th>\n",
       "      <th>punt_lectura_critica</th>\n",
       "      <th>punt_matematicas</th>\n",
       "      <th>punt_sociales_ciudadanas</th>\n",
       "    </tr>\n",
       "  </thead>\n",
       "  <tbody>\n",
       "    <tr>\n",
       "      <th>5</th>\n",
       "      <td>20131</td>\n",
       "      <td>SB11201310074970</td>\n",
       "      <td>11.0</td>\n",
       "      <td>11001</td>\n",
       "      <td>BOGOTA</td>\n",
       "      <td>41.0</td>\n",
       "      <td>46.0</td>\n",
       "      <td>47.0</td>\n",
       "      <td>49.0</td>\n",
       "      <td>45.0</td>\n",
       "      <td>NaN</td>\n",
       "      <td>NaN</td>\n",
       "      <td>NaN</td>\n",
       "      <td>NaN</td>\n",
       "      <td>NaN</td>\n",
       "      <td>NaN</td>\n",
       "    </tr>\n",
       "    <tr>\n",
       "      <th>6</th>\n",
       "      <td>20131</td>\n",
       "      <td>SB11201310021868</td>\n",
       "      <td>11.0</td>\n",
       "      <td>11001</td>\n",
       "      <td>BOGOTA</td>\n",
       "      <td>46.0</td>\n",
       "      <td>40.0</td>\n",
       "      <td>51.0</td>\n",
       "      <td>53.0</td>\n",
       "      <td>44.0</td>\n",
       "      <td>NaN</td>\n",
       "      <td>NaN</td>\n",
       "      <td>NaN</td>\n",
       "      <td>NaN</td>\n",
       "      <td>NaN</td>\n",
       "      <td>NaN</td>\n",
       "    </tr>\n",
       "    <tr>\n",
       "      <th>19</th>\n",
       "      <td>20131</td>\n",
       "      <td>SB11201310066783</td>\n",
       "      <td>11.0</td>\n",
       "      <td>11001</td>\n",
       "      <td>BOGOTA</td>\n",
       "      <td>43.0</td>\n",
       "      <td>58.0</td>\n",
       "      <td>53.0</td>\n",
       "      <td>43.0</td>\n",
       "      <td>49.0</td>\n",
       "      <td>NaN</td>\n",
       "      <td>NaN</td>\n",
       "      <td>NaN</td>\n",
       "      <td>NaN</td>\n",
       "      <td>NaN</td>\n",
       "      <td>NaN</td>\n",
       "    </tr>\n",
       "    <tr>\n",
       "      <th>25</th>\n",
       "      <td>20131</td>\n",
       "      <td>SB11201310038449</td>\n",
       "      <td>11.0</td>\n",
       "      <td>11001</td>\n",
       "      <td>BOGOTA</td>\n",
       "      <td>50.0</td>\n",
       "      <td>40.0</td>\n",
       "      <td>43.0</td>\n",
       "      <td>40.0</td>\n",
       "      <td>40.0</td>\n",
       "      <td>NaN</td>\n",
       "      <td>NaN</td>\n",
       "      <td>NaN</td>\n",
       "      <td>NaN</td>\n",
       "      <td>NaN</td>\n",
       "      <td>NaN</td>\n",
       "    </tr>\n",
       "    <tr>\n",
       "      <th>26</th>\n",
       "      <td>20131</td>\n",
       "      <td>SB11201310038130</td>\n",
       "      <td>11.0</td>\n",
       "      <td>11001</td>\n",
       "      <td>BOGOTA</td>\n",
       "      <td>34.0</td>\n",
       "      <td>45.0</td>\n",
       "      <td>43.0</td>\n",
       "      <td>47.0</td>\n",
       "      <td>49.0</td>\n",
       "      <td>NaN</td>\n",
       "      <td>NaN</td>\n",
       "      <td>NaN</td>\n",
       "      <td>NaN</td>\n",
       "      <td>NaN</td>\n",
       "      <td>NaN</td>\n",
       "    </tr>\n",
       "  </tbody>\n",
       "</table>\n",
       "</div>"
      ],
      "text/plain": [
       "    periodo  estu_consecutivo  cole_cod_depto_ubicacion  \\\n",
       "5     20131  SB11201310074970                      11.0   \n",
       "6     20131  SB11201310021868                      11.0   \n",
       "19    20131  SB11201310066783                      11.0   \n",
       "25    20131  SB11201310038449                      11.0   \n",
       "26    20131  SB11201310038130                      11.0   \n",
       "\n",
       "    cole_cod_mcpio_ubicacion cole_depto_ubicacion  recaf_punt_c_naturales  \\\n",
       "5                      11001               BOGOTA                    41.0   \n",
       "6                      11001               BOGOTA                    46.0   \n",
       "19                     11001               BOGOTA                    43.0   \n",
       "25                     11001               BOGOTA                    50.0   \n",
       "26                     11001               BOGOTA                    34.0   \n",
       "\n",
       "    recaf_punt_ingles  recaf_punt_lectura_critica  recaf_punt_matematicas  \\\n",
       "5                46.0                        47.0                    49.0   \n",
       "6                40.0                        51.0                    53.0   \n",
       "19               58.0                        53.0                    43.0   \n",
       "25               40.0                        43.0                    40.0   \n",
       "26               45.0                        43.0                    47.0   \n",
       "\n",
       "    recaf_punt_sociales_ciudadanas  punt_c_naturales  punt_global  \\\n",
       "5                             45.0               NaN          NaN   \n",
       "6                             44.0               NaN          NaN   \n",
       "19                            49.0               NaN          NaN   \n",
       "25                            40.0               NaN          NaN   \n",
       "26                            49.0               NaN          NaN   \n",
       "\n",
       "    punt_ingles  punt_lectura_critica  punt_matematicas  \\\n",
       "5           NaN                   NaN               NaN   \n",
       "6           NaN                   NaN               NaN   \n",
       "19          NaN                   NaN               NaN   \n",
       "25          NaN                   NaN               NaN   \n",
       "26          NaN                   NaN               NaN   \n",
       "\n",
       "    punt_sociales_ciudadanas  \n",
       "5                        NaN  \n",
       "6                        NaN  \n",
       "19                       NaN  \n",
       "25                       NaN  \n",
       "26                       NaN  "
      ]
     },
     "execution_count": 5,
     "metadata": {},
     "output_type": "execute_result"
    }
   ],
   "source": [
    "del data_list\n",
    "sb11 = sb11[sb11[\"cole_cod_mcpio_ubicacion\"] == cod_mcpio_BOGOTA]\n",
    "sb11.head()"
   ]
  },
  {
   "cell_type": "code",
   "execution_count": 6,
   "id": "20af927b-b625-4c69-a083-a61c7342c7b1",
   "metadata": {},
   "outputs": [
    {
     "data": {
      "text/plain": [
       "periodo                                0\n",
       "estu_consecutivo                       0\n",
       "cole_cod_depto_ubicacion               0\n",
       "cole_cod_mcpio_ubicacion               0\n",
       "cole_depto_ubicacion                   0\n",
       "recaf_punt_c_naturales            981409\n",
       "recaf_punt_ingles                 981409\n",
       "recaf_punt_lectura_critica        981409\n",
       "recaf_punt_matematicas            981409\n",
       "recaf_punt_sociales_ciudadanas    981409\n",
       "punt_c_naturales                  200379\n",
       "punt_global                       200379\n",
       "punt_ingles                       203769\n",
       "punt_lectura_critica              200379\n",
       "punt_matematicas                  200379\n",
       "punt_sociales_ciudadanas          200379\n",
       "dtype: int64"
      ]
     },
     "execution_count": 6,
     "metadata": {},
     "output_type": "execute_result"
    }
   ],
   "source": [
    "sb11.isna().sum()"
   ]
  },
  {
   "cell_type": "code",
   "execution_count": 8,
   "id": "59d230d7-a8ee-45e9-b549-76efaecc684f",
   "metadata": {},
   "outputs": [
    {
     "data": {
      "text/plain": [
       "periodo\n",
       "20122    94059\n",
       "20131     7515\n",
       "20132    92559\n",
       "20141     6246\n",
       "20142    92808\n",
       "20151     6883\n",
       "20152    90645\n",
       "20161     5214\n",
       "20162    91138\n",
       "20171     4923\n",
       "20172    89514\n",
       "20181     4979\n",
       "20182    88514\n",
       "20191     5150\n",
       "20192    84293\n",
       "20201     3610\n",
       "20202    78367\n",
       "20211     3278\n",
       "20212    80333\n",
       "20221     4888\n",
       "20222    78181\n",
       "20231     4971\n",
       "20232    79596\n",
       "20241     4739\n",
       "20242    79385\n",
       "Name: estu_consecutivo, dtype: int64"
      ]
     },
     "execution_count": 8,
     "metadata": {},
     "output_type": "execute_result"
    }
   ],
   "source": [
    "sb11.groupby(\"periodo\").count().estu_consecutivo"
   ]
  },
  {
   "cell_type": "code",
   "execution_count": 17,
   "id": "c0e30e88-3137-4c66-8f1e-93e1e0ea16c6",
   "metadata": {},
   "outputs": [],
   "source": [
    "#Agregamos las columnas de las llaves al dataframe del saber 11 \n",
    "base_sb11 = pd.merge(\n",
    "    sb11,\n",
    "    llaves,\n",
    "    how = \"left\",\n",
    "    left_on = \"estu_consecutivo\",\n",
    "    right_on = \"estu_consecutivo_sb11\")\n",
    "\n",
    "del sb11\n",
    "del llaves"
   ]
  },
  {
   "cell_type": "code",
   "execution_count": 22,
   "id": "6c86de0b-033b-48c6-887b-feea2f4a9ab1",
   "metadata": {},
   "outputs": [],
   "source": [
    "base_sb11.sort_values(by = \"periodo\", inplace = True)"
   ]
  },
  {
   "cell_type": "code",
   "execution_count": 23,
   "id": "4eee7771-0c7f-4cbd-83ce-f776b75bf94b",
   "metadata": {},
   "outputs": [],
   "source": [
    "base_sb11.to_csv(\"../data/SABER11_cleaned/base_sb11.csv\")"
   ]
  },
  {
   "cell_type": "markdown",
   "id": "a1c313bc-1aba-4f04-9b57-020b200a020d",
   "metadata": {},
   "source": [
    "-----"
   ]
  },
  {
   "cell_type": "markdown",
   "id": "7a9f5cf4-756b-4fd5-bd9b-b6cd0d720445",
   "metadata": {},
   "source": [
    "SABER PRO"
   ]
  },
  {
   "cell_type": "code",
   "execution_count": 29,
   "id": "fd5f83ea-2df8-4c3c-b9ad-4a7bd8436057",
   "metadata": {},
   "outputs": [],
   "source": [
    "data_dir_sbpro = \"../data/SABERPRO_raw_reduced/\"\n",
    "csv_files = glob.glob(os.path.join(data_dir_sbpro, \"*.txt\"))"
   ]
  },
  {
   "cell_type": "code",
   "execution_count": 31,
   "id": "0269aad2-72e3-43ce-acc1-ccbf77aa0312",
   "metadata": {},
   "outputs": [],
   "source": [
    "cols_saberpro = [\n",
    "    \"periodo\",\n",
    "    \"punt_global\",\n",
    "    \"estu_consecutivo\",\n",
    "    \"estu_cod_mcpio_presentacion\",\n",
    "    \"inst_cod_institucion\",\n",
    "    \"inst_nombre_institucion\",\n",
    "    \"estu_prgm_academico\",\n",
    "    \"estu_snies_prgmacademico\",\n",
    "    \"estu_prgm_codmunicipio\",\n",
    "    \"estu_prgm_municipio\",\n",
    "    \"estu_prgm_departamento\",\n",
    "    \"estu_nivel_prgm_academico\",#universitario, tecnologia, tecnico profesional, escuela normal superior\n",
    "    \"estu_nucleo_pregrado\",\n",
    "    \"estu_inst_codmunicipio\",\n",
    "    \"estu_inst_municipio\",\n",
    "    \"estu_inst_departamento\",\n",
    "    \"inst_caracter_academico\" #Universidad, institucion universitaria, institucion tecnologica, tecnica profesional..\n",
    "]\n",
    "\n",
    "cols_saberpro_upper = [\n",
    "    \"PERIODO\",\n",
    "    \"PUNT_GLOBAL\",\n",
    "    \"ESTU_CONSECUTIVO\",\n",
    "    \"ESTU_COD_MCPIO_PRESENTACION\",\n",
    "    \"INST_COD_INSTITUCION\",\n",
    "    \"INST_NOMBRE_INSTITUCION\",\n",
    "    \"ESTU_PRGM_ACADEMICO\",\n",
    "    \"ESTU_SNIES_PRGMACADEMICO\",\n",
    "    \"ESTU_PRGM_CODMUNICIPIO\",\n",
    "    \"ESTU_PRGM_MUNICIPIO\",\n",
    "    \"ESTU_PRGM_DEPARTAMENTO\",\n",
    "    \"ESTU_NIVEL_PRGM_ACADEMICO\",  # UNIVERSITARIO, TECNOLOGIA, TECNICO PROFESIONAL, ESCUELA NORMAL SUPERIOR\n",
    "    \"ESTU_NUCLEO_PREGRADO\",\n",
    "    \"ESTU_INST_CODMUNICIPIO\",\n",
    "    \"ESTU_INST_MUNICIPIO\",\n",
    "    \"ESTU_INST_DEPARTAMENTO\",\n",
    "    \"INST_CARACTER_ACADEMICO\"  # UNIVERSIDAD, INSTITUCION UNIVERSITARIA, INSTITUCION TECNOLOGICA, TECNICA PROFESIONAL..\n",
    "]"
   ]
  },
  {
   "cell_type": "code",
   "execution_count": 35,
   "id": "2283cbb6-ac56-41a1-9ce6-cfa191b2266d",
   "metadata": {},
   "outputs": [
    {
     "ename": "ParserError",
     "evalue": "'¬' expected after '\"'",
     "output_type": "error",
     "traceback": [
      "\u001b[0;31m---------------------------------------------------------------------------\u001b[0m",
      "\u001b[0;31mError\u001b[0m                                     Traceback (most recent call last)",
      "File \u001b[0;32m~/.virtualenvs/mainenv/lib/python3.10/site-packages/pandas/io/parsers/python_parser.py:805\u001b[0m, in \u001b[0;36mPythonParser._next_iter_line\u001b[0;34m(self, row_num)\u001b[0m\n\u001b[1;32m    804\u001b[0m \u001b[38;5;28;01massert\u001b[39;00m \u001b[38;5;28mself\u001b[39m\u001b[38;5;241m.\u001b[39mdata \u001b[38;5;129;01mis\u001b[39;00m \u001b[38;5;129;01mnot\u001b[39;00m \u001b[38;5;28;01mNone\u001b[39;00m\n\u001b[0;32m--> 805\u001b[0m line \u001b[38;5;241m=\u001b[39m \u001b[38;5;28;43mnext\u001b[39;49m\u001b[43m(\u001b[49m\u001b[38;5;28;43mself\u001b[39;49m\u001b[38;5;241;43m.\u001b[39;49m\u001b[43mdata\u001b[49m\u001b[43m)\u001b[49m\n\u001b[1;32m    806\u001b[0m \u001b[38;5;66;03m# for mypy\u001b[39;00m\n",
      "\u001b[0;31mError\u001b[0m: '¬' expected after '\"'",
      "\nDuring handling of the above exception, another exception occurred:\n",
      "\u001b[0;31mParserError\u001b[0m                               Traceback (most recent call last)",
      "Cell \u001b[0;32mIn[35], line 1\u001b[0m\n\u001b[0;32m----> 1\u001b[0m temp \u001b[38;5;241m=\u001b[39m \u001b[43mpd\u001b[49m\u001b[38;5;241;43m.\u001b[39;49m\u001b[43mread_csv\u001b[49m\u001b[43m(\u001b[49m\u001b[43mdata_dir_sbpro\u001b[49m\u001b[43m \u001b[49m\u001b[38;5;241;43m+\u001b[39;49m\u001b[43m \u001b[49m\u001b[38;5;124;43m\"\u001b[39;49m\u001b[38;5;124;43msaberpro_gen_2016.txt\u001b[39;49m\u001b[38;5;124;43m\"\u001b[39;49m\u001b[43m,\u001b[49m\u001b[43m \u001b[49m\u001b[43msep\u001b[49m\u001b[38;5;241;43m=\u001b[39;49m\u001b[38;5;124;43m\"\u001b[39;49m\u001b[38;5;124;43m¬\u001b[39;49m\u001b[38;5;124;43m\"\u001b[39;49m\u001b[43m,\u001b[49m\u001b[43m \u001b[49m\u001b[43mquotechar\u001b[49m\u001b[38;5;241;43m=\u001b[39;49m\u001b[38;5;124;43m'\u001b[39;49m\u001b[38;5;124;43m\"\u001b[39;49m\u001b[38;5;124;43m'\u001b[39;49m\u001b[43m,\u001b[49m\u001b[43m \u001b[49m\u001b[43musecols\u001b[49m\u001b[43m \u001b[49m\u001b[38;5;241;43m=\u001b[39;49m\u001b[43m \u001b[49m\u001b[43mcols_saberpro_upper\u001b[49m\u001b[43m,\u001b[49m\u001b[43m \u001b[49m\u001b[43mengine\u001b[49m\u001b[38;5;241;43m=\u001b[39;49m\u001b[38;5;124;43m'\u001b[39;49m\u001b[38;5;124;43mpython\u001b[39;49m\u001b[38;5;124;43m'\u001b[39;49m\u001b[43m)\u001b[49m\n\u001b[1;32m      2\u001b[0m temp\u001b[38;5;241m.\u001b[39mhead()\n",
      "File \u001b[0;32m~/.virtualenvs/mainenv/lib/python3.10/site-packages/pandas/io/parsers/readers.py:1026\u001b[0m, in \u001b[0;36mread_csv\u001b[0;34m(filepath_or_buffer, sep, delimiter, header, names, index_col, usecols, dtype, engine, converters, true_values, false_values, skipinitialspace, skiprows, skipfooter, nrows, na_values, keep_default_na, na_filter, verbose, skip_blank_lines, parse_dates, infer_datetime_format, keep_date_col, date_parser, date_format, dayfirst, cache_dates, iterator, chunksize, compression, thousands, decimal, lineterminator, quotechar, quoting, doublequote, escapechar, comment, encoding, encoding_errors, dialect, on_bad_lines, delim_whitespace, low_memory, memory_map, float_precision, storage_options, dtype_backend)\u001b[0m\n\u001b[1;32m   1013\u001b[0m kwds_defaults \u001b[38;5;241m=\u001b[39m _refine_defaults_read(\n\u001b[1;32m   1014\u001b[0m     dialect,\n\u001b[1;32m   1015\u001b[0m     delimiter,\n\u001b[0;32m   (...)\u001b[0m\n\u001b[1;32m   1022\u001b[0m     dtype_backend\u001b[38;5;241m=\u001b[39mdtype_backend,\n\u001b[1;32m   1023\u001b[0m )\n\u001b[1;32m   1024\u001b[0m kwds\u001b[38;5;241m.\u001b[39mupdate(kwds_defaults)\n\u001b[0;32m-> 1026\u001b[0m \u001b[38;5;28;01mreturn\u001b[39;00m \u001b[43m_read\u001b[49m\u001b[43m(\u001b[49m\u001b[43mfilepath_or_buffer\u001b[49m\u001b[43m,\u001b[49m\u001b[43m \u001b[49m\u001b[43mkwds\u001b[49m\u001b[43m)\u001b[49m\n",
      "File \u001b[0;32m~/.virtualenvs/mainenv/lib/python3.10/site-packages/pandas/io/parsers/readers.py:626\u001b[0m, in \u001b[0;36m_read\u001b[0;34m(filepath_or_buffer, kwds)\u001b[0m\n\u001b[1;32m    623\u001b[0m     \u001b[38;5;28;01mreturn\u001b[39;00m parser\n\u001b[1;32m    625\u001b[0m \u001b[38;5;28;01mwith\u001b[39;00m parser:\n\u001b[0;32m--> 626\u001b[0m     \u001b[38;5;28;01mreturn\u001b[39;00m \u001b[43mparser\u001b[49m\u001b[38;5;241;43m.\u001b[39;49m\u001b[43mread\u001b[49m\u001b[43m(\u001b[49m\u001b[43mnrows\u001b[49m\u001b[43m)\u001b[49m\n",
      "File \u001b[0;32m~/.virtualenvs/mainenv/lib/python3.10/site-packages/pandas/io/parsers/readers.py:1923\u001b[0m, in \u001b[0;36mTextFileReader.read\u001b[0;34m(self, nrows)\u001b[0m\n\u001b[1;32m   1916\u001b[0m nrows \u001b[38;5;241m=\u001b[39m validate_integer(\u001b[38;5;124m\"\u001b[39m\u001b[38;5;124mnrows\u001b[39m\u001b[38;5;124m\"\u001b[39m, nrows)\n\u001b[1;32m   1917\u001b[0m \u001b[38;5;28;01mtry\u001b[39;00m:\n\u001b[1;32m   1918\u001b[0m     \u001b[38;5;66;03m# error: \"ParserBase\" has no attribute \"read\"\u001b[39;00m\n\u001b[1;32m   1919\u001b[0m     (\n\u001b[1;32m   1920\u001b[0m         index,\n\u001b[1;32m   1921\u001b[0m         columns,\n\u001b[1;32m   1922\u001b[0m         col_dict,\n\u001b[0;32m-> 1923\u001b[0m     ) \u001b[38;5;241m=\u001b[39m \u001b[38;5;28;43mself\u001b[39;49m\u001b[38;5;241;43m.\u001b[39;49m\u001b[43m_engine\u001b[49m\u001b[38;5;241;43m.\u001b[39;49m\u001b[43mread\u001b[49m\u001b[43m(\u001b[49m\u001b[43m  \u001b[49m\u001b[38;5;66;43;03m# type: ignore[attr-defined]\u001b[39;49;00m\n\u001b[1;32m   1924\u001b[0m \u001b[43m        \u001b[49m\u001b[43mnrows\u001b[49m\n\u001b[1;32m   1925\u001b[0m \u001b[43m    \u001b[49m\u001b[43m)\u001b[49m\n\u001b[1;32m   1926\u001b[0m \u001b[38;5;28;01mexcept\u001b[39;00m \u001b[38;5;167;01mException\u001b[39;00m:\n\u001b[1;32m   1927\u001b[0m     \u001b[38;5;28mself\u001b[39m\u001b[38;5;241m.\u001b[39mclose()\n",
      "File \u001b[0;32m~/.virtualenvs/mainenv/lib/python3.10/site-packages/pandas/io/parsers/python_parser.py:252\u001b[0m, in \u001b[0;36mPythonParser.read\u001b[0;34m(self, rows)\u001b[0m\n\u001b[1;32m    246\u001b[0m \u001b[38;5;28;01mdef\u001b[39;00m\u001b[38;5;250m \u001b[39m\u001b[38;5;21mread\u001b[39m(\n\u001b[1;32m    247\u001b[0m     \u001b[38;5;28mself\u001b[39m, rows: \u001b[38;5;28mint\u001b[39m \u001b[38;5;241m|\u001b[39m \u001b[38;5;28;01mNone\u001b[39;00m \u001b[38;5;241m=\u001b[39m \u001b[38;5;28;01mNone\u001b[39;00m\n\u001b[1;32m    248\u001b[0m ) \u001b[38;5;241m-\u001b[39m\u001b[38;5;241m>\u001b[39m \u001b[38;5;28mtuple\u001b[39m[\n\u001b[1;32m    249\u001b[0m     Index \u001b[38;5;241m|\u001b[39m \u001b[38;5;28;01mNone\u001b[39;00m, Sequence[Hashable] \u001b[38;5;241m|\u001b[39m MultiIndex, Mapping[Hashable, ArrayLike]\n\u001b[1;32m    250\u001b[0m ]:\n\u001b[1;32m    251\u001b[0m     \u001b[38;5;28;01mtry\u001b[39;00m:\n\u001b[0;32m--> 252\u001b[0m         content \u001b[38;5;241m=\u001b[39m \u001b[38;5;28;43mself\u001b[39;49m\u001b[38;5;241;43m.\u001b[39;49m\u001b[43m_get_lines\u001b[49m\u001b[43m(\u001b[49m\u001b[43mrows\u001b[49m\u001b[43m)\u001b[49m\n\u001b[1;32m    253\u001b[0m     \u001b[38;5;28;01mexcept\u001b[39;00m \u001b[38;5;167;01mStopIteration\u001b[39;00m:\n\u001b[1;32m    254\u001b[0m         \u001b[38;5;28;01mif\u001b[39;00m \u001b[38;5;28mself\u001b[39m\u001b[38;5;241m.\u001b[39m_first_chunk:\n",
      "File \u001b[0;32m~/.virtualenvs/mainenv/lib/python3.10/site-packages/pandas/io/parsers/python_parser.py:1140\u001b[0m, in \u001b[0;36mPythonParser._get_lines\u001b[0;34m(self, rows)\u001b[0m\n\u001b[1;32m   1137\u001b[0m rows \u001b[38;5;241m=\u001b[39m \u001b[38;5;241m0\u001b[39m\n\u001b[1;32m   1139\u001b[0m \u001b[38;5;28;01mwhile\u001b[39;00m \u001b[38;5;28;01mTrue\u001b[39;00m:\n\u001b[0;32m-> 1140\u001b[0m     next_row \u001b[38;5;241m=\u001b[39m \u001b[38;5;28;43mself\u001b[39;49m\u001b[38;5;241;43m.\u001b[39;49m\u001b[43m_next_iter_line\u001b[49m\u001b[43m(\u001b[49m\u001b[43mrow_num\u001b[49m\u001b[38;5;241;43m=\u001b[39;49m\u001b[38;5;28;43mself\u001b[39;49m\u001b[38;5;241;43m.\u001b[39;49m\u001b[43mpos\u001b[49m\u001b[43m \u001b[49m\u001b[38;5;241;43m+\u001b[39;49m\u001b[43m \u001b[49m\u001b[43mrows\u001b[49m\u001b[43m \u001b[49m\u001b[38;5;241;43m+\u001b[39;49m\u001b[43m \u001b[49m\u001b[38;5;241;43m1\u001b[39;49m\u001b[43m)\u001b[49m\n\u001b[1;32m   1141\u001b[0m     rows \u001b[38;5;241m+\u001b[39m\u001b[38;5;241m=\u001b[39m \u001b[38;5;241m1\u001b[39m\n\u001b[1;32m   1143\u001b[0m     \u001b[38;5;28;01mif\u001b[39;00m next_row \u001b[38;5;129;01mis\u001b[39;00m \u001b[38;5;129;01mnot\u001b[39;00m \u001b[38;5;28;01mNone\u001b[39;00m:\n",
      "File \u001b[0;32m~/.virtualenvs/mainenv/lib/python3.10/site-packages/pandas/io/parsers/python_parser.py:834\u001b[0m, in \u001b[0;36mPythonParser._next_iter_line\u001b[0;34m(self, row_num)\u001b[0m\n\u001b[1;32m    825\u001b[0m         reason \u001b[38;5;241m=\u001b[39m (\n\u001b[1;32m    826\u001b[0m             \u001b[38;5;124m\"\u001b[39m\u001b[38;5;124mError could possibly be due to \u001b[39m\u001b[38;5;124m\"\u001b[39m\n\u001b[1;32m    827\u001b[0m             \u001b[38;5;124m\"\u001b[39m\u001b[38;5;124mparsing errors in the skipped footer rows \u001b[39m\u001b[38;5;124m\"\u001b[39m\n\u001b[0;32m   (...)\u001b[0m\n\u001b[1;32m    830\u001b[0m             \u001b[38;5;124m\"\u001b[39m\u001b[38;5;124mall rows).\u001b[39m\u001b[38;5;124m\"\u001b[39m\n\u001b[1;32m    831\u001b[0m         )\n\u001b[1;32m    832\u001b[0m         msg \u001b[38;5;241m+\u001b[39m\u001b[38;5;241m=\u001b[39m \u001b[38;5;124m\"\u001b[39m\u001b[38;5;124m. \u001b[39m\u001b[38;5;124m\"\u001b[39m \u001b[38;5;241m+\u001b[39m reason\n\u001b[0;32m--> 834\u001b[0m     \u001b[38;5;28;43mself\u001b[39;49m\u001b[38;5;241;43m.\u001b[39;49m\u001b[43m_alert_malformed\u001b[49m\u001b[43m(\u001b[49m\u001b[43mmsg\u001b[49m\u001b[43m,\u001b[49m\u001b[43m \u001b[49m\u001b[43mrow_num\u001b[49m\u001b[43m)\u001b[49m\n\u001b[1;32m    835\u001b[0m \u001b[38;5;28;01mreturn\u001b[39;00m \u001b[38;5;28;01mNone\u001b[39;00m\n",
      "File \u001b[0;32m~/.virtualenvs/mainenv/lib/python3.10/site-packages/pandas/io/parsers/python_parser.py:781\u001b[0m, in \u001b[0;36mPythonParser._alert_malformed\u001b[0;34m(self, msg, row_num)\u001b[0m\n\u001b[1;32m    764\u001b[0m \u001b[38;5;250m\u001b[39m\u001b[38;5;124;03m\"\"\"\u001b[39;00m\n\u001b[1;32m    765\u001b[0m \u001b[38;5;124;03mAlert a user about a malformed row, depending on value of\u001b[39;00m\n\u001b[1;32m    766\u001b[0m \u001b[38;5;124;03m`self.on_bad_lines` enum.\u001b[39;00m\n\u001b[0;32m   (...)\u001b[0m\n\u001b[1;32m    778\u001b[0m \u001b[38;5;124;03m    even though we 0-index internally.\u001b[39;00m\n\u001b[1;32m    779\u001b[0m \u001b[38;5;124;03m\"\"\"\u001b[39;00m\n\u001b[1;32m    780\u001b[0m \u001b[38;5;28;01mif\u001b[39;00m \u001b[38;5;28mself\u001b[39m\u001b[38;5;241m.\u001b[39mon_bad_lines \u001b[38;5;241m==\u001b[39m \u001b[38;5;28mself\u001b[39m\u001b[38;5;241m.\u001b[39mBadLineHandleMethod\u001b[38;5;241m.\u001b[39mERROR:\n\u001b[0;32m--> 781\u001b[0m     \u001b[38;5;28;01mraise\u001b[39;00m ParserError(msg)\n\u001b[1;32m    782\u001b[0m \u001b[38;5;28;01mif\u001b[39;00m \u001b[38;5;28mself\u001b[39m\u001b[38;5;241m.\u001b[39mon_bad_lines \u001b[38;5;241m==\u001b[39m \u001b[38;5;28mself\u001b[39m\u001b[38;5;241m.\u001b[39mBadLineHandleMethod\u001b[38;5;241m.\u001b[39mWARN:\n\u001b[1;32m    783\u001b[0m     warnings\u001b[38;5;241m.\u001b[39mwarn(\n\u001b[1;32m    784\u001b[0m         \u001b[38;5;124mf\u001b[39m\u001b[38;5;124m\"\u001b[39m\u001b[38;5;124mSkipping line \u001b[39m\u001b[38;5;132;01m{\u001b[39;00mrow_num\u001b[38;5;132;01m}\u001b[39;00m\u001b[38;5;124m: \u001b[39m\u001b[38;5;132;01m{\u001b[39;00mmsg\u001b[38;5;132;01m}\u001b[39;00m\u001b[38;5;130;01m\\n\u001b[39;00m\u001b[38;5;124m\"\u001b[39m,\n\u001b[1;32m    785\u001b[0m         ParserWarning,\n\u001b[1;32m    786\u001b[0m         stacklevel\u001b[38;5;241m=\u001b[39mfind_stack_level(),\n\u001b[1;32m    787\u001b[0m     )\n",
      "\u001b[0;31mParserError\u001b[0m: '¬' expected after '\"'"
     ]
    }
   ],
   "source": [
    "temp = pd.read_csv(data_dir_sbpro + \"saberpro_gen_2016.txt\", sep=\"¬\", quotechar='\"', usecols = cols_saberpro_upper, engine='python')\n",
    "temp.head()"
   ]
  },
  {
   "cell_type": "code",
   "execution_count": null,
   "id": "fe78487b-52ac-4fa1-884a-467e525f986d",
   "metadata": {},
   "outputs": [
    {
     "name": "stderr",
     "output_type": "stream",
     "text": [
      "/tmp/ipykernel_5689/670694708.py:7: ParserWarning: Falling back to the 'python' engine because the separator encoded in utf-8 is > 1 char long, and the 'c' engine does not support such separators; you can avoid this warning by specifying engine='python'.\n",
      "  data_temp = pd.read_csv(file_path, sep=\"¬\")\n"
     ]
    },
    {
     "name": "stdout",
     "output_type": "stream",
     "text": [
      "Error reading ../data/SABERPRO_raw/saberpro_gen_20132.txt: '¬' expected after '\"'\n"
     ]
    },
    {
     "name": "stderr",
     "output_type": "stream",
     "text": [
      "/tmp/ipykernel_5689/670694708.py:7: ParserWarning: Falling back to the 'python' engine because the separator encoded in utf-8 is > 1 char long, and the 'c' engine does not support such separators; you can avoid this warning by specifying engine='python'.\n",
      "  data_temp = pd.read_csv(file_path, sep=\"¬\")\n",
      "/tmp/ipykernel_5689/670694708.py:7: ParserWarning: Falling back to the 'python' engine because the separator encoded in utf-8 is > 1 char long, and the 'c' engine does not support such separators; you can avoid this warning by specifying engine='python'.\n",
      "  data_temp = pd.read_csv(file_path, sep=\"¬\")\n",
      "/tmp/ipykernel_5689/670694708.py:7: ParserWarning: Falling back to the 'python' engine because the separator encoded in utf-8 is > 1 char long, and the 'c' engine does not support such separators; you can avoid this warning by specifying engine='python'.\n",
      "  data_temp = pd.read_csv(file_path, sep=\"¬\")\n"
     ]
    },
    {
     "name": "stdout",
     "output_type": "stream",
     "text": [
      "Error reading ../data/SABERPRO_raw/saberpro_2021.txt: '¬' expected after '\"'\n",
      "Error reading ../data/SABERPRO_raw/saberpro_gen_20141.txt: 'utf-8' codec can't decode byte 0xc2 in position 4199: invalid continuation byte\n"
     ]
    },
    {
     "name": "stderr",
     "output_type": "stream",
     "text": [
      "/tmp/ipykernel_5689/670694708.py:7: ParserWarning: Falling back to the 'python' engine because the separator encoded in utf-8 is > 1 char long, and the 'c' engine does not support such separators; you can avoid this warning by specifying engine='python'.\n",
      "  data_temp = pd.read_csv(file_path, sep=\"¬\")\n",
      "/tmp/ipykernel_5689/670694708.py:7: ParserWarning: Falling back to the 'python' engine because the separator encoded in utf-8 is > 1 char long, and the 'c' engine does not support such separators; you can avoid this warning by specifying engine='python'.\n",
      "  data_temp = pd.read_csv(file_path, sep=\"¬\")\n",
      "/tmp/ipykernel_5689/670694708.py:7: ParserWarning: Falling back to the 'python' engine because the separator encoded in utf-8 is > 1 char long, and the 'c' engine does not support such separators; you can avoid this warning by specifying engine='python'.\n",
      "  data_temp = pd.read_csv(file_path, sep=\"¬\")\n",
      "/tmp/ipykernel_5689/670694708.py:7: ParserWarning: Falling back to the 'python' engine because the separator encoded in utf-8 is > 1 char long, and the 'c' engine does not support such separators; you can avoid this warning by specifying engine='python'.\n",
      "  data_temp = pd.read_csv(file_path, sep=\"¬\")\n"
     ]
    },
    {
     "name": "stdout",
     "output_type": "stream",
     "text": [
      "Error reading ../data/SABERPRO_raw/saberpro_gen_2016.txt: '¬' expected after '\"'\n"
     ]
    },
    {
     "name": "stderr",
     "output_type": "stream",
     "text": [
      "/tmp/ipykernel_5689/670694708.py:7: ParserWarning: Falling back to the 'python' engine because the separator encoded in utf-8 is > 1 char long, and the 'c' engine does not support such separators; you can avoid this warning by specifying engine='python'.\n",
      "  data_temp = pd.read_csv(file_path, sep=\"¬\")\n",
      "/tmp/ipykernel_5689/670694708.py:7: ParserWarning: Falling back to the 'python' engine because the separator encoded in utf-8 is > 1 char long, and the 'c' engine does not support such separators; you can avoid this warning by specifying engine='python'.\n",
      "  data_temp = pd.read_csv(file_path, sep=\"¬\")\n"
     ]
    },
    {
     "name": "stdout",
     "output_type": "stream",
     "text": [
      "Error reading ../data/SABERPRO_raw/saberpro_gen_20152.txt: '¬' expected after '\"'\n"
     ]
    },
    {
     "name": "stderr",
     "output_type": "stream",
     "text": [
      "/tmp/ipykernel_5689/670694708.py:7: ParserWarning: Falling back to the 'python' engine because the separator encoded in utf-8 is > 1 char long, and the 'c' engine does not support such separators; you can avoid this warning by specifying engine='python'.\n",
      "  data_temp = pd.read_csv(file_path, sep=\"¬\")\n",
      "/tmp/ipykernel_5689/670694708.py:7: ParserWarning: Falling back to the 'python' engine because the separator encoded in utf-8 is > 1 char long, and the 'c' engine does not support such separators; you can avoid this warning by specifying engine='python'.\n",
      "  data_temp = pd.read_csv(file_path, sep=\"¬\")\n",
      "/tmp/ipykernel_5689/670694708.py:7: ParserWarning: Falling back to the 'python' engine because the separator encoded in utf-8 is > 1 char long, and the 'c' engine does not support such separators; you can avoid this warning by specifying engine='python'.\n",
      "  data_temp = pd.read_csv(file_path, sep=\"¬\")\n"
     ]
    },
    {
     "name": "stdout",
     "output_type": "stream",
     "text": [
      "Error reading ../data/SABERPRO_raw/saberpro_gen_2020.txt: '¬' expected after '\"'\n",
      "Error reading ../data/SABERPRO_raw/saberpro_gen_20142.txt: '¬' expected after '\"'\n"
     ]
    }
   ],
   "source": [
    "data_list = []\n",
    "csv_files = glob.glob(os.path.join(data_dir_sbpro, \"*.txt\"))\n",
    "csv_files_filtered = [file for file in csv_files if 'esp' not in os.path.basename(file)]\n",
    "\n",
    "for file_path in csv_files_filtered:\n",
    "    try:\n",
    "        data_temp = pd.read_csv(file_path, sep=\"¬\")        \n",
    "        data_list.append(data_temp)\n",
    "        \n",
    "    except Exception as err:\n",
    "        print(f\"Error reading {file_path}: {err}\")\n",
    "# Concatenate all at once (faster and more memory-efficient)\n",
    "sbpro = pd.concat(data_list, ignore_index=True)\n",
    "#sbpro[\"cole_cod_mcpio_ubicacion\"] = sbpro[\"cole_cod_mcpio_ubicacion\"].astype(\"Int64\")"
   ]
  }
 ],
 "metadata": {
  "kernelspec": {
   "display_name": "Python 3 (ipykernel)",
   "language": "python",
   "name": "python3"
  },
  "language_info": {
   "codemirror_mode": {
    "name": "ipython",
    "version": 3
   },
   "file_extension": ".py",
   "mimetype": "text/x-python",
   "name": "python",
   "nbconvert_exporter": "python",
   "pygments_lexer": "ipython3",
   "version": "3.10.12"
  }
 },
 "nbformat": 4,
 "nbformat_minor": 5
}
