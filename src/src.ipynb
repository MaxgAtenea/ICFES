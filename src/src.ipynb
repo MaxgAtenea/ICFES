{
 "cells": [
  {
   "cell_type": "markdown",
   "id": "39b61c9e-120e-4a46-8228-46a3e6143cd1",
   "metadata": {},
   "source": [
    "**CRUCES ENTRE SABER11 y SABER PRO**\n",
    "\n",
    "Saber Pro contienen un identificador único por estudiante (“estu_consecutivo”)\n",
    "para cada uno de los exámenes que, luego de aplicar un algoritmo de\n",
    "emparejamiento, permite identificar los estudiantes que presentaron el examen:\n",
    "1. Saber 11° entre 2010-1 y 2021-2,\n",
    "2. Saber Pro, entre 2012 y 2023-1\n",
    "3. Saber TyT entre la primera aplicación de 2016 y 2023-1.\n",
    "\n",
    "El algoritmo de emparejamiento utiliza seis criterios en los que se hace uso de\n",
    "llaves creadas a partir de la información de nombres y apellidos completos,\n",
    "documento de identidad y fecha de nacimiento de los estudiantes. Además, en\n",
    "caso de que el tipo y número del documento de identidad difieran entre los\n",
    "exámenes, se utiliza información de la Registraduría Nacional del Estado Civil para\n",
    "identificar al estudiante en ambos exámenes."
   ]
  },
  {
   "cell_type": "markdown",
   "id": "8cae45ee-5930-4837-a30f-9fd00d90cd3b",
   "metadata": {},
   "source": [
    "----"
   ]
  },
  {
   "cell_type": "markdown",
   "id": "8b4e04af-637a-4d4b-afd4-4a35946e4ac7",
   "metadata": {},
   "source": [
    "**SOBRE SABER 11**: *Tomamos muestra desde 2012-2*\n",
    "\n",
    "**Modificacion:**\n",
    "Con el objetivo de consolidar un Sistema Nacional de Evaluación Estandarizada \n",
    "(SNEE) que consiga la alineación de todos los exámenes que lo conforman, la \n",
    "estructura del examen Saber 11 fue modificada **a partir del segundo semestre de 2014**\n",
    "para que sus resultados fueran comparables, en términos de las competencias \n",
    "evaluadas, con los de otras pruebas del SNEE como las pruebas Saber 3°, 5° y 9° y el \n",
    "examen Saber Pro (Icfes, 2013). Esto llevó a una nueva estructura del examen para \n",
    "evaluar las pruebas genéricas: matemáticas, lectura crítica, ciencias naturales, \n",
    "sociales y ciudadanas e inglés.\n",
    "\n",
    "\n",
    "\n",
    "**Periodos recalificados:**\n",
    "\n",
    "En el marco de la Resolución 503 de 2014 del Icfes, bajo la cual se definieron la \n",
    "clasificación de planteles y la estructura del examen Saber 11 vigentes, se planteó la \n",
    "necesidad de recalificar los resultados de los estudiantes en algunos de los periodos que \n",
    "preceden al cambio en la estructura del examen, ocurrido en el segundo semestre \n",
    "de 2014, con el fin de tener resultados comparables y cumplir de esta manera con los \n",
    "requerimientos técnicos de la metodología de clasificación vigente. \n",
    "Esta metodología requiere de resultados comparables de los estudiantes, en los \n",
    "últimos tres años, de cada establecimiento educativo y sus sedes. Debido a la adopción \n",
    "de la nueva estructura del examen Saber 11 y con el fin de presentar los resultados de \n",
    "la clasificación de planteles vigente desde el segundo semestre del 2014, **se realizó un \n",
    "proceso de recalificación de los puntajes de los estudiantes que tomaron el examen en \n",
    "el segundo semestre de 2012 y 2013 con el fin de hacerlos comparables a la \n",
    "estructura vigente y contar con los tres años de resultados para cada plantel \n",
    "educativo**\n",
    "\n",
    "Con el fin de publicar los resultados de la clasificación de planteles cada semestre, \n",
    "como quedó establecido en la Resolución 503 de 2014, la recalificación de los puntajes \n",
    "de los estudiantes se hizo también para el **primer semestre del 2013 y 2014** para \n",
    "calcular la clasificación de planteles del primer semestre de 2015"
   ]
  },
  {
   "cell_type": "markdown",
   "id": "095d398d-0d00-4c9e-998a-2b962c4a7987",
   "metadata": {},
   "source": [
    "----"
   ]
  },
  {
   "cell_type": "markdown",
   "id": "bf94df59-b14f-40f2-83a8-f76682b48c53",
   "metadata": {},
   "source": [
    "**SOBRE SABER PRO**: *Tomamos muestra del 2016 en adelante*\n",
    "\n",
    "Los estudiantes que actualmente toman el examen de Saber Pro son evaluados en \n",
    "competencias específicas de acuerdo al grupo de referencia al que pertenece el programa y de \n",
    "acuerdo a lo que consideren los directores de programas cuando escogen la combinatoria de \n",
    "módulos más acordes a su malla curricular. A pesar de que se evalúan las mismas \n",
    "competencias específicas que en el periodo anterior, **a partir del 2016 se produjeron cambios \n",
    "en el diseño de los módulos y en la calificación de las mismas que imposibilitan la \n",
    "comparación entre años del periodo anterior con el actual**. Los resultados de los módulos de \n",
    "competencias específicas para este periodo resultaron en una nueva escala con año base en \n",
    "2016.\n"
   ]
  },
  {
   "cell_type": "markdown",
   "id": "18164f85-67ff-4d29-bf3d-a1b0f19d159f",
   "metadata": {},
   "source": [
    "-----"
   ]
  },
  {
   "cell_type": "code",
   "execution_count": 3,
   "id": "ff916dcc-ef66-40a5-a4ce-f92f8c59102f",
   "metadata": {},
   "outputs": [],
   "source": [
    "import pandas as pd\n",
    "import numpy as np\n",
    "import os\n",
    "import glob\n",
    "\n",
    "import constants"
   ]
  },
  {
   "cell_type": "code",
   "execution_count": 2,
   "id": "943e497c-5dcb-4f5e-8d35-6a967dad6426",
   "metadata": {},
   "outputs": [],
   "source": [
    "#Directorios con la datos del saber 11\n",
    "\n",
    "#Datos antes del 20142 \n",
    "data_dir_sb11_before20142 = \"../data/SABER11_raw/ANTES20142/\"\n",
    "#Datos despues del 20142 (inclusive)\n",
    "data_dir_sb11_after20142 = \"../data/SABER11_raw/DESPUES20142/\"\n",
    "\n",
    "csv_files_before20142 = glob.glob(os.path.join(data_dir_sb11_before20142, \"*.txt\"))\n",
    "csv_files_after20142 = glob.glob(os.path.join(data_dir_sb11_after20142, \"*.txt\"))"
   ]
  },
  {
   "cell_type": "code",
   "execution_count": 9,
   "id": "3ecee8d5-1a78-40c4-a4d2-5dfd52ad5c89",
   "metadata": {},
   "outputs": [
    {
     "data": {
      "text/html": [
       "<div>\n",
       "<style scoped>\n",
       "    .dataframe tbody tr th:only-of-type {\n",
       "        vertical-align: middle;\n",
       "    }\n",
       "\n",
       "    .dataframe tbody tr th {\n",
       "        vertical-align: top;\n",
       "    }\n",
       "\n",
       "    .dataframe thead th {\n",
       "        text-align: right;\n",
       "    }\n",
       "</style>\n",
       "<table border=\"1\" class=\"dataframe\">\n",
       "  <thead>\n",
       "    <tr style=\"text-align: right;\">\n",
       "      <th></th>\n",
       "      <th>estu_consecutivo_sbpro</th>\n",
       "      <th>estu_consecutivo_sb11</th>\n",
       "    </tr>\n",
       "  </thead>\n",
       "  <tbody>\n",
       "    <tr>\n",
       "      <th>0</th>\n",
       "      <td>EK201210000628</td>\n",
       "      <td>SB11201020119179</td>\n",
       "    </tr>\n",
       "    <tr>\n",
       "      <th>1</th>\n",
       "      <td>EK201210001522</td>\n",
       "      <td>SB11201020119180</td>\n",
       "    </tr>\n",
       "    <tr>\n",
       "      <th>2</th>\n",
       "      <td>EK201210001647</td>\n",
       "      <td>SB11201020110588</td>\n",
       "    </tr>\n",
       "    <tr>\n",
       "      <th>3</th>\n",
       "      <td>EK201210001663</td>\n",
       "      <td>SB11201020116060</td>\n",
       "    </tr>\n",
       "    <tr>\n",
       "      <th>4</th>\n",
       "      <td>EK201210003701</td>\n",
       "      <td>SB11201020120759</td>\n",
       "    </tr>\n",
       "  </tbody>\n",
       "</table>\n",
       "</div>"
      ],
      "text/plain": [
       "  estu_consecutivo_sbpro estu_consecutivo_sb11\n",
       "0         EK201210000628      SB11201020119179\n",
       "1         EK201210001522      SB11201020119180\n",
       "2         EK201210001647      SB11201020110588\n",
       "3         EK201210001663      SB11201020116060\n",
       "4         EK201210003701      SB11201020120759"
      ]
     },
     "execution_count": 9,
     "metadata": {},
     "output_type": "execute_result"
    }
   ],
   "source": [
    "#csv con las llaves para cruzar el saber pro con saber 11\n",
    "llaves = pd.read_csv(\"../data/LLAVES/Llave_Saber11_SaberPro.txt\", sep=\";\")\n",
    "llaves.head()"
   ]
  },
  {
   "cell_type": "code",
   "execution_count": 3,
   "id": "d9000e61-35f2-493e-9aee-995a2f80d143",
   "metadata": {},
   "outputs": [],
   "source": [
    "#Constantes\n",
    "data_dir_sb11 = \"../data/SABER11_raw/\"\n",
    "\n",
    "cod_mcpio_BOGOTA = 11001\n",
    "\n",
    "cols_before_20142 = [\n",
    "    \"periodo\",\n",
    "    \"estu_consecutivo\",\n",
    "    \"cole_cod_depto_ubicacion\",\n",
    "    \"cole_cod_mcpio_ubicacion\",\n",
    "    \"cole_depto_ubicacion\",\n",
    "    \"recaf_punt_sociales_ciudadanas\",\n",
    "    \"recaf_punt_ingles\",\n",
    "    \"recaf_punt_lectura_critica\",\n",
    "    \"recaf_punt_matematicas\",\n",
    "    \"recaf_punt_c_naturales\"\n",
    "]\n",
    "\n",
    "cols_after_20142 = [\n",
    "    \"periodo\",\n",
    "    \"estu_consecutivo\",\n",
    "    \"cole_cod_depto_ubicacion\",\n",
    "    \"cole_cod_mcpio_ubicacion\",\n",
    "    \"cole_depto_ubicacion\",\n",
    "    \"punt_global\",\n",
    "    \"punt_sociales_ciudadanas\",\n",
    "    \"punt_ingles\",\n",
    "    \"punt_lectura_critica\",\n",
    "    \"punt_matematicas\",\n",
    "    \"punt_c_naturales\"\n",
    "]\n"
   ]
  },
  {
   "cell_type": "code",
   "execution_count": 4,
   "id": "f787825c-c678-4d69-9cf8-29c3ba1c1943",
   "metadata": {},
   "outputs": [],
   "source": [
    "data_list = []\n",
    "\n",
    "for file_path in csv_files_before20142:\n",
    "    try:\n",
    "        data_temp = pd.read_csv(file_path, sep=\";\", usecols=cols_before_20142, low_memory=False)        \n",
    "        data_list.append(data_temp)\n",
    "        \n",
    "    except Exception as err:\n",
    "        print(f\"Error reading {file_path}: {err}\")\n",
    "\n",
    "for file_path in csv_files_after20142:\n",
    "    try:\n",
    "        data_temp = pd.read_csv(file_path, sep=\";\", usecols=cols_after_20142, low_memory=False)        \n",
    "        data_list.append(data_temp)\n",
    "        \n",
    "    except Exception as err:\n",
    "        print(f\"Error reading {file_path}: {err}\")\n",
    "        \n",
    "        \n",
    "# Concatenate all at once (faster and more memory-efficient)\n",
    "sb11 = pd.concat(data_list, ignore_index=True)\n",
    "sb11[\"cole_cod_mcpio_ubicacion\"] = sb11[\"cole_cod_mcpio_ubicacion\"].astype(\"Int64\")\n",
    "\n",
    "del data_list\n",
    "del data_temp"
   ]
  },
  {
   "cell_type": "code",
   "execution_count": 5,
   "id": "aff69e53-781e-40ca-afd9-4c35349af1c0",
   "metadata": {},
   "outputs": [
    {
     "data": {
      "text/html": [
       "<div>\n",
       "<style scoped>\n",
       "    .dataframe tbody tr th:only-of-type {\n",
       "        vertical-align: middle;\n",
       "    }\n",
       "\n",
       "    .dataframe tbody tr th {\n",
       "        vertical-align: top;\n",
       "    }\n",
       "\n",
       "    .dataframe thead th {\n",
       "        text-align: right;\n",
       "    }\n",
       "</style>\n",
       "<table border=\"1\" class=\"dataframe\">\n",
       "  <thead>\n",
       "    <tr style=\"text-align: right;\">\n",
       "      <th></th>\n",
       "      <th>periodo</th>\n",
       "      <th>estu_consecutivo</th>\n",
       "      <th>cole_cod_depto_ubicacion</th>\n",
       "      <th>cole_cod_mcpio_ubicacion</th>\n",
       "      <th>cole_depto_ubicacion</th>\n",
       "      <th>recaf_punt_c_naturales</th>\n",
       "      <th>recaf_punt_ingles</th>\n",
       "      <th>recaf_punt_lectura_critica</th>\n",
       "      <th>recaf_punt_matematicas</th>\n",
       "      <th>recaf_punt_sociales_ciudadanas</th>\n",
       "      <th>punt_c_naturales</th>\n",
       "      <th>punt_global</th>\n",
       "      <th>punt_ingles</th>\n",
       "      <th>punt_lectura_critica</th>\n",
       "      <th>punt_matematicas</th>\n",
       "      <th>punt_sociales_ciudadanas</th>\n",
       "    </tr>\n",
       "  </thead>\n",
       "  <tbody>\n",
       "    <tr>\n",
       "      <th>5</th>\n",
       "      <td>20131</td>\n",
       "      <td>SB11201310074970</td>\n",
       "      <td>11.0</td>\n",
       "      <td>11001</td>\n",
       "      <td>BOGOTA</td>\n",
       "      <td>41.0</td>\n",
       "      <td>46.0</td>\n",
       "      <td>47.0</td>\n",
       "      <td>49.0</td>\n",
       "      <td>45.0</td>\n",
       "      <td>NaN</td>\n",
       "      <td>NaN</td>\n",
       "      <td>NaN</td>\n",
       "      <td>NaN</td>\n",
       "      <td>NaN</td>\n",
       "      <td>NaN</td>\n",
       "    </tr>\n",
       "    <tr>\n",
       "      <th>6</th>\n",
       "      <td>20131</td>\n",
       "      <td>SB11201310021868</td>\n",
       "      <td>11.0</td>\n",
       "      <td>11001</td>\n",
       "      <td>BOGOTA</td>\n",
       "      <td>46.0</td>\n",
       "      <td>40.0</td>\n",
       "      <td>51.0</td>\n",
       "      <td>53.0</td>\n",
       "      <td>44.0</td>\n",
       "      <td>NaN</td>\n",
       "      <td>NaN</td>\n",
       "      <td>NaN</td>\n",
       "      <td>NaN</td>\n",
       "      <td>NaN</td>\n",
       "      <td>NaN</td>\n",
       "    </tr>\n",
       "    <tr>\n",
       "      <th>19</th>\n",
       "      <td>20131</td>\n",
       "      <td>SB11201310066783</td>\n",
       "      <td>11.0</td>\n",
       "      <td>11001</td>\n",
       "      <td>BOGOTA</td>\n",
       "      <td>43.0</td>\n",
       "      <td>58.0</td>\n",
       "      <td>53.0</td>\n",
       "      <td>43.0</td>\n",
       "      <td>49.0</td>\n",
       "      <td>NaN</td>\n",
       "      <td>NaN</td>\n",
       "      <td>NaN</td>\n",
       "      <td>NaN</td>\n",
       "      <td>NaN</td>\n",
       "      <td>NaN</td>\n",
       "    </tr>\n",
       "    <tr>\n",
       "      <th>25</th>\n",
       "      <td>20131</td>\n",
       "      <td>SB11201310038449</td>\n",
       "      <td>11.0</td>\n",
       "      <td>11001</td>\n",
       "      <td>BOGOTA</td>\n",
       "      <td>50.0</td>\n",
       "      <td>40.0</td>\n",
       "      <td>43.0</td>\n",
       "      <td>40.0</td>\n",
       "      <td>40.0</td>\n",
       "      <td>NaN</td>\n",
       "      <td>NaN</td>\n",
       "      <td>NaN</td>\n",
       "      <td>NaN</td>\n",
       "      <td>NaN</td>\n",
       "      <td>NaN</td>\n",
       "    </tr>\n",
       "    <tr>\n",
       "      <th>26</th>\n",
       "      <td>20131</td>\n",
       "      <td>SB11201310038130</td>\n",
       "      <td>11.0</td>\n",
       "      <td>11001</td>\n",
       "      <td>BOGOTA</td>\n",
       "      <td>34.0</td>\n",
       "      <td>45.0</td>\n",
       "      <td>43.0</td>\n",
       "      <td>47.0</td>\n",
       "      <td>49.0</td>\n",
       "      <td>NaN</td>\n",
       "      <td>NaN</td>\n",
       "      <td>NaN</td>\n",
       "      <td>NaN</td>\n",
       "      <td>NaN</td>\n",
       "      <td>NaN</td>\n",
       "    </tr>\n",
       "  </tbody>\n",
       "</table>\n",
       "</div>"
      ],
      "text/plain": [
       "    periodo  estu_consecutivo  cole_cod_depto_ubicacion  \\\n",
       "5     20131  SB11201310074970                      11.0   \n",
       "6     20131  SB11201310021868                      11.0   \n",
       "19    20131  SB11201310066783                      11.0   \n",
       "25    20131  SB11201310038449                      11.0   \n",
       "26    20131  SB11201310038130                      11.0   \n",
       "\n",
       "    cole_cod_mcpio_ubicacion cole_depto_ubicacion  recaf_punt_c_naturales  \\\n",
       "5                      11001               BOGOTA                    41.0   \n",
       "6                      11001               BOGOTA                    46.0   \n",
       "19                     11001               BOGOTA                    43.0   \n",
       "25                     11001               BOGOTA                    50.0   \n",
       "26                     11001               BOGOTA                    34.0   \n",
       "\n",
       "    recaf_punt_ingles  recaf_punt_lectura_critica  recaf_punt_matematicas  \\\n",
       "5                46.0                        47.0                    49.0   \n",
       "6                40.0                        51.0                    53.0   \n",
       "19               58.0                        53.0                    43.0   \n",
       "25               40.0                        43.0                    40.0   \n",
       "26               45.0                        43.0                    47.0   \n",
       "\n",
       "    recaf_punt_sociales_ciudadanas  punt_c_naturales  punt_global  \\\n",
       "5                             45.0               NaN          NaN   \n",
       "6                             44.0               NaN          NaN   \n",
       "19                            49.0               NaN          NaN   \n",
       "25                            40.0               NaN          NaN   \n",
       "26                            49.0               NaN          NaN   \n",
       "\n",
       "    punt_ingles  punt_lectura_critica  punt_matematicas  \\\n",
       "5           NaN                   NaN               NaN   \n",
       "6           NaN                   NaN               NaN   \n",
       "19          NaN                   NaN               NaN   \n",
       "25          NaN                   NaN               NaN   \n",
       "26          NaN                   NaN               NaN   \n",
       "\n",
       "    punt_sociales_ciudadanas  \n",
       "5                        NaN  \n",
       "6                        NaN  \n",
       "19                       NaN  \n",
       "25                       NaN  \n",
       "26                       NaN  "
      ]
     },
     "execution_count": 5,
     "metadata": {},
     "output_type": "execute_result"
    }
   ],
   "source": [
    "del data_list\n",
    "sb11 = sb11[sb11[\"cole_cod_mcpio_ubicacion\"] == cod_mcpio_BOGOTA]\n",
    "sb11.head()"
   ]
  },
  {
   "cell_type": "code",
   "execution_count": 6,
   "id": "20af927b-b625-4c69-a083-a61c7342c7b1",
   "metadata": {},
   "outputs": [
    {
     "data": {
      "text/plain": [
       "periodo                                0\n",
       "estu_consecutivo                       0\n",
       "cole_cod_depto_ubicacion               0\n",
       "cole_cod_mcpio_ubicacion               0\n",
       "cole_depto_ubicacion                   0\n",
       "recaf_punt_c_naturales            981409\n",
       "recaf_punt_ingles                 981409\n",
       "recaf_punt_lectura_critica        981409\n",
       "recaf_punt_matematicas            981409\n",
       "recaf_punt_sociales_ciudadanas    981409\n",
       "punt_c_naturales                  200379\n",
       "punt_global                       200379\n",
       "punt_ingles                       203769\n",
       "punt_lectura_critica              200379\n",
       "punt_matematicas                  200379\n",
       "punt_sociales_ciudadanas          200379\n",
       "dtype: int64"
      ]
     },
     "execution_count": 6,
     "metadata": {},
     "output_type": "execute_result"
    }
   ],
   "source": [
    "sb11.isna().sum()"
   ]
  },
  {
   "cell_type": "code",
   "execution_count": 8,
   "id": "59d230d7-a8ee-45e9-b549-76efaecc684f",
   "metadata": {},
   "outputs": [
    {
     "data": {
      "text/plain": [
       "periodo\n",
       "20122    94059\n",
       "20131     7515\n",
       "20132    92559\n",
       "20141     6246\n",
       "20142    92808\n",
       "20151     6883\n",
       "20152    90645\n",
       "20161     5214\n",
       "20162    91138\n",
       "20171     4923\n",
       "20172    89514\n",
       "20181     4979\n",
       "20182    88514\n",
       "20191     5150\n",
       "20192    84293\n",
       "20201     3610\n",
       "20202    78367\n",
       "20211     3278\n",
       "20212    80333\n",
       "20221     4888\n",
       "20222    78181\n",
       "20231     4971\n",
       "20232    79596\n",
       "20241     4739\n",
       "20242    79385\n",
       "Name: estu_consecutivo, dtype: int64"
      ]
     },
     "execution_count": 8,
     "metadata": {},
     "output_type": "execute_result"
    }
   ],
   "source": [
    "sb11.groupby(\"periodo\").count().estu_consecutivo"
   ]
  },
  {
   "cell_type": "code",
   "execution_count": 17,
   "id": "c0e30e88-3137-4c66-8f1e-93e1e0ea16c6",
   "metadata": {},
   "outputs": [],
   "source": [
    "#Agregamos las columnas de las llaves al dataframe del saber 11 \n",
    "base_sb11 = pd.merge(\n",
    "    sb11,\n",
    "    llaves,\n",
    "    how = \"left\",\n",
    "    left_on = \"estu_consecutivo\",\n",
    "    right_on = \"estu_consecutivo_sb11\")\n",
    "\n",
    "del sb11\n",
    "del llaves"
   ]
  },
  {
   "cell_type": "code",
   "execution_count": 22,
   "id": "6c86de0b-033b-48c6-887b-feea2f4a9ab1",
   "metadata": {},
   "outputs": [],
   "source": [
    "base_sb11.sort_values(by = \"periodo\", inplace = True)\n",
    "base_sb11.set_index(\"estu_consecutivo\",inplace=True)"
   ]
  },
  {
   "cell_type": "code",
   "execution_count": 23,
   "id": "4eee7771-0c7f-4cbd-83ce-f776b75bf94b",
   "metadata": {},
   "outputs": [],
   "source": [
    "base_sb11.to_csv(\"../data/SABER11_cleaned/base_sb11.csv\")"
   ]
  },
  {
   "cell_type": "markdown",
   "id": "a1c313bc-1aba-4f04-9b57-020b200a020d",
   "metadata": {},
   "source": [
    "-----"
   ]
  },
  {
   "cell_type": "markdown",
   "id": "7a9f5cf4-756b-4fd5-bd9b-b6cd0d720445",
   "metadata": {},
   "source": [
    "SABER PRO"
   ]
  },
  {
   "cell_type": "code",
   "execution_count": 80,
   "id": "9c522484-59db-47c5-88ab-06505c72a7e6",
   "metadata": {},
   "outputs": [],
   "source": [
    "cod_mcpio_BOGOTA = 11001\n",
    "sbpro = pd.read_csv(\"../data/SABERPRO_cleaned/base_sbpro.csv\")\n",
    "sbpro = sbpro[sbpro[\"estu_cod_mcpio_presentacion\"] == cod_mcpio_BOGOTA]"
   ]
  },
  {
   "cell_type": "code",
   "execution_count": 49,
   "id": "0ac89b5e-2e95-4a81-b8ff-a593a99f4cd9",
   "metadata": {},
   "outputs": [
    {
     "data": {
      "text/plain": [
       "118444"
      ]
     },
     "execution_count": 49,
     "metadata": {},
     "output_type": "execute_result"
    }
   ],
   "source": [
    "sbpro.periodo.count()"
   ]
  },
  {
   "cell_type": "code",
   "execution_count": 50,
   "id": "9824db39-17d3-454e-81c1-858d20ae3093",
   "metadata": {},
   "outputs": [
    {
     "name": "stdout",
     "output_type": "stream",
     "text": [
      "Obs:\n",
      "118444\n",
      "Sampled duplicates:\n",
      "0\n",
      "unique:\n",
      "118444\n"
     ]
    }
   ],
   "source": [
    "num_duplicates = sbpro['estu_consecutivo'].duplicated().sum()\n",
    "num_obs = sbpro.periodo.count()\n",
    "print(\"Obs:\")\n",
    "print(num_obs)\n",
    "\n",
    "print(\"Sampled duplicates:\")\n",
    "print(num_duplicates)\n",
    "\n",
    "print(\"unique:\")\n",
    "print(num_obs-num_duplicates)\n",
    "\n"
   ]
  },
  {
   "cell_type": "markdown",
   "id": "6a143b38-8ab7-4b9a-bea3-5b16dc2a09d1",
   "metadata": {},
   "source": [
    "------"
   ]
  },
  {
   "cell_type": "markdown",
   "id": "fcfa2659-fc23-457c-8b0c-ea1cba395c48",
   "metadata": {},
   "source": [
    "MERGE SABER PRO con SABER 11"
   ]
  },
  {
   "cell_type": "code",
   "execution_count": 76,
   "id": "2ec87715-b22e-49b9-8721-498a1bb4cae1",
   "metadata": {},
   "outputs": [
    {
     "name": "stderr",
     "output_type": "stream",
     "text": [
      "/tmp/ipykernel_6351/1540535921.py:1: DtypeWarning: Columns (17,18) have mixed types. Specify dtype option on import or set low_memory=False.\n",
      "  sb11 = pd.read_csv(\"../data/SABER11_cleaned/base_sb11.csv\")\n"
     ]
    }
   ],
   "source": [
    "sb11 = pd.read_csv(\"../data/SABER11_cleaned/base_sb11.csv\")"
   ]
  },
  {
   "cell_type": "code",
   "execution_count": 77,
   "id": "b42f1bfa-59ae-4623-beec-673124238a3d",
   "metadata": {},
   "outputs": [],
   "source": [
    "sb11.drop(columns=\"Unnamed: 0\",axis=1,inplace=True)"
   ]
  },
  {
   "cell_type": "code",
   "execution_count": 84,
   "id": "90ae51f0-a86f-4add-87c0-a1f8d9386c0c",
   "metadata": {},
   "outputs": [],
   "source": [
    "num_duplicates = sb11['estu_consecutivo'].duplicated().sum()"
   ]
  },
  {
   "cell_type": "code",
   "execution_count": 88,
   "id": "3cb11692-aff6-40b8-a78b-23c0c55427b5",
   "metadata": {},
   "outputs": [],
   "source": [
    "data = pd.merge(sb11,sbpro, left_on = \"estu_consecutivo_sbpro\", right_on = \"estu_consecutivo\", suffixes= (\"_icfes\",\"_pro\"))"
   ]
  },
  {
   "cell_type": "code",
   "execution_count": 92,
   "id": "2494d772-856a-4167-b3e4-9e761fc5b823",
   "metadata": {},
   "outputs": [],
   "source": [
    "data[\"dif_periodo\"] = data[\"periodo_pro\"]- data[\"periodo_icfes\"]"
   ]
  },
  {
   "cell_type": "code",
   "execution_count": 96,
   "id": "41fb743c-d7e5-4646-954f-41bbb3a0377a",
   "metadata": {},
   "outputs": [
    {
     "data": {
      "text/html": [
       "<div>\n",
       "<style scoped>\n",
       "    .dataframe tbody tr th:only-of-type {\n",
       "        vertical-align: middle;\n",
       "    }\n",
       "\n",
       "    .dataframe tbody tr th {\n",
       "        vertical-align: top;\n",
       "    }\n",
       "\n",
       "    .dataframe thead th {\n",
       "        text-align: right;\n",
       "    }\n",
       "</style>\n",
       "<table border=\"1\" class=\"dataframe\">\n",
       "  <thead>\n",
       "    <tr style=\"text-align: right;\">\n",
       "      <th></th>\n",
       "      <th>periodo_pro</th>\n",
       "      <th>periodo_icfes</th>\n",
       "      <th>dif_periodo</th>\n",
       "    </tr>\n",
       "  </thead>\n",
       "  <tbody>\n",
       "    <tr>\n",
       "      <th>31950</th>\n",
       "      <td>20231</td>\n",
       "      <td>20212</td>\n",
       "      <td>19</td>\n",
       "    </tr>\n",
       "    <tr>\n",
       "      <th>31951</th>\n",
       "      <td>20231</td>\n",
       "      <td>20212</td>\n",
       "      <td>19</td>\n",
       "    </tr>\n",
       "    <tr>\n",
       "      <th>31952</th>\n",
       "      <td>20231</td>\n",
       "      <td>20212</td>\n",
       "      <td>19</td>\n",
       "    </tr>\n",
       "    <tr>\n",
       "      <th>31953</th>\n",
       "      <td>20231</td>\n",
       "      <td>20212</td>\n",
       "      <td>19</td>\n",
       "    </tr>\n",
       "    <tr>\n",
       "      <th>31954</th>\n",
       "      <td>20231</td>\n",
       "      <td>20212</td>\n",
       "      <td>19</td>\n",
       "    </tr>\n",
       "    <tr>\n",
       "      <th>31955</th>\n",
       "      <td>20231</td>\n",
       "      <td>20212</td>\n",
       "      <td>19</td>\n",
       "    </tr>\n",
       "  </tbody>\n",
       "</table>\n",
       "</div>"
      ],
      "text/plain": [
       "       periodo_pro  periodo_icfes  dif_periodo\n",
       "31950        20231          20212           19\n",
       "31951        20231          20212           19\n",
       "31952        20231          20212           19\n",
       "31953        20231          20212           19\n",
       "31954        20231          20212           19\n",
       "31955        20231          20212           19"
      ]
     },
     "execution_count": 96,
     "metadata": {},
     "output_type": "execute_result"
    }
   ],
   "source": [
    "data[data[\"dif_periodo\"]==19][['periodo_pro',\"periodo_icfes\",\"dif_periodo\"]]"
   ]
  },
  {
   "cell_type": "code",
   "execution_count": 100,
   "id": "8e218275-9edd-4443-ace1-94641aa4bd23",
   "metadata": {},
   "outputs": [],
   "source": [
    "data.to_csv(\"../data/BD/bd.csv\")"
   ]
  }
 ],
 "metadata": {
  "kernelspec": {
   "display_name": "mainenv",
   "language": "python",
   "name": "python3"
  },
  "language_info": {
   "codemirror_mode": {
    "name": "ipython",
    "version": 3
   },
   "file_extension": ".py",
   "mimetype": "text/x-python",
   "name": "python",
   "nbconvert_exporter": "python",
   "pygments_lexer": "ipython3",
   "version": "3.10.12"
  }
 },
 "nbformat": 4,
 "nbformat_minor": 5
}
