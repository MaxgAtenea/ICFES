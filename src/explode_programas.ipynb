{
 "cells": [
  {
   "cell_type": "code",
   "execution_count": 10,
   "id": "b2864eb6",
   "metadata": {},
   "outputs": [
    {
     "name": "stdout",
     "output_type": "stream",
     "text": [
      "Archivo guardado en: ../data/Resultados_VA/cine_especifico/bogota_region/va_cine_especifico_x_programas_2021-2023_run18072025.xlsx\n"
     ]
    }
   ],
   "source": [
    "import pandas as pd\n",
    "import os\n",
    "\n",
    "# Rutas de los archivos de entrada\n",
    "archivos = [\n",
    "    \"../data/Resultados_VA/cine_especifico/bogota_region/va_cine_especifico_2021_2022_nacionales_run18072025.xlsx\",\n",
    "    \"../data/Resultados_VA/cine_especifico/bogota_region/va_cine_especifico_2022_2023_nacionales_run18072025.xlsx\"\n",
    "]\n",
    "\n",
    "# Carpeta de salida y nombre del archivo final\n",
    "carpeta_salida = \"../data/Resultados_VA/cine_especifico/bogota_region/\"\n",
    "os.makedirs(carpeta_salida, exist_ok=True)\n",
    "archivo_salida = os.path.join(carpeta_salida, \"va_cine_especifico_x_programas_2021-2023_run18072025.xlsx\")\n",
    "\n",
    "# Leer y procesar ambos archivos\n",
    "dfs = []\n",
    "for archivo in archivos:\n",
    "    df = pd.read_excel(archivo)\n",
    "    df['snies_programas'] = df['snies_programas'].astype(str).str.replace(' ', '')\n",
    "    df_exploded = df.assign(snies_programas=df['snies_programas'].str.split(';')).explode('snies_programas')\n",
    "    df_exploded['snies_programas'] = df_exploded['snies_programas'].astype(int)\n",
    "    dfs.append(df_exploded)\n",
    "\n",
    "# Concatenar ambos DataFrames\n",
    "df_concat = pd.concat(dfs, ignore_index=True)\n",
    "\n",
    "# Crear tabla de presencia por periodo\n",
    "presencia = df_concat.groupby(['snies_programas', 'periodo']).size().unstack(fill_value=0)\n",
    "\n",
    "# Columna indicando si está en ambos periodos\n",
    "presencia['en_ambos_periodos'] = (presencia > 0).sum(axis=1) == 2\n",
    "\n",
    "# Unir esta información al DataFrame concatenado\n",
    "df_final = df_concat.merge(\n",
    "    presencia['en_ambos_periodos'].reset_index(),\n",
    "    on='snies_programas',\n",
    "    how='left'\n",
    ")\n",
    "\n",
    "# Guardar el resultado\n",
    "df_final.to_excel(archivo_salida, index=False)\n",
    "print(f\"Archivo guardado en: {archivo_salida}\")"
   ]
  },
  {
   "cell_type": "code",
   "execution_count": null,
   "id": "54d77128",
   "metadata": {},
   "outputs": [],
   "source": []
  }
 ],
 "metadata": {
  "kernelspec": {
   "display_name": "Python 3",
   "language": "python",
   "name": "python3"
  },
  "language_info": {
   "codemirror_mode": {
    "name": "ipython",
    "version": 3
   },
   "file_extension": ".py",
   "mimetype": "text/x-python",
   "name": "python",
   "nbconvert_exporter": "python",
   "pygments_lexer": "ipython3",
   "version": "3.11.7"
  }
 },
 "nbformat": 4,
 "nbformat_minor": 5
}
