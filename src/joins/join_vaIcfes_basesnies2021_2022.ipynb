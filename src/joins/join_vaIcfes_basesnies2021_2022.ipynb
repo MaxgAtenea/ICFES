{
 "cells": [
  {
   "cell_type": "code",
   "execution_count": 196,
   "id": "78be1a95-5e77-40c0-8567-927e7d38d941",
   "metadata": {},
   "outputs": [],
   "source": [
    "import pandas as pd\n",
    "from fuzzywuzzy import process"
   ]
  },
  {
   "cell_type": "markdown",
   "id": "4fc686d5-d259-44bb-8b23-81fde3ddfc99",
   "metadata": {},
   "source": [
    "Este notebook es para pegarle la informacion del snies a los resultados del valor agregado enviados por el icfes. El objetivo es armar el identificador icine, con el fin de comparar los resultados del icfes 2021-2022, con los resultados propios 2022-2023. El resultado se le envió a Julian el 16 de julio para la presentación con victor el 17 de julio. "
   ]
  },
  {
   "cell_type": "markdown",
   "id": "a4ae42dd-101d-4226-a36e-49dad6fef645",
   "metadata": {},
   "source": [
    "Esto lo haremos:\n",
    "\n",
    "1. pegandole la llave de la bace cine a la base del icves,módulo diferencias de sintaxis\n",
    "2. Una vez la base del icfes tiene la llave del cine, pegarle la info del cine.\n",
    "3. construir la columna icine (icine especifico)"
   ]
  },
  {
   "cell_type": "markdown",
   "id": "2ff2d0c3",
   "metadata": {},
   "source": []
  },
  {
   "cell_type": "code",
   "execution_count": 197,
   "id": "d52152d8-83aa-485a-a687-8bd74f42b765",
   "metadata": {},
   "outputs": [],
   "source": [
    "cols_base_cine = [\n",
    "    'codigo_institucion',\n",
    "    'codigo_institucion_padre',\n",
    "    'nombre_institucion',\n",
    "    'estado_institucion',\n",
    "    'caracter_academico',\n",
    "    'codigo_snies_del_programa',\n",
    "    'nombre_del_programa',\n",
    "    'estado_programa',\n",
    "    'cine_f_2013_ac_campo_especific',\n",
    "    'nucleo_basico_del_conocimiento',\n",
    "    'nivel_academico',\n",
    "    'municipio_oferta_programa',\n",
    "    'id_cine_campo_especifico',\n",
    "    'codigo_del_municipio_programa',\n",
    "    'codigo_de_la_institucion',\n",
    "    'institucion_de_educacion_superior_ies',\n",
    "    'ies_acreditada',\n",
    "    'caracter_ies',\n",
    "    'municipio_oferta_programa'\n",
    "]"
   ]
  },
  {
   "cell_type": "code",
   "execution_count": 198,
   "id": "9596ed3c-4509-470f-a552-d97adab7bdca",
   "metadata": {},
   "outputs": [],
   "source": [
    "cols_icfes = [\n",
    "    'inst_cod_institucion', \n",
    "    'NBC2',\n",
    "    'INBC',\n",
    "    'va_lectura_critica',\n",
    "    'va_razona_cuantitat',\n",
    "]"
   ]
  },
  {
   "cell_type": "code",
   "execution_count": 199,
   "id": "c90b5c27-a3cf-4b43-a633-21a1fe9dfb58",
   "metadata": {},
   "outputs": [],
   "source": [
    "cine_nbc_programas_file = \"base_cine_programas_vigencia_2025_18072025.xlsx\"\n",
    "#cine_nbc_programas_file = \"base_cine_programas_vigencia_2022_2023_15072025.xlsx\"\n",
    "cine_nbc_programas_path = \"../../data/SNIES_CINE_cleaned/\"\n",
    "\n",
    "va_icfes_path = \"../../data/Resultados_ICFES_VA/\"\n",
    "va_icfes_file = \"VA_INBCs_Bogota.xlsx\""
   ]
  },
  {
   "cell_type": "code",
   "execution_count": 200,
   "id": "59be4718-be0c-46a3-89b6-26f6cc29e540",
   "metadata": {},
   "outputs": [],
   "source": [
    "va_icfes = pd.read_excel(va_icfes_path + va_icfes_file, usecols = cols_icfes)\n",
    "cine_nbc_programas = pd.read_excel(cine_nbc_programas_path + cine_nbc_programas_file, usecols = cols_base_cine)\n",
    "\n",
    "# Elimina duplicados según 'codigo_snies_del_programa', dejando solo la primera aparición\n",
    "cine_nbc_programas = cine_nbc_programas.drop_duplicates(subset=\"codigo_snies_del_programa\", keep=\"first\")\n",
    "cine_nbc_programas = cine_nbc_programas.drop_duplicates(subset=[\"codigo_institucion\",\"nucleo_basico_del_conocimiento\"], keep=\"first\")\n",
    "\n",
    "cine_nbc_programas['periodo'] = '2021-2022'\n",
    "\n",
    "cine_nbc_programas['nucleo_basico_del_conocimiento_mayus'] = (\n",
    "    cine_nbc_programas['nucleo_basico_del_conocimiento'].str.upper()\n",
    ")\n"
   ]
  },
  {
   "cell_type": "code",
   "execution_count": 201,
   "id": "ceae2702-22aa-4053-8463-5d2fcff61f49",
   "metadata": {},
   "outputs": [
    {
     "name": "stdout",
     "output_type": "stream",
     "text": [
      "56\n",
      "48\n"
     ]
    }
   ],
   "source": [
    "print(len(cine_nbc_programas['nucleo_basico_del_conocimiento_mayus'].sort_values().unique()))\n",
    "print(len(va_icfes[\"NBC2\"].sort_values().unique()))"
   ]
  },
  {
   "cell_type": "code",
   "execution_count": 202,
   "id": "53aec641-c093-48a3-a93a-e4dc651031c4",
   "metadata": {},
   "outputs": [],
   "source": [
    "# Listas únicas\n",
    "nbc_1 = cine_nbc_programas['nucleo_basico_del_conocimiento_mayus'].dropna().unique()\n",
    "nbc_2 = va_icfes[\"NBC2\"].dropna().unique()\n",
    "\n",
    "# Empatar cada item de nbc_2 con el más similar en nbc_1\n",
    "matches = []\n",
    "for item in nbc_2:\n",
    "    match, score = process.extractOne(item, nbc_1)\n",
    "    matches.append((item, match, score))\n",
    "\n",
    "# Convertir a DataFrame para ver el resultado\n",
    "fuzzy_matches = pd.DataFrame(matches, columns=[\"NBC2\", \"NBC_cine\", \"similarity_score\"])\n",
    "\n",
    "# Filtrar los que tengan score alto (>90 por ejemplo)\n",
    "fuzzy_matches_high = fuzzy_matches[fuzzy_matches[\"similarity_score\"] >= 90]\n",
    "\n",
    "# Quedarse solo con la mejor coincidencia por cada NBC2\n",
    "fuzzy_matches_high_unique = fuzzy_matches_high.sort_values('similarity_score', ascending=False).drop_duplicates('NBC2')\n",
    "\n",
    "# Unir la información de los matches a la base ICFES\n",
    "va_icfes_merged = va_icfes.merge(\n",
    "    fuzzy_matches_high_unique[[\"NBC2\", \"NBC_cine\"]],\n",
    "    on=\"NBC2\",\n",
    "    how=\"inner\"\n",
    ")\n"
   ]
  },
  {
   "cell_type": "markdown",
   "id": "1149899a",
   "metadata": {},
   "source": [
    "\n",
    "Ahora va_icfes_merged tiene la informacion original mas la columna que permtira pegar con la base del sines"
   ]
  },
  {
   "cell_type": "markdown",
   "id": "15500456-0ec0-484a-884f-57b32a6471dd",
   "metadata": {},
   "source": [
    "Mirar cuales nbc quedaron por fuera"
   ]
  },
  {
   "cell_type": "code",
   "execution_count": 203,
   "id": "65646541-5335-4291-9ab5-0795ea01a495",
   "metadata": {},
   "outputs": [
    {
     "name": "stdout",
     "output_type": "stream",
     "text": [
      "¿Todos los valores de NBC2 están en fuzzy_matches_high? True\n",
      "Valores de NBC2 que no fueron emparejados:\n"
     ]
    }
   ],
   "source": [
    "#✅ Paso 1: Asegúrate de eliminar NaN y duplicados\n",
    "nbc2_unique = va_icfes[\"NBC2\"].dropna().unique()\n",
    "matched_nbc2 = fuzzy_matches_high[\"NBC2\"].dropna().unique()  # Cambiado a \"NBC2\"\n",
    "\n",
    "#✅ Paso 2: Verifica si todos están presentes\n",
    "all_matched = set(nbc2_unique).issubset(set(matched_nbc2))\n",
    "print(\"¿Todos los valores de NBC2 están en fuzzy_matches_high?\", all_matched)\n",
    "\n",
    "# Paso 3 (opcional): Ver qué valores faltan\n",
    "missing_nbc2 = set(nbc2_unique) - set(matched_nbc2)\n",
    "print(\"Valores de NBC2 que no fueron emparejados:\")\n",
    "for val in sorted(missing_nbc2):\n",
    "    print(\"-\", val)"
   ]
  },
  {
   "cell_type": "markdown",
   "id": "ca3ade1b-b9e7-4485-9301-fadc712314cf",
   "metadata": {},
   "source": [
    "Enriquecemos el dataframe del icfes con la información del snies"
   ]
  },
  {
   "cell_type": "code",
   "execution_count": 245,
   "id": "a4f18573-629d-44d5-a3ff-e91722ba34d6",
   "metadata": {},
   "outputs": [],
   "source": [
    "va_icfes_enriquecido = va_icfes_merged.merge(\n",
    "    cine_nbc_programas,\n",
    "    left_on=[\"inst_cod_institucion\",\"NBC_cine\"],\n",
    "    right_on=[\"codigo_institucion\",\"nucleo_basico_del_conocimiento_mayus\"],\n",
    "    indicator=True,\n",
    "    how = \"left\"\n",
    ")\n",
    "\n",
    "va_icfes_enriquecido[\"icine_especifico\"] = (\n",
    "    va_icfes_enriquecido[\"inst_cod_institucion\"].astype(str) + \"_\" +\n",
    "    va_icfes_enriquecido[\"cine_f_2013_ac_campo_especific\"].astype(str)\n",
    ")\n",
    "\n",
    "va_icfes_enriquecido['periodo'] = \"2021-2022\"\n",
    "va_icfes_enriquecido.codigo_snies_del_programa = va_icfes_enriquecido.codigo_snies_del_programa.astype(\"Int64\")\n",
    "\n",
    "#va_icfes_enriquecido = va_icfes_enriquecido.drop_duplicates(subset=[\"inst_cod_institucion\", \"NBC_cine\"], keep=\"first\")"
   ]
  },
  {
   "cell_type": "code",
   "execution_count": 246,
   "id": "a5f69291",
   "metadata": {},
   "outputs": [
    {
     "name": "stdout",
     "output_type": "stream",
     "text": [
      "Número de filas con _merge == 'both': 440\n"
     ]
    }
   ],
   "source": [
    "# Contar cuántas filas tienen _merge == \"both\"\n",
    "num_both = (va_icfes_enriquecido[\"_merge\"] == \"both\").sum()\n",
    "print(f\"Número de filas con _merge == 'both': {num_both}\")"
   ]
  },
  {
   "cell_type": "code",
   "execution_count": 247,
   "id": "3010656b-20a1-4a8b-a377-b5138012247b",
   "metadata": {},
   "outputs": [],
   "source": [
    "va_icfes_enriquecido = va_icfes_enriquecido.rename(columns={\n",
    "    'icine_especifico': 'icine',\n",
    "    'nombre_del_programa': 'nombres_programas',\n",
    "    'codigo_snies_del_programa': 'snies_programas',\n",
    "    'va_lectura_critica': 'coeficiente_LC',\n",
    "    'va_razona_cuantitat': 'coeficiente_RC'\n",
    "})\n",
    "\n",
    "campos_exportar = [\n",
    "    'icine',\n",
    "    'codigo_institucion',\n",
    "    'snies_programas',\n",
    "    'nombres_programas',\n",
    "    'nombre_institucion',\n",
    "    'municipio_oferta_programa',\n",
    "    'coeficiente_LC',\n",
    "    'coeficiente_RC',\n",
    "    \"periodo\",\n",
    "    \"_merge\"\n",
    "]\n",
    "\n",
    "\n",
    "va_icfes_enriquecido = va_icfes_enriquecido[campos_exportar]\n",
    "\n",
    "\n",
    "va_icfes_enriquecido.reset_index(drop=True).to_excel(\"../../data/Resultados_ICFES_VA/VA_INBCS_ICINE_BOGOTA.xlsx\",index=False)\n",
    "\n",
    "#va_icfes_enriquecido[campos_exportar].reset_index(drop=True).to_excel(\"../../data/Resultados_ICFES_VA/VA_INBCS_ICINE_BOGOTA_2022_2023.xlsx\",index=False)"
   ]
  },
  {
   "cell_type": "code",
   "execution_count": 248,
   "id": "b7090c55",
   "metadata": {},
   "outputs": [
    {
     "data": {
      "text/plain": [
       "(458, 10)"
      ]
     },
     "execution_count": 248,
     "metadata": {},
     "output_type": "execute_result"
    }
   ],
   "source": [
    "va_icfes_enriquecido.shape"
   ]
  },
  {
   "cell_type": "markdown",
   "id": "6b058ac9-7a11-4e76-b888-7dfe3559a823",
   "metadata": {},
   "source": [
    "mirar cuantos programas aperecerían tendrían más de 2 icines"
   ]
  },
  {
   "cell_type": "markdown",
   "id": "4f201f3d",
   "metadata": {},
   "source": [
    "Ahora concatenamos los resultados propios con los del snies"
   ]
  },
  {
   "cell_type": "code",
   "execution_count": 300,
   "id": "fdc8250f",
   "metadata": {},
   "outputs": [],
   "source": [
    "\n",
    "va_icfes_path = \"../../data/Resultados_ICFES_VA/\"\n",
    "va_icfes_file = \"VA_INBCS_ICINE_Bogota.xlsx\"\n",
    "\n",
    "va_atenea_path = \"../../data/Resultados_VA/cine_especifico/bogota_region/\"\n",
    "va_atenea_file = \"va_cine_especifico_2021_2022_nacionales_run18072025.xlsx\""
   ]
  },
  {
   "cell_type": "code",
   "execution_count": 301,
   "id": "02c55d1b",
   "metadata": {},
   "outputs": [
    {
     "data": {
      "text/plain": [
       "Index(['icine', 'codigo_institucion', 'snies_programas', 'nombres_programas',\n",
       "       'nombre_institucion', 'municipio_oferta_programa', 'coeficiente_LC',\n",
       "       'coeficiente_RC', 'periodo', '_merge'],\n",
       "      dtype='object')"
      ]
     },
     "execution_count": 301,
     "metadata": {},
     "output_type": "execute_result"
    }
   ],
   "source": [
    "va_icfes_enriquecido.columns"
   ]
  },
  {
   "cell_type": "code",
   "execution_count": null,
   "id": "2db43851",
   "metadata": {},
   "outputs": [],
   "source": [
    "# Leer los archivos\n",
    "va_icfes = pd.read_excel(va_icfes_path + va_icfes_file)\n",
    "va_atenea = pd.read_excel(va_atenea_path + va_atenea_file)\n",
    "\n",
    "# Agregar columna de origen\n",
    "va_icfes['origen'] = 'icfes'\n",
    "va_atenea['origen'] = 'atenea'\n",
    "\n",
    "# Asegurarse de que va_atenea tenga la columna _merge\n",
    "if '_merge' not in va_atenea.columns:\n",
    "    va_atenea['_merge'] = 'no_tener_en_cuenta_este_valor'\n",
    "\n",
    "# Igualar columnas y orden (opcional, pero recomendable)\n",
    "columnas_interes = va_icfes.columns\n",
    "va_atenea = va_atenea[columnas_interes]\n",
    "\n",
    "# Concatenar ambos DataFrames\n",
    "df_concatenado = pd.concat([va_icfes, va_atenea], ignore_index=True)\n",
    "\n",
    "# Identificar los icine que están en ambas bases\n",
    "conteo_icine = df_concatenado.groupby('icine')['origen'].nunique()\n",
    "icine_en_ambas = conteo_icine[conteo_icine == 2].index\n",
    "df_concatenado['icine_en_ambas'] = df_concatenado['icine'].isin(icine_en_ambas)"
   ]
  },
  {
   "cell_type": "code",
   "execution_count": 308,
   "id": "880968ca",
   "metadata": {},
   "outputs": [
    {
     "data": {
      "text/html": [
       "<div>\n",
       "<style scoped>\n",
       "    .dataframe tbody tr th:only-of-type {\n",
       "        vertical-align: middle;\n",
       "    }\n",
       "\n",
       "    .dataframe tbody tr th {\n",
       "        vertical-align: top;\n",
       "    }\n",
       "\n",
       "    .dataframe thead th {\n",
       "        text-align: right;\n",
       "    }\n",
       "</style>\n",
       "<table border=\"1\" class=\"dataframe\">\n",
       "  <thead>\n",
       "    <tr style=\"text-align: right;\">\n",
       "      <th></th>\n",
       "      <th>icine</th>\n",
       "      <th>codigo_institucion</th>\n",
       "      <th>snies_programas</th>\n",
       "      <th>nombres_programas</th>\n",
       "      <th>nombre_institucion</th>\n",
       "      <th>municipio_oferta_programa</th>\n",
       "      <th>coeficiente_LC</th>\n",
       "      <th>coeficiente_RC</th>\n",
       "      <th>periodo</th>\n",
       "      <th>_merge</th>\n",
       "      <th>origen</th>\n",
       "      <th>icine_en_ambas</th>\n",
       "      <th>programa_en_ambas</th>\n",
       "    </tr>\n",
       "  </thead>\n",
       "  <tbody>\n",
       "    <tr>\n",
       "      <th>0</th>\n",
       "      <td>1101_Arquitectura y construcción</td>\n",
       "      <td>1101.0</td>\n",
       "      <td>30.0</td>\n",
       "      <td>Arquitectura</td>\n",
       "      <td>Universidad Nacional De Colombia</td>\n",
       "      <td>bogota_dc</td>\n",
       "      <td>7.618661</td>\n",
       "      <td>5.031926</td>\n",
       "      <td>2021-2022</td>\n",
       "      <td>both</td>\n",
       "      <td>icfes</td>\n",
       "      <td>True</td>\n",
       "      <td>False</td>\n",
       "    </tr>\n",
       "    <tr>\n",
       "      <th>1</th>\n",
       "      <td>1101_Salud</td>\n",
       "      <td>1101.0</td>\n",
       "      <td>9.0</td>\n",
       "      <td>Medicina</td>\n",
       "      <td>Universidad Nacional De Colombia</td>\n",
       "      <td>bogota_dc</td>\n",
       "      <td>8.087526</td>\n",
       "      <td>11.509295</td>\n",
       "      <td>2021-2022</td>\n",
       "      <td>both</td>\n",
       "      <td>icfes</td>\n",
       "      <td>True</td>\n",
       "      <td>False</td>\n",
       "    </tr>\n",
       "    <tr>\n",
       "      <th>2</th>\n",
       "      <td>1101_Ingeniería y profesiones afines</td>\n",
       "      <td>1101.0</td>\n",
       "      <td>29.0</td>\n",
       "      <td>Ingenieria Quimica</td>\n",
       "      <td>Universidad Nacional De Colombia</td>\n",
       "      <td>bogota_dc</td>\n",
       "      <td>3.061149</td>\n",
       "      <td>8.302320</td>\n",
       "      <td>2021-2022</td>\n",
       "      <td>both</td>\n",
       "      <td>icfes</td>\n",
       "      <td>True</td>\n",
       "      <td>False</td>\n",
       "    </tr>\n",
       "    <tr>\n",
       "      <th>3</th>\n",
       "      <td>1101_Artes</td>\n",
       "      <td>1101.0</td>\n",
       "      <td>5.0</td>\n",
       "      <td>Diseno Industrial</td>\n",
       "      <td>Universidad Nacional De Colombia</td>\n",
       "      <td>bogota_dc</td>\n",
       "      <td>2.000692</td>\n",
       "      <td>4.361184</td>\n",
       "      <td>2021-2022</td>\n",
       "      <td>both</td>\n",
       "      <td>icfes</td>\n",
       "      <td>True</td>\n",
       "      <td>False</td>\n",
       "    </tr>\n",
       "    <tr>\n",
       "      <th>4</th>\n",
       "      <td>1101_Humanidades (Excepto idiomas)</td>\n",
       "      <td>1101.0</td>\n",
       "      <td>13.0</td>\n",
       "      <td>Antropologia</td>\n",
       "      <td>Universidad Nacional De Colombia</td>\n",
       "      <td>bogota_dc</td>\n",
       "      <td>3.803282</td>\n",
       "      <td>2.057371</td>\n",
       "      <td>2021-2022</td>\n",
       "      <td>both</td>\n",
       "      <td>icfes</td>\n",
       "      <td>True</td>\n",
       "      <td>False</td>\n",
       "    </tr>\n",
       "  </tbody>\n",
       "</table>\n",
       "</div>"
      ],
      "text/plain": [
       "                                  icine  codigo_institucion snies_programas  \\\n",
       "0      1101_Arquitectura y construcción              1101.0            30.0   \n",
       "1                            1101_Salud              1101.0             9.0   \n",
       "2  1101_Ingeniería y profesiones afines              1101.0            29.0   \n",
       "3                            1101_Artes              1101.0             5.0   \n",
       "4    1101_Humanidades (Excepto idiomas)              1101.0            13.0   \n",
       "\n",
       "    nombres_programas                nombre_institucion  \\\n",
       "0        Arquitectura  Universidad Nacional De Colombia   \n",
       "1            Medicina  Universidad Nacional De Colombia   \n",
       "2  Ingenieria Quimica  Universidad Nacional De Colombia   \n",
       "3   Diseno Industrial  Universidad Nacional De Colombia   \n",
       "4        Antropologia  Universidad Nacional De Colombia   \n",
       "\n",
       "  municipio_oferta_programa  coeficiente_LC  coeficiente_RC    periodo _merge  \\\n",
       "0                 bogota_dc        7.618661        5.031926  2021-2022   both   \n",
       "1                 bogota_dc        8.087526       11.509295  2021-2022   both   \n",
       "2                 bogota_dc        3.061149        8.302320  2021-2022   both   \n",
       "3                 bogota_dc        2.000692        4.361184  2021-2022   both   \n",
       "4                 bogota_dc        3.803282        2.057371  2021-2022   both   \n",
       "\n",
       "  origen  icine_en_ambas  programa_en_ambas  \n",
       "0  icfes            True              False  \n",
       "1  icfes            True              False  \n",
       "2  icfes            True              False  \n",
       "3  icfes            True              False  \n",
       "4  icfes            True              False  "
      ]
     },
     "execution_count": 308,
     "metadata": {},
     "output_type": "execute_result"
    }
   ],
   "source": [
    "df_concatenado.head()"
   ]
  },
  {
   "cell_type": "code",
   "execution_count": 310,
   "id": "30ee0f60",
   "metadata": {},
   "outputs": [],
   "source": [
    "df_concatenado.to_excel(r'../../data/Resultados_ICFES_VA/va_atenea_icfes_2021_2022_info_snies_2021-2022.xlsx', index=False)"
   ]
  },
  {
   "cell_type": "markdown",
   "id": "4696f076",
   "metadata": {},
   "source": [
    "Comparar con cual informacion del snies es mejor hacer el ejercicio\n",
    "- Si con snies 2021-2022\n",
    "- Si con snies 2025"
   ]
  },
  {
   "cell_type": "code",
   "execution_count": 314,
   "id": "bd44a4fc",
   "metadata": {},
   "outputs": [],
   "source": [
    "import pandas as pd\n",
    "\n",
    "va_icfes_path = \"../../data/Resultados_ICFES_VA/\"\n",
    "va_icfes_file_pasado = \"va_atenea_icfes_2021_2022_info_snies_2021-2022.xlsx\"\n",
    "va_icfes_file_presente = \"va_atenea_icfes_2021_2022_info_snies_2025.xlsx\"\n",
    "\n",
    "# Leer los archivos\n",
    "df_pasado = pd.read_excel(va_icfes_path + va_icfes_file_pasado)\n",
    "df_presente = pd.read_excel(va_icfes_path + va_icfes_file_presente)"
   ]
  },
  {
   "cell_type": "code",
   "execution_count": 316,
   "id": "cd965f3f",
   "metadata": {},
   "outputs": [
    {
     "name": "stdout",
     "output_type": "stream",
     "text": [
      "ICINES cuando la info es del snies 2021-2022:\n",
      "   solo_icfes  solo_atenea  en_ambos\n",
      "0         105          489       175\n",
      "\n",
      "ICINES cuando la info es del snies 2025:\n",
      "   solo_icfes  solo_atenea  en_ambos\n",
      "0          52          714       228\n"
     ]
    }
   ],
   "source": [
    "import pandas as pd\n",
    "\n",
    "def resumen_icines(df):\n",
    "    icine_icfes = set(df.loc[df['origen'] == 'icfes', 'icine'].unique())\n",
    "    icine_atenea = set(df.loc[df['origen'] == 'atenea', 'icine'].unique())\n",
    "    solo_icfes = icine_icfes - icine_atenea\n",
    "    solo_atenea = icine_atenea - icine_icfes\n",
    "    en_ambos = icine_icfes & icine_atenea\n",
    "    return pd.DataFrame([{\n",
    "        'solo_icfes': len(solo_icfes),\n",
    "        'solo_atenea': len(solo_atenea),\n",
    "        'en_ambos': len(en_ambos)\n",
    "    }])\n",
    "\n",
    "# Tabla para df_pasado\n",
    "tabla_pasado = resumen_icines(df_pasado)\n",
    "print(\"ICINES cuando la info es del snies 2021-2022:\")\n",
    "print(tabla_pasado)\n",
    "\n",
    "# Tabla para df_presente\n",
    "tabla_presente = resumen_icines(df_presente)\n",
    "print(\"\\nICINES cuando la info es del snies 2025:\")\n",
    "print(tabla_presente)"
   ]
  },
  {
   "cell_type": "code",
   "execution_count": null,
   "id": "c952d8e3",
   "metadata": {},
   "outputs": [],
   "source": []
  }
 ],
 "metadata": {
  "kernelspec": {
   "display_name": "Python 3",
   "language": "python",
   "name": "python3"
  },
  "language_info": {
   "codemirror_mode": {
    "name": "ipython",
    "version": 3
   },
   "file_extension": ".py",
   "mimetype": "text/x-python",
   "name": "python",
   "nbconvert_exporter": "python",
   "pygments_lexer": "ipython3",
   "version": "3.11.7"
  }
 },
 "nbformat": 4,
 "nbformat_minor": 5
}
