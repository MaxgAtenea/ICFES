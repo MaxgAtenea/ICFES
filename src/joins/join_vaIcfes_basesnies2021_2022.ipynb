{
 "cells": [
  {
   "cell_type": "code",
   "execution_count": 2,
   "id": "78be1a95-5e77-40c0-8567-927e7d38d941",
   "metadata": {},
   "outputs": [],
   "source": [
    "import pandas as pd\n",
    "from fuzzywuzzy import process"
   ]
  },
  {
   "cell_type": "markdown",
   "id": "4fc686d5-d259-44bb-8b23-81fde3ddfc99",
   "metadata": {},
   "source": [
    "Este notebook es para pegarle la informacion del snies a los resultados del valor agregado enviados por el icfes. El objetivo es armar el identificador icine, con el fin de comparar los resultados del icfes 2021-2022, con los resultados propios 2022-2023. El resultado se le envió a Julian el 16 de julio para la presentación con victor el 17 de julio. "
   ]
  },
  {
   "cell_type": "markdown",
   "id": "a4ae42dd-101d-4226-a36e-49dad6fef645",
   "metadata": {},
   "source": [
    "Esto lo haremos:\n",
    "\n",
    "1. pegandole la llave de la bace cine a la base del icves,módulo diferencias de sintaxis\n",
    "2. Una vez la base del icfes tiene la llave del cine, pegarle la info del cine.\n",
    "3. construir la columna icine (icine especifico)"
   ]
  },
  {
   "cell_type": "code",
   "execution_count": 3,
   "id": "d52152d8-83aa-485a-a687-8bd74f42b765",
   "metadata": {},
   "outputs": [],
   "source": [
    "cols_base_cine = [\n",
    "    'codigo_institucion',\n",
    "    'codigo_institucion_padre',\n",
    "    'nombre_institucion',\n",
    "    'estado_institucion',\n",
    "    'caracter_academico',\n",
    "    'codigo_snies_del_programa',\n",
    "    'nombre_del_programa',\n",
    "    'estado_programa',\n",
    "    'cine_f_2013_ac_campo_especific',\n",
    "    'nucleo_basico_del_conocimiento',\n",
    "    'nivel_academico',\n",
    "    'municipio_oferta_programa',\n",
    "    'id_cine_campo_especifico',\n",
    "    'codigo_del_municipio_programa',\n",
    "    'codigo_de_la_institucion',\n",
    "    'institucion_de_educacion_superior_ies',\n",
    "    'ies_acreditada',\n",
    "    'caracter_ies',\n",
    "    'municipio'\n",
    "]"
   ]
  },
  {
   "cell_type": "code",
   "execution_count": 4,
   "id": "9596ed3c-4509-470f-a552-d97adab7bdca",
   "metadata": {},
   "outputs": [],
   "source": [
    "cols_icfes = [\n",
    "    'inst_cod_institucion', \n",
    "    'NBC2',\n",
    "    'INBC',\n",
    "    'va_lectura_critica',\n",
    "    'va_razona_cuantitat',\n",
    "]"
   ]
  },
  {
   "cell_type": "code",
   "execution_count": 5,
   "id": "c90b5c27-a3cf-4b43-a633-21a1fe9dfb58",
   "metadata": {},
   "outputs": [],
   "source": [
    "cine_nbc_programas_file = \"base_cine_bogota_programas_vigencia_2021_2022_15072025.xlsx\"\n",
    "cine_nbc_programas_path = \"../../data/SNIES_CINE_cleaned/\"\n",
    "\n",
    "va_icfes_path = \"../../data/Resultados_ICFES_VA/\"\n",
    "va_icfes_file = \"VA_INBCs_Bogota.xlsx\""
   ]
  },
  {
   "cell_type": "code",
   "execution_count": 6,
   "id": "59be4718-be0c-46a3-89b6-26f6cc29e540",
   "metadata": {},
   "outputs": [],
   "source": [
    "cine_nbc_programas = pd.read_excel(cine_nbc_programas_path + cine_nbc_programas_file, usecols = cols_base_cine)\n",
    "va_icfes = pd.read_excel(va_icfes_path + va_icfes_file, usecols = cols_icfes)"
   ]
  },
  {
   "cell_type": "code",
   "execution_count": 7,
   "id": "403f33e8-389b-46cf-8c88-cbf8a047428c",
   "metadata": {},
   "outputs": [],
   "source": [
    "cine_nbc_programas['nucleo_basico_del_conocimiento_mayus'] = (\n",
    "    cine_nbc_programas['nucleo_basico_del_conocimiento'].str.upper()\n",
    ")"
   ]
  },
  {
   "cell_type": "code",
   "execution_count": 8,
   "id": "ceae2702-22aa-4053-8463-5d2fcff61f49",
   "metadata": {},
   "outputs": [
    {
     "name": "stdout",
     "output_type": "stream",
     "text": [
      "55\n",
      "48\n"
     ]
    }
   ],
   "source": [
    "print(len(cine_nbc_programas['nucleo_basico_del_conocimiento_mayus'].sort_values().unique()))\n",
    "print(len(va_icfes[\"NBC2\"].sort_values().unique()))"
   ]
  },
  {
   "cell_type": "code",
   "execution_count": 9,
   "id": "53aec641-c093-48a3-a93a-e4dc651031c4",
   "metadata": {},
   "outputs": [],
   "source": [
    "# Listas únicas\n",
    "nbc_1 = cine_nbc_programas['nucleo_basico_del_conocimiento_mayus'].dropna().unique()\n",
    "nbc_2 = va_icfes[\"NBC2\"].dropna().unique()\n",
    "\n",
    "# Empatar cada item de nbc_1 con el más similar en nbc_2\n",
    "matches = []\n",
    "\n",
    "for item in nbc_1:\n",
    "    match, score = process.extractOne(item, nbc_2)\n",
    "    matches.append((item, match, score))\n",
    "\n",
    "# Convertir a DataFrame para ver el resultado\n",
    "fuzzy_matches = pd.DataFrame(matches, columns=[\"NBC_cine\", \"NBC_icfes\", \"similarity_score\"])\n",
    "\n",
    "# Filtrar los que tengan score alto (>90 por ejemplo)\n",
    "fuzzy_matches_high = fuzzy_matches[fuzzy_matches[\"similarity_score\"] >= 90]\n",
    "fuzzy_matches_high_renamed = fuzzy_matches_high.rename(columns={\"NBC_icfes\": \"NBC2\"})\n",
    "\n",
    "va_icfes_merged = va_icfes.merge(\n",
    "    fuzzy_matches_high_renamed[[\"NBC2\", \"NBC_cine\"]],\n",
    "    on=\"NBC2\",\n",
    "    how=\"left\"\n",
    ")"
   ]
  },
  {
   "cell_type": "markdown",
   "id": "15500456-0ec0-484a-884f-57b32a6471dd",
   "metadata": {},
   "source": [
    "Mirar cuales nbc quedaron por fuera"
   ]
  },
  {
   "cell_type": "code",
   "execution_count": 10,
   "id": "65646541-5335-4291-9ab5-0795ea01a495",
   "metadata": {},
   "outputs": [
    {
     "name": "stdout",
     "output_type": "stream",
     "text": [
      "¿Todos los valores de NBC2 están en fuzzy_matches_high? False\n",
      "Valores de NBC2 que no fueron emparejados:\n",
      "- BACTERIOLOGIA\n"
     ]
    }
   ],
   "source": [
    "#✅ Paso 1: Asegúrate de eliminar NaN y duplicados\n",
    "nbc2_unique = va_icfes[\"NBC2\"].dropna().unique()\n",
    "matched_nbc2 = fuzzy_matches_high[\"NBC_icfes\"].dropna().unique()\n",
    "\n",
    "#✅ Paso 2: Verifica si todos están presentes\n",
    "all_matched = set(nbc2_unique).issubset(set(matched_nbc2))\n",
    "print(\"¿Todos los valores de NBC2 están en fuzzy_matches_high?\", all_matched)\n",
    "#Paso 3 (opcional): Ver qué valores faltan\n",
    "missing_nbc2 = set(nbc2_unique) - set(matched_nbc2)\n",
    "print(\"Valores de NBC2 que no fueron emparejados:\")\n",
    "for val in sorted(missing_nbc2):\n",
    "    print(\"-\", val)"
   ]
  },
  {
   "cell_type": "markdown",
   "id": "ca3ade1b-b9e7-4485-9301-fadc712314cf",
   "metadata": {},
   "source": [
    "Enriquecemos el dataframe del icfes con la información del snies"
   ]
  },
  {
   "cell_type": "code",
   "execution_count": 12,
   "id": "a4f18573-629d-44d5-a3ff-e91722ba34d6",
   "metadata": {},
   "outputs": [],
   "source": [
    "va_icfes_enriquecido = va_icfes_merged.merge(\n",
    "    cine_nbc_programas,\n",
    "    left_on=[\"inst_cod_institucion\",\"NBC_cine\"],\n",
    "    right_on=[\"codigo_institucion\",\"nucleo_basico_del_conocimiento_mayus\"],\n",
    "    how=\"left\"\n",
    ")\n",
    "\n",
    "va_icfes_enriquecido[\"icine_especifico\"] = (\n",
    "    va_icfes_enriquecido[\"inst_cod_institucion\"].astype(str) + \"_\" +\n",
    "    va_icfes_enriquecido[\"cine_f_2013_ac_campo_especific\"].astype(str)\n",
    ")\n",
    "\n",
    "va_icfes_enriquecido['periodo'] = \"2021-2022\"\n",
    "va_icfes_enriquecido.codigo_snies_del_programa = va_icfes_enriquecido.codigo_snies_del_programa.astype(\"Int64\")"
   ]
  },
  {
   "cell_type": "code",
   "execution_count": 13,
   "id": "3010656b-20a1-4a8b-a377-b5138012247b",
   "metadata": {},
   "outputs": [],
   "source": [
    "campos_exportar = [\n",
    "    'INBC',\n",
    "    'icine_especifico',\n",
    "    'municipio_oferta_programa',\n",
    "    'va_lectura_critica',\n",
    "    'va_razona_cuantitat',\n",
    "    'codigo_institucion',\n",
    "    'nombre_institucion',\n",
    "    'codigo_snies_del_programa',\n",
    "    'nombre_del_programa',\n",
    "    \"periodo\"\n",
    "]\n"
   ]
  },
  {
   "cell_type": "code",
   "execution_count": 14,
   "id": "b55ddb62-c0de-4ddb-a896-b0dfeaa0722a",
   "metadata": {},
   "outputs": [],
   "source": [
    "va_icfes_enriquecido[campos_exportar].reset_index(drop=True).to_excel(\"valor_agregado_xprograma_2021_2022.xlsx\",index=False)"
   ]
  },
  {
   "cell_type": "markdown",
   "id": "6b058ac9-7a11-4e76-b888-7dfe3559a823",
   "metadata": {},
   "source": [
    "mirar cuantos programas aperecerían tendrían más de 2 icines"
   ]
  },
  {
   "cell_type": "code",
   "execution_count": 15,
   "id": "bc2b3d6a-6c45-417b-8929-9fa12cb4d5f6",
   "metadata": {},
   "outputs": [
    {
     "data": {
      "text/html": [
       "<div>\n",
       "<style scoped>\n",
       "    .dataframe tbody tr th:only-of-type {\n",
       "        vertical-align: middle;\n",
       "    }\n",
       "\n",
       "    .dataframe tbody tr th {\n",
       "        vertical-align: top;\n",
       "    }\n",
       "\n",
       "    .dataframe thead th {\n",
       "        text-align: right;\n",
       "    }\n",
       "</style>\n",
       "<table border=\"1\" class=\"dataframe\">\n",
       "  <thead>\n",
       "    <tr style=\"text-align: right;\">\n",
       "      <th></th>\n",
       "      <th>inst_cod_institucion</th>\n",
       "      <th>NBC2</th>\n",
       "      <th>INBC</th>\n",
       "      <th>va_lectura_critica</th>\n",
       "      <th>va_razona_cuantitat</th>\n",
       "      <th>NBC_cine</th>\n",
       "      <th>codigo_institucion</th>\n",
       "      <th>codigo_institucion_padre</th>\n",
       "      <th>nombre_institucion</th>\n",
       "      <th>estado_institucion</th>\n",
       "      <th>...</th>\n",
       "      <th>id_cine_campo_especifico</th>\n",
       "      <th>codigo_del_municipio_programa</th>\n",
       "      <th>codigo_de_la_institucion</th>\n",
       "      <th>institucion_de_educacion_superior_ies</th>\n",
       "      <th>ies_acreditada</th>\n",
       "      <th>caracter_ies</th>\n",
       "      <th>municipio</th>\n",
       "      <th>nucleo_basico_del_conocimiento_mayus</th>\n",
       "      <th>icine_especifico</th>\n",
       "      <th>periodo</th>\n",
       "    </tr>\n",
       "  </thead>\n",
       "  <tbody>\n",
       "  </tbody>\n",
       "</table>\n",
       "<p>0 rows × 28 columns</p>\n",
       "</div>"
      ],
      "text/plain": [
       "Empty DataFrame\n",
       "Columns: [inst_cod_institucion, NBC2, INBC, va_lectura_critica, va_razona_cuantitat, NBC_cine, codigo_institucion, codigo_institucion_padre, nombre_institucion, estado_institucion, caracter_academico, codigo_snies_del_programa, nombre_del_programa, estado_programa, cine_f_2013_ac_campo_especific, nucleo_basico_del_conocimiento, nivel_academico, municipio_oferta_programa, id_cine_campo_especifico, codigo_del_municipio_programa, codigo_de_la_institucion, institucion_de_educacion_superior_ies, ies_acreditada, caracter_ies, municipio, nucleo_basico_del_conocimiento_mayus, icine_especifico, periodo]\n",
       "Index: []\n",
       "\n",
       "[0 rows x 28 columns]"
      ]
     },
     "execution_count": 15,
     "metadata": {},
     "output_type": "execute_result"
    }
   ],
   "source": [
    "# Filtrar los duplicados excluyendo NaNs\n",
    "va_icfes_enriquecido[\n",
    "    va_icfes_enriquecido['codigo_snies_del_programa'].notna() & \n",
    "    va_icfes_enriquecido.duplicated(subset='codigo_snies_del_programa', keep=False)\n",
    "]"
   ]
  },
  {
   "cell_type": "code",
   "execution_count": null,
   "id": "895c031c-b410-4ff1-8fe2-d575ec32c630",
   "metadata": {},
   "outputs": [],
   "source": []
  }
 ],
 "metadata": {
  "kernelspec": {
   "display_name": "Python 3 (ipykernel)",
   "language": "python",
   "name": "python3"
  },
  "language_info": {
   "codemirror_mode": {
    "name": "ipython",
    "version": 3
   },
   "file_extension": ".py",
   "mimetype": "text/x-python",
   "name": "python",
   "nbconvert_exporter": "python",
   "pygments_lexer": "ipython3",
   "version": "3.10.12"
  }
 },
 "nbformat": 4,
 "nbformat_minor": 5
}
