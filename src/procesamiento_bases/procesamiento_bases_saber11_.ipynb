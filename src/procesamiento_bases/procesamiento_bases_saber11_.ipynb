{
 "cells": [
  {
   "cell_type": "markdown",
   "id": "39b61c9e-120e-4a46-8228-46a3e6143cd1",
   "metadata": {},
   "source": [
    "**CRUCES ENTRE SABER11 y SABER PRO**\n",
    "\n",
    "Saber Pro contienen un identificador único por estudiante (“estu_consecutivo”)\n",
    "para cada uno de los exámenes que, luego de aplicar un algoritmo de\n",
    "emparejamiento, permite identificar los estudiantes que presentaron el examen:\n",
    "1. Saber 11° entre 2010-1 y 2021-2,\n",
    "2. Saber Pro, entre 2012 y 2023-1\n",
    "3. Saber TyT entre la primera aplicación de 2016 y 2023-1.\n",
    "\n",
    "El algoritmo de emparejamiento utiliza seis criterios en los que se hace uso de\n",
    "llaves creadas a partir de la información de nombres y apellidos completos,\n",
    "documento de identidad y fecha de nacimiento de los estudiantes. Además, en\n",
    "caso de que el tipo y número del documento de identidad difieran entre los\n",
    "exámenes, se utiliza información de la Registraduría Nacional del Estado Civil para\n",
    "identificar al estudiante en ambos exámenes."
   ]
  },
  {
   "cell_type": "markdown",
   "id": "8cae45ee-5930-4837-a30f-9fd00d90cd3b",
   "metadata": {},
   "source": [
    "----"
   ]
  },
  {
   "cell_type": "markdown",
   "id": "8b4e04af-637a-4d4b-afd4-4a35946e4ac7",
   "metadata": {},
   "source": [
    "**SOBRE SABER 11**: *Tomamos muestra desde 2012-2*\n",
    "\n",
    "**Modificacion:**\n",
    "Con el objetivo de consolidar un Sistema Nacional de Evaluación Estandarizada \n",
    "(SNEE) que consiga la alineación de todos los exámenes que lo conforman, la \n",
    "estructura del examen Saber 11 fue modificada **a partir del segundo semestre de 2014**\n",
    "para que sus resultados fueran comparables, en términos de las competencias \n",
    "evaluadas, con los de otras pruebas del SNEE como las pruebas Saber 3°, 5° y 9° y el \n",
    "examen Saber Pro (Icfes, 2013). Esto llevó a una nueva estructura del examen para \n",
    "evaluar las pruebas genéricas: matemáticas, lectura crítica, ciencias naturales, \n",
    "sociales y ciudadanas e inglés.\n",
    "\n",
    "\n",
    "\n",
    "**Periodos recalificados:**\n",
    "\n",
    "En el marco de la Resolución 503 de 2014 del Icfes, bajo la cual se definieron la \n",
    "clasificación de planteles y la estructura del examen Saber 11 vigentes, se planteó la \n",
    "necesidad de recalificar los resultados de los estudiantes en algunos de los periodos que \n",
    "preceden al cambio en la estructura del examen, ocurrido en el segundo semestre \n",
    "de 2014, con el fin de tener resultados comparables y cumplir de esta manera con los \n",
    "requerimientos técnicos de la metodología de clasificación vigente. \n",
    "Esta metodología requiere de resultados comparables de los estudiantes, en los \n",
    "últimos tres años, de cada establecimiento educativo y sus sedes. Debido a la adopción \n",
    "de la nueva estructura del examen Saber 11 y con el fin de presentar los resultados de \n",
    "la clasificación de planteles vigente desde el segundo semestre del 2014, **se realizó un \n",
    "proceso de recalificación de los puntajes de los estudiantes que tomaron el examen en \n",
    "el segundo semestre de 2012 y 2013 con el fin de hacerlos comparables a la \n",
    "estructura vigente y contar con los tres años de resultados para cada plantel \n",
    "educativo**\n",
    "\n",
    "Con el fin de publicar los resultados de la clasificación de planteles cada semestre, \n",
    "como quedó establecido en la Resolución 503 de 2014, la recalificación de los puntajes \n",
    "de los estudiantes se hizo también para el **primer semestre del 2013 y 2014** para \n",
    "calcular la clasificación de planteles del primer semestre de 2015"
   ]
  },
  {
   "cell_type": "markdown",
   "id": "095d398d-0d00-4c9e-998a-2b962c4a7987",
   "metadata": {},
   "source": [
    "----"
   ]
  },
  {
   "cell_type": "markdown",
   "id": "bf94df59-b14f-40f2-83a8-f76682b48c53",
   "metadata": {},
   "source": [
    "**SOBRE SABER PRO**: *Tomamos muestra del 2016 en adelante*\n",
    "\n",
    "Los estudiantes que actualmente toman el examen de Saber Pro son evaluados en \n",
    "competencias específicas de acuerdo al grupo de referencia al que pertenece el programa y de \n",
    "acuerdo a lo que consideren los directores de programas cuando escogen la combinatoria de \n",
    "módulos más acordes a su malla curricular. A pesar de que se evalúan las mismas \n",
    "competencias específicas que en el periodo anterior, **a partir del 2016 se produjeron cambios \n",
    "en el diseño de los módulos y en la calificación de las mismas que imposibilitan la \n",
    "comparación entre años del periodo anterior con el actual**. Los resultados de los módulos de \n",
    "competencias específicas para este periodo resultaron en una nueva escala con año base en \n",
    "2016.\n"
   ]
  },
  {
   "cell_type": "markdown",
   "id": "e66857fa",
   "metadata": {},
   "source": [
    "-------"
   ]
  },
  {
   "cell_type": "markdown",
   "id": "2c50e865",
   "metadata": {},
   "source": [
    "**DATOS UTILIZADOS POR EL ICFES PARA EL CÁLCULO DEL VALOR AGREGADO**\n",
    "\n",
    "- Saber Pro:\n",
    "    - Competencias genéricas\n",
    "\n",
    "- Saber 11\n",
    "- NBC\n",
    "\n",
    "\n"
   ]
  },
  {
   "cell_type": "markdown",
   "id": "18164f85-67ff-4d29-bf3d-a1b0f19d159f",
   "metadata": {},
   "source": [
    "-----"
   ]
  },
  {
   "cell_type": "markdown",
   "id": "efa034c6",
   "metadata": {},
   "source": [
    "### Constantes y Librerias "
   ]
  },
  {
   "cell_type": "code",
   "execution_count": 1,
   "id": "ff916dcc-ef66-40a5-a4ce-f92f8c59102f",
   "metadata": {},
   "outputs": [],
   "source": [
    "import os\n",
    "import glob\n",
    "import pandas as pd\n",
    "from unidecode import unidecode\n",
    "\n",
    "import csv\n",
    "#Archivo con constantes\n",
    "import constants as constants"
   ]
  },
  {
   "cell_type": "code",
   "execution_count": 2,
   "id": "f4dea1d5",
   "metadata": {},
   "outputs": [],
   "source": [
    "#Codigo DANE de Bogota\n",
    "COD_MCIPIO_BOGOTA = 11001"
   ]
  },
  {
   "cell_type": "code",
   "execution_count": 3,
   "id": "091db42c-e11c-4458-b42a-7363cdc2ce99",
   "metadata": {},
   "outputs": [],
   "source": [
    "#Municipios \n",
    "BOGOTA_REGION_NOMBRES = [\n",
    "    \"bogota_dc\",\n",
    "    \"arbelaez\",\n",
    "    \"cabrera\",\n",
    "    \"cajica\",\n",
    "    \"carmen_de_carupa\",\n",
    "    \"caqueza\",\n",
    "    \"chia\",\n",
    "    \"chipaque\",\n",
    "    \"choachi\",\n",
    "    \"choconta\",\n",
    "    \"cogua\",\n",
    "    \"cota\",\n",
    "    \"cucunuba\",\n",
    "    \"fusagasuga\",\n",
    "    \"fomeque\",\n",
    "    \"fosca\",\n",
    "    \"fuquene\",\n",
    "    \"gachala\",\n",
    "    \"gachancipa\",\n",
    "    \"gacheta\",\n",
    "    \"gama\",\n",
    "    \"granada\",\n",
    "    \"guacheta\",\n",
    "    \"guatavita\",\n",
    "    \"guasca\",\n",
    "    \"gutierrez\",\n",
    "    \"junin\",\n",
    "    \"la_calera\",\n",
    "    \"lenguazaque\",\n",
    "    \"macheta\",\n",
    "    \"manta\",\n",
    "    \"medina\",\n",
    "    \"nemocon\",\n",
    "    \"pandi\",\n",
    "    \"pasca\",\n",
    "    \"quetame\",\n",
    "    \"san_bernardo\",\n",
    "    \"sesquile\",\n",
    "    \"sibate\",\n",
    "    \"silvania\",\n",
    "    \"simijaca\",\n",
    "    \"soacha\",\n",
    "    \"sopo\",\n",
    "    \"suesca\",\n",
    "    \"susa\",\n",
    "    \"sutatausa\",\n",
    "    \"tabio\",\n",
    "    \"tausa\",\n",
    "    \"tenjo\",\n",
    "    \"tibacuy\",\n",
    "    \"tibirita\",\n",
    "    \"tocancipa\",\n",
    "    \"ubala\",\n",
    "    \"ubate\",\n",
    "    \"ubaque\",\n",
    "    \"une\",\n",
    "    \"venecia\",\n",
    "    \"villapinzon\",\n",
    "    \"zipaquira\"\n",
    "]"
   ]
  },
  {
   "cell_type": "markdown",
   "id": "08252633-2374-4683-867b-18c4dc28f99c",
   "metadata": {},
   "source": [
    "### Lectura codigo DANE municipios"
   ]
  },
  {
   "cell_type": "code",
   "execution_count": 4,
   "id": "28ef5b76-6f43-4564-8d68-9a84cc68b318",
   "metadata": {},
   "outputs": [],
   "source": [
    "municipios = pd.read_excel(\"../../data/Municipios_raw/codigos_municipios.xlsx\")"
   ]
  },
  {
   "cell_type": "code",
   "execution_count": 5,
   "id": "2eca8f60-cd53-4770-971c-17ccff6c1cb2",
   "metadata": {},
   "outputs": [],
   "source": [
    "#Renombrar columnas\n",
    "municipios = municipios.rename(columns={\n",
    "    'Descripcion': 'nombre_municipio',\n",
    "    'CodigoDane': 'codigo_dane_municipio'\n",
    "})"
   ]
  },
  {
   "cell_type": "code",
   "execution_count": 6,
   "id": "51356576-93a7-4352-a33f-499e607ed372",
   "metadata": {},
   "outputs": [],
   "source": [
    "# Filtrar las filas donde los primeros 2 dígitos de 'CodigoDane' sean '25' y '11'\n",
    "#25 representa el codigo de cundinamarca y 11 de bogotá\n",
    "municipios = municipios[municipios['codigo_dane_municipio'].astype(str).str[:2].isin(['25','11'])]\n",
    "#estandarizar nombres de los municipios\n",
    "municipios['nombre_municipio'] = municipios['nombre_municipio'].apply(\n",
    "    lambda x: unidecode(x).lower().replace(',', '').replace('.', '').replace(' ', '_')\n",
    ")\n",
    "#Escoger los municipios de Bogotá Región\n",
    "municipios = municipios[municipios['nombre_municipio'].isin(BOGOTA_REGION_NOMBRES)]"
   ]
  },
  {
   "cell_type": "code",
   "execution_count": 7,
   "id": "2f51cae6-ed0b-40be-92e3-02aa954c1f82",
   "metadata": {},
   "outputs": [
    {
     "name": "stdout",
     "output_type": "stream",
     "text": [
      "Municipios en lista 59\n",
      "Municipios en DF 58\n"
     ]
    }
   ],
   "source": [
    "print(f\"Municipios en lista {len(BOGOTA_REGION_NOMBRES)}\")\n",
    "print(f\"Municipios en DF {len(municipios)}\")"
   ]
  },
  {
   "cell_type": "code",
   "execution_count": 8,
   "id": "f8929de1-5e90-4819-b534-0c7f378aebc8",
   "metadata": {},
   "outputs": [
    {
     "name": "stdout",
     "output_type": "stream",
     "text": [
      "Municipios no cruzaron\n"
     ]
    },
    {
     "data": {
      "text/plain": [
       "[set(), {'ubate'}]"
      ]
     },
     "execution_count": 8,
     "metadata": {},
     "output_type": "execute_result"
    }
   ],
   "source": [
    "#mirar municipios restantes\n",
    "descripcion_set = set(municipios['nombre_municipio'])\n",
    "bogota_region_set = set(BOGOTA_REGION_NOMBRES)\n",
    "\n",
    "# Obtener diferencia: elementos en municipios pero no en BOGOTA_REGION_NOMBRES\n",
    "diferencia_1 = descripcion_set - bogota_region_set\n",
    "diferencia_2 = bogota_region_set - descripcion_set\n",
    "print(\"Municipios no cruzaron\")\n",
    "[diferencia_1, diferencia_2]"
   ]
  },
  {
   "cell_type": "code",
   "execution_count": 9,
   "id": "9a0b1adb-d6c9-429c-83b2-4055321ebd64",
   "metadata": {},
   "outputs": [],
   "source": [
    "#agregar ubate: https://www.saludcapital.gov.co/Biblioteca%20de%20Documentos%20DPS%20RIPS/Codificaciones/Codificaci%C3%B3n%20de%20Municipios%20por%20Departamento.pdf\n",
    "#crear la fila correspondiente\n",
    "nueva_fila = pd.DataFrame([{'codigo_dane_municipio': 25843, 'nombre_municipio': 'ubate'}])\n",
    "#agregar al df\n",
    "municipios = pd.concat([municipios, nueva_fila], ignore_index=True)"
   ]
  },
  {
   "cell_type": "code",
   "execution_count": 10,
   "id": "9378f682-898d-4825-8e32-23962f614a83",
   "metadata": {},
   "outputs": [
    {
     "data": {
      "text/html": [
       "<div>\n",
       "<style scoped>\n",
       "    .dataframe tbody tr th:only-of-type {\n",
       "        vertical-align: middle;\n",
       "    }\n",
       "\n",
       "    .dataframe tbody tr th {\n",
       "        vertical-align: top;\n",
       "    }\n",
       "\n",
       "    .dataframe thead th {\n",
       "        text-align: right;\n",
       "    }\n",
       "</style>\n",
       "<table border=\"1\" class=\"dataframe\">\n",
       "  <thead>\n",
       "    <tr style=\"text-align: right;\">\n",
       "      <th></th>\n",
       "      <th>codigo_dane_municipio</th>\n",
       "      <th>nombre_municipio</th>\n",
       "    </tr>\n",
       "  </thead>\n",
       "  <tbody>\n",
       "    <tr>\n",
       "      <th>0</th>\n",
       "      <td>11001</td>\n",
       "      <td>bogota_dc</td>\n",
       "    </tr>\n",
       "    <tr>\n",
       "      <th>1</th>\n",
       "      <td>25053</td>\n",
       "      <td>arbelaez</td>\n",
       "    </tr>\n",
       "    <tr>\n",
       "      <th>2</th>\n",
       "      <td>25120</td>\n",
       "      <td>cabrera</td>\n",
       "    </tr>\n",
       "    <tr>\n",
       "      <th>3</th>\n",
       "      <td>25126</td>\n",
       "      <td>cajica</td>\n",
       "    </tr>\n",
       "    <tr>\n",
       "      <th>4</th>\n",
       "      <td>25151</td>\n",
       "      <td>caqueza</td>\n",
       "    </tr>\n",
       "  </tbody>\n",
       "</table>\n",
       "</div>"
      ],
      "text/plain": [
       "   codigo_dane_municipio nombre_municipio\n",
       "0                  11001        bogota_dc\n",
       "1                  25053         arbelaez\n",
       "2                  25120          cabrera\n",
       "3                  25126           cajica\n",
       "4                  25151          caqueza"
      ]
     },
     "execution_count": 10,
     "metadata": {},
     "output_type": "execute_result"
    }
   ],
   "source": [
    "municipios.head()"
   ]
  },
  {
   "cell_type": "code",
   "execution_count": 11,
   "id": "e9c7cf5e-e9ac-4ec8-8558-fc5f91bb9a80",
   "metadata": {},
   "outputs": [],
   "source": [
    "#Se guarda el df con los codigos y nombres de los municipios de bogota region\n",
    "municipios.to_csv(\"../../data/Municipios_cleaned/municipios.csv\", index=False)"
   ]
  },
  {
   "cell_type": "markdown",
   "id": "af94434f",
   "metadata": {},
   "source": [
    "### Lectura de las llaves para cruzar el saber pro con el saber 11"
   ]
  },
  {
   "cell_type": "code",
   "execution_count": 12,
   "id": "3ecee8d5-1a78-40c4-a4d2-5dfd52ad5c89",
   "metadata": {},
   "outputs": [
    {
     "data": {
      "text/html": [
       "<div>\n",
       "<style scoped>\n",
       "    .dataframe tbody tr th:only-of-type {\n",
       "        vertical-align: middle;\n",
       "    }\n",
       "\n",
       "    .dataframe tbody tr th {\n",
       "        vertical-align: top;\n",
       "    }\n",
       "\n",
       "    .dataframe thead th {\n",
       "        text-align: right;\n",
       "    }\n",
       "</style>\n",
       "<table border=\"1\" class=\"dataframe\">\n",
       "  <thead>\n",
       "    <tr style=\"text-align: right;\">\n",
       "      <th></th>\n",
       "      <th>estu_consecutivo_sbpro</th>\n",
       "      <th>estu_consecutivo_sb11</th>\n",
       "    </tr>\n",
       "  </thead>\n",
       "  <tbody>\n",
       "    <tr>\n",
       "      <th>0</th>\n",
       "      <td>EK201210000628</td>\n",
       "      <td>SB11201020119179</td>\n",
       "    </tr>\n",
       "    <tr>\n",
       "      <th>1</th>\n",
       "      <td>EK201210001522</td>\n",
       "      <td>SB11201020119180</td>\n",
       "    </tr>\n",
       "    <tr>\n",
       "      <th>2</th>\n",
       "      <td>EK201210001647</td>\n",
       "      <td>SB11201020110588</td>\n",
       "    </tr>\n",
       "    <tr>\n",
       "      <th>3</th>\n",
       "      <td>EK201210001663</td>\n",
       "      <td>SB11201020116060</td>\n",
       "    </tr>\n",
       "    <tr>\n",
       "      <th>4</th>\n",
       "      <td>EK201210003701</td>\n",
       "      <td>SB11201020120759</td>\n",
       "    </tr>\n",
       "  </tbody>\n",
       "</table>\n",
       "</div>"
      ],
      "text/plain": [
       "  estu_consecutivo_sbpro estu_consecutivo_sb11\n",
       "0         EK201210000628      SB11201020119179\n",
       "1         EK201210001522      SB11201020119180\n",
       "2         EK201210001647      SB11201020110588\n",
       "3         EK201210001663      SB11201020116060\n",
       "4         EK201210003701      SB11201020120759"
      ]
     },
     "execution_count": 12,
     "metadata": {},
     "output_type": "execute_result"
    }
   ],
   "source": [
    "#csv con las llaves para cruzar el saber pro con saber 11\n",
    "llaves = pd.read_csv(\"../../data/LLAVES/Llave_Saber11_SaberPro.txt\", sep=\";\")\n",
    "llaves.head()"
   ]
  },
  {
   "cell_type": "markdown",
   "id": "445841a4",
   "metadata": {},
   "source": [
    "### Procesamiento informacion cruda del saber 11"
   ]
  },
  {
   "cell_type": "code",
   "execution_count": 13,
   "id": "dc13baf6-1fe7-4c06-b1eb-36d1971ae26d",
   "metadata": {},
   "outputs": [],
   "source": [
    "# Asume que el notebook está en /src\n",
    "notebook_dir = os.getcwd()\n",
    "project_root = os.path.abspath(os.path.join(notebook_dir, \"../..\"))\n",
    "\n",
    "# Rutas absolutas a los directorios de datos\n",
    "data_dir_sb11_before20142 = os.path.join(project_root, \"data\", \"SABER11_raw\", \"ANTES20142\")\n",
    "data_dir_sb11_after20142 = os.path.join(project_root, \"data\", \"SABER11_raw\", \"DESPUES20142\")\n",
    "\n",
    "# Buscar archivos\n",
    "csv_files_before20142 = glob.glob(os.path.join(data_dir_sb11_before20142, \"*.txt\"))\n",
    "csv_files_after20142 = glob.glob(os.path.join(data_dir_sb11_after20142, \"*.txt\"))"
   ]
  },
  {
   "cell_type": "code",
   "execution_count": 14,
   "id": "d9000e61-35f2-493e-9aee-995a2f80d143",
   "metadata": {},
   "outputs": [],
   "source": [
    "#Variables a seleccionar del saber 11 antes del 2014-2 \n",
    "cols_before_20142 = constants.cols_sb11before_20142\n",
    "#Variables a seleccionar del saber 11 despues del 2014-2 (inclusive) \n",
    "cols_after_20142 = constants.cols_sb11after_20142"
   ]
  },
  {
   "cell_type": "code",
   "execution_count": null,
   "id": "f787825c-c678-4d69-9cf8-29c3ba1c1943",
   "metadata": {},
   "outputs": [
    {
     "name": "stdout",
     "output_type": "stream",
     "text": [
      "Error reading /home/alejandro/Documentos/ATENEA/Despacho/ICFES/data/SABER11_raw/DESPUES20142/Examen_Saber_11_20142.txt: Usecols do not match columns, columns expected but not found: ['percentil_sociales_ciudadanas', 'percentil_ingles', 'percentil_lectura_critica', 'percentil_c_naturales', 'percentil_global', 'percentil_matematicas']\n",
      "Error reading /home/alejandro/Documentos/ATENEA/Despacho/ICFES/data/SABER11_raw/DESPUES20142/Examen_Saber_11_20152.txt: Usecols do not match columns, columns expected but not found: ['percentil_sociales_ciudadanas', 'percentil_ingles', 'percentil_lectura_critica', 'percentil_c_naturales', 'percentil_global', 'percentil_matematicas']\n",
      "Error reading /home/alejandro/Documentos/ATENEA/Despacho/ICFES/data/SABER11_raw/DESPUES20142/Examen_Saber_11_20151.txt: Usecols do not match columns, columns expected but not found: ['percentil_sociales_ciudadanas', 'percentil_ingles', 'percentil_lectura_critica', 'percentil_c_naturales', 'percentil_global', 'percentil_matematicas']\n"
     ]
    }
   ],
   "source": [
    "#lista para guardar los dataframes\n",
    "data_list = []\n",
    "\n",
    "#Leer los archivos del saber 11 antes del 2014-2\n",
    "for file_path in csv_files_before20142:\n",
    "    try:\n",
    "        data_temp = pd.read_csv(file_path, sep=\";\", usecols=cols_before_20142, low_memory=False)        \n",
    "        data_list.append(data_temp)\n",
    "        \n",
    "    except Exception as err:\n",
    "        print(f\"Error reading {file_path}: {err}\")\n",
    "\n",
    "\n",
    "#Leer los archivos del saber 11 despues del 2014-2\n",
    "for file_path in csv_files_after20142:\n",
    "    try:\n",
    "        data_temp = pd.read_csv(file_path, sep=\";\", usecols=cols_after_20142, low_memory=False)        \n",
    "        data_list.append(data_temp)\n",
    "        \n",
    "    except Exception as err:\n",
    "        print(f\"Error reading {file_path}: {err}\")\n",
    "        \n",
    "        \n",
    "#concatenar los dataframes\n",
    "sb11 = pd.concat(data_list, ignore_index=True)\n",
    "sb11[\"cole_cod_mcpio_ubicacion\"] = sb11[\"cole_cod_mcpio_ubicacion\"].astype(\"Int64\")\n",
    "\n",
    "#Quedarse con las observaciones del saber 11 que corresponden a Bogota \n",
    "#sb11 = sb11[sb11[\"cole_cod_mcpio_ubicacion\"] == COD_MCIPIO_BOGOTA]\n",
    "\n",
    "#Quedarse con las observaciones del saber 11 que corresponden a Bogotá-Región\n",
    "#sb11 = sb11[sb11[\"cole_cod_mcpio_ubicacion\"].isin(municipios[\"codigo_dane_municipio\"])]\n",
    "sb11 = sb11.sort_values(by=\"periodo\")\n",
    "sb11 = sb11.reset_index(drop=True)\n",
    "\n",
    "del data_list\n",
    "del data_temp"
   ]
  },
  {
   "cell_type": "code",
   "execution_count": 16,
   "id": "c0e30e88-3137-4c66-8f1e-93e1e0ea16c6",
   "metadata": {},
   "outputs": [],
   "source": [
    "#Añadir a sb11 las 2 llaves para cruzar el saber 11 con el saber pro\n",
    "#estu_consecutivo_sb11: llave del saber 11\n",
    "#estu_consecutivo_sbpro:  llave del saber pro\n",
    "base_sb11 = pd.merge(\n",
    "    sb11,\n",
    "    llaves,\n",
    "    how = \"left\", #por completitud de la informacion usamos left merge\n",
    "    left_on = \"estu_consecutivo\",\n",
    "    right_on = \"estu_consecutivo_sb11\")\n",
    "\n",
    "base_sb11.rename(columns={\"estu_consecutivo_sbpro\":\"llave_saber_pro\"},inplace=True) \n",
    "base_sb11.rename(columns={\"estu_consecutivo_sb11\":\"llave_saber_11\"},inplace=True) \n",
    "\n",
    "del sb11\n",
    "del llaves"
   ]
  },
  {
   "cell_type": "code",
   "execution_count": 17,
   "id": "4eee7771-0c7f-4cbd-83ce-f776b75bf94b",
   "metadata": {},
   "outputs": [],
   "source": [
    "#reorganizamos las columnas\n",
    "base_sb11 = base_sb11[constants.cols_sb11]\n",
    "\n",
    "#parse las columnas a los tipos de variables adecuados\n",
    "for col, dtype in constants.dtype_mapping_saber11.items():\n",
    "    if col in base_sb11.columns:\n",
    "        try:\n",
    "            base_sb11[col] = base_sb11[col].astype(dtype)\n",
    "        except Exception as e:\n",
    "            print(f\"No se pudo convertir la columna {col} a {dtype}: {e}\")"
   ]
  },
  {
   "cell_type": "code",
   "execution_count": null,
   "id": "222f8f2d",
   "metadata": {},
   "outputs": [],
   "source": [
    "base_sb11.head()"
   ]
  },
  {
   "cell_type": "code",
   "execution_count": null,
   "id": "20da6777-711b-4ca8-8ef2-cfd96a2c8c18",
   "metadata": {},
   "outputs": [],
   "source": [
    "base_sb11.columns"
   ]
  },
  {
   "cell_type": "code",
   "execution_count": 18,
   "id": "0451facf",
   "metadata": {},
   "outputs": [],
   "source": [
    "#Guardar el dataframe como un archivo csv en la carpeta SABER11_cleaned\n",
    "base_sb11.to_csv(\"../../data/SABER11_cleaned/base_sb11_part.csv\", index=False)"
   ]
  },
  {
   "cell_type": "markdown",
   "id": "a1c313bc-1aba-4f04-9b57-020b200a020d",
   "metadata": {},
   "source": [
    "-----"
   ]
  }
 ],
 "metadata": {
  "kernelspec": {
   "display_name": "Python 3 (ipykernel)",
   "language": "python",
   "name": "python3"
  },
  "language_info": {
   "codemirror_mode": {
    "name": "ipython",
    "version": 3
   },
   "file_extension": ".py",
   "mimetype": "text/x-python",
   "name": "python",
   "nbconvert_exporter": "python",
   "pygments_lexer": "ipython3",
   "version": "3.10.12"
  }
 },
 "nbformat": 4,
 "nbformat_minor": 5
}
