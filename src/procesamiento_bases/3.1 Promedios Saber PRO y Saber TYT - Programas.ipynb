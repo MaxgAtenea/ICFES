{
 "cells": [
  {
   "cell_type": "markdown",
   "id": "c1b3fad6",
   "metadata": {},
   "source": [
    "# Objetivo\n",
    "\n",
    "El objetivo de este notebook es procesar la información de las pruebas SABER PRO y SABER TYT disponible en DataICFES, y vincularla con la informaciónd de los  programas universitarios, tecnológicos y técnicos del SNIES. Con la base resultante, será posible calcular los promedios de desempeño en SABER PRO y SABER TYT por programa académico.\n",
    "\n"
   ]
  },
  {
   "cell_type": "markdown",
   "id": "90a81f8d",
   "metadata": {},
   "source": [
    "### Constantes\n",
    "\n",
    "Variables que se reusan a lo largo del código"
   ]
  },
  {
   "cell_type": "code",
   "execution_count": null,
   "id": "a8dbba37",
   "metadata": {},
   "outputs": [],
   "source": [
    "cols_saberpro_upper = [\n",
    "    \"ESTU_CONSECUTIVO\",\n",
    "    \"ESTU_GENERO\",\n",
    "    \"PERIODO\",\n",
    "    \"PUNT_GLOBAL\",\n",
    "    \"ESTU_SNIES_PRGMACADEMICO\",\n",
    "    \"ESTU_NUCLEO_PREGRADO\",\n",
    "    \"ESTU_PRGM_ACADEMICO\",\n",
    "    \"ESTU_NIVEL_PRGM_ACADEMICO\", # UNIVERSITARIO, TECNOLOGIA, TECNICO PROFESIONAL, ESCUELA NORMAL SUPERIOR\n",
    "    \"ESTU_PRGM_CODMUNICIPIO\",\n",
    "    \"ESTU_PRGM_MUNICIPIO\",\n",
    "    \"ESTU_PRGM_DEPARTAMENTO\",\n",
    "    \"INST_COD_INSTITUCION\",\n",
    "    \"INST_NOMBRE_INSTITUCION\",\n",
    "    \"INST_CARACTER_ACADEMICO\",  #UNIVERSIDAD, INSTITUCION UNIVERSITARIA, INSTITUCION TECNOLOGICA, TECNICA PROFESIONAL..\n",
    "    \"ESTU_INST_CODMUNICIPIO\",\n",
    "    \"ESTU_INST_MUNICIPIO\",\n",
    "    \"ESTU_INST_DEPARTAMENTO\",\n",
    "    \"ESTU_COD_MCPIO_PRESENTACION\",\n",
    "    \"MOD_RAZONA_CUANTITAT_PUNT\",\n",
    "    \"MOD_LECTURA_CRITICA_PUNT\",\n",
    "    \"MOD_COMPETEN_CIUDADA_PUNT\",\n",
    "    \"MOD_INGLES_PUNT\",\n",
    "    \"MOD_COMUNI_ESCRITA_PUNT\"\n",
    "]\n",
    "\n",
    "\n",
    "cols_saberpro_lower = [\n",
    "    \"estu_consecutivo\",\n",
    "    \"estu_genero\",\n",
    "    \"periodo\",\n",
    "    \"punt_global\",\n",
    "    \"estu_snies_prgmacademico\",\n",
    "    \"estu_nucleo_pregrado\",\n",
    "    \"estu_prgm_academico\",\n",
    "    \"estu_nivel_prgm_academico\", # UNIVERSITARIO, TECNOLOGIA, TECNICO PROFESIONAL, ESCUELA NORMAL SUPERIOR\n",
    "    \"estu_prgm_codmunicipio\", #Código del municipio donde se ofrece el programa académico\n",
    "    \"estu_prgm_municipio\",\n",
    "    \"estu_prgm_departamento\",\n",
    "    \"inst_cod_institucion\",\n",
    "    \"inst_nombre_institucion\",\n",
    "    \"inst_caracter_academico\", #UNIVERSIDAD, INSTITUCION UNIVERSITARIA, INSTITUCION TECNOLOGICA, TECNICA PROFESIONAL..\n",
    "    \"estu_inst_codmunicipio\",\n",
    "    \"estu_inst_municipio\",\n",
    "    \"estu_inst_departamento\",\n",
    "    \"estu_cod_mcpio_presentacion\",\n",
    "    \"mod_razona_cuantitat_punt\",\n",
    "    \"mod_lectura_critica_punt\",\n",
    "    \"mod_competen_ciudada_punt\",\n",
    "    \"mod_ingles_punt\",\n",
    "    \"mod_comuni_escrita_punt\"\n",
    "]\n",
    "\n",
    "cols_sb11before_20142 = [\n",
    "    \"estu_consecutivo\",\n",
    "    \"periodo\",\n",
    "    \"cole_cod_depto_ubicacion\", #Código Dane del departamento de la Sede\n",
    "    \"cole_cod_mcpio_ubicacion\", #Código Dane del municipios de la Sede\n",
    "    \"cole_depto_ubicacion\",\n",
    "    \"cole_naturaleza\",\n",
    "    \"recaf_punt_sociales_ciudadanas\",\n",
    "    \"recaf_punt_ingles\",\n",
    "    \"recaf_punt_lectura_critica\",\n",
    "    \"recaf_punt_matematicas\",\n",
    "    \"recaf_punt_c_naturales\",\n",
    "    \"cole_mcpio_ubicacion\",\n",
    "    \"cole_cod_dane_establecimiento\",\n",
    "    \"cole_cod_dane_sede\",\n",
    "    \"cole_codigo_icfes\",\n",
    "    \"cole_nombre_establecimiento\",\n",
    "    \"cole_nombre_sede\",\n",
    "    \"cole_sede_principal\",\n",
    "    \"estu_inse_individual\",#\n",
    "    \"estu_nse_individual\",\n",
    "    \"estu_nse_establecimiento\",\n",
    "    \"fami_estratovivienda\",\n",
    "    \"fami_personashogar\",\n",
    "    \"fami_cuartoshogar\",\n",
    "    \"fami_educacionmadre\",\n",
    "    \"fami_educacionpadre\",\n",
    "    \"estu_horassemanatrabaja\",\n",
    "    \"estu_genero\",\n",
    "    \"estu_etnia\",\n",
    "    \"estu_discapacidad\",\n",
    "    \"estu_dedicacionlecturadiaria\"\n",
    "]\n",
    "\n",
    "\n",
    "cols_sb11after_20142 = [\n",
    "    \"estu_consecutivo\",\n",
    "    \"periodo\",\n",
    "    \"punt_global\",\n",
    "    \"cole_cod_depto_ubicacion\", #Código Dane del departamento de la Sede\n",
    "    \"cole_cod_mcpio_ubicacion\", #Código Dane del municipios de la Sede\n",
    "    \"cole_depto_ubicacion\",\n",
    "    \"cole_naturaleza\",\n",
    "    \"punt_sociales_ciudadanas\",\n",
    "    \"punt_ingles\",\n",
    "    \"punt_lectura_critica\",\n",
    "    \"punt_matematicas\",\n",
    "    \"punt_c_naturales\",\n",
    "    \"percentil_c_naturales\",\n",
    "    \"percentil_ingles\",\n",
    "    \"percentil_lectura_critica\",\n",
    "    \"percentil_matematicas\",\n",
    "    \"percentil_sociales_ciudadanas\",\n",
    "    \"percentil_global\",\n",
    "    \"cole_mcpio_ubicacion\",\n",
    "    \"cole_cod_dane_establecimiento\",\n",
    "    \"cole_cod_dane_sede\",\n",
    "    \"cole_codigo_icfes\",\n",
    "    \"cole_nombre_establecimiento\",\n",
    "    \"cole_nombre_sede\",\n",
    "    \"cole_sede_principal\",\n",
    "    \"estu_inse_individual\",#\n",
    "    \"estu_nse_individual\",\n",
    "    \"estu_nse_establecimiento\",\n",
    "    \"fami_estratovivienda\",\n",
    "    \"fami_personashogar\",\n",
    "    \"fami_cuartoshogar\",\n",
    "    \"fami_educacionmadre\",\n",
    "    \"fami_educacionpadre\",\n",
    "    \"estu_horassemanatrabaja\",\n",
    "    \"estu_genero\",\n",
    "    \"estu_etnia\",\n",
    "    \"estu_discapacidad\",\n",
    "    \"estu_dedicacionlecturadiaria\"\n",
    "]\n",
    "\n",
    "cols_sb11 = [\n",
    "    \"estu_consecutivo\", #variables identificadoras\n",
    "    \"llave_saber_11\",\n",
    "    \"llave_saber_pro\",\n",
    "    \"periodo\",\n",
    "    \"punt_global\",\n",
    "    \"cole_cod_depto_ubicacion\", #variables de localizacion\n",
    "    \"cole_cod_mcpio_ubicacion\",\n",
    "    \"cole_depto_ubicacion\",\n",
    "    \"recaf_punt_sociales_ciudadanas\", #variables de puntaje\n",
    "    \"recaf_punt_ingles\",\n",
    "    \"recaf_punt_lectura_critica\",\n",
    "    \"recaf_punt_matematicas\",\n",
    "    \"recaf_punt_c_naturales\",\n",
    "    \"punt_sociales_ciudadanas\",\n",
    "    \"punt_ingles\",\n",
    "    \"punt_lectura_critica\",\n",
    "    \"punt_matematicas\",\n",
    "    \"punt_c_naturales\",\n",
    "    \"percentil_c_naturales\",\n",
    "    \"percentil_ingles\",\n",
    "    \"percentil_lectura_critica\",\n",
    "    \"percentil_matematicas\",\n",
    "    \"percentil_sociales_ciudadanas\",\n",
    "    \"percentil_global\",\n",
    "    \"cole_naturaleza\", #variables del colegio\n",
    "    \"cole_mcpio_ubicacion\",\n",
    "    \"cole_cod_dane_establecimiento\",\n",
    "    \"cole_cod_dane_sede\",\n",
    "    \"cole_codigo_icfes\",\n",
    "    \"cole_nombre_establecimiento\",\n",
    "    \"cole_nombre_sede\",\n",
    "    \"cole_sede_principal\",\n",
    "    \"estu_inse_individual\",# variables socioeconomcias\n",
    "    \"estu_nse_individual\",\n",
    "    \"estu_nse_establecimiento\", \n",
    "    \"fami_estratovivienda\",\n",
    "    \"fami_personashogar\",\n",
    "    \"fami_cuartoshogar\",\n",
    "    \"fami_educacionmadre\",\n",
    "    \"fami_educacionpadre\",\n",
    "    \"estu_horassemanatrabaja\",\n",
    "    \"estu_genero\",\n",
    "    \"estu_etnia\",\n",
    "    \"estu_discapacidad\",\n",
    "    \"estu_dedicacionlecturadiaria\"\n",
    "]\n",
    "\n",
    "dtype_mapping_saber11 = {\n",
    "    \"estu_consecutivo\": \"string\",\n",
    "    \"llave_saber_11\": \"string\",\n",
    "    \"llave_saber_pro\": \"string\",\n",
    "    \"punt_global\": \"Int64\",\n",
    "    \"cole_cod_depto_ubicacion\": \"Int64\",\n",
    "    \"cole_cod_mcpio_ubicacion\": \"Int64\",\n",
    "    \"cole_depto_ubicacion\": \"string\",\n",
    "    \"recaf_punt_sociales_ciudadanas\": \"Int64\",\n",
    "    \"recaf_punt_ingles\": \"Int64\",\n",
    "    \"recaf_punt_lectura_critica\": \"Int64\",\n",
    "    \"recaf_punt_matematicas\": \"Int64\",\n",
    "    \"recaf_punt_c_naturales\": \"Int64\",\n",
    "    \"punt_sociales_ciudadanas\": \"Int64\",\n",
    "    \"punt_ingles\": \"Int64\",\n",
    "    \"punt_lectura_critica\": \"Int64\",\n",
    "    \"punt_matematicas\": \"Int64\",\n",
    "    \"punt_c_naturales\": \"Int64\",\n",
    "    \"cole_naturaleza\": \"str\",\n",
    "    \"cole_mcpio_ubicacion\": \"str\",\n",
    "    \"cole_cod_dane_establecimiento\": \"Int64\",\n",
    "    \"cole_cod_dane_sede\": \"Int64\",\n",
    "    \"cole_codigo_icfes\": \"Int64\",\n",
    "    \"cole_nombre_establecimiento\": \"str\",\n",
    "    \"cole_nombre_sede\": \"str\",\n",
    "    \"cole_sede_principal\": \"str\",\n",
    "    \"estu_inse_individual\": \"float\",#\n",
    "    \"estu_nse_individual\": \"str\",\n",
    "    \"estu_nse_establecimiento\": \"float\",\n",
    "    \"fami_estratovivienda\": \"str\",\n",
    "    \"fami_personashogar\": \"str\",\n",
    "    \"fami_cuartoshogar\": \"str\" ,\n",
    "    \"fami_educacionmadre\": \"str\",\n",
    "    \"fami_educacionpadre\": \"str\",\n",
    "    \"estu_horassemanatrabaja\" :\"str\",\n",
    "    \"estu_genero\": \"str\",\n",
    "    \"estu_etnia\": \"str\",\n",
    "    \"estu_discapacidad\": \"str\",\n",
    "    \"estu_dedicacionlecturadiaria\" : \"str\"\n",
    "}\n",
    "\n",
    "dtype_mapping_saberpro = {\n",
    "    \"estu_consecutivo\": \"string\",\n",
    "    \"estu_genero\": \"string\",\n",
    "    \"periodo\": \"int64\",  # ya es int64\n",
    "    \"punt_global\": \"int64\",\n",
    "    \"estu_snies_prgmacademico\": \"Int64\",\n",
    "    \"estu_nucleo_pregrado\": \"string\",\n",
    "    \"estu_prgm_academico\": \"string\",\n",
    "    \"estu_nivel_prgm_academico\": \"string\",\n",
    "    \"estu_prgm_codmunicipio\": \"int64\",\n",
    "    \"estu_prgm_municipio\": \"string\",\n",
    "    \"estu_prgm_departamento\": \"string\",\n",
    "    \"inst_cod_institucion\": \"int64\",\n",
    "    \"inst_nombre_institucion\": \"string\",\n",
    "    \"inst_caracter_academico\": \"string\",\n",
    "    \"estu_inst_codmunicipio\": \"int64\",\n",
    "    \"estu_inst_municipio\": \"string\",\n",
    "    \"estu_inst_departamento\": \"string\",\n",
    "    \"estu_cod_mcpio_presentacion\": \"Int64\",  # ya es Int64\n",
    "    \"mod_razona_cuantitat_punt\": \"int64\",\n",
    "    \"mod_lectura_critica_punt\": \"int64\",\n",
    "    \"mod_competen_ciudada_punt\": \"int64\",\n",
    "    \"mod_ingles_punt\": \"Int64\",\n",
    "    \"mod_comuni_escrita_punt\": \"Int64\"\n",
    "}\n",
    "\n",
    "#llave:nombre archivo\n",
    "#valor: separador\n",
    "nombre_archivos_sabertyt = {\n",
    "    \"Examen_Saber_TyT_Genericas_2020.txt\":\";\",\n",
    "    \"Examen_Saber_TyT_Genericas_2021.txt\":\";\",\n",
    "    \"Examen_Saber_TyT_Genericas_2022.txt\":\";\",\n",
    "    \"Examen_Saber_TyT_Genericas_2023.txt\":\";\",\n",
    "    \"Examen_Saber_TyT_Genericas_2024.txt\":\";\"\n",
    "} \n",
    "\n",
    "cols_saber_tyt_lower = [\n",
    "    \"periodo\", #periodo de presentacion de la prueba\n",
    "    \"estu_consecutivo\", #id publico del estudiante\n",
    "    \"mod_ingles_punt\", #puntaje en ingles\n",
    "    \"mod_competen_ciudada_punt\", #puntaje en competencias ciudadanas\n",
    "    \"mod_comuni_escrita_punt\", #puntaje en comunicacion escrita\n",
    "    \"mod_razona_cuantitat_punt\", #puntaje en razonamiento cuantitativo\n",
    "    \"mod_lectura_critica_punt\", #puntaje en lectura critica\n",
    "    #\"punt_global\", #puntaje global #Quedo deprecated en la actualizacion del 31 de julio\n",
    "    \"inst_cod_institucion\", #Codigo de la Institución de  Educación Superior\n",
    "    \"inst_nombre_institucion\", #Nombre de la Institución de  Educación Superior\n",
    "    \"estu_prgm_academico\", # Nombre del programa académico  que estudia\n",
    "    \"estu_snies_prgmacademico\", #Código SNIES del programa  académico que estudia\n",
    "    \"estu_prgm_codmunicipio\", #codigo del municipio donde se ofrece el programa academico \n",
    "    \"estu_prgm_municipio\", #Nombre del municipio donde se ofrece el programa academico\n",
    "    \"estu_nucleo_pregrado\",  # Nombre del nucleo de pregrado  al que pertenece el programa  academico \n",
    "    \"estu_nivel_prgm_academico\" #tecnologia, tecnico profesional, universitario\n",
    "]\n",
    "\n",
    "dtype_mapping_sabertyt =  {\n",
    "    #\"periodo\" : \"Int64\", \n",
    "    \"estu_consecutivo\":\"string\" ,\n",
    "    \"mod_ingles_punt\": float, #puntaje en ingles\n",
    "    \"mod_competen_ciudada_punt\": float, #puntaje en competencias ciudadanas\n",
    "    \"mod_comuni_escrita_punt\": float, #puntaje en comunicacion escrita\n",
    "    \"mod_razona_cuantitat_punt\": float, #puntaje en razonamiento cuantitativo\n",
    "    \"mod_lectura_critica_punt\": float, #puntaje en lectura critica\n",
    "    \"punt_global\":float, \n",
    "    #\"inst_cod_institucion\":\"Int64\",\n",
    "    \"inst_nombre_institucion\" :\"string\", \n",
    "    \"estu_prgm_academico\": \"string\",\n",
    "    #\"estu_snies_prgmacademico\":\"Int64\",\n",
    "    #\"estu_prgm_codmunicipio\": \"Int64\",\n",
    "    \"estu_prgm_municipio\": \"string\",\n",
    "    \"estu_nucleo_pregrado\": \"string\",\n",
    "    \"estu_nivel_prgm_academico\": \"string\"\n",
    "}\n",
    " \n",
    "\n",
    "\n",
    "#municipios de bogota region\n",
    "BOGOTA_REGION_NOMBRES = [\n",
    "    \"bogota_dc\",\n",
    "    \"arbelaez\",\n",
    "    \"cabrera\",\n",
    "    \"cajica\",\n",
    "    \"carmen_de_carupa\",\n",
    "    \"caqueza\",\n",
    "    \"chia\",\n",
    "    \"chipaque\",\n",
    "    \"choachi\",\n",
    "    \"choconta\",\n",
    "    \"cogua\",\n",
    "    \"cota\",\n",
    "    \"cucunuba\",\n",
    "    \"fusagasuga\",\n",
    "    \"fomeque\",\n",
    "    \"fosca\",\n",
    "    \"fuquene\",\n",
    "    \"gachala\",\n",
    "    \"gachancipa\",\n",
    "    \"gacheta\",\n",
    "    \"gama\",\n",
    "    \"granada\",\n",
    "    \"guacheta\",\n",
    "    \"guatavita\",\n",
    "    \"guasca\",\n",
    "    \"gutierrez\",\n",
    "    \"junin\",\n",
    "    \"la_calera\",\n",
    "    \"lenguazaque\",\n",
    "    \"macheta\",\n",
    "    \"manta\",\n",
    "    \"medina\",\n",
    "    \"nemocon\",\n",
    "    \"pandi\",\n",
    "    \"pasca\",\n",
    "    \"quetame\",\n",
    "    \"san_bernardo\",\n",
    "    \"sesquile\",\n",
    "    \"sibate\",\n",
    "    \"silvania\",\n",
    "    \"simijaca\",\n",
    "    \"soacha\",\n",
    "    \"sopo\",\n",
    "    \"suesca\",\n",
    "    \"susa\",\n",
    "    \"sutatausa\",\n",
    "    \"tabio\",\n",
    "    \"tausa\",\n",
    "    \"tenjo\",\n",
    "    \"tibacuy\",\n",
    "    \"tibirita\",\n",
    "    \"tocancipa\",\n",
    "    \"ubala\",\n",
    "    \"ubate\",\n",
    "    \"ubaque\",\n",
    "    \"une\",\n",
    "    \"venecia\",\n",
    "    \"villapinzon\",\n",
    "    \"zipaquira\"\n",
    "]\n",
    "\n",
    "#variables del excel descargable en https://hecaa.mineducacion.gov.co/consultaspublicas/programas\n",
    "columnas_base_snies =[\n",
    "  \"codigo_institucion\",\n",
    "  \"codigo_institucion_padre\",\n",
    "  \"nombre_institucion\",\n",
    "  \"estado_institucion\",\n",
    "  \"caracter_academico\",\n",
    "  \"codigo_snies_del_programa\",\n",
    "  \"nombre_del_programa\",\n",
    "  \"titulo_otorgado\",\n",
    "  \"estado_programa\",\n",
    "  \"cine_f_2013_ac_campo_amplio\",\n",
    "  \"cine_f_2013_ac_campo_especific\",\n",
    "  \"cine_f_2013_ac_campo_detallado\",\n",
    "  \"area_de_conocimiento\",\n",
    "  \"nucleo_basico_del_conocimiento\",\n",
    "  \"nivel_academico\",\n",
    "  \"nivel_de_formacion\",\n",
    "  \"modalidad\",\n",
    "  \"numero_creditos\",\n",
    "  \"numero_periodos_de_duracion\",\n",
    "  \"periodicidad\",\n",
    "  \"departamento_oferta_programa\",\n",
    "  \"municipio_oferta_programa\",\n",
    "  \"costo_matricula_estud_nuevos\",\n",
    "  \"reconocimiento_del_ministerio\"\n",
    "]"
   ]
  },
  {
   "cell_type": "markdown",
   "id": "75114098",
   "metadata": {},
   "source": [
    "# Sección: Procesamiento Saber Pro y Programas SNIES\n",
    "\n",
    "Pasos:\n",
    "1. Procesamiento y limpieza de la base Saber Pro nacional y Bogotá-Región.\n",
    "2. Procesamiento, limpieza y filtrado de la base de programas SNIES para Bogotá-Región.\n",
    "3. Procesamiento y limpieza de la base Saber TyT Bogotá Región\n",
    "4. Procesamiento, limpieza y filtrado de la base de programas SNIES nivel TYT\n",
    "5. Calculo Promedios Saber Pro\n",
    "6. Calculo Promedios Saber TyT\n",
    "\n",
    "---"
   ]
  },
  {
   "cell_type": "markdown",
   "id": "29c9a395",
   "metadata": {},
   "source": [
    "## 1. Procesamiento bases Saber Pro (actualización 31/07/2025)"
   ]
  },
  {
   "cell_type": "code",
   "execution_count": null,
   "id": "7c5410cc",
   "metadata": {},
   "outputs": [],
   "source": [
    "# Importación de librerías necesarias para procesamiento de datos\n",
    "import os\n",
    "import glob\n",
    "import pandas as pd\n",
    "from unidecode import unidecode\n",
    "import csv"
   ]
  },
  {
   "cell_type": "code",
   "execution_count": null,
   "id": "ae67fb42",
   "metadata": {},
   "outputs": [],
   "source": [
    "# Función para resumir valores nulos por columna en un DataFrame\n",
    "def resumen_nans_df(df):\n",
    "    \"\"\"\n",
    "    Devuelve un DataFrame con el número de NaNs, número de no-NaNs y el porcentaje de NaNs por columna,\n",
    "    ordenado de mayor a menor porcentaje de NaNs.\n",
    "    \"\"\"\n",
    "    total_filas = df.shape[0]\n",
    "    nans_por_columna = df.isna().sum()\n",
    "    no_nans = total_filas - nans_por_columna\n",
    "    porcentaje_nans = (nans_por_columna / total_filas) * 100\n",
    "\n",
    "    resumen = pd.DataFrame({\n",
    "        'n_nans': nans_por_columna.astype(float),\n",
    "        'n_no_nans': no_nans.astype(float),\n",
    "        'porcentaje_nans': porcentaje_nans.astype(float)\n",
    "    })\n",
    "\n",
    "    resumen = resumen.sort_values(by='porcentaje_nans', ascending=False)\n",
    "    return resumen"
   ]
  },
  {
   "cell_type": "markdown",
   "id": "5fd20a41",
   "metadata": {},
   "source": [
    "### Lectura y procesamiento de archivos Saber Pro"
   ]
  },
  {
   "cell_type": "code",
   "execution_count": null,
   "id": "b4c15b05",
   "metadata": {},
   "outputs": [],
   "source": [
    "# Definir la ruta del directorio donde están los archivos Saber Pro (formato .txt)\n",
    "data_dir_saberpro = \"../ICFES/00 Input/SABERPRO_raw_reduced/actualizacion_31072025/\"\n",
    "csv_files_saberpro = glob.glob(os.path.join(data_dir_saberpro, \"*.txt\"))\n",
    "# Normalizar rutas para compatibilidad multiplataforma\n",
    "csv_files_saberpro = [os.path.normpath(f) for f in csv_files_saberpro]"
   ]
  },
  {
   "cell_type": "code",
   "execution_count": null,
   "id": "60a5e202",
   "metadata": {},
   "outputs": [],
   "source": [
    "# Lista para almacenar los DataFrames de cada archivo\n",
    "data_list = []\n",
    "\n",
    "# Leer cada archivo .txt y asegurar que todas las columnas esperadas estén presentes\n",
    "for file_path in csv_files_saberpro:\n",
    "    try:\n",
    "        # Leer el archivo completo (sin usecols para evitar errores si faltan columnas)\n",
    "        data_temp = pd.read_csv(\n",
    "            file_path,\n",
    "            sep=\";\",\n",
    "            engine=\"python\",\n",
    "            encoding=\"utf-8\"\n",
    "        )\n",
    "\n",
    "        # Asegurar que todas las columnas esperadas existan (rellenar con NA si falta alguna)\n",
    "        for col in cols_saberpro_lower:\n",
    "            if col not in data_temp.columns:\n",
    "                data_temp[col] = pd.NA\n",
    "\n",
    "        # Filtrar solo las columnas deseadas y en el orden correcto\n",
    "        data_temp = data_temp[cols_saberpro_lower]\n",
    "\n",
    "        # Convertir columna de municipio a tipo entero si existe\n",
    "        if \"estu_cod_mcpio_presentacion\" in data_temp.columns:\n",
    "            data_temp[\"estu_cod_mcpio_presentacion\"] = data_temp[\"estu_cod_mcpio_presentacion\"].astype(\"Int64\")\n",
    "\n",
    "        data_list.append(data_temp)\n",
    "\n",
    "    except Exception as err:\n",
    "        print(f\"Error reading {file_path}: {err}\")\n",
    "\n",
    "# Concatenar todos los DataFrames en uno solo\n",
    "sbpro = pd.concat(data_list, ignore_index=True)\n",
    "\n",
    "# Ordenar por periodo y resetear índice\n",
    "sbpro = sbpro.sort_values(by=\"periodo\").reset_index(drop=True)\n",
    "\n",
    "# Reordenar columnas según el orden esperado\n",
    "sbpro = sbpro[cols_saberpro_lower]\n",
    "\n",
    "# Liberar memoria de variables temporales\n",
    "del data_list\n",
    "del data_temp"
   ]
  },
  {
   "cell_type": "code",
   "execution_count": null,
   "id": "0ed7fae2",
   "metadata": {},
   "outputs": [],
   "source": [
    "# Convertir columnas a los tipos de datos definidos en dtype_mapping_saberpro\n",
    "for col, dtype in dtype_mapping_saberpro.items():\n",
    "    if col in sbpro.columns:\n",
    "        try:\n",
    "            sbpro[col] = sbpro[col].astype(dtype)\n",
    "        except Exception as e:\n",
    "            print(f\"No se pudo convertir la columna {col} a {dtype}: {e}\")"
   ]
  },
  {
   "cell_type": "code",
   "execution_count": null,
   "id": "d5e6f0b5",
   "metadata": {},
   "outputs": [],
   "source": [
    "# Resumen de valores nulos por columna en la base Saber Pro\n",
    "resumen_nans_sbpro = resumen_nans_df(sbpro)\n",
    "resumen_nans_sbpro"
   ]
  },
  {
   "cell_type": "markdown",
   "id": "d0c80243",
   "metadata": {},
   "source": [
    "### Agregar columna 'punt_global' para el periodo 2021"
   ]
  },
  {
   "cell_type": "code",
   "execution_count": null,
   "id": "13d6cfad",
   "metadata": {},
   "outputs": [],
   "source": [
    "# Calcular el puntaje global para filas del periodo 2021\n",
    "# Se promedia el puntaje de las 5 pruebas principales (rellenando NaN con 0 antes de promediar)\n",
    "#Esto se hace siguiendo la metodología del ICFES para el cálculo del puntaje global: \n",
    "#https://www.icfes.gov.co/wp-content/uploads/2025/03/02_entender_mis_resultados.pdf\n",
    "mask = (sbpro[\"periodo\"] // 10 == 2021)\n",
    "sbpro.loc[mask, \"punt_global\"] = sbpro.loc[mask, [\n",
    "    \"mod_ingles_punt\",\n",
    "    \"mod_competen_ciudada_punt\",\n",
    "    \"mod_lectura_critica_punt\",\n",
    "    \"mod_razona_cuantitat_punt\",\n",
    "    \"mod_comuni_escrita_punt\"\n",
    "]].fillna(0).mean(axis=1).round()"
   ]
  },
  {
   "cell_type": "markdown",
   "id": "884cae0d",
   "metadata": {},
   "source": [
    "### Exportar bases Saber Pro nacional y Bogotá-Región"
   ]
  },
  {
   "cell_type": "code",
   "execution_count": null,
   "id": "d7d4e243",
   "metadata": {},
   "outputs": [],
   "source": [
    "from datetime import datetime\n",
    "\n",
    "# Generar la fecha de hoy en formato DDMMYYYY\n",
    "fecha_hoy = datetime.today().strftime('%d%m%Y')\n",
    "\n",
    "# Guardar la base nacional procesada\n",
    "sbpro.to_csv(f\"../ICFES/00 Input/SABERPRO_cleaned/base_sbpro_nacional_corte_{fecha_hoy}.csv\", index=False)"
   ]
  },
  {
   "cell_type": "code",
   "execution_count": null,
   "id": "10c713e2",
   "metadata": {},
   "outputs": [],
   "source": [
    "# Leer municipios de Bogotá-Región y filtrar la base Saber Pro por estos municipios\n",
    "municipios = pd.read_csv(\"../ICFES/00 Input/Municipios_cleaned/municipios.csv\")\n",
    "sbpro_bogota_region = sbpro[sbpro[\"estu_prgm_codmunicipio\"].isin(municipios[\"codigo_dane_municipio\"])]\n",
    "\n",
    "# Guardar la base filtrada para Bogotá-Región\n",
    "sbpro_bogota_region.to_csv(f\"../ICFES/00 Input/SABERPRO_cleaned/base_sbpro_bogota_region_corte_{fecha_hoy}.csv\", index=False)"
   ]
  },
  {
   "cell_type": "markdown",
   "id": "ffb4483b",
   "metadata": {},
   "source": [
    "---\n",
    "## 2. Procesamiento de Programas SNIES (corte 01/08/2025)"
   ]
  },
  {
   "cell_type": "markdown",
   "id": "33ca2684",
   "metadata": {},
   "source": [
    "### Constantes y librerías para procesamiento SNIES"
   ]
  },
  {
   "cell_type": "code",
   "execution_count": null,
   "id": "b00ab6c6",
   "metadata": {},
   "outputs": [],
   "source": [
    "import unicodedata\n",
    "from rapidfuzz import process, fuzz\n",
    "import re"
   ]
  },
  {
   "cell_type": "markdown",
   "id": "2117ed95",
   "metadata": {},
   "source": [
    "### Funciones de limpieza y unión difusa para SNIES"
   ]
  },
  {
   "cell_type": "code",
   "execution_count": null,
   "id": "5682b5a8",
   "metadata": {},
   "outputs": [],
   "source": [
    "# Quita tildes y acentos de un texto\n",
    "def quitar_tildes(texto):\n",
    "    if pd.isna(texto):\n",
    "        return texto\n",
    "    texto = unicodedata.normalize('NFKD', str(texto))\n",
    "    texto = ''.join([c for c in texto if not unicodedata.combining(c)])\n",
    "    return texto"
   ]
  },
  {
   "cell_type": "code",
   "execution_count": null,
   "id": "b74fe8da",
   "metadata": {},
   "outputs": [],
   "source": [
    "# Limpia texto: elimina comillas, backslashes, espacios extra y tildes; capitaliza tipo título\n",
    "def limpiar_texto(texto):\n",
    "    if pd.isna(texto):\n",
    "        return texto\n",
    "    texto = str(texto)\n",
    "    texto = texto.replace('\"', '')\n",
    "    texto = texto.replace('\\\\', '')\n",
    "    texto = ' '.join(texto.split())\n",
    "    texto = quitar_tildes(texto)\n",
    "    texto = texto.title()\n",
    "    return texto"
   ]
  },
  {
   "cell_type": "code",
   "execution_count": null,
   "id": "c89d1586",
   "metadata": {},
   "outputs": [],
   "source": [
    "# Aplica limpieza de texto a todas las columnas tipo string de un DataFrame\n",
    "def limpiar_texto_dataframe(df):\n",
    "    for col in df.select_dtypes(include='object').columns:\n",
    "        df[col] = df[col].apply(limpiar_texto)\n",
    "    return df"
   ]
  },
  {
   "cell_type": "code",
   "execution_count": null,
   "id": "cec9bfcc",
   "metadata": {},
   "outputs": [],
   "source": [
    "# Limpia y normaliza nombres de columnas (minúsculas y sin tildes)\n",
    "def limpiar_nombres_columnas(df):\n",
    "    df.columns = df.columns.str.lower()\n",
    "    df.columns = [quitar_tildes(col) for col in df.columns]\n",
    "    return df"
   ]
  },
  {
   "cell_type": "code",
   "execution_count": null,
   "id": "343ec2e4",
   "metadata": {},
   "outputs": [],
   "source": [
    "# Normaliza texto para comparación difusa: minúsculas, sin tildes, sin puntuación\n",
    "def normalizar_texto(texto):\n",
    "    if pd.isna(texto):\n",
    "        return \"\"\n",
    "    texto = str(texto).lower()\n",
    "    texto = unicodedata.normalize('NFKD', texto).encode('ascii', 'ignore').decode('utf-8')\n",
    "    texto = re.sub(r'[\\W_]+', ' ', texto)\n",
    "    texto = re.sub(r'\\s+', ' ', texto).strip()\n",
    "    return texto"
   ]
  },
  {
   "cell_type": "code",
   "execution_count": null,
   "id": "ca57f8a8",
   "metadata": {},
   "outputs": [],
   "source": [
    "# Unión difusa entre DataFrames por similitud textual (usando RapidFuzz)\n",
    "def unir_por_similitud(programas, municipios, col_prog='municipio_oferta_programa', col_mpio='nombre_municipio', threshold=90):\n",
    "    \"\"\"\n",
    "    Realiza un join difuso entre los DataFrames 'programas' y 'municipios',\n",
    "    comparando textos similares entre dos columnas, usando RapidFuzz (WRatio).\n",
    "    Llave de unión: columna normalizada '__match_key'.\n",
    "    \"\"\"\n",
    "    programas['__match_key'] = programas[col_prog].apply(normalizar_texto)\n",
    "    municipios['__match_key'] = municipios[col_mpio].apply(normalizar_texto)\n",
    "    resultados = []\n",
    "    for val in programas['__match_key'].dropna().unique():\n",
    "        match = process.extractOne(val, municipios['__match_key'].dropna().unique(), scorer=fuzz.WRatio)\n",
    "        if match and match[1] >= threshold:\n",
    "            prog_filtrado = programas[programas['__match_key'] == val]\n",
    "            mpio_filtrado = municipios[municipios['__match_key'] == match[0]]\n",
    "            prog_filtrado = prog_filtrado.assign(__match_key=match[0])\n",
    "            combinado = prog_filtrado.merge(mpio_filtrado, on='__match_key')\n",
    "            resultados.append(combinado)\n",
    "    return pd.concat(resultados, ignore_index=True).drop(columns='__match_key') if resultados else pd.DataFrame()"
   ]
  },
  {
   "cell_type": "code",
   "execution_count": null,
   "id": "7b99c9e7",
   "metadata": {},
   "outputs": [],
   "source": [
    "# Filtra programas activos, universitarios y de pregrado\n",
    "def filtrar_programas(df):\n",
    "    return df[\n",
    "        (df['estado_programa'] == \"Activo\") &\n",
    "        ((df['nivel_de_formacion'] == \"Universitario\")) &\n",
    "        (df['nivel_academico'] == \"Pregrado\")\n",
    "    ]"
   ]
  },
  {
   "cell_type": "code",
   "execution_count": null,
   "id": "1987056b",
   "metadata": {},
   "outputs": [],
   "source": [
    "# Filtra DataFrame por una lista de departamentos\n",
    "def filtrar_departamentos(df, departamentos):\n",
    "    return df[df['departamento_oferta_programa'].isin(departamentos)]"
   ]
  },
  {
   "cell_type": "markdown",
   "id": "2a73e7bf",
   "metadata": {},
   "source": [
    "### Lectura y limpieza de la base de programas SNIES"
   ]
  },
  {
   "cell_type": "code",
   "execution_count": null,
   "id": "b289da60",
   "metadata": {},
   "outputs": [],
   "source": [
    "# Leer base SNIES nacional (formato Excel)\n",
    "programas = pd.read_excel(\"../ICFES/00 Input/SNIES_CINE_raw/programas_nacionales_corte_01082025.xlsx\")\n",
    "# Limpiar nombres de columnas y seleccionar solo las relevantes\n",
    "programas = limpiar_nombres_columnas(programas)\n",
    "programas = programas[columnas_base_snies]\n",
    "# Limpiar texto en todas las columnas tipo string\n",
    "programas = limpiar_texto_dataframe(programas)"
   ]
  },
  {
   "cell_type": "code",
   "execution_count": null,
   "id": "5b76a066",
   "metadata": {},
   "outputs": [],
   "source": [
    "# Vista rápida de la base\n",
    "programas.head()"
   ]
  },
  {
   "cell_type": "code",
   "execution_count": null,
   "id": "a946c678",
   "metadata": {},
   "outputs": [],
   "source": [
    "# Dimensión de la base nacional\n",
    "programas.shape"
   ]
  },
  {
   "cell_type": "markdown",
   "id": "4c141938",
   "metadata": {},
   "source": [
    "### Filtrar programas SNIES por Bogotá-Región"
   ]
  },
  {
   "cell_type": "code",
   "execution_count": null,
   "id": "a91454cd",
   "metadata": {},
   "outputs": [],
   "source": [
    "# Leer municipios de Bogotá-Región\n",
    "municipios_bogota_region = pd.read_csv(\"../ICFES/00 Input/Municipios_cleaned/municipios.csv\")"
   ]
  },
  {
   "cell_type": "code",
   "execution_count": null,
   "id": "aef33162",
   "metadata": {},
   "outputs": [],
   "source": [
    "# Filtrar por departamentos Bogotá D.C. y Cundinamarca\n",
    "lista_deptos = [\"Bogota, D.C.\", \"Cundinamarca\"]\n",
    "programas = filtrar_departamentos(programas, lista_deptos)\n",
    "# Unión difusa por municipio de oferta (llave: municipio_oferta_programa vs nombre_municipio)\n",
    "programas = unir_por_similitud(programas.copy(), municipios_bogota_region)\n",
    "print(f\"Programas en Bogota Region {programas.shape[0]}\")"
   ]
  },
  {
   "cell_type": "markdown",
   "id": "867cb859",
   "metadata": {},
   "source": [
    "### Filtrar programas universitarios activos y de pregrado"
   ]
  },
  {
   "cell_type": "code",
   "execution_count": null,
   "id": "14d09446",
   "metadata": {},
   "outputs": [],
   "source": [
    "programas = filtrar_programas(programas)\n",
    "print(f\"Programas Universitarios en Bogota Region {programas.shape[0]}\")"
   ]
  },
  {
   "cell_type": "markdown",
   "id": "2a50753a",
   "metadata": {},
   "source": [
    "### Guardar base SNIES filtrada para Bogotá-Región"
   ]
  },
  {
   "cell_type": "code",
   "execution_count": null,
   "id": "13744aaf",
   "metadata": {},
   "outputs": [],
   "source": [
    "# Guardar el DataFrame filtrado como CSV en la carpeta SNIES_CINE_cleaned\n",
    "nombre_archivo = f\"../ICFES/00 Input/SNIES_CINE_cleaned/base_snies_sbpro_bogota_region_corte_{fecha_hoy}.csv\"\n",
    "programas.to_csv(nombre_archivo, index=False)"
   ]
  },
  {
   "cell_type": "markdown",
   "id": "2e3f7614",
   "metadata": {},
   "source": [
    "-----"
   ]
  },
  {
   "cell_type": "markdown",
   "id": "80906283",
   "metadata": {},
   "source": [
    "# Sección: Procesamiento Saber TYT y Programas SNIES (TYT)\n",
    "\n",
    "El flujo es:\n",
    "1. Procesamiento y limpieza de la base Saber TYT para Bogotá-Región.\n",
    "2. Procesamiento, limpieza y filtrado de la base de programas SNIES para Bogotá-Región (técnicos y tecnólogos).\n",
    "\n",
    "---"
   ]
  },
  {
   "cell_type": "markdown",
   "id": "9ced7d35",
   "metadata": {},
   "source": [
    "## 1. Procesamiento base Saber TYT (actualización 31/07/2025)"
   ]
  },
  {
   "cell_type": "code",
   "execution_count": null,
   "id": "7182de00",
   "metadata": {},
   "outputs": [],
   "source": [
    "# Importación de librerías necesarias para procesamiento de datos\n",
    "import os\n",
    "import glob\n",
    "import pandas as pd\n",
    "from unidecode import unidecode\n",
    "import numpy as np\n",
    "import csv\n",
    "# Archivo con constantes (columnas, tipos, separadores, etc.)"
   ]
  },
  {
   "cell_type": "markdown",
   "id": "c0601a27",
   "metadata": {},
   "source": [
    "### Funciones para procesamiento Saber TYT"
   ]
  },
  {
   "cell_type": "code",
   "execution_count": null,
   "id": "5071f494",
   "metadata": {},
   "outputs": [],
   "source": [
    "# Calcula el puntaje global como promedio de las 5 pruebas principales (rellenando NaN con 0)\n",
    "# Sigue la metodología del ICFES:\n",
    "# https://www.icfes.gov.co/wp-content/uploads/2025/03/02_entender_mis_resultados.pdf\n",
    "def calcular_punt_global(df):\n",
    "    cols = [\n",
    "        'mod_ingles_punt',\n",
    "        'mod_competen_ciudada_punt',\n",
    "        'mod_comuni_escrita_punt',\n",
    "        'mod_razona_cuantitat_punt',\n",
    "        'mod_lectura_critica_punt'\n",
    "    ]\n",
    "    df['punt_global'] = df[cols].fillna(0).mean(axis=1)\n",
    "    return df"
   ]
  },
  {
   "cell_type": "code",
   "execution_count": null,
   "id": "29ca2719",
   "metadata": {},
   "outputs": [],
   "source": [
    "# Resumen de nulos por cada una de las 5 pruebas principales\n",
    "def resumen_nulos(df):\n",
    "    cols = [\n",
    "        'mod_ingles_punt',\n",
    "        'mod_competen_ciudada_punt',\n",
    "        'mod_comuni_escrita_punt',\n",
    "        'mod_razona_cuantitat_punt',\n",
    "        'mod_lectura_critica_punt'\n",
    "    ]\n",
    "    resumen = (\n",
    "        df[cols]\n",
    "        .isna()\n",
    "        .agg(['sum', 'mean'])\n",
    "        .T\n",
    "        .rename(columns={'sum': 'n_nulos', 'mean': 'porc_nulos'})\n",
    "    )\n",
    "    resumen['porc_nulos'] = resumen['porc_nulos'] * 100\n",
    "    return resumen"
   ]
  },
  {
   "cell_type": "markdown",
   "id": "161f7a0e",
   "metadata": {},
   "source": [
    "### Lectura y procesamiento de archivos Saber TYT"
   ]
  },
  {
   "cell_type": "code",
   "execution_count": null,
   "id": "5e42c30f",
   "metadata": {},
   "outputs": [],
   "source": [
    "# Directorio con los datos crudos Saber TYT\n",
    "data_dir_base_sbtyt = \"../ICFES/00 Input/SABERTYT_raw/actualizacion_31072025\"\n",
    "csv_files_sabertyt = glob.glob(os.path.join(data_dir_base_sbtyt, \"*.txt\"))"
   ]
  },
  {
   "cell_type": "code",
   "execution_count": null,
   "id": "7b10d75a",
   "metadata": {},
   "outputs": [],
   "source": [
    "# Variables a seleccionar del saber tyt (convertimos a set para búsquedas rápidas)\n",
    "cols_set = set(cols_saber_tyt_lower)"
   ]
  },
  {
   "cell_type": "code",
   "execution_count": null,
   "id": "16fff9e8",
   "metadata": {},
   "outputs": [],
   "source": [
    "# Lista donde se irán acumulando los DataFrames leídos\n",
    "data_list = []\n",
    "# Iteramos por cada archivo y su separador asociado (definido en nombre_archivos_sabertyt)\n",
    "for file_name, sep in nombre_archivos_sabertyt.items():\n",
    "    file_path = os.path.join(data_dir_base_sbtyt, file_name)\n",
    "    engine = \"python\" if sep == \"¬\" else \"c\"\n",
    "    read_csv_args = {\n",
    "        \"sep\": sep,\n",
    "        \"usecols\": lambda c: c.lower() in cols_set,\n",
    "        \"engine\": engine,\n",
    "        **(\n",
    "            {\"quotechar\": None, \"quoting\": csv.QUOTE_NONE, \"dtype\": str} if sep == \"¬\" else {\"low_memory\": False}\n",
    "        )\n",
    "    }\n",
    "    try:\n",
    "        # Leer el archivo con los argumentos definidos\n",
    "        df = pd.read_csv(file_path, **read_csv_args)\n",
    "        # Convertir todos los nombres de columnas a minúsculas\n",
    "        df.columns = df.columns.str.lower()\n",
    "        # Verificar si faltan columnas esperadas y avisar\n",
    "        faltantes = cols_set - set(df.columns)\n",
    "        if faltantes:\n",
    "            print(f\"Atención: en {file_name} faltan columnas: {faltantes}\")\n",
    "        data_list.append(df)\n",
    "    except Exception as err:\n",
    "        print(f\"Error leyendo {file_name} con separador '{sep}': {err}\")\n",
    "# Combinar todos los DataFrames en uno solo\n",
    "base_sbtyt = pd.concat(data_list, ignore_index=True)\n",
    "# Agregar la columna punt_global porque el icfes no la incluyó en la actualización\n",
    "base_sbtyt = calcular_punt_global(base_sbtyt)"
   ]
  },
  {
   "cell_type": "code",
   "execution_count": null,
   "id": "21d557c0",
   "metadata": {},
   "outputs": [],
   "source": [
    "# Resumen de nulos en las pruebas principales\n",
    "resumen_nulos(base_sbtyt)"
   ]
  },
  {
   "cell_type": "markdown",
   "id": "602c2b16",
   "metadata": {},
   "source": [
    "### Ajustes de formato y tipado de variables"
   ]
  },
  {
   "cell_type": "code",
   "execution_count": null,
   "id": "b76c7a2f",
   "metadata": {},
   "outputs": [],
   "source": [
    "# Parsear columnas a los tipos de variables adecuados según dtype_mapping_sabertyt\n",
    "for col, dtype in dtype_mapping_sabertyt.items():\n",
    "    if col in base_sbtyt.columns:\n",
    "        try:\n",
    "            base_sbtyt[col] = base_sbtyt[col].astype(dtype)\n",
    "        except Exception as e:\n",
    "            print(f\"No se pudo convertir la columna {col} a {dtype}: {e}\")\n",
    "\n",
    "# Variables numéricas clave\n",
    "cols_numericas = [\n",
    "    \"periodo\",\n",
    "    \"inst_cod_institucion\",\n",
    "    \"estu_snies_prgmacademico\",\n",
    "    \"estu_prgm_codmunicipio\"\n",
    "]\n",
    "for col in cols_numericas:\n",
    "    base_sbtyt[col] = pd.to_numeric(base_sbtyt[col], errors='coerce').astype('Int64')"
   ]
  },
  {
   "cell_type": "code",
   "execution_count": null,
   "id": "b25967d4",
   "metadata": {},
   "outputs": [],
   "source": [
    "# Ajustar los periodos para agregarlos anualmente\n",
    "base_sbtyt['año_presentacion'] = base_sbtyt['periodo'].apply(lambda x: x//10)"
   ]
  },
  {
   "cell_type": "markdown",
   "id": "fa9ee98c",
   "metadata": {},
   "source": [
    "### Filtrar por Bogotá-Región"
   ]
  },
  {
   "cell_type": "code",
   "execution_count": null,
   "id": "89b3e6dc",
   "metadata": {},
   "outputs": [],
   "source": [
    "# Leer municipios de Bogotá-Región\n",
    "municipios_bogota_region = pd.read_csv(\"../ICFES/00 Input/Municipios_cleaned/municipios.csv\")\n",
    "# Filtrar registros donde el programa educativo está ubicado en Bogotá-Región\n",
    "base_sbtyt = base_sbtyt[base_sbtyt[\"estu_prgm_codmunicipio\"].isin(municipios_bogota_region[\"codigo_dane_municipio\"])]"
   ]
  },
  {
   "cell_type": "code",
   "execution_count": null,
   "id": "0f9f47c9",
   "metadata": {},
   "outputs": [],
   "source": [
    "# Ordenar por periodo y resetear índice\n",
    "base_sbtyt = base_sbtyt.sort_values(by=\"periodo\").reset_index(drop=True)\n",
    "print(f\"Dimensiones: {base_sbtyt.shape}\")\n",
    "base_sbtyt.head()"
   ]
  },
  {
   "cell_type": "markdown",
   "id": "b94d7994",
   "metadata": {},
   "source": [
    "### Estadísticas descriptivas"
   ]
  },
  {
   "cell_type": "code",
   "execution_count": null,
   "id": "fc7b987e",
   "metadata": {},
   "outputs": [],
   "source": [
    "num_programas_unicos  = base_sbtyt['estu_snies_prgmacademico'].nunique()\n",
    "num_ies_unicas  = base_sbtyt['inst_cod_institucion'].nunique()\n",
    "num_estudiantes_unicos = base_sbtyt['estu_consecutivo'].nunique()\n",
    "periodos_unicos = base_sbtyt['periodo'].unique()\n",
    "años_unicos = base_sbtyt['año_presentacion'].unique()"
   ]
  },
  {
   "cell_type": "code",
   "execution_count": null,
   "id": "6361bf53",
   "metadata": {},
   "outputs": [],
   "source": [
    "print(\n",
    "    f\"Numero programas unicos: {num_programas_unicos} \\n\" \n",
    "    f\"Numero IES unicas: {num_ies_unicas}\\n\"\n",
    "    f\"Numero estudiantes unicos: {num_estudiantes_unicos} de {base_sbtyt.shape[0]}\\n\"\n",
    "    f\"Periodos presentacion saber TYT:{periodos_unicos}\\n\"\n",
    "    f\"Años presentacion saber TYT:{años_unicos}\\n\"\n",
    ")"
   ]
  },
  {
   "cell_type": "markdown",
   "id": "21b5739b",
   "metadata": {},
   "source": [
    "### Guardar DataFrame procesado Saber TYT Bogotá-Región"
   ]
  },
  {
   "cell_type": "code",
   "execution_count": null,
   "id": "23d2f713",
   "metadata": {},
   "outputs": [],
   "source": [
    "from datetime import datetime\n",
    "# Generar la fecha de hoy en formato DDMMYYYY\n",
    "fecha_hoy = datetime.today().strftime('%d%m%Y')\n",
    "nombre_archivo = f\"../ICFES/00 Input/SABERTYT_cleaned/base_sbtyt_bogota_region_corte_{fecha_hoy}.csv\"\n",
    "base_sbtyt.to_csv(nombre_archivo, index=False)"
   ]
  },
  {
   "cell_type": "markdown",
   "id": "e4fc95c8",
   "metadata": {},
   "source": [
    "---\n",
    "## 2. Procesamiento de Programas SNIES (TYT, corte 01/08/2025)"
   ]
  },
  {
   "cell_type": "markdown",
   "id": "e6b0cc03",
   "metadata": {},
   "source": [
    "URL de donde se obtuvo la información de los programas:\n",
    "https://hecaa.mineducacion.gov.co/consultaspublicas/programas"
   ]
  },
  {
   "cell_type": "markdown",
   "id": "b2da39a7",
   "metadata": {},
   "source": [
    "La base del snies se descarga con los siguientes filtros:\n",
    "1. Estado institucion Activo\n",
    "2. Tipo de sede Todos\n",
    "3. Estado del programa Todos\n",
    "4. Reconocimiento del ministerio: Todos\n",
    "5. Programa en convenio Todos\n",
    "6.  territorio indigena: Todos\n",
    "7. Nivel academico del programa: todos\n",
    "8. Modalidad: todos\n",
    "9.  Rango de modalidad de matricula:todos\n",
    "\n",
    "Si el filtro no está especificado en esta lista, el setting fue el predeterminado por la página del SNIES"
   ]
  },
  {
   "cell_type": "markdown",
   "id": "990446a3",
   "metadata": {},
   "source": [
    "### Constantes y librerías para procesamiento SNIES"
   ]
  },
  {
   "cell_type": "code",
   "execution_count": null,
   "id": "9ec23a5f",
   "metadata": {},
   "outputs": [],
   "source": [
    "from unidecode import unidecode\n",
    "import unicodedata\n",
    "from rapidfuzz import process, fuzz\n",
    "import re"
   ]
  },
  {
   "cell_type": "markdown",
   "id": "357e14d3",
   "metadata": {},
   "source": [
    "### Funciones de limpieza y unión difusa para SNIES (TYT)"
   ]
  },
  {
   "cell_type": "code",
   "execution_count": null,
   "id": "ee7bf42d",
   "metadata": {},
   "outputs": [],
   "source": [
    "# Quita tildes y acentos de un texto\n",
    "def quitar_tildes(texto):\n",
    "    if pd.isna(texto):\n",
    "        return texto\n",
    "    texto = unicodedata.normalize('NFKD', str(texto))\n",
    "    texto = ''.join([c for c in texto if not unicodedata.combining(c)])\n",
    "    return texto"
   ]
  },
  {
   "cell_type": "code",
   "execution_count": null,
   "id": "93ceb0ca",
   "metadata": {},
   "outputs": [],
   "source": [
    "# Limpia texto: elimina comillas, backslashes, espacios extra y tildes; capitaliza tipo título\n",
    "def limpiar_texto(texto):\n",
    "    if pd.isna(texto):\n",
    "        return texto\n",
    "    texto = str(texto)\n",
    "    texto = texto.replace('\"', '')\n",
    "    texto = texto.replace('\\\\', '')\n",
    "    texto = ' '.join(texto.split())\n",
    "    texto = quitar_tildes(texto)\n",
    "    texto = texto.title()\n",
    "    return texto"
   ]
  },
  {
   "cell_type": "code",
   "execution_count": null,
   "id": "f57fe1ad",
   "metadata": {},
   "outputs": [],
   "source": [
    "# Aplica limpieza de texto a todas las columnas tipo string de un DataFrame\n",
    "def limpiar_texto_dataframe(df):\n",
    "    for col in df.select_dtypes(include='object').columns:\n",
    "        df[col] = df[col].apply(limpiar_texto)\n",
    "    return df"
   ]
  },
  {
   "cell_type": "code",
   "execution_count": null,
   "id": "7179e1b2",
   "metadata": {},
   "outputs": [],
   "source": [
    "# Limpia y normaliza nombres de columnas (minúsculas y sin tildes)\n",
    "def limpiar_nombres_columnas(df):\n",
    "    df.columns = df.columns.str.lower()\n",
    "    df.columns = [quitar_tildes(col) for col in df.columns]\n",
    "    return df"
   ]
  },
  {
   "cell_type": "code",
   "execution_count": null,
   "id": "e36a8f39",
   "metadata": {},
   "outputs": [],
   "source": [
    "# Normaliza texto para comparación difusa: minúsculas, sin tildes, sin puntuación\n",
    "def normalizar_texto(texto):\n",
    "    if pd.isna(texto):\n",
    "        return \"\"\n",
    "    texto = str(texto).lower()\n",
    "    texto = unicodedata.normalize('NFKD', texto).encode('ascii', 'ignore').decode('utf-8')\n",
    "    texto = re.sub(r'[\\W_]+', ' ', texto)\n",
    "    texto = re.sub(r'\\s+', ' ', texto).strip()\n",
    "    return texto"
   ]
  },
  {
   "cell_type": "code",
   "execution_count": null,
   "id": "17da8e49",
   "metadata": {},
   "outputs": [],
   "source": [
    "# Unión difusa entre DataFrames por similitud textual (usando RapidFuzz)\n",
    "def unir_por_similitud(programas, municipios, col_prog='municipio_oferta_programa', col_mpio='nombre_municipio', threshold=90):\n",
    "    \"\"\"\n",
    "    Realiza un join difuso entre los DataFrames 'programas' y 'municipios',\n",
    "    comparando textos similares entre dos columnas, usando RapidFuzz (WRatio).\n",
    "    Llave de unión: columna normalizada '__match_key'.\n",
    "\n",
    "    Parámetros:\n",
    "        programas (DataFrame): DataFrame principal (ej. programas académicos).\n",
    "        municipios (DataFrame): DataFrame de referencia (ej. nombres estándar de municipios).\n",
    "        col_prog (str): Columna de 'programas' a comparar.\n",
    "        col_mpio (str): Columna de 'municipios' a comparar.\n",
    "        threshold (int): Similitud mínima (0–100) para considerar un match (default: 90).\n",
    "\n",
    "    Retorna:\n",
    "        DataFrame resultante con las filas unidas según similitud textual.\n",
    "    \"\"\"\n",
    "    programas['__match_key'] = programas[col_prog].apply(normalizar_texto)\n",
    "    municipios['__match_key'] = municipios[col_mpio].apply(normalizar_texto)\n",
    "    resultados = []\n",
    "    for val in programas['__match_key'].dropna().unique():\n",
    "        match = process.extractOne(val, municipios['__match_key'].dropna().unique(), scorer=fuzz.WRatio)\n",
    "        if match and match[1] >= threshold:\n",
    "            prog_filtrado = programas[programas['__match_key'] == val]\n",
    "            mpio_filtrado = municipios[municipios['__match_key'] == match[0]]\n",
    "            prog_filtrado = prog_filtrado.assign(__match_key=match[0])\n",
    "            combinado = prog_filtrado.merge(mpio_filtrado, on='__match_key')\n",
    "            resultados.append(combinado)\n",
    "    return pd.concat(resultados, ignore_index=True).drop(columns='__match_key') if resultados else pd.DataFrame()"
   ]
  },
  {
   "cell_type": "code",
   "execution_count": null,
   "id": "96d3b0d7",
   "metadata": {},
   "outputs": [],
   "source": [
    "# Filtra programas activos, técnicos o tecnológicos y de pregrado\n",
    "def filtrar_programas(df):\n",
    "    return df[\n",
    "        (df['estado_programa'] == \"Activo\") &\n",
    "        ((df['nivel_de_formacion'] == \"Formacion Tecnica Profesional\") | (df['nivel_de_formacion'] == \"Tecnologico\")) &\n",
    "        (df['nivel_academico'] == \"Pregrado\")\n",
    "    ]"
   ]
  },
  {
   "cell_type": "code",
   "execution_count": null,
   "id": "6d445a7b",
   "metadata": {},
   "outputs": [],
   "source": [
    "# Filtra DataFrame por una lista de departamentos\n",
    "def filtrar_departamentos(df, departamentos):\n",
    "    return df[df['departamento_oferta_programa'].isin(departamentos)]"
   ]
  },
  {
   "cell_type": "markdown",
   "id": "0d3ff0fc",
   "metadata": {},
   "source": [
    "### Lectura y limpieza de la base de programas SNIES (TYT)"
   ]
  },
  {
   "cell_type": "code",
   "execution_count": null,
   "id": "0661f9c2",
   "metadata": {},
   "outputs": [],
   "source": [
    "# Leer base SNIES nacional (formato Excel)\n",
    "programas = pd.read_excel(\"../ICFES/00 Input/SNIES_CINE_raw/programas_nacionales_corte_01082025.xlsx\")\n",
    "# Limpiar nombres de columnas y seleccionar solo las relevantes\n",
    "programas = limpiar_nombres_columnas(programas)\n",
    "programas = programas[columnas_base_snies]\n",
    "# Limpiar texto en todas las columnas tipo string\n",
    "programas = limpiar_texto_dataframe(programas)"
   ]
  },
  {
   "cell_type": "code",
   "execution_count": null,
   "id": "b77be6a4",
   "metadata": {},
   "outputs": [],
   "source": [
    "# Vista de la base\n",
    "programas.head()"
   ]
  },
  {
   "cell_type": "markdown",
   "id": "af1917d6",
   "metadata": {},
   "source": [
    "### Filtrar programas SNIES por Bogotá-Región"
   ]
  },
  {
   "cell_type": "code",
   "execution_count": null,
   "id": "43039256",
   "metadata": {},
   "outputs": [],
   "source": [
    "# Leer municipios de Bogotá-Región\n",
    "municipios_bogota_region = pd.read_csv(\"../ICFES/00 Input/Municipios_cleaned/municipios.csv\")"
   ]
  },
  {
   "cell_type": "code",
   "execution_count": null,
   "id": "07c4c869",
   "metadata": {},
   "outputs": [],
   "source": [
    "# Filtrar por departamentos Bogotá D.C. y Cundinamarca\n",
    "lista_deptos = [\"Bogota, D.C.\", \"Cundinamarca\"]\n",
    "programas = filtrar_departamentos(programas, lista_deptos)\n",
    "# Unión difusa por municipio de oferta (llave: municipio_oferta_programa vs nombre_municipio)\n",
    "programas = unir_por_similitud(programas.copy(), municipios_bogota_region)\n",
    "print(f\"Programas en Bogota Region {programas.shape[0]}\")"
   ]
  },
  {
   "cell_type": "markdown",
   "id": "107f2623",
   "metadata": {},
   "source": [
    "### Filtrar programas tecnológicos o técnicos profesionales activos y de pregrado"
   ]
  },
  {
   "cell_type": "code",
   "execution_count": null,
   "id": "a5f9745d",
   "metadata": {},
   "outputs": [],
   "source": [
    "programas = filtrar_programas(programas)\n",
    "print(f\"Programas Tecnologicos o Tecnicos Profesionales en Bogota Region {programas.shape[0]}\")"
   ]
  },
  {
   "cell_type": "markdown",
   "id": "ca1a04c5",
   "metadata": {},
   "source": [
    "### Guardar base SNIES filtrada para Bogotá-Región (TYT)"
   ]
  },
  {
   "cell_type": "code",
   "execution_count": null,
   "id": "7fa062bf",
   "metadata": {},
   "outputs": [],
   "source": [
    "nombre_archivo = f\"../ICFES/00 Input/SNIES_CINE_cleaned/base_snies_tyt_bogota_region_corte_{fecha_hoy}.csv\"\n",
    "programas.to_csv(nombre_archivo, index=False)"
   ]
  },
  {
   "cell_type": "markdown",
   "id": "13b928e5",
   "metadata": {},
   "source": [
    "----"
   ]
  },
  {
   "cell_type": "markdown",
   "id": "ed1171df",
   "metadata": {},
   "source": [
    "# Seccion Promedios\n",
    "\n",
    "El objetivo es calcular el promedio de:\n",
    "1. Saber PRO por programa\n",
    "2. Saber TYT por programa"
   ]
  },
  {
   "cell_type": "markdown",
   "id": "b1b2c49f",
   "metadata": {},
   "source": [
    "----"
   ]
  },
  {
   "cell_type": "markdown",
   "id": "298815fe",
   "metadata": {},
   "source": [
    "# Saber PRO"
   ]
  },
  {
   "cell_type": "code",
   "execution_count": null,
   "id": "2fac2b6e",
   "metadata": {},
   "outputs": [],
   "source": [
    "# Importación de librerías principales para manejo de datos y utilidades de sistema de archivos\n",
    "import os\n",
    "import pandas as pd\n",
    "import numpy as np\n",
    "from pathlib import Path"
   ]
  },
  {
   "cell_type": "code",
   "execution_count": null,
   "id": "fd2c7792",
   "metadata": {},
   "outputs": [],
   "source": [
    "# Diccionario de pares de campos CINE y sus llaves ICINE para diferentes niveles de agregación\n",
    "pares_cines_dict = {\n",
    "    \"amplio\": {\"cine\": \"cine_f_2013_ac_campo_amplio\", \"icine\": \"icine_amplio\"},\n",
    "    \"especifico\": {\"cine\": \"cine_f_2013_ac_campo_especific\", \"icine\": \"icine_spec\"},\n",
    "    \"detallado\": {\"cine\": \"cine_f_2013_ac_campo_detallado\", \"icine\": \"icine_detall\"}\n",
    "}\n",
    "\n",
    "# Función para resumir valores nulos y NaN en cada columna de un DataFrame\n",
    "def resumen_nans(df):\n",
    "    summary = []\n",
    "    for col in df.columns:\n",
    "        summary.append({\n",
    "            \"column\": col,\n",
    "            \"class\": df[col].dtype.name,\n",
    "            \"NA_count\": df[col].isna().sum(),\n",
    "            \"NaN_count\": df[col].isna().sum() if df[col].dtype.kind in 'fc' else 0\n",
    "        })\n",
    "    return pd.DataFrame(summary)\n",
    "\n",
    "# Función para detectar valores no emparejados entre dos tablas por columnas clave\n",
    "def detectar_valores_no_emparejados(tabla_referencia, tabla_comparacion,\n",
    "                                     columna_referencia, columna_comparacion,\n",
    "                                     incluir_filas_afectadas=False):\n",
    "    valores_ref = tabla_referencia[columna_referencia].dropna().unique()\n",
    "    valores_comp = tabla_comparacion[columna_comparacion].dropna().unique()\n",
    "    \n",
    "    sin_match_ref = np.setdiff1d(valores_ref, valores_comp)\n",
    "    sin_match_comp = np.setdiff1d(valores_comp, valores_ref)\n",
    "\n",
    "    resultado = {\n",
    "        \"valores_sin_correspondencia_referencia\": sin_match_ref,\n",
    "        \"cantidad_valores_sin_correspondencia_referencia\": len(sin_match_ref),\n",
    "        \"valores_sin_correspondencia_comparacion\": sin_match_comp,\n",
    "        \"cantidad_valores_sin_correspondencia_comparacion\": len(sin_match_comp),\n",
    "    }\n",
    "\n",
    "    if incluir_filas_afectadas:\n",
    "        filas_afectadas_ref = tabla_referencia[tabla_referencia[columna_referencia].isin(sin_match_ref)]\n",
    "        filas_afectadas_comp = tabla_comparacion[tabla_comparacion[columna_comparacion].isin(sin_match_comp)]\n",
    "        resultado.update({\n",
    "            \"cantidad_filas_afectadas_referencia\": len(filas_afectadas_ref),\n",
    "            \"filas_afectadas_referencia\": filas_afectadas_ref,\n",
    "            \"cantidad_filas_afectadas_comparacion\": len(filas_afectadas_comp),\n",
    "            \"filas_afectadas_comparacion\": filas_afectadas_comp\n",
    "        })\n",
    "    \n",
    "    return resultado\n",
    "\n",
    "# Función para resumir por CINE e ICINE, con posibilidad de filtrar por nivel de formación\n",
    "def resumir_por_cine(df, cine, icine, nivel_filtrado=None):\n",
    "    if nivel_filtrado:\n",
    "        df = df[df['nivel_de_formacion'].isin([nivel_filtrado])]\n",
    "    \n",
    "    grouped = df.groupby([cine, icine])\n",
    "    resumen = grouped.agg(\n",
    "        n_estudiantes=('punt_global', 'count'),\n",
    "        promedio_punt_saberpro=('punt_global', 'mean'),\n",
    "        codigo_institucion=('codigo_institucion','first'),\n",
    "        nombre_institucion=('nombre_institucion', 'first'),\n",
    "        snies_programa=('estu_snies_prgmacademico', lambda x: \"; \".join(map(str, x.unique()))),\n",
    "        conteo_por_programa=('estu_snies_prgmacademico', lambda x: dict(x.value_counts())),\n",
    "        nombre_del_programa=('nombre_del_programa', lambda x: \"; \".join(x.unique())),\n",
    "        periodo=('año_presentacion', 'first')\n",
    "    ).reset_index()\n",
    "    return resumen\n",
    "\n",
    "# Función para obtener resumen por programa con información agregada de su CINE\n",
    "def resumen_programas_con_info_cine(df, cine, nivel_filtrado=None):\n",
    "    if nivel_filtrado:\n",
    "        df = df[df['nivel_de_formacion'].isin([nivel_filtrado])]\n",
    "\n",
    "    # Resumen por CINE\n",
    "    resumen_cine = df.groupby(cine).agg(\n",
    "        promedio_cine=('punt_global', 'mean'),\n",
    "        n_estudiantes_cine=('punt_global', 'count')\n",
    "    ).reset_index()\n",
    "\n",
    "    # Resumen por PROGRAMA dentro del CINE\n",
    "    resumen_prog = df.groupby([cine, 'estu_snies_prgmacademico']).agg(\n",
    "        promedio_programa=('punt_global', 'mean'),\n",
    "        codigo_institucion=('codigo_institucion', 'first'),\n",
    "        nombre_institucion=('nombre_institucion', 'first'),\n",
    "        nombre_del_programa=('nombre_del_programa', 'first'),\n",
    "        n_estudiantes_programa=('punt_global', 'count'),\n",
    "        periodo=('año_presentacion', 'first')\n",
    "    ).reset_index()\n",
    "\n",
    "    # Unir ambos resúmenes para que cada programa tenga la info de su cine\n",
    "    resumen_final = resumen_prog.merge(resumen_cine, on=cine, how='left')\n",
    "\n",
    "    return resumen_final\n",
    "\n",
    "# Función para resumen por programa (sin CINE)\n",
    "def resumir_por_programa(df):\n",
    "    resumen = df.groupby(\n",
    "        [\"codigo_snies_del_programa\", \"nombre_del_programa\"],\n",
    "        dropna=False\n",
    "    ).agg(\n",
    "        n_estudiantes=('punt_global', 'count'),\n",
    "        promedio_punt_saberpro=('punt_global', 'mean'),\n",
    "        n_estudiantes_matriculados=(\n",
    "            'periodo',\n",
    "            lambda x: sum(str(p)[-1] == \"1\" for p in x if pd.notnull(p))\n",
    "        ),\n",
    "        nombre_institucion=('nombre_institucion', 'first'),\n",
    "        periodo=('año_presentacion', 'first')\n",
    "    ).reset_index()\n",
    "    \n",
    "    return resumen\n",
    "\n",
    "# Función para exportar resúmenes a archivos CSV\n",
    "def exportar_resumenes(lista_resumenes, grupo_sufijo):\n",
    "    carpeta_salida = Path(\"data/Promedios\")\n",
    "    carpeta_salida.mkdir(parents=True, exist_ok=True)\n",
    "    \n",
    "    for nombre, df in lista_resumenes.items():\n",
    "        filename = f\"promedios_cine{nombre}_{grupo_sufijo}.csv\"\n",
    "        ruta = carpeta_salida / filename\n",
    "        df.to_csv(ruta, index=False)\n",
    "        print(f\"Exportado: {ruta}\")"
   ]
  },
  {
   "cell_type": "code",
   "execution_count": null,
   "id": "b37ac681",
   "metadata": {},
   "outputs": [],
   "source": [
    "# Lectura de datos limpios de Saber Pro y programas SNIES para Bogotá-Región\n",
    "base_saber_pro = pd.read_csv(\"../ICFES/SABERPRO_cleaned/base_sbpro_bogota_region_corte_01082025.csv\")\n",
    "programas = pd.read_csv(\"../ICFES/SNIES_CINE_cleaned/base_snies_sbpro_bogota_region_corte_01082025.csv\")"
   ]
  },
  {
   "cell_type": "code",
   "execution_count": null,
   "id": "eb35f9bf-3b42-437a-ba84-9833cc53ab17",
   "metadata": {},
   "outputs": [],
   "source": [
    "### reemplazo del codigo snies\n",
    "#El 1 de octubre se solicitó actualizar el codigo snies del programa identificado actualmente por 106242. Su codigo anterior era 91238\n",
    "mappings = {\n",
    "    \"estu_snies_prgmacademico\": {91238: 106242},\n",
    "    \"codigo_snies_del_programa\": {91238: 106242}\n",
    "}\n",
    "\n",
    "# aplicar directamente sin loops\n",
    "base_saber_pro[\"estu_snies_prgmacademico\"] = (\n",
    "    base_saber_pro[\"estu_snies_prgmacademico\"].replace(mappings[\"estu_snies_prgmacademico\"])\n",
    ")\n",
    "\n",
    "programas[\"codigo_snies_del_programa\"] = (\n",
    "    programas[\"codigo_snies_del_programa\"].replace(mappings[\"codigo_snies_del_programa\"])\n",
    ")"
   ]
  },
  {
   "cell_type": "code",
   "execution_count": null,
   "id": "f3516b3c",
   "metadata": {},
   "outputs": [],
   "source": [
    "# Cruce de Saber Pro con programas SNIES usando el código SNIES del programa como llave\n",
    "data = pd.merge(\n",
    "    base_saber_pro,\n",
    "    programas,\n",
    "    left_on=\"estu_snies_prgmacademico\",\n",
    "    right_on=\"codigo_snies_del_programa\",\n",
    "    how=\"left\"\n",
    ")\n",
    "\n",
    "# Crear columna de año de presentación y asegurar tipos numéricos para las llaves\n",
    "data['año_presentacion'] = data['periodo']//10\n",
    "data[\"codigo_snies_del_programa\"] = pd.to_numeric(data[\"codigo_snies_del_programa\"], errors=\"coerce\").astype(\"Int64\")\n",
    "data[\"codigo_institucion\"] = pd.to_numeric(data[\"codigo_institucion\"], errors=\"coerce\").astype(\"Int64\")"
   ]
  },
  {
   "cell_type": "code",
   "execution_count": null,
   "id": "6318b67b",
   "metadata": {},
   "outputs": [],
   "source": [
    "# Filtrar solo programas universitarios activos y de pregrado con llaves válidas\n",
    "data = data[\n",
    "    data[\"codigo_snies_del_programa\"].notna() &\n",
    "    data[\"codigo_institucion\"].notna() &\n",
    "    (data[\"estado_programa\"] == \"Activo\") &\n",
    "    (data[\"nivel_de_formacion\"] == \"Universitario\") &\n",
    "    (data[\"nivel_academico\"] == \"Pregrado\")\n",
    "]"
   ]
  },
  {
   "cell_type": "code",
   "execution_count": null,
   "id": "2ee1e6bd",
   "metadata": {},
   "outputs": [],
   "source": [
    "# Validación de emparejamiento entre Saber Pro y SNIES\n",
    "no_emparejados = detectar_valores_no_emparejados(\n",
    "    base_saber_pro, programas,\n",
    "    \"estu_snies_prgmacademico\", \"codigo_snies_del_programa\"\n",
    ")\n",
    "print(\"No emparejados (referencia):\", no_emparejados[\"cantidad_valores_sin_correspondencia_referencia\"])\n",
    "print(\"No emparejados (comparación):\", no_emparejados[\"cantidad_valores_sin_correspondencia_comparacion\"])"
   ]
  },
  {
   "cell_type": "code",
   "execution_count": null,
   "id": "1d6402df",
   "metadata": {},
   "outputs": [],
   "source": [
    "# Resumen de valores nulos y NaN en la base combinada\n",
    "data_summary = resumen_nans(data)"
   ]
  },
  {
   "cell_type": "code",
   "execution_count": null,
   "id": "c9eb1ea5",
   "metadata": {},
   "outputs": [],
   "source": [
    "# Crear llaves ICINE para análisis por CINE y programa\n",
    "data[\"icine_spec\"] = data[\"codigo_institucion\"].astype(str) + \"_\" + data[\"cine_f_2013_ac_campo_especific\"].astype(str)\n",
    "data[\"icine_detall\"] = data[\"codigo_institucion\"].astype(str) + \"_\" + data[\"cine_f_2013_ac_campo_detallado\"].astype(str)\n",
    "data[\"icine_amplio\"] = data[\"codigo_institucion\"].astype(str) + \"_\" + data[\"cine_f_2013_ac_campo_amplio\"].astype(str)\n",
    "\n",
    "# Calcular resumen por ICINE detallado para los años seleccionados\n",
    "años = [2020, 2021, 2022, 2023]\n",
    "cines_para_resumir = [\"detallado\"]\n",
    "consolidado = []\n",
    "\n",
    "for año in años:\n",
    "    data_temp = data[data[\"año_presentacion\"] == año]\n",
    "    resumenes_universitario = {\n",
    "        nombre: resumir_por_cine(\n",
    "            data_temp,\n",
    "            pares_cines_dict[nombre][\"cine\"],\n",
    "            pares_cines_dict[nombre][\"icine\"]\n",
    "        )\n",
    "        for nombre in cines_para_resumir\n",
    "    }\n",
    "    # Agregar los dataframes a la lista de consolidación\n",
    "    for df in resumenes_universitario.values():\n",
    "        consolidado.append(df)\n",
    "\n",
    "base_universitario = pd.concat(consolidado, ignore_index=True)\n"
   ]
  },
  {
   "cell_type": "code",
   "execution_count": null,
   "id": "11ccf731",
   "metadata": {},
   "outputs": [],
   "source": [
    "# Vista rápida del resumen por ICINE detallado para universitarios\n",
    "base_universitario.head()"
   ]
  },
  {
   "cell_type": "markdown",
   "id": "d09461aa",
   "metadata": {},
   "source": [
    "quería pedirte de vuelta las bases de saber Pro y saber TyT. Pero con la llave tanto de codigo IES; como codigos SNIES del programa. promediado a nivel de CINE F13 AC pero a nivel de programa. Y a parte del promedio el número de estudiantes que presentaron saber pro, tanto a nivel de programa como a nivel de CINE F13 AC. "
   ]
  },
  {
   "cell_type": "markdown",
   "id": "f46543fc",
   "metadata": {},
   "source": [
    "### Pivot tables de los ICINE"
   ]
  },
  {
   "cell_type": "code",
   "execution_count": null,
   "id": "401596b4",
   "metadata": {},
   "outputs": [],
   "source": [
    "# Pivot table para ver el promedio por ICINE detallado y periodo (año)\n",
    "pivot_universitario = base_universitario.pivot_table(\n",
    "    index=[\"icine_detall\"],     # Puede cambiarse a icine_spec o icine_amplio si se requiere\n",
    "    columns=\"periodo\",\n",
    "    values=\"promedio_punt_saberpro\"\n",
    ")\n",
    "\n",
    "# Agregar columna para identificar el nivel de formación\n",
    "pivot_universitario['NF'] = \"Universitario\""
   ]
  },
  {
   "cell_type": "code",
   "execution_count": null,
   "id": "47ead667",
   "metadata": {},
   "outputs": [],
   "source": [
    "# Vista rápida de la tabla pivoteada\n",
    "pivot_universitario.head()"
   ]
  },
  {
   "cell_type": "code",
   "execution_count": null,
   "id": "d1100a46",
   "metadata": {},
   "outputs": [],
   "source": [
    "# Exportar la tabla pivoteada a Excel con la fecha de corte en el nombre\n",
    "from datetime import datetime\n",
    "\n",
    "# Generar string de fecha actual en formato DDMMYYYY\n",
    "fecha_hoy = datetime.today().strftime('%d%m%Y')\n",
    "\n",
    "pivot_universitario.to_excel(\n",
    "    f\"../ICFES/Promedios/icine4d_universitario_bogota_region_corte_{fecha_hoy}.xlsx\", index=True\n",
    ")"
   ]
  },
  {
   "cell_type": "markdown",
   "id": "ecbb5c2e",
   "metadata": {},
   "source": [
    "### Resumen por programa"
   ]
  },
  {
   "cell_type": "code",
   "execution_count": null,
   "id": "a7f04d8e",
   "metadata": {},
   "outputs": [],
   "source": [
    "# Resumen por programa para cada año de presentación\n",
    "##################################\n",
    "# Resumen por programa\n",
    "##################################\n",
    "años = [2020, 2021, 2022, 2023,2024]\n",
    "consolidado = []\n",
    "for año in años:\n",
    "    data_temp = data[data[\"año_presentacion\"] == año].copy()\n",
    "    promedios_programa = resumir_por_programa(data_temp)\n",
    "    consolidado.append(promedios_programa)"
   ]
  },
  {
   "cell_type": "code",
   "execution_count": null,
   "id": "32c37cae",
   "metadata": {},
   "outputs": [],
   "source": [
    "# Concatenar todos los resúmenes anuales en una sola base\n",
    "base_probase_programasgramas = pd.concat(consolidado, ignore_index=True)"
   ]
  },
  {
   "cell_type": "code",
   "execution_count": null,
   "id": "9dc47d38",
   "metadata": {},
   "outputs": [],
   "source": [
    "# Pivot table para ver el promedio por programa y periodo (año)\n",
    "pivot_base_programas = base_programas.pivot_table(\n",
    "    index=[\"codigo_snies_del_programa\"],     # Puede cambiarse a icine_spec o icine_detall si se requiere\n",
    "    columns=\"periodo\",\n",
    "    values=\"promedio_punt_saberpro\"\n",
    ")"
   ]
  },
  {
   "cell_type": "code",
   "execution_count": null,
   "id": "c6d58821",
   "metadata": {},
   "outputs": [],
   "source": [
    "# Exportar la tabla pivoteada de promedios por programa a Excel\n",
    "from datetime import datetime\n",
    "\n",
    "# Generar string de fecha actual en formato DDMMYYYY\n",
    "fecha_hoy = datetime.today().strftime('%d%m%Y')\n",
    "\n",
    "pivot_base_programas.to_excel(\n",
    "    f\"../ICFES/Promedios/programas_sbpro_bogota_region_corte_{fecha_hoy}.xlsx\", \n",
    "    index=True,\n",
    ")"
   ]
  },
  {
   "cell_type": "markdown",
   "id": "950bcde9",
   "metadata": {},
   "source": [
    "### Resumen por Programa con promedio de CINE y Programa"
   ]
  },
  {
   "cell_type": "code",
   "execution_count": null,
   "id": "8680c4b7",
   "metadata": {},
   "outputs": [],
   "source": [
    "# Resumen por programa con información de CINE para cada año\n",
    "# Crear llaves ICINE y calcular resumen por ICINE detallado\n",
    "data[\"icine_spec\"] = data[\"codigo_institucion\"].astype(str) + \"_\" + data[\"cine_f_2013_ac_campo_especific\"].astype(str)\n",
    "data[\"icine_detall\"] = data[\"codigo_institucion\"].astype(str) + \"_\" + data[\"cine_f_2013_ac_campo_detallado\"].astype(str)\n",
    "data[\"icine_amplio\"] = data[\"codigo_institucion\"].astype(str) + \"_\" + data[\"cine_f_2013_ac_campo_amplio\"].astype(str)\n",
    "\n",
    "años = [2020, 2021, 2022, 2023,2024]\n",
    "cines_para_resumir = [\"detallado\"]\n",
    "consolidado = []\n",
    "\n",
    "for año in años:\n",
    "    data_temp = data[data[\"año_presentacion\"] == año]\n",
    "    resumenes_universitario = {\n",
    "        nombre: resumen_programas_con_info_cine(\n",
    "            data_temp,\n",
    "            pares_cines_dict[nombre][\"cine\"],\n",
    "        )\n",
    "        for nombre in cines_para_resumir\n",
    "    }\n",
    "    for df in resumenes_universitario.values():\n",
    "        consolidado.append(df)\n",
    "\n",
    "base_universitario = pd.concat(consolidado, ignore_index=True)"
   ]
  },
  {
   "cell_type": "code",
   "execution_count": null,
   "id": "0d543b75",
   "metadata": {},
   "outputs": [],
   "source": [
    "# Exportar resumen por programa con información de CINE a Excel\n",
    "from datetime import datetime\n",
    "column_order = [\n",
    "    #'cine_f_2013_ac_campo_detallado',\n",
    "    'estu_snies_prgmacademico',\n",
    "    'nombre_del_programa',\n",
    "    'codigo_institucion',\n",
    "    'nombre_institucion',\n",
    "    'n_estudiantes_programa',\n",
    "    'n_estudiantes_cine',\n",
    "    'promedio_programa',\n",
    "    'promedio_cine',\n",
    "    'periodo',\n",
    "]\n",
    "\n",
    "# Generar string de fecha actual en formato DDMMYYYY\n",
    "fecha_hoy = datetime.today().strftime('%d%m%Y')\n",
    "\n",
    "base_universitario.to_excel(\n",
    "    f\"../ICFES/Promedios/cine4d_universitario_bogota_region_{fecha_hoy}.xlsx\",\n",
    "    columns = column_order,\n",
    "    index=False)\n"
   ]
  },
  {
   "cell_type": "code",
   "execution_count": null,
   "id": "074cb56f",
   "metadata": {},
   "outputs": [],
   "source": [
    "# Vista rápida del resumen final por programa y CINE\n",
    "base_universitario.tail()"
   ]
  },
  {
   "cell_type": "markdown",
   "id": "7bb5a895",
   "metadata": {},
   "source": [
    "# Saber TyT"
   ]
  },
  {
   "cell_type": "markdown",
   "id": "3884877f",
   "metadata": {},
   "source": [
    "1. La información del saber TYT proviene de dataicfes\n",
    "2. La información de los programas de TYT proviene de https://hecaa.mineducacion.gov.co/consultaspublicas/programas\n",
    "\n"
   ]
  },
  {
   "cell_type": "code",
   "execution_count": null,
   "id": "ff551aca",
   "metadata": {},
   "outputs": [],
   "source": [
    "# Importación de librerías principales para manejo de datos y utilidades de sistema de archivos\n",
    "##################################\n",
    "# Librerías\n",
    "##################################\n",
    "import os\n",
    "import pandas as pd\n",
    "import numpy as np"
   ]
  },
  {
   "cell_type": "code",
   "execution_count": null,
   "id": "3eba8445",
   "metadata": {},
   "outputs": [],
   "source": [
    "# Diccionario de pares de campos CINE y sus llaves ICINE para diferentes niveles de agregación\n",
    "##################################\n",
    "# Constantes\n",
    "##################################\n",
    "pares_cines_dict = {\n",
    "    \"amplio\": {\"cine\": \"cine_f_2013_ac_campo_amplio\", \"icine\": \"icine_amplio\"},\n",
    "    \"especifico\": {\"cine\": \"cine_f_2013_ac_campo_especific\", \"icine\": \"icine_spec\"},\n",
    "    \"detallado\": {\"cine\": \"cine_f_2013_ac_campo_detallado\", \"icine\": \"icine_detall\"}\n",
    "}\n",
    "\n",
    "# Funciones para resumen y validación de datos\n",
    "##################################\n",
    "# Funciones\n",
    "##################################\n",
    "\n",
    "# Función para resumir valores nulos y NaN en cada columna de un DataFrame\n",
    "def resumen_nans(df):\n",
    "    resumen = pd.DataFrame({\n",
    "        \"column\": df.columns,\n",
    "        \"class\": [df[col].dtype for col in df.columns],\n",
    "        \"NA_count\": [df[col].isna().sum() for col in df.columns],\n",
    "        \"NaN_count\": [np.isnan(df[col]).sum() if pd.api.types.is_numeric_dtype(df[col]) else 0 for col in df.columns]\n",
    "    })\n",
    "    return resumen\n",
    "\n",
    "# Función para detectar valores no emparejados entre dos tablas por columnas clave\n",
    "def detectar_valores_no_emparejados(tabla_referencia, tabla_comparacion,\n",
    "                                     columna_referencia, columna_comparacion,\n",
    "                                     incluir_filas_afectadas=False):\n",
    "    valores_ref = tabla_referencia[columna_referencia].dropna().unique()\n",
    "    valores_comp = tabla_comparacion[columna_comparacion].dropna().unique()\n",
    "    \n",
    "    valores_sin_match_ref = list(set(valores_ref) - set(valores_comp))\n",
    "    valores_sin_match_comp = list(set(valores_comp) - set(valores_ref))\n",
    "    \n",
    "    resultado = {\n",
    "        \"valores_sin_correspondencia_referencia\": valores_sin_match_ref,\n",
    "        \"cantidad_valores_sin_correspondencia_referencia\": len(valores_sin_match_ref),\n",
    "        \"valores_sin_correspondencia_comparacion\": valores_sin_match_comp,\n",
    "        \"cantidad_valores_sin_correspondencia_comparacion\": len(valores_sin_match_comp)\n",
    "    }\n",
    "    \n",
    "    if incluir_filas_afectadas:\n",
    "        resultado[\"filas_afectadas_referencia\"] = tabla_referencia[\n",
    "            tabla_referencia[columna_referencia].isin(valores_sin_match_ref)]\n",
    "        resultado[\"filas_afectadas_comparacion\"] = tabla_comparacion[\n",
    "            tabla_comparacion[columna_comparacion].isin(valores_sin_match_comp)]\n",
    "    \n",
    "    return resultado\n",
    "\n",
    "# Función para resumir por CINE e ICINE, con posibilidad de filtrar por nivel de formación\n",
    "def resumir_por_cine(df, cine, icine, nivel_filtrado=None):\n",
    "    if nivel_filtrado:\n",
    "        df = df[df[\"nivel_de_formacion\"].isin([nivel_filtrado])]\n",
    "    \n",
    "    resumen = df.groupby([cine, icine], dropna=False).agg(\n",
    "        n_estudiantes=('punt_global', 'count'),\n",
    "        promedio_punt_sabertyt=('punt_global', 'mean'),\n",
    "        nombre_institucion=('nombre_institucion', 'first'),\n",
    "        snies_programa=('estu_snies_prgmacademico', lambda x: \"; \".join(x.dropna().astype(str).unique())),\n",
    "        nombre_del_programa=('nombre_del_programa', lambda x: \"; \".join(x.dropna().astype(str).unique())),\n",
    "        periodo=('año_presentacion', 'first')\n",
    "    ).reset_index()\n",
    "    \n",
    "    return resumen\n",
    "\n",
    "# Función para obtener resumen por programa con información agregada de su CINE\n",
    "def resumen_programas_con_info_cine(df, cine, nivel_filtrado=None):\n",
    "    if nivel_filtrado:\n",
    "        df = df[df['nivel_de_formacion'].isin([nivel_filtrado])]\n",
    "\n",
    "    # Resumen por CINE\n",
    "    resumen_cine = df.groupby(cine).agg(\n",
    "        promedio_cine=('punt_global', 'mean'),\n",
    "        n_estudiantes_cine=('punt_global', 'count')\n",
    "    ).reset_index()\n",
    "\n",
    "    # Resumen por PROGRAMA dentro del CINE\n",
    "    resumen_prog = df.groupby([cine, 'estu_snies_prgmacademico']).agg(\n",
    "        promedio_programa=('punt_global', 'mean'),\n",
    "        codigo_institucion=('codigo_institucion', 'first'),\n",
    "        nombre_institucion=('nombre_institucion', 'first'),\n",
    "        nombre_del_programa=('nombre_del_programa', 'first'),\n",
    "        n_estudiantes_programa=('punt_global', 'count'),\n",
    "        periodo=('año_presentacion', 'first')\n",
    "    ).reset_index()\n",
    "\n",
    "    # Unir ambos resúmenes para que cada programa tenga la info de su cine\n",
    "    resumen_final = resumen_prog.merge(resumen_cine, on=cine, how='left')\n",
    "\n",
    "    return resumen_final\n",
    "\n",
    "# Función para resumen por programa (sin CINE)\n",
    "def resumir_por_programa(df):\n",
    "    resumen = df.groupby(\n",
    "        [\"codigo_snies_del_programa\", \"nombre_del_programa\", \"nivel_de_formacion\"],\n",
    "        dropna=False\n",
    "    ).agg(\n",
    "        n_estudiantes=('punt_global', 'count'),\n",
    "        promedio_punt_sabertyt=('punt_global', 'mean'),\n",
    "        n_estudiantes_matriculados=(\n",
    "            'periodo',\n",
    "            lambda x: sum(str(p)[-1] == \"1\" for p in x if pd.notnull(p))\n",
    "        ),\n",
    "        nombre_institucion=('nombre_institucion', 'first'),\n",
    "        periodo=('año_presentacion', 'first')\n",
    "    ).reset_index()\n",
    "    \n",
    "    return resumen\n",
    "\n",
    "# Función para exportar resúmenes a archivos CSV\n",
    "def exportar_resumenes(lista_resumenes, grupo_sufijo):\n",
    "    carpeta_salida = \"../ICFES/Promedios\"\n",
    "    os.makedirs(carpeta_salida, exist_ok=True)\n",
    "    \n",
    "    for nombre, df in lista_resumenes.items():\n",
    "        filename = f\"promedios_cine{nombre}_{grupo_sufijo}.csv\"\n",
    "        ruta_completa = os.path.join(carpeta_salida, filename)\n",
    "        df.to_csv(ruta_completa, index=False)\n",
    "        print(f\"Exportado: {ruta_completa}\")"
   ]
  },
  {
   "cell_type": "code",
   "execution_count": null,
   "id": "787b374e",
   "metadata": {},
   "outputs": [],
   "source": [
    "# Lectura de datos limpios de Saber TYT y programas SNIES-TYT para Bogotá-Región\n",
    "##################################\n",
    "# Lectura de datos\n",
    "##################################\n",
    "base_sabertyt = pd.read_csv(\"../ICFES/SABERTYT_cleaned/base_sbtyt_bogota_region_corte_01082025.csv\")\n",
    "programas_tyt = pd.read_csv(\"../ICFES/SNIES_CINE_cleaned/base_snies_tyt_bogota_region_corte_01082025.csv\")"
   ]
  },
  {
   "cell_type": "code",
   "execution_count": null,
   "id": "9537fd81",
   "metadata": {},
   "outputs": [],
   "source": [
    "# Cruce de Saber TYT con programas SNIES-TYT usando el código SNIES del programa como llave\n",
    "data = pd.merge(\n",
    "    base_sabertyt,\n",
    "    programas_tyt,\n",
    "    how=\"left\",\n",
    "    left_on=\"estu_snies_prgmacademico\",\n",
    "    right_on=\"codigo_snies_del_programa\"\n",
    ")\n",
    "\n",
    "# Filtrar registros con llaves válidas\n",
    "data = data[~(data[\"estu_snies_prgmacademico\"].isna() | data[\"codigo_institucion\"].isna())]\n",
    "data[\"codigo_institucion\"] = pd.to_numeric(data[\"codigo_institucion\"], errors=\"coerce\").astype(\"Int64\")\n",
    "data[\"codigo_snies_del_programa\"] = pd.to_numeric(data[\"codigo_snies_del_programa\"], errors=\"coerce\").astype(\"Int64\")\n",
    "\n",
    "# Validación de emparejamiento entre Saber TYT y SNIES-TYT\n",
    "no_emparejados = detectar_valores_no_emparejados(\n",
    "    base_sabertyt, programas_tyt,\n",
    "    \"estu_snies_prgmacademico\", \"codigo_snies_del_programa\"\n",
    ")\n",
    "print(no_emparejados[\"cantidad_valores_sin_correspondencia_referencia\"])\n",
    "print(no_emparejados[\"cantidad_valores_sin_correspondencia_comparacion\"])"
   ]
  },
  {
   "cell_type": "code",
   "execution_count": null,
   "id": "77c91068",
   "metadata": {},
   "outputs": [],
   "source": [
    "# Resumen de valores nulos y NaN en la base combinada TYT\n",
    "##################################\n",
    "# Resumen NaNs\n",
    "##################################\n",
    "data_summary = resumen_nans(data)\n",
    "data_summary"
   ]
  },
  {
   "cell_type": "code",
   "execution_count": null,
   "id": "a6f32cf1",
   "metadata": {},
   "outputs": [],
   "source": [
    "# Crear llaves ICINE para análisis por CINE y programa en TYT\n",
    "##################################\n",
    "# Crear columna ICINE\n",
    "##################################\n",
    "data[\"icine_spec\"] = data[\"codigo_institucion\"].astype(str) + \"_\" + data[\"cine_f_2013_ac_campo_especific\"].astype(str)\n",
    "data[\"icine_detall\"] = data[\"codigo_institucion\"].astype(str) + \"_\" + data[\"cine_f_2013_ac_campo_detallado\"].astype(str)\n",
    "data[\"icine_amplio\"] = data[\"codigo_institucion\"].astype(str) + \"_\" + data[\"cine_f_2013_ac_campo_amplio\"].astype(str)\n",
    "\n",
    "# Calcular resumen por ICINE detallado para años seleccionados y niveles de formación\n",
    "##################################\n",
    "# Resumen por ICINE\n",
    "##################################\n",
    "años = [2020, 2021, 2022, 2023,2024]\n",
    "cines_para_resumir = [\"detallado\"]\n",
    "consolidado_tecnologico = []\n",
    "consolidado_tecnicoProfesional = []\n",
    "\n",
    "for año in años:\n",
    "    data_temp = data[data[\"año_presentacion\"] == año]\n",
    "    # Resumen para nivel Tecnológico\n",
    "    resumenes_tecnologico = {\n",
    "        nombre: resumir_por_cine(\n",
    "            data_temp,\n",
    "            pares_cines_dict[nombre][\"cine\"],\n",
    "            pares_cines_dict[nombre][\"icine\"],\n",
    "            \"Tecnologico\"\n",
    "        )\n",
    "        for nombre in cines_para_resumir\n",
    "    }\n",
    "    for df in resumenes_tecnologico.values():\n",
    "        consolidado_tecnologico.append(df)\n",
    "    # Resumen para nivel Técnico Profesional\n",
    "    resumenes_tecnica_profesional = {\n",
    "        nombre: resumir_por_cine(\n",
    "            data_temp,\n",
    "            pares_cines_dict[nombre][\"cine\"],\n",
    "            pares_cines_dict[nombre][\"icine\"],\n",
    "            \"Formacion Tecnica Profesional\"\n",
    "        )\n",
    "        for nombre in cines_para_resumir\n",
    "    }\n",
    "    for df in resumenes_tecnica_profesional.values():\n",
    "        consolidado_tecnicoProfesional.append(df)\n",
    "\n",
    "base_tecnologico = pd.concat(consolidado_tecnologico, ignore_index=True)\n",
    "base_tecnicoProfesional = pd.concat(consolidado_tecnicoProfesional, ignore_index=True)"
   ]
  },
  {
   "cell_type": "markdown",
   "id": "4d122445",
   "metadata": {},
   "source": [
    "### Pivot tables de los ICINE"
   ]
  },
  {
   "cell_type": "code",
   "execution_count": null,
   "id": "9225802d",
   "metadata": {},
   "outputs": [],
   "source": [
    "# Pivot table para ver el promedio por ICINE detallado y periodo (año) para nivel Tecnológico\n",
    "pivot_tecnologico = base_tecnologico.pivot_table(\n",
    "    index=[\"icine_detall\"],     # Puede cambiarse a icine_spec o icine_amplio si se requiere\n",
    "    columns=\"periodo\",\n",
    "    values=\"promedio_punt_sabertyt\"\n",
    ")\n",
    "\n",
    "# Agregar columna para identificar el nivel de formación\n",
    "pivot_tecnologico['NF'] = \"tecnologico\""
   ]
  },
  {
   "cell_type": "code",
   "execution_count": null,
   "id": "ff888540",
   "metadata": {},
   "outputs": [],
   "source": [
    "# Pivot table para ver el promedio por ICINE detallado y periodo (año) para nivel Técnico Profesional\n",
    "pivot_tecnico_profesional = base_tecnicoProfesional.pivot_table(\n",
    "    index=[\"icine_detall\"],     # Puede cambiarse a icine_spec o icine_amplio si se requiere\n",
    "    columns=\"periodo\",\n",
    "    values=\"promedio_punt_sabertyt\"\n",
    ")\n",
    "pivot_tecnico_profesional['NF'] = \"tecnico_profesional\""
   ]
  },
  {
   "cell_type": "code",
   "execution_count": null,
   "id": "8b565b08",
   "metadata": {},
   "outputs": [],
   "source": [
    "# Exportar las tablas pivoteadas a Excel con la fecha de corte en el nombre\n",
    "from datetime import datetime\n",
    "\n",
    "# Generar string de fecha actual en formato DDMMYYYY\n",
    "fecha_hoy = datetime.today().strftime('%d%m%Y')\n",
    "\n",
    "pivot_tecnico_profesional.to_excel(\n",
    "    f\"../ICFES/Promedios/icine4d_tecnico_profesional_bogota_region_corte_{fecha_hoy}.xlsx\", index=True\n",
    ")\n",
    "pivot_tecnologico.to_excel(\n",
    "    f\"../ICFES/Promedios/icine4d_tecnologico_bogota_region_corte_{fecha_hoy}.xlsx\", \n",
    "    index=True,\n",
    ")"
   ]
  },
  {
   "cell_type": "markdown",
   "id": "94fdf22b",
   "metadata": {},
   "source": [
    "## Resumen por programa"
   ]
  },
  {
   "cell_type": "code",
   "execution_count": null,
   "id": "d041cb74",
   "metadata": {},
   "outputs": [],
   "source": [
    "# Resumen por programa para cada año de presentación en Saber TYT\n",
    "##################################\n",
    "# Resumen por programa\n",
    "##################################\n",
    "años = [2020, 2021, 2022, 2023,2024]\n",
    "consolidado = []\n",
    "for año in años:\n",
    "    data_temp = data[data[\"año_presentacion\"] == año].copy()\n",
    "    promedios_programa = resumir_por_programa(data_temp)\n",
    "    consolidado.append(promedios_programa)\n"
   ]
  },
  {
   "cell_type": "code",
   "execution_count": null,
   "id": "3ab8e2ef",
   "metadata": {},
   "outputs": [],
   "source": [
    "# Concatenar todos los resúmenes anuales en una sola base para programas TYT\n",
    "base_programas = pd.concat(consolidado, ignore_index=True)"
   ]
  },
  {
   "cell_type": "code",
   "execution_count": null,
   "id": "346792ea",
   "metadata": {},
   "outputs": [],
   "source": [
    "# Pivot table para ver el promedio por programa y periodo (año) en TYT\n",
    "pivot_base_programas = base_programas.pivot_table(\n",
    "    index=[\"codigo_snies_del_programa\",\"nivel_de_formacion\"],     # Puede cambiarse a icine_spec o icine_detall si se requiere\n",
    "    columns=\"periodo\",\n",
    "    values=\"promedio_punt_sabertyt\"\n",
    ")"
   ]
  },
  {
   "cell_type": "code",
   "execution_count": null,
   "id": "7fbe79c5",
   "metadata": {},
   "outputs": [],
   "source": [
    "# Exportar la tabla pivoteada de promedios por programa a Excel\n",
    "from datetime import datetime\n",
    "\n",
    "# Generar string de fecha actual en formato DDMMYYYY\n",
    "fecha_hoy = datetime.today().strftime('%d%m%Y')\n",
    "\n",
    "pivot_base_programas.to_excel(\n",
    "    f\"../ICFES/Promedios/programas_tyt_bogota_region_corte_{fecha_hoy}.xlsx\", \n",
    "    index=True,\n",
    ")"
   ]
  },
  {
   "cell_type": "markdown",
   "id": "08cf394c",
   "metadata": {},
   "source": [
    "### Resumen por Programa con promedio de CINE y Programa"
   ]
  },
  {
   "cell_type": "code",
   "execution_count": null,
   "id": "4bdfdf34",
   "metadata": {},
   "outputs": [],
   "source": [
    "# Resumen por programa con información de CINE para cada año en TYT\n",
    "# Crear llaves ICINE y calcular resumen por ICINE detallado\n",
    "data[\"icine_spec\"] = data[\"codigo_institucion\"].astype(str) + \"_\" + data[\"cine_f_2013_ac_campo_especific\"].astype(str)\n",
    "data[\"icine_detall\"] = data[\"codigo_institucion\"].astype(str) + \"_\" + data[\"cine_f_2013_ac_campo_detallado\"].astype(str)\n",
    "data[\"icine_amplio\"] = data[\"codigo_institucion\"].astype(str) + \"_\" + data[\"cine_f_2013_ac_campo_amplio\"].astype(str)\n",
    "\n",
    "años = [2020, 2021, 2022, 2023,2024]\n",
    "cines_para_resumir = [\"detallado\"]\n",
    "consolidado_tecnologico = []\n",
    "consolidado_tecnicoProfesional = []\n",
    "\n",
    "for año in años:\n",
    "    data_temp = data[data[\"año_presentacion\"] == año]\n",
    "    resumenes_tecnologico = {\n",
    "        nombre: resumen_programas_con_info_cine(\n",
    "            data_temp,\n",
    "            pares_cines_dict[nombre][\"cine\"],\n",
    "            \"Tecnologico\"\n",
    "        )\n",
    "        for nombre in cines_para_resumir\n",
    "    }\n",
    "    for df in resumenes_tecnologico.values():\n",
    "        consolidado_tecnologico.append(df)\n",
    "    resumenes_tecnica_profesional = {\n",
    "        nombre: resumen_programas_con_info_cine(\n",
    "            data_temp,\n",
    "            pares_cines_dict[nombre][\"cine\"],\n",
    "            \"Formacion Tecnica Profesional\"\n",
    "        )\n",
    "        for nombre in cines_para_resumir\n",
    "    }\n",
    "    for df in resumenes_tecnica_profesional.values():\n",
    "        consolidado_tecnicoProfesional.append(df)\n",
    "\n",
    "base_tecnologico = pd.concat(consolidado_tecnologico, ignore_index=True)\n",
    "base_tecnicoProfesional = pd.concat(consolidado_tecnicoProfesional, ignore_index=True)"
   ]
  },
  {
   "cell_type": "code",
   "execution_count": null,
   "id": "ef57fc8e",
   "metadata": {},
   "outputs": [],
   "source": [
    "# Exportar resumen por programa con información de CINE a Excel para TYT\n",
    "from datetime import datetime\n",
    "column_order = [\n",
    "    #'cine_f_2013_ac_campo_detallado',\n",
    "    'estu_snies_prgmacademico',\n",
    "    'nombre_del_programa',\n",
    "    'codigo_institucion',\n",
    "    'nombre_institucion',\n",
    "    'n_estudiantes_programa',\n",
    "    'n_estudiantes_cine',\n",
    "    'promedio_programa',\n",
    "    'promedio_cine',\n",
    "    'periodo',\n",
    "]\n",
    "\n",
    "# Generar string de fecha actual en formato DDMMYYYY\n",
    "fecha_hoy = datetime.today().strftime('%d%m%Y')\n",
    "\n",
    "base_tecnologico.to_excel(\n",
    "    f\"../ICFES/Promedios/cine4d_tecnologico_bogota_region_{fecha_hoy}.xlsx\",\n",
    "    columns = column_order,\n",
    "    index=False)\n",
    "\n",
    "base_tecnicoProfesional.to_excel(\n",
    "    f\"../ICFES/Promedios/cine4d_tecnico_bogota_region_{fecha_hoy}.xlsx\",\n",
    "    columns = column_order,\n",
    "    index=False)"
   ]
  }
 ],
 "metadata": {
  "kernelspec": {
   "display_name": "Python 3 (ipykernel)",
   "language": "python",
   "name": "python3"
  },
  "language_info": {
   "codemirror_mode": {
    "name": "ipython",
    "version": 3
   },
   "file_extension": ".py",
   "mimetype": "text/x-python",
   "name": "python",
   "nbconvert_exporter": "python",
   "pygments_lexer": "ipython3",
   "version": "3.13.5"
  }
 },
 "nbformat": 4,
 "nbformat_minor": 5
}
