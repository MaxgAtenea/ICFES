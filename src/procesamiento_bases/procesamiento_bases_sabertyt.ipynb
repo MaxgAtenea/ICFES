{
 "cells": [
  {
   "cell_type": "markdown",
   "id": "7284bc59",
   "metadata": {},
   "source": [
    "Cuardeno para procesar la data cruda del saber tyt de DataICFES"
   ]
  },
  {
   "cell_type": "markdown",
   "id": "31794a6d",
   "metadata": {},
   "source": [
    "### Constantes y Librerias "
   ]
  },
  {
   "cell_type": "code",
   "execution_count": 45,
   "id": "9f51604a",
   "metadata": {},
   "outputs": [],
   "source": [
    "import os\n",
    "import glob\n",
    "import pandas as pd\n",
    "from unidecode import unidecode\n",
    "import numpy as np\n",
    "import csv\n",
    "#Archivo con constantes\n",
    "import constants"
   ]
  },
  {
   "cell_type": "markdown",
   "id": "bc8eb26a",
   "metadata": {},
   "source": [
    "### Lectura informacion cruda del saber 11"
   ]
  },
  {
   "cell_type": "code",
   "execution_count": 46,
   "id": "a54908c1",
   "metadata": {},
   "outputs": [],
   "source": [
    "#Directorios con la datos del saber tyt\n",
    "data_dir_base_sbtyt = \"../data/SABERTYT_raw/\"\n",
    "\n",
    "#lista con la ruta de los archivos \n",
    "csv_files_sabertyt = glob.glob(os.path.join(data_dir_base_sbtyt, \"*.txt\"))"
   ]
  },
  {
   "cell_type": "code",
   "execution_count": 47,
   "id": "64cc05a7",
   "metadata": {},
   "outputs": [],
   "source": [
    "#Variables a seleccionar del saber tyt \n",
    "# Convertimos a set para búsquedas más rápidas\n",
    "cols_set = set(constants.cols_saber_tyt_lower)"
   ]
  },
  {
   "cell_type": "code",
   "execution_count": null,
   "id": "23e6672c",
   "metadata": {},
   "outputs": [],
   "source": [
    "# Lista donde se irán acumulando los DataFrames leídos\n",
    "data_list = []\n",
    "\n",
    "# Iteramos por cada archivo y su separador asociado\n",
    "for file_name, sep in constants.nombre_archivos_sabertyt.items():\n",
    "    file_path = os.path.join(data_dir_base_sbtyt, file_name)\n",
    "\n",
    "    # Elegimos el motor según el separador\n",
    "    engine = \"python\" if sep == \"¬\" else \"c\"\n",
    "\n",
    "    # Diccionario con argumentos comunes y condicionales\n",
    "\n",
    "    read_csv_args = {\n",
    "        \"sep\": sep,\n",
    "        \"usecols\": lambda c: c.lower() in cols_set, # Solo cargar columnas cuyo nombre (en minúscula) esté en la lista deseada\n",
    "        \"engine\": engine,\n",
    "        **(\n",
    "            {\"quotechar\": None, \"quoting\": csv.QUOTE_NONE, \"dtype\": str}  # Si el separador es '¬', desactivar manejo de comillas y forzar lectura como texto\n",
    "            if sep == \"¬\" else\n",
    "            {\"low_memory\": False} # Para otros separadores, mejorar manejo de tipos con low_memory=False\n",
    "        )\n",
    "    }\n",
    "    try:\n",
    "        # Leer el archivo con los argumentos definidos\n",
    "        df = pd.read_csv(file_path, **read_csv_args)\n",
    "\n",
    "        # Convertir todos los nombres de columnas a minúsculas\n",
    "        df.columns = df.columns.str.lower()\n",
    "\n",
    "        # Verificar si faltan columnas esperadas y avisar\n",
    "        faltantes = cols_set - set(df.columns)\n",
    "        if faltantes:\n",
    "            print(f\"Atención: en {file_name} faltan columnas: {faltantes}\")\n",
    "\n",
    "        # Agregar el DataFrame leído a la lista\n",
    "        data_list.append(df)\n",
    "\n",
    "    except Exception as err:\n",
    "        # Reportar errores durante la lectura\n",
    "        print(f\"Error leyendo {file_name} con separador '{sep}': {err}\")\n",
    "\n",
    "# Combinar todos los DataFrames en uno solo\n",
    "base_sbtyt = pd.concat(data_list, ignore_index=True)\n"
   ]
  },
  {
   "cell_type": "markdown",
   "id": "275b77ee",
   "metadata": {},
   "source": [
    "### Ajustes de formato "
   ]
  },
  {
   "cell_type": "markdown",
   "id": "f9c281a7",
   "metadata": {},
   "source": [
    "Tipado de variables"
   ]
  },
  {
   "cell_type": "code",
   "execution_count": 49,
   "id": "07f9acc1",
   "metadata": {},
   "outputs": [],
   "source": [
    "#Parse las columnas a los tipos de variables adecuados\n",
    "for col, dtype in constants.dtype_mapping_sabertyt.items():\n",
    "    if col in base_sbtyt.columns:\n",
    "        try:\n",
    "            base_sbtyt[col] = base_sbtyt[col].astype(dtype)\n",
    "        except Exception as e:\n",
    "            print(f\"No se pudo convertir la columna {col} a {dtype}: {e}\")\n",
    "\n",
    "\n",
    "cols_numericas = [\n",
    "    \"periodo\",\n",
    "    \"inst_cod_institucion\",\n",
    "    \"estu_snies_prgmacademico\",\n",
    "    \"estu_prgm_codmunicipio\"\n",
    "]        \n",
    "#parse a numerico las variables numericas\n",
    "for col in cols_numericas:\n",
    "    base_sbtyt[col] = pd.to_numeric(base_sbtyt[col], errors='coerce').astype('Int64')"
   ]
  },
  {
   "cell_type": "markdown",
   "id": "ae1823e8",
   "metadata": {},
   "source": [
    "Ajuste de variables"
   ]
  },
  {
   "cell_type": "code",
   "execution_count": 50,
   "id": "a709fd47",
   "metadata": {},
   "outputs": [],
   "source": [
    "#Ajustar los periodos para agregarlos anualmente\n",
    "base_sbtyt['año_presentacion'] = base_sbtyt['periodo'].apply(lambda x: x//10)"
   ]
  },
  {
   "cell_type": "markdown",
   "id": "b0c95a04",
   "metadata": {},
   "source": [
    "### Filtrar por Bogota-Region"
   ]
  },
  {
   "cell_type": "code",
   "execution_count": 51,
   "id": "baf4de7e",
   "metadata": {},
   "outputs": [],
   "source": [
    "#Codigos y nombre Municipios Bogotá Region\n",
    "municipios_bogota_region = pd.read_csv(\"../data/Municipios_cleaned/municipios.csv\")\n",
    "\n",
    "#Quedarse con las observaciones del saber tyt donde el programa educativo esta ubicado en Bogota-Region \n",
    "base_sbtyt = base_sbtyt[base_sbtyt[\"estu_prgm_codmunicipio\"].isin(municipios_bogota_region[\"codigo_dane_municipio\"])]\n"
   ]
  },
  {
   "cell_type": "code",
   "execution_count": 52,
   "id": "5ea1fe27",
   "metadata": {},
   "outputs": [
    {
     "name": "stdout",
     "output_type": "stream",
     "text": [
      "Dimensiones: (185818, 14)\n"
     ]
    },
    {
     "data": {
      "text/html": [
       "<div>\n",
       "<style scoped>\n",
       "    .dataframe tbody tr th:only-of-type {\n",
       "        vertical-align: middle;\n",
       "    }\n",
       "\n",
       "    .dataframe tbody tr th {\n",
       "        vertical-align: top;\n",
       "    }\n",
       "\n",
       "    .dataframe thead th {\n",
       "        text-align: right;\n",
       "    }\n",
       "</style>\n",
       "<table border=\"1\" class=\"dataframe\">\n",
       "  <thead>\n",
       "    <tr style=\"text-align: right;\">\n",
       "      <th></th>\n",
       "      <th>periodo</th>\n",
       "      <th>estu_consecutivo</th>\n",
       "      <th>inst_cod_institucion</th>\n",
       "      <th>inst_nombre_institucion</th>\n",
       "      <th>estu_prgm_academico</th>\n",
       "      <th>estu_snies_prgmacademico</th>\n",
       "      <th>estu_prgm_codmunicipio</th>\n",
       "      <th>estu_prgm_municipio</th>\n",
       "      <th>estu_nivel_prgm_academico</th>\n",
       "      <th>estu_nucleo_pregrado</th>\n",
       "      <th>mod_razona_cuantitat_punt</th>\n",
       "      <th>mod_lectura_critica_punt</th>\n",
       "      <th>punt_global</th>\n",
       "      <th>año_presentacion</th>\n",
       "    </tr>\n",
       "  </thead>\n",
       "  <tbody>\n",
       "    <tr>\n",
       "      <th>1523</th>\n",
       "      <td>20201</td>\n",
       "      <td>EK202010003355</td>\n",
       "      <td>1207</td>\n",
       "      <td>UNIVERSIDAD DEL TOLIMA-IBAGUE</td>\n",
       "      <td>TECNOLOGIA EN REGENCIA DE FARMACIA</td>\n",
       "      <td>53371</td>\n",
       "      <td>11001</td>\n",
       "      <td>BOGOTÁ D.C.</td>\n",
       "      <td>TECNOLOGÍA</td>\n",
       "      <td>BIOLOGÍA, MICROBIOLOGÍA Y AFINES</td>\n",
       "      <td>128.0</td>\n",
       "      <td>116.0</td>\n",
       "      <td>130.0</td>\n",
       "      <td>2020</td>\n",
       "    </tr>\n",
       "    <tr>\n",
       "      <th>1524</th>\n",
       "      <td>20201</td>\n",
       "      <td>EK202010002387</td>\n",
       "      <td>1207</td>\n",
       "      <td>UNIVERSIDAD DEL TOLIMA-IBAGUE</td>\n",
       "      <td>TECNOLOGIA EN REGENCIA DE FARMACIA</td>\n",
       "      <td>53371</td>\n",
       "      <td>11001</td>\n",
       "      <td>BOGOTÁ D.C.</td>\n",
       "      <td>TECNOLOGÍA</td>\n",
       "      <td>BIOLOGÍA, MICROBIOLOGÍA Y AFINES</td>\n",
       "      <td>115.0</td>\n",
       "      <td>133.0</td>\n",
       "      <td>94.0</td>\n",
       "      <td>2020</td>\n",
       "    </tr>\n",
       "    <tr>\n",
       "      <th>1525</th>\n",
       "      <td>20201</td>\n",
       "      <td>EK202010032494</td>\n",
       "      <td>1207</td>\n",
       "      <td>UNIVERSIDAD DEL TOLIMA-IBAGUE</td>\n",
       "      <td>TECNOLOGIA EN GESTION DE BASES DE DATOS</td>\n",
       "      <td>102261</td>\n",
       "      <td>11001</td>\n",
       "      <td>BOGOTÁ D.C.</td>\n",
       "      <td>TECNOLOGÍA</td>\n",
       "      <td>INGENIERÍA DE SISTEMAS, TELEMÁTICA Y AFINES</td>\n",
       "      <td>136.0</td>\n",
       "      <td>136.0</td>\n",
       "      <td>141.0</td>\n",
       "      <td>2020</td>\n",
       "    </tr>\n",
       "    <tr>\n",
       "      <th>1526</th>\n",
       "      <td>20201</td>\n",
       "      <td>EK202010083631</td>\n",
       "      <td>1207</td>\n",
       "      <td>UNIVERSIDAD DEL TOLIMA-IBAGUE</td>\n",
       "      <td>TECNOLOGIA EN REGENCIA DE FARMACIA</td>\n",
       "      <td>53371</td>\n",
       "      <td>11001</td>\n",
       "      <td>BOGOTÁ D.C.</td>\n",
       "      <td>TECNOLOGÍA</td>\n",
       "      <td>BIOLOGÍA, MICROBIOLOGÍA Y AFINES</td>\n",
       "      <td>103.0</td>\n",
       "      <td>97.0</td>\n",
       "      <td>104.0</td>\n",
       "      <td>2020</td>\n",
       "    </tr>\n",
       "    <tr>\n",
       "      <th>1527</th>\n",
       "      <td>20201</td>\n",
       "      <td>EK202010031002</td>\n",
       "      <td>1207</td>\n",
       "      <td>UNIVERSIDAD DEL TOLIMA-IBAGUE</td>\n",
       "      <td>TECNOLOGIA EN GESTION DE BASES DE DATOS</td>\n",
       "      <td>102261</td>\n",
       "      <td>11001</td>\n",
       "      <td>BOGOTÁ D.C.</td>\n",
       "      <td>TECNOLOGÍA</td>\n",
       "      <td>INGENIERÍA DE SISTEMAS, TELEMÁTICA Y AFINES</td>\n",
       "      <td>107.0</td>\n",
       "      <td>107.0</td>\n",
       "      <td>102.0</td>\n",
       "      <td>2020</td>\n",
       "    </tr>\n",
       "  </tbody>\n",
       "</table>\n",
       "</div>"
      ],
      "text/plain": [
       "      periodo estu_consecutivo  inst_cod_institucion  \\\n",
       "1523    20201   EK202010003355                  1207   \n",
       "1524    20201   EK202010002387                  1207   \n",
       "1525    20201   EK202010032494                  1207   \n",
       "1526    20201   EK202010083631                  1207   \n",
       "1527    20201   EK202010031002                  1207   \n",
       "\n",
       "            inst_nombre_institucion                      estu_prgm_academico  \\\n",
       "1523  UNIVERSIDAD DEL TOLIMA-IBAGUE       TECNOLOGIA EN REGENCIA DE FARMACIA   \n",
       "1524  UNIVERSIDAD DEL TOLIMA-IBAGUE       TECNOLOGIA EN REGENCIA DE FARMACIA   \n",
       "1525  UNIVERSIDAD DEL TOLIMA-IBAGUE  TECNOLOGIA EN GESTION DE BASES DE DATOS   \n",
       "1526  UNIVERSIDAD DEL TOLIMA-IBAGUE       TECNOLOGIA EN REGENCIA DE FARMACIA   \n",
       "1527  UNIVERSIDAD DEL TOLIMA-IBAGUE  TECNOLOGIA EN GESTION DE BASES DE DATOS   \n",
       "\n",
       "      estu_snies_prgmacademico  estu_prgm_codmunicipio estu_prgm_municipio  \\\n",
       "1523                     53371                   11001         BOGOTÁ D.C.   \n",
       "1524                     53371                   11001         BOGOTÁ D.C.   \n",
       "1525                    102261                   11001         BOGOTÁ D.C.   \n",
       "1526                     53371                   11001         BOGOTÁ D.C.   \n",
       "1527                    102261                   11001         BOGOTÁ D.C.   \n",
       "\n",
       "     estu_nivel_prgm_academico                         estu_nucleo_pregrado  \\\n",
       "1523                TECNOLOGÍA             BIOLOGÍA, MICROBIOLOGÍA Y AFINES   \n",
       "1524                TECNOLOGÍA             BIOLOGÍA, MICROBIOLOGÍA Y AFINES   \n",
       "1525                TECNOLOGÍA  INGENIERÍA DE SISTEMAS, TELEMÁTICA Y AFINES   \n",
       "1526                TECNOLOGÍA             BIOLOGÍA, MICROBIOLOGÍA Y AFINES   \n",
       "1527                TECNOLOGÍA  INGENIERÍA DE SISTEMAS, TELEMÁTICA Y AFINES   \n",
       "\n",
       "      mod_razona_cuantitat_punt  mod_lectura_critica_punt  punt_global  \\\n",
       "1523                      128.0                     116.0        130.0   \n",
       "1524                      115.0                     133.0         94.0   \n",
       "1525                      136.0                     136.0        141.0   \n",
       "1526                      103.0                      97.0        104.0   \n",
       "1527                      107.0                     107.0        102.0   \n",
       "\n",
       "      año_presentacion  \n",
       "1523              2020  \n",
       "1524              2020  \n",
       "1525              2020  \n",
       "1526              2020  \n",
       "1527              2020  "
      ]
     },
     "execution_count": 52,
     "metadata": {},
     "output_type": "execute_result"
    }
   ],
   "source": [
    "base_sbtyt = base_sbtyt.sort_values(by=\"periodo\")\n",
    "base_sbtyt = base_sbtyt.reset_index(drop=True)\n",
    "\n",
    "print(f\"Dimensiones: {base_sbtyt.shape}\")\n",
    "base_sbtyt.head()"
   ]
  },
  {
   "cell_type": "markdown",
   "id": "c84cf66e",
   "metadata": {},
   "source": [
    "### Estadisticas descriptivas"
   ]
  },
  {
   "cell_type": "code",
   "execution_count": 61,
   "id": "5c5ccbbb",
   "metadata": {},
   "outputs": [],
   "source": [
    "num_programas_unicos  = base_sbtyt['estu_snies_prgmacademico'].nunique()\n",
    "num_ies_unicas  = base_sbtyt['inst_cod_institucion'].nunique()\n",
    "num_estudiantes_unicos = base_sbtyt['estu_consecutivo'].nunique()\n",
    "periodos_unicos = base_sbtyt['periodo'].unique()\n",
    "años_unicos = base_sbtyt['año_presentacion'].unique()"
   ]
  },
  {
   "cell_type": "code",
   "execution_count": 62,
   "id": "190dcbb2",
   "metadata": {},
   "outputs": [
    {
     "name": "stdout",
     "output_type": "stream",
     "text": [
      "Numero programas unicos: 901 \n",
      "Numero IES unicas: 89\n",
      "Numero estudiantes unicos: 185818 de 185818\n",
      "Periodos presentacion saber TYT:<IntegerArray>\n",
      "[20201, 20203, 20202, 20211, 20212, 20213, 20221, 20223, 20224, 20226, 20232,\n",
      " 20231, 20234, 20233]\n",
      "Length: 14, dtype: Int64\n",
      "Años presentacion saber TYT:[2020 2021 2022 2023]\n",
      "\n"
     ]
    }
   ],
   "source": [
    "print(\n",
    "    f\"Numero programas unicos: {num_programas_unicos} \\n\" \n",
    "    f\"Numero IES unicas: {num_ies_unicas}\\n\"\n",
    "    f\"Numero estudiantes unicos: {num_estudiantes_unicos} de {base_sbtyt.shape[0]}\\n\"\n",
    "    f\"Periodos presentacion saber TYT:{periodos_unicos}\\n\"\n",
    "    f\"Años presentacion saber TYT:{años_unicos}\\n\"\n",
    "    )"
   ]
  },
  {
   "cell_type": "markdown",
   "id": "aa56d017",
   "metadata": {},
   "source": [
    "### Guardar dataframe"
   ]
  },
  {
   "cell_type": "code",
   "execution_count": null,
   "id": "bf6e1416",
   "metadata": {},
   "outputs": [],
   "source": [
    "#Guardar el dataframe como un archivo csv en la carpeta SABERTyT_cleaned\n",
    "base_sbtyt.to_csv(\"../data/SABERTYT_cleaned/base_sbtyt.csv\", index=False)"
   ]
  }
 ],
 "metadata": {
  "kernelspec": {
   "display_name": "mainenv",
   "language": "python",
   "name": "python3"
  },
  "language_info": {
   "codemirror_mode": {
    "name": "ipython",
    "version": 3
   },
   "file_extension": ".py",
   "mimetype": "text/x-python",
   "name": "python",
   "nbconvert_exporter": "python",
   "pygments_lexer": "ipython3",
   "version": "3.10.12"
  }
 },
 "nbformat": 4,
 "nbformat_minor": 5
}
