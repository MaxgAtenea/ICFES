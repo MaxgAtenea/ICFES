{
 "cells": [
  {
   "cell_type": "markdown",
   "id": "7284bc59",
   "metadata": {},
   "source": [
    "Cuardeno para procesar la data cruda del saber tyt de DataICFES"
   ]
  },
  {
   "cell_type": "markdown",
   "id": "82aefe76-7db1-442c-802e-8083885ab83c",
   "metadata": {},
   "source": [
    "### Notas:"
   ]
  },
  {
   "cell_type": "markdown",
   "id": "10676bd9-b255-42c5-aab7-9c9cd9c5514e",
   "metadata": {},
   "source": [
    "En la actualizacion del 31/07/2025 de los resultados, el icfes no incluyó la columna punt_global, por lo cual se calculó en este notebook con base en:\n",
    "\n",
    "https://www.icfes.gov.co/wp-content/uploads/2025/03/02_entender_mis_resultados.pdf"
   ]
  },
  {
   "cell_type": "markdown",
   "id": "31794a6d",
   "metadata": {},
   "source": [
    "### Constantes y Librerias "
   ]
  },
  {
   "cell_type": "code",
   "execution_count": 1,
   "id": "9f51604a",
   "metadata": {},
   "outputs": [],
   "source": [
    "import os\n",
    "import glob\n",
    "import pandas as pd\n",
    "from unidecode import unidecode\n",
    "import numpy as np\n",
    "import csv\n",
    "#Archivo con constantes\n",
    "import constants"
   ]
  },
  {
   "cell_type": "markdown",
   "id": "2e4c0cbb-6005-4b62-b9f3-bac01d1a64cb",
   "metadata": {},
   "source": [
    "### Funciones"
   ]
  },
  {
   "cell_type": "code",
   "execution_count": 2,
   "id": "390a1b09-9f36-48d8-82ec-61b293bd3831",
   "metadata": {},
   "outputs": [],
   "source": [
    "def calcular_punt_global(df):\n",
    "    cols = [\n",
    "        'mod_ingles_punt',\n",
    "        'mod_competen_ciudada_punt',\n",
    "        'mod_comuni_escrita_punt',\n",
    "        'mod_razona_cuantitat_punt',\n",
    "        'mod_lectura_critica_punt'\n",
    "    ]\n",
    "    #hacemos fill na porque hay unos puntajes sin calificacion\n",
    "    df['punt_global'] = df[cols].fillna(0).mean(axis=1)\n",
    "    return df"
   ]
  },
  {
   "cell_type": "code",
   "execution_count": 3,
   "id": "84439ca0-c001-4ed9-90ca-89b835ab1356",
   "metadata": {},
   "outputs": [],
   "source": [
    "def resumen_nulos(df):\n",
    "    cols = [\n",
    "        'mod_ingles_punt',\n",
    "        'mod_competen_ciudada_punt',\n",
    "        'mod_comuni_escrita_punt',\n",
    "        'mod_razona_cuantitat_punt',\n",
    "        'mod_lectura_critica_punt'\n",
    "    ]\n",
    "    \n",
    "    resumen = (\n",
    "        df[cols]\n",
    "        .isna()\n",
    "        .agg(['sum', 'mean'])\n",
    "        .T\n",
    "        .rename(columns={'sum': 'n_nulos', 'mean': 'porc_nulos'})\n",
    "    )\n",
    "    \n",
    "    resumen['porc_nulos'] = resumen['porc_nulos'] * 100  # convert to percentage\n",
    "    return resumen\n"
   ]
  },
  {
   "cell_type": "markdown",
   "id": "bc8eb26a",
   "metadata": {},
   "source": [
    "### Lectura informacion cruda del saber 11"
   ]
  },
  {
   "cell_type": "code",
   "execution_count": 4,
   "id": "a54908c1",
   "metadata": {},
   "outputs": [],
   "source": [
    "#Directorios con la datos del saber tyt\n",
    "data_dir_base_sbtyt = \"../../data/SABERTYT_raw/actualizacion_31072025\"\n",
    "#lista con la ruta de los archivos \n",
    "csv_files_sabertyt = glob.glob(os.path.join(data_dir_base_sbtyt, \"*.txt\"))"
   ]
  },
  {
   "cell_type": "code",
   "execution_count": 5,
   "id": "cd2c9cf0-a0cb-4a93-81a2-08280cc91c2d",
   "metadata": {},
   "outputs": [],
   "source": [
    "#Variables a seleccionar del saber tyt \n",
    "# Convertimos a set para búsquedas más rápidas\n",
    "cols_set = set(constants.cols_saber_tyt_lower)"
   ]
  },
  {
   "cell_type": "code",
   "execution_count": 6,
   "id": "23e6672c",
   "metadata": {},
   "outputs": [],
   "source": [
    "# Lista donde se irán acumulando los DataFrames leídos\n",
    "data_list = []\n",
    "\n",
    "# Iteramos por cada archivo y su separador asociado\n",
    "for file_name, sep in constants.nombre_archivos_sabertyt.items():\n",
    "    file_path = os.path.join(data_dir_base_sbtyt, file_name)\n",
    "\n",
    "    # Elegimos el motor según el separador\n",
    "    engine = \"python\" if sep == \"¬\" else \"c\"\n",
    "\n",
    "    # Diccionario con argumentos comunes y condicionales\n",
    "\n",
    "    read_csv_args = {\n",
    "        \"sep\": sep,\n",
    "        \"usecols\": lambda c: c.lower() in cols_set, # Solo cargar columnas cuyo nombre (en minúscula) esté en la lista deseada\n",
    "        \"engine\": engine,\n",
    "        **(\n",
    "            {\"quotechar\": None, \"quoting\": csv.QUOTE_NONE, \"dtype\": str}  # Si el separador es '¬', desactivar manejo de comillas y forzar lectura como texto\n",
    "            if sep == \"¬\" else\n",
    "            {\"low_memory\": False} # Para otros separadores, mejorar manejo de tipos con low_memory=False\n",
    "        )\n",
    "    }\n",
    "    try:\n",
    "        # Leer el archivo con los argumentos definidos\n",
    "        df = pd.read_csv(file_path, **read_csv_args)\n",
    "\n",
    "        # Convertir todos los nombres de columnas a minúsculas\n",
    "        df.columns = df.columns.str.lower()\n",
    "\n",
    "        # Verificar si faltan columnas esperadas y avisar\n",
    "        faltantes = cols_set - set(df.columns)\n",
    "        if faltantes:\n",
    "            print(f\"Atención: en {file_name} faltan columnas: {faltantes}\")\n",
    "\n",
    "        # Agregar el DataFrame leído a la lista\n",
    "        data_list.append(df)\n",
    "\n",
    "    except Exception as err:\n",
    "        # Reportar errores durante la lectura\n",
    "        print(f\"Error leyendo {file_name} con separador '{sep}': {err}\")\n",
    "\n",
    "\n",
    "# Combinar todos los DataFrames en uno solo\n",
    "base_sbtyt = pd.concat(data_list, ignore_index=True)\n",
    "#agregar la columna punt_global porque el icfes no la incluyó en la actualizacion del 31/07/2025\n",
    "base_sbtyt = calcular_punt_global(base_sbtyt)\n"
   ]
  },
  {
   "cell_type": "code",
   "execution_count": 7,
   "id": "9aa319e8-6e88-48e0-a684-2926c489878a",
   "metadata": {},
   "outputs": [
    {
     "data": {
      "text/html": [
       "<div>\n",
       "<style scoped>\n",
       "    .dataframe tbody tr th:only-of-type {\n",
       "        vertical-align: middle;\n",
       "    }\n",
       "\n",
       "    .dataframe tbody tr th {\n",
       "        vertical-align: top;\n",
       "    }\n",
       "\n",
       "    .dataframe thead th {\n",
       "        text-align: right;\n",
       "    }\n",
       "</style>\n",
       "<table border=\"1\" class=\"dataframe\">\n",
       "  <thead>\n",
       "    <tr style=\"text-align: right;\">\n",
       "      <th></th>\n",
       "      <th>n_nulos</th>\n",
       "      <th>porc_nulos</th>\n",
       "    </tr>\n",
       "  </thead>\n",
       "  <tbody>\n",
       "    <tr>\n",
       "      <th>mod_ingles_punt</th>\n",
       "      <td>679.0</td>\n",
       "      <td>0.088152</td>\n",
       "    </tr>\n",
       "    <tr>\n",
       "      <th>mod_competen_ciudada_punt</th>\n",
       "      <td>0.0</td>\n",
       "      <td>0.000000</td>\n",
       "    </tr>\n",
       "    <tr>\n",
       "      <th>mod_comuni_escrita_punt</th>\n",
       "      <td>900.0</td>\n",
       "      <td>0.116843</td>\n",
       "    </tr>\n",
       "    <tr>\n",
       "      <th>mod_razona_cuantitat_punt</th>\n",
       "      <td>0.0</td>\n",
       "      <td>0.000000</td>\n",
       "    </tr>\n",
       "    <tr>\n",
       "      <th>mod_lectura_critica_punt</th>\n",
       "      <td>0.0</td>\n",
       "      <td>0.000000</td>\n",
       "    </tr>\n",
       "  </tbody>\n",
       "</table>\n",
       "</div>"
      ],
      "text/plain": [
       "                           n_nulos  porc_nulos\n",
       "mod_ingles_punt              679.0    0.088152\n",
       "mod_competen_ciudada_punt      0.0    0.000000\n",
       "mod_comuni_escrita_punt      900.0    0.116843\n",
       "mod_razona_cuantitat_punt      0.0    0.000000\n",
       "mod_lectura_critica_punt       0.0    0.000000"
      ]
     },
     "execution_count": 7,
     "metadata": {},
     "output_type": "execute_result"
    }
   ],
   "source": [
    "resumen_nulos(base_sbtyt)"
   ]
  },
  {
   "cell_type": "markdown",
   "id": "275b77ee",
   "metadata": {},
   "source": [
    "### Ajustes de formato "
   ]
  },
  {
   "cell_type": "markdown",
   "id": "f9c281a7",
   "metadata": {},
   "source": [
    "Tipado de variables"
   ]
  },
  {
   "cell_type": "code",
   "execution_count": 8,
   "id": "07f9acc1",
   "metadata": {},
   "outputs": [],
   "source": [
    "#Parse las columnas a los tipos de variables adecuados\n",
    "for col, dtype in constants.dtype_mapping_sabertyt.items():\n",
    "    if col in base_sbtyt.columns:\n",
    "        try:\n",
    "            base_sbtyt[col] = base_sbtyt[col].astype(dtype)\n",
    "        except Exception as e:\n",
    "            print(f\"No se pudo convertir la columna {col} a {dtype}: {e}\")\n",
    "\n",
    "\n",
    "cols_numericas = [\n",
    "    \"periodo\",\n",
    "    \"inst_cod_institucion\",\n",
    "    \"estu_snies_prgmacademico\",\n",
    "    \"estu_prgm_codmunicipio\"\n",
    "]        \n",
    "#parse a numerico las variables numericas\n",
    "for col in cols_numericas:\n",
    "    base_sbtyt[col] = pd.to_numeric(base_sbtyt[col], errors='coerce').astype('Int64')"
   ]
  },
  {
   "cell_type": "markdown",
   "id": "ae1823e8",
   "metadata": {},
   "source": [
    "Ajuste de variables"
   ]
  },
  {
   "cell_type": "code",
   "execution_count": 9,
   "id": "a709fd47",
   "metadata": {},
   "outputs": [],
   "source": [
    "#Ajustar los periodos para agregarlos anualmente\n",
    "base_sbtyt['año_presentacion'] = base_sbtyt['periodo'].apply(lambda x: x//10)"
   ]
  },
  {
   "cell_type": "markdown",
   "id": "b0c95a04",
   "metadata": {},
   "source": [
    "### Filtrar por Bogota-Region"
   ]
  },
  {
   "cell_type": "code",
   "execution_count": 10,
   "id": "baf4de7e",
   "metadata": {},
   "outputs": [],
   "source": [
    "#Codigos y nombre Municipios Bogotá Region\n",
    "municipios_bogota_region = pd.read_csv(\"../../data/Municipios_cleaned/municipios.csv\")\n",
    "\n",
    "#Quedarse con las observaciones del saber tyt donde el programa educativo esta ubicado en Bogota-Region \n",
    "base_sbtyt = base_sbtyt[base_sbtyt[\"estu_prgm_codmunicipio\"].isin(municipios_bogota_region[\"codigo_dane_municipio\"])]\n"
   ]
  },
  {
   "cell_type": "code",
   "execution_count": 11,
   "id": "5ea1fe27",
   "metadata": {},
   "outputs": [
    {
     "name": "stdout",
     "output_type": "stream",
     "text": [
      "Dimensiones: (248425, 17)\n"
     ]
    },
    {
     "data": {
      "text/html": [
       "<div>\n",
       "<style scoped>\n",
       "    .dataframe tbody tr th:only-of-type {\n",
       "        vertical-align: middle;\n",
       "    }\n",
       "\n",
       "    .dataframe tbody tr th {\n",
       "        vertical-align: top;\n",
       "    }\n",
       "\n",
       "    .dataframe thead th {\n",
       "        text-align: right;\n",
       "    }\n",
       "</style>\n",
       "<table border=\"1\" class=\"dataframe\">\n",
       "  <thead>\n",
       "    <tr style=\"text-align: right;\">\n",
       "      <th></th>\n",
       "      <th>periodo</th>\n",
       "      <th>estu_consecutivo</th>\n",
       "      <th>estu_nivel_prgm_academico</th>\n",
       "      <th>estu_nucleo_pregrado</th>\n",
       "      <th>estu_prgm_academico</th>\n",
       "      <th>estu_prgm_codmunicipio</th>\n",
       "      <th>estu_prgm_municipio</th>\n",
       "      <th>estu_snies_prgmacademico</th>\n",
       "      <th>inst_cod_institucion</th>\n",
       "      <th>inst_nombre_institucion</th>\n",
       "      <th>mod_competen_ciudada_punt</th>\n",
       "      <th>mod_comuni_escrita_punt</th>\n",
       "      <th>mod_ingles_punt</th>\n",
       "      <th>mod_lectura_critica_punt</th>\n",
       "      <th>mod_razona_cuantitat_punt</th>\n",
       "      <th>punt_global</th>\n",
       "      <th>año_presentacion</th>\n",
       "    </tr>\n",
       "  </thead>\n",
       "  <tbody>\n",
       "    <tr>\n",
       "      <th>0</th>\n",
       "      <td>20201</td>\n",
       "      <td>EK202010043695</td>\n",
       "      <td>TECNOLOGÍA</td>\n",
       "      <td>ADMINISTRACIÓN</td>\n",
       "      <td>TECNOLOGIA EN REGENCIA DE FARMACIA</td>\n",
       "      <td>11001</td>\n",
       "      <td>BOGOTÁ D.C.</td>\n",
       "      <td>2206</td>\n",
       "      <td>3808</td>\n",
       "      <td>CORPORACION TECNOLOGICA DE BOGOTA - C.T.B.-BOG...</td>\n",
       "      <td>112.0</td>\n",
       "      <td>76.0</td>\n",
       "      <td>105.0</td>\n",
       "      <td>70.0</td>\n",
       "      <td>74.0</td>\n",
       "      <td>87.4</td>\n",
       "      <td>2020</td>\n",
       "    </tr>\n",
       "    <tr>\n",
       "      <th>1</th>\n",
       "      <td>20201</td>\n",
       "      <td>EK202010087792</td>\n",
       "      <td>TECNOLOGÍA</td>\n",
       "      <td>INGENIERÍA DE SISTEMAS, TELEMÁTICA Y AFINES</td>\n",
       "      <td>TECNOLOGIA EN ANALISIS Y DESARROLLO DE SISTEMA...</td>\n",
       "      <td>11001</td>\n",
       "      <td>BOGOTÁ D.C.</td>\n",
       "      <td>107357</td>\n",
       "      <td>9110</td>\n",
       "      <td>SERVICIO NACIONAL DE APRENDIZAJE-SENA</td>\n",
       "      <td>140.0</td>\n",
       "      <td>92.0</td>\n",
       "      <td>148.0</td>\n",
       "      <td>145.0</td>\n",
       "      <td>127.0</td>\n",
       "      <td>130.4</td>\n",
       "      <td>2020</td>\n",
       "    </tr>\n",
       "    <tr>\n",
       "      <th>2</th>\n",
       "      <td>20201</td>\n",
       "      <td>EK202010023524</td>\n",
       "      <td>TECNOLOGÍA</td>\n",
       "      <td>INGENIERÍA MECÁNICA Y AFINES</td>\n",
       "      <td>TECNOLOGÍA EN DISEÑO E INTEGRACIÓN DE AUTOMATI...</td>\n",
       "      <td>11001</td>\n",
       "      <td>BOGOTÁ D.C.</td>\n",
       "      <td>91169</td>\n",
       "      <td>9110</td>\n",
       "      <td>SERVICIO NACIONAL DE APRENDIZAJE-SENA</td>\n",
       "      <td>129.0</td>\n",
       "      <td>112.0</td>\n",
       "      <td>116.0</td>\n",
       "      <td>131.0</td>\n",
       "      <td>106.0</td>\n",
       "      <td>118.8</td>\n",
       "      <td>2020</td>\n",
       "    </tr>\n",
       "    <tr>\n",
       "      <th>3</th>\n",
       "      <td>20201</td>\n",
       "      <td>EK202010033363</td>\n",
       "      <td>TÉCNICO PROFESIONAL</td>\n",
       "      <td>ECONOMÍA</td>\n",
       "      <td>TÉCNICO PROFESIONAL EN COMERCIO EXTERIOR</td>\n",
       "      <td>11001</td>\n",
       "      <td>BOGOTÁ D.C.</td>\n",
       "      <td>103188</td>\n",
       "      <td>2728</td>\n",
       "      <td>FUNDACION UNIVERSITARIA DEL AREA ANDINA-BOGOTÁ...</td>\n",
       "      <td>52.0</td>\n",
       "      <td>200.0</td>\n",
       "      <td>167.0</td>\n",
       "      <td>61.0</td>\n",
       "      <td>106.0</td>\n",
       "      <td>117.2</td>\n",
       "      <td>2020</td>\n",
       "    </tr>\n",
       "    <tr>\n",
       "      <th>4</th>\n",
       "      <td>20201</td>\n",
       "      <td>EK202010082429</td>\n",
       "      <td>TECNOLOGÍA</td>\n",
       "      <td>INGENIERÍA INDUSTRIAL Y AFINES</td>\n",
       "      <td>TECNOLOGÍA EN LOGÍSTICA</td>\n",
       "      <td>11001</td>\n",
       "      <td>BOGOTÁ D.C.</td>\n",
       "      <td>101388</td>\n",
       "      <td>2725</td>\n",
       "      <td>POLITECNICO GRANCOLOMBIANO-BOGOTÁ D.C.</td>\n",
       "      <td>144.0</td>\n",
       "      <td>117.0</td>\n",
       "      <td>139.0</td>\n",
       "      <td>115.0</td>\n",
       "      <td>112.0</td>\n",
       "      <td>125.4</td>\n",
       "      <td>2020</td>\n",
       "    </tr>\n",
       "  </tbody>\n",
       "</table>\n",
       "</div>"
      ],
      "text/plain": [
       "   periodo estu_consecutivo estu_nivel_prgm_academico  \\\n",
       "0    20201   EK202010043695                TECNOLOGÍA   \n",
       "1    20201   EK202010087792                TECNOLOGÍA   \n",
       "2    20201   EK202010023524                TECNOLOGÍA   \n",
       "3    20201   EK202010033363       TÉCNICO PROFESIONAL   \n",
       "4    20201   EK202010082429                TECNOLOGÍA   \n",
       "\n",
       "                          estu_nucleo_pregrado  \\\n",
       "0                               ADMINISTRACIÓN   \n",
       "1  INGENIERÍA DE SISTEMAS, TELEMÁTICA Y AFINES   \n",
       "2                 INGENIERÍA MECÁNICA Y AFINES   \n",
       "3                                     ECONOMÍA   \n",
       "4               INGENIERÍA INDUSTRIAL Y AFINES   \n",
       "\n",
       "                                 estu_prgm_academico  estu_prgm_codmunicipio  \\\n",
       "0                 TECNOLOGIA EN REGENCIA DE FARMACIA                   11001   \n",
       "1  TECNOLOGIA EN ANALISIS Y DESARROLLO DE SISTEMA...                   11001   \n",
       "2  TECNOLOGÍA EN DISEÑO E INTEGRACIÓN DE AUTOMATI...                   11001   \n",
       "3           TÉCNICO PROFESIONAL EN COMERCIO EXTERIOR                   11001   \n",
       "4                            TECNOLOGÍA EN LOGÍSTICA                   11001   \n",
       "\n",
       "  estu_prgm_municipio  estu_snies_prgmacademico  inst_cod_institucion  \\\n",
       "0         BOGOTÁ D.C.                      2206                  3808   \n",
       "1         BOGOTÁ D.C.                    107357                  9110   \n",
       "2         BOGOTÁ D.C.                     91169                  9110   \n",
       "3         BOGOTÁ D.C.                    103188                  2728   \n",
       "4         BOGOTÁ D.C.                    101388                  2725   \n",
       "\n",
       "                             inst_nombre_institucion  \\\n",
       "0  CORPORACION TECNOLOGICA DE BOGOTA - C.T.B.-BOG...   \n",
       "1              SERVICIO NACIONAL DE APRENDIZAJE-SENA   \n",
       "2              SERVICIO NACIONAL DE APRENDIZAJE-SENA   \n",
       "3  FUNDACION UNIVERSITARIA DEL AREA ANDINA-BOGOTÁ...   \n",
       "4             POLITECNICO GRANCOLOMBIANO-BOGOTÁ D.C.   \n",
       "\n",
       "   mod_competen_ciudada_punt  mod_comuni_escrita_punt  mod_ingles_punt  \\\n",
       "0                      112.0                     76.0            105.0   \n",
       "1                      140.0                     92.0            148.0   \n",
       "2                      129.0                    112.0            116.0   \n",
       "3                       52.0                    200.0            167.0   \n",
       "4                      144.0                    117.0            139.0   \n",
       "\n",
       "   mod_lectura_critica_punt  mod_razona_cuantitat_punt  punt_global  \\\n",
       "0                      70.0                       74.0         87.4   \n",
       "1                     145.0                      127.0        130.4   \n",
       "2                     131.0                      106.0        118.8   \n",
       "3                      61.0                      106.0        117.2   \n",
       "4                     115.0                      112.0        125.4   \n",
       "\n",
       "   año_presentacion  \n",
       "0              2020  \n",
       "1              2020  \n",
       "2              2020  \n",
       "3              2020  \n",
       "4              2020  "
      ]
     },
     "execution_count": 11,
     "metadata": {},
     "output_type": "execute_result"
    }
   ],
   "source": [
    "base_sbtyt = base_sbtyt.sort_values(by=\"periodo\")\n",
    "base_sbtyt = base_sbtyt.reset_index(drop=True)\n",
    "\n",
    "print(f\"Dimensiones: {base_sbtyt.shape}\")\n",
    "base_sbtyt.head()"
   ]
  },
  {
   "cell_type": "markdown",
   "id": "c84cf66e",
   "metadata": {},
   "source": [
    "### Estadisticas descriptivas"
   ]
  },
  {
   "cell_type": "code",
   "execution_count": 12,
   "id": "5c5ccbbb",
   "metadata": {},
   "outputs": [],
   "source": [
    "num_programas_unicos  = base_sbtyt['estu_snies_prgmacademico'].nunique()\n",
    "num_ies_unicas  = base_sbtyt['inst_cod_institucion'].nunique()\n",
    "num_estudiantes_unicos = base_sbtyt['estu_consecutivo'].nunique()\n",
    "periodos_unicos = base_sbtyt['periodo'].unique()\n",
    "años_unicos = base_sbtyt['año_presentacion'].unique()"
   ]
  },
  {
   "cell_type": "code",
   "execution_count": 13,
   "id": "190dcbb2",
   "metadata": {},
   "outputs": [
    {
     "name": "stdout",
     "output_type": "stream",
     "text": [
      "Numero programas unicos: 1031 \n",
      "Numero IES unicas: 94\n",
      "Numero estudiantes unicos: 248425 de 248425\n",
      "Periodos presentacion saber TYT:<IntegerArray>\n",
      "[20201, 20202, 20203, 20211, 20212, 20213, 20221, 20223, 20224, 20226, 20231,\n",
      " 20232, 20233, 20234, 20241, 20242, 20243, 20244]\n",
      "Length: 18, dtype: Int64\n",
      "Años presentacion saber TYT:[2020 2021 2022 2023 2024]\n",
      "\n"
     ]
    }
   ],
   "source": [
    "print(\n",
    "    f\"Numero programas unicos: {num_programas_unicos} \\n\" \n",
    "    f\"Numero IES unicas: {num_ies_unicas}\\n\"\n",
    "    f\"Numero estudiantes unicos: {num_estudiantes_unicos} de {base_sbtyt.shape[0]}\\n\"\n",
    "    f\"Periodos presentacion saber TYT:{periodos_unicos}\\n\"\n",
    "    f\"Años presentacion saber TYT:{años_unicos}\\n\"\n",
    "    )"
   ]
  },
  {
   "cell_type": "markdown",
   "id": "aa56d017",
   "metadata": {},
   "source": [
    "### Guardar dataframe"
   ]
  },
  {
   "cell_type": "code",
   "execution_count": 23,
   "id": "ac0120db-bc2e-4b1d-bfee-38d27a81e3d5",
   "metadata": {},
   "outputs": [],
   "source": [
    "from datetime import datetime\n",
    "\n",
    "# Generate today's date string in DDMMYYYY format\n",
    "fecha_hoy = datetime.today().strftime('%d%m%Y')\n",
    "# Build the full path with the dynamic date\n",
    "nombre_archivo = f\"../../data/SABERTYT_cleaned/base_sbtyt_bogota_region_corte_{fecha_hoy}.csv\"\n",
    "\n",
    "# Save the file\n",
    "base_sbtyt.to_csv(nombre_archivo, index=False)"
   ]
  }
 ],
 "metadata": {
  "kernelspec": {
   "display_name": "Python 3 (ipykernel)",
   "language": "python",
   "name": "python3"
  },
  "language_info": {
   "codemirror_mode": {
    "name": "ipython",
    "version": 3
   },
   "file_extension": ".py",
   "mimetype": "text/x-python",
   "name": "python",
   "nbconvert_exporter": "python",
   "pygments_lexer": "ipython3",
   "version": "3.13.5"
  }
 },
 "nbformat": 4,
 "nbformat_minor": 5
}
