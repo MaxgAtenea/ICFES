{
 "cells": [
  {
   "cell_type": "markdown",
   "id": "607bf1c4",
   "metadata": {},
   "source": [
    "----"
   ]
  },
  {
   "cell_type": "markdown",
   "id": "639e0b88",
   "metadata": {},
   "source": [
    "**CRUCES ENTRE SABER11 y SABER PRO**\n",
    "\n",
    "Saber Pro contienen un identificador único por estudiante (“estu_consecutivo”)\n",
    "para cada uno de los exámenes que, luego de aplicar un algoritmo de\n",
    "emparejamiento, permite identificar los estudiantes que presentaron el examen:\n",
    "1. Saber 11° entre 2010-1 y 2021-2,\n",
    "2. Saber Pro, entre 2012 y 2023-1\n",
    "3. Saber TyT entre la primera aplicación de 2016 y 2023-1.\n",
    "\n",
    "El algoritmo de emparejamiento utiliza seis criterios en los que se hace uso de\n",
    "llaves creadas a partir de la información de nombres y apellidos completos,\n",
    "documento de identidad y fecha de nacimiento de los estudiantes. Además, en\n",
    "caso de que el tipo y número del documento de identidad difieran entre los\n",
    "exámenes, se utiliza información de la Registraduría Nacional del Estado Civil para\n",
    "identificar al estudiante en ambos exámenes."
   ]
  },
  {
   "cell_type": "markdown",
   "id": "2361cce3",
   "metadata": {},
   "source": [
    "**SOBRE SABER 11**: *Tomamos muestra desde 2012-2*\n",
    "\n",
    "**Modificacion:**\n",
    "Con el objetivo de consolidar un Sistema Nacional de Evaluación Estandarizada \n",
    "(SNEE) que consiga la alineación de todos los exámenes que lo conforman, la \n",
    "estructura del examen Saber 11 fue modificada **a partir del segundo semestre de 2014**\n",
    "para que sus resultados fueran comparables, en términos de las competencias \n",
    "evaluadas, con los de otras pruebas del SNEE como las pruebas Saber 3°, 5° y 9° y el \n",
    "examen Saber Pro (Icfes, 2013). Esto llevó a una nueva estructura del examen para \n",
    "evaluar las pruebas genéricas: matemáticas, lectura crítica, ciencias naturales, \n",
    "sociales y ciudadanas e inglés.\n",
    "\n",
    "\n",
    "\n",
    "**Periodos recalificados:**\n",
    "\n",
    "En el marco de la Resolución 503 de 2014 del Icfes, bajo la cual se definieron la \n",
    "clasificación de planteles y la estructura del examen Saber 11 vigentes, se planteó la \n",
    "necesidad de recalificar los resultados de los estudiantes en algunos de los periodos que \n",
    "preceden al cambio en la estructura del examen, ocurrido en el segundo semestre \n",
    "de 2014, con el fin de tener resultados comparables y cumplir de esta manera con los \n",
    "requerimientos técnicos de la metodología de clasificación vigente. \n",
    "Esta metodología requiere de resultados comparables de los estudiantes, en los \n",
    "últimos tres años, de cada establecimiento educativo y sus sedes. Debido a la adopción \n",
    "de la nueva estructura del examen Saber 11 y con el fin de presentar los resultados de \n",
    "la clasificación de planteles vigente desde el segundo semestre del 2014, **se realizó un \n",
    "proceso de recalificación de los puntajes de los estudiantes que tomaron el examen en \n",
    "el segundo semestre de 2012 y 2013 con el fin de hacerlos comparables a la \n",
    "estructura vigente y contar con los tres años de resultados para cada plantel \n",
    "educativo**\n",
    "\n",
    "Con el fin de publicar los resultados de la clasificación de planteles cada semestre, \n",
    "como quedó establecido en la Resolución 503 de 2014, la recalificación de los puntajes \n",
    "de los estudiantes se hizo también para el **primer semestre del 2013 y 2014** para \n",
    "calcular la clasificación de planteles del primer semestre de 2015"
   ]
  },
  {
   "cell_type": "markdown",
   "id": "f579b8f3",
   "metadata": {},
   "source": [
    "----"
   ]
  },
  {
   "cell_type": "markdown",
   "id": "7cf43288",
   "metadata": {},
   "source": [
    "**SOBRE SABER PRO**: *Tomamos muestra del 2016 en adelante*\n",
    "\n",
    "Los estudiantes que actualmente toman el examen de Saber Pro son evaluados en \n",
    "competencias específicas de acuerdo al grupo de referencia al que pertenece el programa y de \n",
    "acuerdo a lo que consideren los directores de programas cuando escogen la combinatoria de \n",
    "módulos más acordes a su malla curricular. A pesar de que se evalúan las mismas \n",
    "competencias específicas que en el periodo anterior, **a partir del 2016 se produjeron cambios \n",
    "en el diseño de los módulos y en la calificación de las mismas que imposibilitan la \n",
    "comparación entre años del periodo anterior con el actual**. Los resultados de los módulos de \n",
    "competencias específicas para este periodo resultaron en una nueva escala con año base en \n",
    "2016.\n"
   ]
  },
  {
   "cell_type": "markdown",
   "id": "4f006e95",
   "metadata": {},
   "source": [
    "-------"
   ]
  },
  {
   "cell_type": "markdown",
   "id": "cdba0b52",
   "metadata": {},
   "source": [
    "**DATOS UTILIZADOS POR EL ICFES PARA EL CÁLCULO DEL VALOR AGREGADO**\n",
    "\n",
    "- Saber Pro:\n",
    "    - Competencias genéricas\n",
    "\n",
    "- Saber 11\n",
    "- NBC\n",
    "\n",
    "\n"
   ]
  },
  {
   "cell_type": "markdown",
   "id": "43ca1ff3",
   "metadata": {},
   "source": [
    "-----"
   ]
  },
  {
   "cell_type": "markdown",
   "id": "719fad0d",
   "metadata": {},
   "source": [
    "### Constantes y Librerias "
   ]
  },
  {
   "cell_type": "code",
   "execution_count": 5,
   "id": "8e1c047a",
   "metadata": {},
   "outputs": [],
   "source": [
    "import os\n",
    "import glob\n",
    "\n",
    "import pandas as pd\n",
    "#\n",
    "\n",
    "import constants as constants\n",
    "from unidecode import unidecode\n",
    "\n",
    "import csv\n",
    "pd.set_option('display.float_format', '{:,.0f}'.format)\n"
   ]
  },
  {
   "cell_type": "markdown",
   "id": "f0977a35",
   "metadata": {},
   "source": [
    "### Funciones"
   ]
  },
  {
   "cell_type": "code",
   "execution_count": 4,
   "id": "a06f2011",
   "metadata": {},
   "outputs": [],
   "source": [
    "def resumen_nans_df(df):\n",
    "    \"\"\"\n",
    "    Devuelve un DataFrame con el número de NaNs, número de no-NaNs y el porcentaje de NaNs por columna,\n",
    "    ordenado de mayor a menor porcentaje de NaNs.\n",
    "    \"\"\"\n",
    "    total_filas = df.shape[0]\n",
    "    nans_por_columna = df.isna().sum()\n",
    "    no_nans = total_filas - nans_por_columna\n",
    "    porcentaje_nans = (nans_por_columna / total_filas) * 100\n",
    "\n",
    "    resumen = pd.DataFrame({\n",
    "        'n_nans': nans_por_columna.astype(float),\n",
    "        'n_no_nans': no_nans.astype(float),\n",
    "        'porcentaje_nans': porcentaje_nans.astype(float)\n",
    "    })\n",
    "\n",
    "    resumen = resumen.sort_values(by='porcentaje_nans', ascending=False)\n",
    "    return resumen"
   ]
  },
  {
   "cell_type": "code",
   "execution_count": 3,
   "id": "28f23a13",
   "metadata": {},
   "outputs": [],
   "source": [
    "#Codigo DANE de Bogota\n",
    "COD_MCIPIO_BOGOTA = 11001"
   ]
  },
  {
   "cell_type": "code",
   "execution_count": 4,
   "id": "c1744a4b",
   "metadata": {},
   "outputs": [],
   "source": [
    "#Municipios \n",
    "BOGOTA_REGION_NOMBRES = [\n",
    "    \"bogota_dc\",\n",
    "    \"arbelaez\",\n",
    "    \"cabrera\",\n",
    "    \"cajica\",\n",
    "    \"carmen_de_carupa\",\n",
    "    \"caqueza\",\n",
    "    \"chia\",\n",
    "    \"chipaque\",\n",
    "    \"choachi\",\n",
    "    \"choconta\",\n",
    "    \"cogua\",\n",
    "    \"cota\",\n",
    "    \"cucunuba\",\n",
    "    \"fusagasuga\",\n",
    "    \"fomeque\",\n",
    "    \"fosca\",\n",
    "    \"fuquene\",\n",
    "    \"gachala\",\n",
    "    \"gachancipa\",\n",
    "    \"gacheta\",\n",
    "    \"gama\",\n",
    "    \"granada\",\n",
    "    \"guacheta\",\n",
    "    \"guatavita\",\n",
    "    \"guasca\",\n",
    "    \"gutierrez\",\n",
    "    \"junin\",\n",
    "    \"la_calera\",\n",
    "    \"lenguazaque\",\n",
    "    \"macheta\",\n",
    "    \"manta\",\n",
    "    \"medina\",\n",
    "    \"nemocon\",\n",
    "    \"pandi\",\n",
    "    \"pasca\",\n",
    "    \"quetame\",\n",
    "    \"san_bernardo\",\n",
    "    \"sesquile\",\n",
    "    \"sibate\",\n",
    "    \"silvania\",\n",
    "    \"simijaca\",\n",
    "    \"soacha\",\n",
    "    \"sopo\",\n",
    "    \"suesca\",\n",
    "    \"susa\",\n",
    "    \"sutatausa\",\n",
    "    \"tabio\",\n",
    "    \"tausa\",\n",
    "    \"tenjo\",\n",
    "    \"tibacuy\",\n",
    "    \"tibirita\",\n",
    "    \"tocancipa\",\n",
    "    \"ubala\",\n",
    "    \"ubate\",\n",
    "    \"ubaque\",\n",
    "    \"une\",\n",
    "    \"venecia\",\n",
    "    \"villapinzon\",\n",
    "    \"zipaquira\"\n",
    "]"
   ]
  },
  {
   "cell_type": "markdown",
   "id": "281fce58",
   "metadata": {},
   "source": [
    "### Lectura codigo DANE municipios"
   ]
  },
  {
   "cell_type": "code",
   "execution_count": 5,
   "id": "4f14b355",
   "metadata": {},
   "outputs": [],
   "source": [
    "municipios = pd.read_excel(\"../../data/Municipios_raw/codigos_municipios.xlsx\")"
   ]
  },
  {
   "cell_type": "code",
   "execution_count": 6,
   "id": "dc3f9650",
   "metadata": {},
   "outputs": [],
   "source": [
    "#Renombrar columnas\n",
    "municipios = municipios.rename(columns={\n",
    "    'Descripcion': 'nombre_municipio',\n",
    "    'CodigoDane': 'codigo_dane_municipio'\n",
    "})"
   ]
  },
  {
   "cell_type": "code",
   "execution_count": 12,
   "id": "97cd686a",
   "metadata": {},
   "outputs": [],
   "source": [
    "# Filtrar las filas donde los primeros 2 dígitos de 'CodigoDane' sean '25' y '11'\n",
    "#25 representa el codigo de cundinamarca y 11 de bogotá\n",
    "municipios = municipios[municipios['codigo_dane_municipio'].astype(str).str[:2].isin(['25','11'])]\n",
    "#estandarizar nombres de los municipios\n",
    "municipios['nombre_municipio'] = municipios['nombre_municipio'].apply(\n",
    "    lambda x: unidecode(x).lower().replace(',', '').replace('.', '').replace(' ', '_')\n",
    ")\n",
    "#Escoger los municipios de Bogotá Región\n",
    "municipios = municipios[municipios['nombre_municipio'].isin(BOGOTA_REGION_NOMBRES)]"
   ]
  },
  {
   "cell_type": "code",
   "execution_count": 13,
   "id": "6dd953cf",
   "metadata": {},
   "outputs": [
    {
     "name": "stdout",
     "output_type": "stream",
     "text": [
      "Municipios en lista 59\n",
      "Municipios en DF 58\n"
     ]
    }
   ],
   "source": [
    "print(f\"Municipios en lista {len(BOGOTA_REGION_NOMBRES)}\")\n",
    "print(f\"Municipios en DF {len(municipios)}\")"
   ]
  },
  {
   "cell_type": "code",
   "execution_count": 14,
   "id": "a38a445a",
   "metadata": {},
   "outputs": [
    {
     "name": "stdout",
     "output_type": "stream",
     "text": [
      "Municipios no cruzaron\n"
     ]
    },
    {
     "data": {
      "text/plain": [
       "[set(), {'ubate'}]"
      ]
     },
     "execution_count": 14,
     "metadata": {},
     "output_type": "execute_result"
    }
   ],
   "source": [
    "#mirar municipios restantes\n",
    "descripcion_set = set(municipios['nombre_municipio'])\n",
    "bogota_region_set = set(BOGOTA_REGION_NOMBRES)\n",
    "\n",
    "# Obtener diferencia: elementos en municipios pero no en BOGOTA_REGION_NOMBRES\n",
    "diferencia_1 = descripcion_set - bogota_region_set\n",
    "diferencia_2 = bogota_region_set - descripcion_set\n",
    "print(\"Municipios no cruzaron\")\n",
    "[diferencia_1, diferencia_2]"
   ]
  },
  {
   "cell_type": "code",
   "execution_count": 15,
   "id": "5968812a",
   "metadata": {},
   "outputs": [],
   "source": [
    "#agregar ubate: https://www.saludcapital.gov.co/Biblioteca%20de%20Documentos%20DPS%20RIPS/Codificaciones/Codificaci%C3%B3n%20de%20Municipios%20por%20Departamento.pdf\n",
    "#crear la fila correspondiente\n",
    "nueva_fila = pd.DataFrame([{'codigo_dane_municipio': 25843, 'nombre_municipio': 'ubate'}])\n",
    "#agregar al df\n",
    "municipios = pd.concat([municipios, nueva_fila], ignore_index=True)"
   ]
  },
  {
   "cell_type": "code",
   "execution_count": 16,
   "id": "2ecd689f",
   "metadata": {},
   "outputs": [
    {
     "data": {
      "text/html": [
       "<div>\n",
       "<style scoped>\n",
       "    .dataframe tbody tr th:only-of-type {\n",
       "        vertical-align: middle;\n",
       "    }\n",
       "\n",
       "    .dataframe tbody tr th {\n",
       "        vertical-align: top;\n",
       "    }\n",
       "\n",
       "    .dataframe thead th {\n",
       "        text-align: right;\n",
       "    }\n",
       "</style>\n",
       "<table border=\"1\" class=\"dataframe\">\n",
       "  <thead>\n",
       "    <tr style=\"text-align: right;\">\n",
       "      <th></th>\n",
       "      <th>codigo_dane_municipio</th>\n",
       "      <th>nombre_municipio</th>\n",
       "    </tr>\n",
       "  </thead>\n",
       "  <tbody>\n",
       "    <tr>\n",
       "      <th>0</th>\n",
       "      <td>11001</td>\n",
       "      <td>bogota_dc</td>\n",
       "    </tr>\n",
       "    <tr>\n",
       "      <th>1</th>\n",
       "      <td>25053</td>\n",
       "      <td>arbelaez</td>\n",
       "    </tr>\n",
       "    <tr>\n",
       "      <th>2</th>\n",
       "      <td>25120</td>\n",
       "      <td>cabrera</td>\n",
       "    </tr>\n",
       "    <tr>\n",
       "      <th>3</th>\n",
       "      <td>25126</td>\n",
       "      <td>cajica</td>\n",
       "    </tr>\n",
       "    <tr>\n",
       "      <th>4</th>\n",
       "      <td>25151</td>\n",
       "      <td>caqueza</td>\n",
       "    </tr>\n",
       "  </tbody>\n",
       "</table>\n",
       "</div>"
      ],
      "text/plain": [
       "   codigo_dane_municipio nombre_municipio\n",
       "0                  11001        bogota_dc\n",
       "1                  25053         arbelaez\n",
       "2                  25120          cabrera\n",
       "3                  25126           cajica\n",
       "4                  25151          caqueza"
      ]
     },
     "execution_count": 16,
     "metadata": {},
     "output_type": "execute_result"
    }
   ],
   "source": [
    "municipios.head()"
   ]
  },
  {
   "cell_type": "code",
   "execution_count": 17,
   "id": "629f37af",
   "metadata": {},
   "outputs": [],
   "source": [
    "#Se guarda el df con los codigos y nombres de los municipios de bogota region\n",
    "municipios.to_csv(\"../../data/Municipios_cleaned/municipios.csv\", index=False)"
   ]
  },
  {
   "cell_type": "markdown",
   "id": "6db664ba",
   "metadata": {},
   "source": [
    "### Lectura de las llaves para cruzar el saber pro con el saber 11"
   ]
  },
  {
   "cell_type": "code",
   "execution_count": 18,
   "id": "9508aa77",
   "metadata": {},
   "outputs": [
    {
     "data": {
      "text/html": [
       "<div>\n",
       "<style scoped>\n",
       "    .dataframe tbody tr th:only-of-type {\n",
       "        vertical-align: middle;\n",
       "    }\n",
       "\n",
       "    .dataframe tbody tr th {\n",
       "        vertical-align: top;\n",
       "    }\n",
       "\n",
       "    .dataframe thead th {\n",
       "        text-align: right;\n",
       "    }\n",
       "</style>\n",
       "<table border=\"1\" class=\"dataframe\">\n",
       "  <thead>\n",
       "    <tr style=\"text-align: right;\">\n",
       "      <th></th>\n",
       "      <th>estu_consecutivo_sbpro</th>\n",
       "      <th>estu_consecutivo_sb11</th>\n",
       "    </tr>\n",
       "  </thead>\n",
       "  <tbody>\n",
       "    <tr>\n",
       "      <th>0</th>\n",
       "      <td>EK201210000628</td>\n",
       "      <td>SB11201020119179</td>\n",
       "    </tr>\n",
       "    <tr>\n",
       "      <th>1</th>\n",
       "      <td>EK201210001522</td>\n",
       "      <td>SB11201020119180</td>\n",
       "    </tr>\n",
       "    <tr>\n",
       "      <th>2</th>\n",
       "      <td>EK201210001647</td>\n",
       "      <td>SB11201020110588</td>\n",
       "    </tr>\n",
       "    <tr>\n",
       "      <th>3</th>\n",
       "      <td>EK201210001663</td>\n",
       "      <td>SB11201020116060</td>\n",
       "    </tr>\n",
       "    <tr>\n",
       "      <th>4</th>\n",
       "      <td>EK201210003701</td>\n",
       "      <td>SB11201020120759</td>\n",
       "    </tr>\n",
       "  </tbody>\n",
       "</table>\n",
       "</div>"
      ],
      "text/plain": [
       "  estu_consecutivo_sbpro estu_consecutivo_sb11\n",
       "0         EK201210000628      SB11201020119179\n",
       "1         EK201210001522      SB11201020119180\n",
       "2         EK201210001647      SB11201020110588\n",
       "3         EK201210001663      SB11201020116060\n",
       "4         EK201210003701      SB11201020120759"
      ]
     },
     "execution_count": 18,
     "metadata": {},
     "output_type": "execute_result"
    }
   ],
   "source": [
    "#csv con las llaves para cruzar el saber pro con saber 11\n",
    "llaves = pd.read_csv(\"../../data/LLAVES/Llave_Saber11_SaberPro.txt\", sep=\";\")\n",
    "llaves.head()"
   ]
  },
  {
   "cell_type": "markdown",
   "id": "7bf5aa9b",
   "metadata": {},
   "source": [
    "### Procesamiento informacion cruda del saber 11"
   ]
  },
  {
   "cell_type": "code",
   "execution_count": 19,
   "id": "c9de581c",
   "metadata": {},
   "outputs": [],
   "source": [
    "# Asume que el notebook está en /src\n",
    "notebook_dir = os.getcwd()\n",
    "project_root = os.path.abspath(os.path.join(notebook_dir, \"../..\"))\n",
    "\n",
    "# Rutas absolutas a los directorios de datos\n",
    "data_dir_sb11_before20142 = os.path.join(project_root, \"data\", \"SABER11_raw\", \"ANTES20142\")\n",
    "data_dir_sb11_after20142 = os.path.join(project_root, \"data\", \"SABER11_raw\", \"DESPUES20142\")\n",
    "\n",
    "# Buscar archivos\n",
    "csv_files_before20142 = glob.glob(os.path.join(data_dir_sb11_before20142, \"*.txt\"))\n",
    "csv_files_after20142 = glob.glob(os.path.join(data_dir_sb11_after20142, \"*.txt\"))"
   ]
  },
  {
   "cell_type": "code",
   "execution_count": 20,
   "id": "9ec9a57e",
   "metadata": {},
   "outputs": [],
   "source": [
    "#Variables a seleccionar del saber 11 antes del 2014-2 \n",
    "cols_before_20142 = constants.cols_sb11before_20142\n",
    "#Variables a seleccionar del saber 11 despues del 2014-2 (inclusive) \n",
    "cols_after_20142 = constants.cols_sb11after_20142"
   ]
  },
  {
   "cell_type": "code",
   "execution_count": 21,
   "id": "87acd435",
   "metadata": {},
   "outputs": [
    {
     "name": "stdout",
     "output_type": "stream",
     "text": [
      "\n",
      "0 archivo(s) fueron descartados por estar vacíos o sin datos útiles:\n"
     ]
    },
    {
     "name": "stderr",
     "output_type": "stream",
     "text": [
      "C:\\Users\\user\\AppData\\Local\\Temp\\ipykernel_21496\\4054654724.py:59: FutureWarning: The behavior of DataFrame concatenation with empty or all-NA entries is deprecated. In a future version, this will no longer exclude empty or all-NA columns when determining the result dtypes. To retain the old behavior, exclude the relevant entries before the concat operation.\n",
      "  sb11 = pd.concat(data_list, ignore_index=True)\n"
     ]
    },
    {
     "name": "stdout",
     "output_type": "stream",
     "text": [
      "ya paso el concat\n",
      "ya paso el astype\n"
     ]
    }
   ],
   "source": [
    "import pandas as pd\n",
    "\n",
    "# Lista para guardar los dataframes\n",
    "data_list = []\n",
    "descartados = []  # Archivos descartados por estar vacíos o completamente NA\n",
    "\n",
    "# Función para leer con columnas opcionales\n",
    "def read_csv_with_optional_columns(file_path, required_cols):\n",
    "    try:\n",
    "        # Leer solo el header\n",
    "        with open(file_path, 'r', encoding='utf-8') as f:\n",
    "            header_line = f.readline()\n",
    "        available_cols = header_line.strip().split(\";\")\n",
    "\n",
    "        # Determinar columnas que sí existen en el archivo\n",
    "        existing_cols = [col for col in required_cols if col in available_cols]\n",
    "        missing_cols = [col for col in required_cols if col not in available_cols]\n",
    "\n",
    "        # Leer solo las columnas disponibles\n",
    "        df = pd.read_csv(file_path, sep=\";\", usecols=existing_cols, low_memory=False)\n",
    "\n",
    "        # Añadir las columnas faltantes como vacías\n",
    "        for col in missing_cols:\n",
    "            df[col] = pd.NA\n",
    "\n",
    "        # Reordenar las columnas según el orden original\n",
    "        df = df[required_cols]\n",
    "        return df\n",
    "\n",
    "    except Exception as err:\n",
    "        print(f\"Error reading {file_path}: {err}\")\n",
    "        return None\n",
    "\n",
    "\n",
    "# Procesar archivos antes de 2014-2\n",
    "for file_path in csv_files_before20142:\n",
    "    df = read_csv_with_optional_columns(file_path, cols_before_20142)\n",
    "    if df is not None:\n",
    "        if df.empty or df.isna().all(axis=1).all():\n",
    "            descartados.append(file_path)\n",
    "        else:\n",
    "            data_list.append(df)\n",
    "\n",
    "# Procesar archivos después de 2014-2\n",
    "for file_path in csv_files_after20142:\n",
    "    df = read_csv_with_optional_columns(file_path, cols_after_20142)\n",
    "    if df is not None:\n",
    "        if df.empty or df.isna().all(axis=1).all():\n",
    "            descartados.append(file_path)\n",
    "        else:\n",
    "            data_list.append(df)\n",
    "\n",
    "# Log de archivos descartados\n",
    "print(f\"\\n{len(descartados)} archivo(s) fueron descartados por estar vacíos o sin datos útiles:\")\n",
    "for file in descartados:\n",
    "    print(f\" - {file}\")\n",
    "\n",
    "# Concatenar dataframes restantes\n",
    "sb11 = pd.concat(data_list, ignore_index=True)\n",
    "print(\"ya paso el concat\")\n",
    "\n",
    "sb11[\"cole_cod_mcpio_ubicacion\"] = sb11[\"cole_cod_mcpio_ubicacion\"].astype(\"Int64\")\n",
    "\n",
    "print(\"ya paso el astype\")\n",
    "\n",
    "# Ordenar por periodo y resetear índices\n",
    "#sb11 = sb11.sort_values(by=\"periodo\").reset_index(drop=True)\n",
    "\n",
    "#print(\"Ya paso el sort\")\n",
    "\n",
    "# Liberar memoria\n",
    "del data_list\n",
    "del df\n",
    "#del descartados"
   ]
  },
  {
   "cell_type": "code",
   "execution_count": 22,
   "id": "1ba8aa68",
   "metadata": {},
   "outputs": [],
   "source": [
    "#Añadir a sb11 las 2 llaves para cruzar el saber 11 con el saber pro\n",
    "#estu_consecutivo_sb11: llave del saber 11\n",
    "#estu_consecutivo_sbpro:  llave del saber pro\n",
    "base_sb11 = pd.merge(\n",
    "    sb11,\n",
    "    llaves,\n",
    "    how = \"left\", #por completitud de la informacion usamos left merge\n",
    "    left_on = \"estu_consecutivo\",\n",
    "    right_on = \"estu_consecutivo_sb11\")\n",
    "\n",
    "base_sb11.rename(columns={\"estu_consecutivo_sbpro\":\"llave_saber_pro\"},inplace=True) \n",
    "base_sb11.rename(columns={\"estu_consecutivo_sb11\":\"llave_saber_11\"},inplace=True) \n",
    "\n",
    "del sb11\n",
    "del llaves"
   ]
  },
  {
   "cell_type": "code",
   "execution_count": 23,
   "id": "fbb760d6",
   "metadata": {},
   "outputs": [],
   "source": [
    "#reorganizamos las columnas\n",
    "base_sb11 = base_sb11[constants.cols_sb11]\n",
    "\n",
    "#parse las columnas a los tipos de variables adecuados\n",
    "for col, dtype in constants.dtype_mapping_saber11.items():\n",
    "    if col in base_sb11.columns:\n",
    "        try:\n",
    "            base_sb11[col] = base_sb11[col].astype(dtype)\n",
    "        except Exception as e:\n",
    "            print(f\"No se pudo convertir la columna {col} a {dtype}: {e}\")"
   ]
  },
  {
   "cell_type": "code",
   "execution_count": 24,
   "id": "772af410",
   "metadata": {},
   "outputs": [
    {
     "data": {
      "text/plain": [
       "array([20122, 20131, 20132, 20141, 20142, 20151, 20152, 20161, 20162,\n",
       "       20171, 20172, 20181, 20182, 20191, 20192, 20201, 20202, 20211,\n",
       "       20212, 20221, 20222, 20231, 20232, 20241, 20242])"
      ]
     },
     "execution_count": 24,
     "metadata": {},
     "output_type": "execute_result"
    }
   ],
   "source": [
    "base_sb11.periodo.unique()"
   ]
  },
  {
   "cell_type": "code",
   "execution_count": 25,
   "id": "1f3c97b8",
   "metadata": {},
   "outputs": [],
   "source": [
    "#Guardar el dataframe como un archivo csv en la carpeta SABER11_cleaned\n",
    "base_sb11.to_csv(\"../../data/SABER11_cleaned/base_sb11.csv\", index=False)\n",
    "#del base_sb11"
   ]
  },
  {
   "cell_type": "markdown",
   "id": "f56bbe83",
   "metadata": {},
   "source": [
    "Mirar la cantidad de nans por columna para todas las observaciones del ICFES"
   ]
  },
  {
   "cell_type": "markdown",
   "id": "ef4c4f84",
   "metadata": {},
   "source": [
    "-----"
   ]
  },
  {
   "cell_type": "code",
   "execution_count": 7,
   "id": "28ac1923",
   "metadata": {},
   "outputs": [
    {
     "name": "stderr",
     "output_type": "stream",
     "text": [
      "C:\\Users\\user\\AppData\\Local\\Temp\\ipykernel_6056\\3119327766.py:1: DtypeWarning: Columns (1,2,7,24,25,29,30,31,33,35,36,37,38,39,40,42,43,44) have mixed types. Specify dtype option on import or set low_memory=False.\n",
      "  sb11 = pd.read_csv(\"../../data/SABER11_cleaned/base_sb11.csv\", sep=\",\")\n"
     ]
    }
   ],
   "source": [
    "sb11 = pd.read_csv(\"../../data/SABER11_cleaned/base_sb11.csv\", sep=\",\")"
   ]
  },
  {
   "cell_type": "code",
   "execution_count": 10,
   "id": "85161124",
   "metadata": {},
   "outputs": [],
   "source": [
    "resumen_nans_base_sb11 = resumen_nans_df(sb11)\n",
    "\n",
    "filtro = sb11['llave_saber_11'].notna() & sb11['llave_saber_pro'].notna()\n",
    "base_filtrado = sb11[filtro]\n",
    "\n",
    "resumen_nans_base_sb11_filtrado = resumen_nans_df(base_filtrado)\n"
   ]
  },
  {
   "cell_type": "markdown",
   "id": "07351360",
   "metadata": {},
   "source": [
    "----"
   ]
  },
  {
   "cell_type": "markdown",
   "id": "5093b0ad",
   "metadata": {},
   "source": [
    "### Saber PRO"
   ]
  },
  {
   "cell_type": "code",
   "execution_count": null,
   "id": "d08cd023",
   "metadata": {},
   "outputs": [],
   "source": [
    "# Ruta del directorio con los archivos\n",
    "data_dir_saberpro = \"../../data/SABERPRO_raw_reduced/\"\n",
    "csv_files_saberpro = glob.glob(os.path.join(data_dir_saberpro, \"*.txt\"))\n",
    "# Normaliza la ruta antes de remover\n",
    "archivo_a_remover = os.path.normpath('../../data/SABERPRO_raw_reduced/saberpro_20232.txt')\n",
    "csv_files_saberpro = [os.path.normpath(f) for f in csv_files_saberpro]\n",
    "\n",
    "if archivo_a_remover in csv_files_saberpro:\n",
    "    csv_files_saberpro.remove(archivo_a_remover)\n",
    "else:\n",
    "    print(\"El archivo a remover no está en la lista.\")"
   ]
  },
  {
   "cell_type": "code",
   "execution_count": 14,
   "id": "4e75dbdd",
   "metadata": {},
   "outputs": [],
   "source": [
    "#lista para guardar los dataframes\n",
    "data_list = []\n",
    "\n",
    "#Por separado leer el archivo del saber pro del 2023-2 porque el separador es distinto\n",
    "data_temp = pd.read_csv(\n",
    "    f\"{data_dir_saberpro}saberpro_20232.txt\", \n",
    "    encoding=\"utf-8\",\n",
    "    sep = \";\",\n",
    "    usecols=constants.cols_saberpro_lower\n",
    ")\n",
    "\n",
    "data_list.append(data_temp)\n",
    "\n",
    "##Leer los archivos del saber pro antes del 2023-2\n",
    "for file_path in csv_files_saberpro:\n",
    "    try:\n",
    "        data_temp = pd.read_csv(\n",
    "            file_path,\n",
    "            sep=\"¬\",\n",
    "            usecols=constants.cols_saberpro_upper,\n",
    "            engine=\"python\",\n",
    "            encoding=\"utf-8\",\n",
    "            quoting=csv.QUOTE_NONE\n",
    "        )\n",
    "        #Castear columna a tipo int\n",
    "        data_temp[\"ESTU_COD_MCPIO_PRESENTACION\"] = data_temp[\"ESTU_COD_MCPIO_PRESENTACION\"].astype(\"Int64\")\n",
    "        #pasar los nombres de las columnas a minuscula\n",
    "        data_temp.columns = data_temp.columns.str.lower()\n",
    "        data_list.append(data_temp)\n",
    "        \n",
    "    except Exception as err:\n",
    "        print(err)\n",
    "        print(f\"Error reading {file_path}: {err}\")\n",
    "        \n",
    "\n",
    "#concatenar los dataframes\n",
    "sbpro = pd.concat(data_list, ignore_index=True)\n",
    "\n",
    "#Quedarse con las observaciones del saber pro donde el programa educativo esta ubicado en Bogota \n",
    "#sbpro = sbpro[sbpro[\"estu_prgm_codmunicipio\"] == COD_MCIPIO_BOGOTA]\n",
    "\n",
    "#Quedarse con las observaciones del saber pro donde el programa educativo esta ubicado en Bogota-Region \n",
    "#El 18 de julio se decidio quitar el filtro por municipio\n",
    "#sbpro = sbpro[sbpro[\"estu_prgm_codmunicipio\"].isin(municipios[\"codigo_dane_municipio\"])]\n",
    "\n",
    "sbpro = sbpro.sort_values(by=\"periodo\")\n",
    "sbpro = sbpro.reset_index(drop=True)\n",
    "\n",
    "#Reordenar columnas\n",
    "sbpro = sbpro[constants.cols_saberpro_lower]\n",
    "\n",
    "del data_list\n",
    "del data_temp"
   ]
  },
  {
   "cell_type": "code",
   "execution_count": 15,
   "id": "aaaf4d96",
   "metadata": {},
   "outputs": [],
   "source": [
    "#parse las columnas a los tipos de variables adecuados\n",
    "for col, dtype in constants.dtype_mapping_saberpro.items():\n",
    "    if col in sbpro.columns:\n",
    "        try:\n",
    "            sbpro[col] = sbpro[col].astype(dtype)\n",
    "        except Exception as e:\n",
    "            print(f\"No se pudo convertir la columna {col} a {dtype}: {e}\")"
   ]
  },
  {
   "cell_type": "code",
   "execution_count": 9,
   "id": "5777ad18",
   "metadata": {},
   "outputs": [],
   "source": [
    "resumen_nans_sbpro = resumen_nans_df(sbpro)"
   ]
  },
  {
   "cell_type": "code",
   "execution_count": 21,
   "id": "68389645",
   "metadata": {},
   "outputs": [],
   "source": [
    "#Guardar el dataframe como un archivo csv en la carpeta SABERPRO_cleaned\n",
    "sbpro.to_csv(\"../../data/SABERPRO_cleaned/base_sbpro.csv\", index=False)"
   ]
  },
  {
   "cell_type": "markdown",
   "id": "05b8cc26",
   "metadata": {},
   "source": [
    "### Cargar las bases limpias del saber 11 y saber pro"
   ]
  },
  {
   "cell_type": "code",
   "execution_count": 83,
   "id": "abc7d7a3",
   "metadata": {},
   "outputs": [
    {
     "name": "stdout",
     "output_type": "stream",
     "text": [
      "----SABER PRO----\n",
      "Numero Observaciones:\n",
      "812065\n",
      "Observaciones duplicadas:\n",
      "1893\n",
      "Observaciones unicas:\n",
      "810172\n",
      "----SABER 11----\n",
      "Numero Observaciones:\n",
      "8562110\n",
      "Observaciones duplicadas:\n",
      "0\n",
      "Observaciones unicas:\n",
      "8562110\n"
     ]
    }
   ],
   "source": [
    "num_duplicates = sbpro['estu_consecutivo'].duplicated().sum()\n",
    "num_obs = sbpro.periodo.count()\n",
    "print(\"----SABER PRO----\")\n",
    "print(\"Numero Observaciones:\")\n",
    "print(num_obs)\n",
    "\n",
    "print(\"Observaciones duplicadas:\")\n",
    "print(num_duplicates)\n",
    "\n",
    "print(\"Observaciones unicas:\")\n",
    "print(num_obs-num_duplicates)\n",
    "\n",
    "\n",
    "num_duplicates = sb11['estu_consecutivo'].duplicated().sum()\n",
    "num_obs = sb11.periodo.count()\n",
    "print(\"----SABER 11----\")\n",
    "print(\"Numero Observaciones:\")\n",
    "print(num_obs)\n",
    "\n",
    "print(\"Observaciones duplicadas:\")\n",
    "print(num_duplicates)\n",
    "\n",
    "print(\"Observaciones unicas:\")\n",
    "print(num_obs-num_duplicates)"
   ]
  },
  {
   "cell_type": "code",
   "execution_count": null,
   "id": "4941e76e",
   "metadata": {},
   "outputs": [],
   "source": [
    "#sbpro = sbpro.drop_duplicates(\"estu_consecutivo\",keep=\"first\")\n",
    "##TODO: Analizar las observaciones duplicadas** (se eliminó el 0.2% de la info del sbpro )"
   ]
  },
  {
   "cell_type": "markdown",
   "id": "3f6c6ebf",
   "metadata": {},
   "source": [
    "------"
   ]
  },
  {
   "cell_type": "markdown",
   "id": "cd63799c",
   "metadata": {},
   "source": [
    "### MERGE SABER PRO con SABER 11"
   ]
  },
  {
   "cell_type": "code",
   "execution_count": 2,
   "id": "fd339dfc",
   "metadata": {},
   "outputs": [],
   "source": [
    "import pandas as pd"
   ]
  },
  {
   "cell_type": "code",
   "execution_count": 3,
   "id": "96091181",
   "metadata": {},
   "outputs": [
    {
     "name": "stderr",
     "output_type": "stream",
     "text": [
      "C:\\Users\\user\\AppData\\Local\\Temp\\ipykernel_8664\\3907161097.py:1: DtypeWarning: Columns (1,2,7,24,25,29,30,31,33,35,36,37,38,39,40,42,43,44) have mixed types. Specify dtype option on import or set low_memory=False.\n",
      "  sb11 = pd.read_csv(\"../../data/SABER11_cleaned/base_sb11.csv\", sep=\",\")\n"
     ]
    }
   ],
   "source": [
    "sb11 = pd.read_csv(\"../../data/SABER11_cleaned/base_sb11.csv\", sep=\",\")\n",
    "sbpro = pd.read_csv(\"../../data/SABERPRO_cleaned/base_sbpro.csv\", sep=\",\")"
   ]
  },
  {
   "cell_type": "code",
   "execution_count": 6,
   "id": "a117fc70",
   "metadata": {},
   "outputs": [],
   "source": [
    "#Unimos la base consolidada del Saber 11 con la base consolidada del Saber PRO\n",
    "#Right join\n",
    "data = pd.merge(sb11,sbpro, how=\"right\", left_on = \"llave_saber_pro\", right_on = \"estu_consecutivo\", suffixes= (\"_bdsaber11\",\"_bdsaberpro\"))"
   ]
  },
  {
   "cell_type": "code",
   "execution_count": 7,
   "id": "be2e5105",
   "metadata": {},
   "outputs": [],
   "source": [
    "resumen_nans_muestra_saber11_saberpro = resumen_nans_df(data)"
   ]
  },
  {
   "cell_type": "code",
   "execution_count": 11,
   "id": "de34b647",
   "metadata": {},
   "outputs": [],
   "source": [
    "with pd.ExcelWriter('../../data/Observaciones_perdidas/resumen_nans.xlsx') as writer:\n",
    "    resumen_nans_base_sb11.to_excel(writer, sheet_name='Resumen_Saber11')\n",
    "    resumen_nans_base_sb11_filtrado.to_excel(writer, sheet_name='Resumen_Saber11_Filtrado')\n",
    "    resumen_nans_sbpro.to_excel(writer, sheet_name='Resumen_SaberPro')\n",
    "    resumen_nans_muestra_saber11_saberpro.to_excel(writer, sheet_name='Resumen_Saber11_SaberPro')"
   ]
  },
  {
   "cell_type": "markdown",
   "id": "7a6a6668",
   "metadata": {},
   "source": [
    "### Descripcion Base de Datos consolidada\n",
    "\n",
    "Características de esta base:\n",
    "- Existen estudiantes en la base del Saber 11 que no tienen llave para unirse con la base del Saber Pro. \n",
    "    - Recordar las llaves: estu_consecutivo_sbpro y estu_consecutivo_sb11\n",
    "- No existen estudiantes duplicados (var: estu_consecutivo_icfes) en la base del saber 11\n",
    "- Existen duplicados (var: estu_consecutivo_pro) en la base del saber pro"
   ]
  },
  {
   "cell_type": "code",
   "execution_count": 12,
   "id": "9acd96c4",
   "metadata": {},
   "outputs": [
    {
     "name": "stdout",
     "output_type": "stream",
     "text": [
      "(1948415, 68)\n"
     ]
    },
    {
     "data": {
      "text/html": [
       "<div>\n",
       "<style scoped>\n",
       "    .dataframe tbody tr th:only-of-type {\n",
       "        vertical-align: middle;\n",
       "    }\n",
       "\n",
       "    .dataframe tbody tr th {\n",
       "        vertical-align: top;\n",
       "    }\n",
       "\n",
       "    .dataframe thead th {\n",
       "        text-align: right;\n",
       "    }\n",
       "</style>\n",
       "<table border=\"1\" class=\"dataframe\">\n",
       "  <thead>\n",
       "    <tr style=\"text-align: right;\">\n",
       "      <th></th>\n",
       "      <th>estu_consecutivo_bdsaber11</th>\n",
       "      <th>llave_saber_11</th>\n",
       "      <th>llave_saber_pro</th>\n",
       "      <th>periodo_bdsaber11</th>\n",
       "      <th>punt_global_bdsaber11</th>\n",
       "      <th>cole_cod_depto_ubicacion</th>\n",
       "      <th>cole_cod_mcpio_ubicacion</th>\n",
       "      <th>cole_depto_ubicacion</th>\n",
       "      <th>recaf_punt_sociales_ciudadanas</th>\n",
       "      <th>recaf_punt_ingles</th>\n",
       "      <th>...</th>\n",
       "      <th>inst_caracter_academico</th>\n",
       "      <th>estu_inst_codmunicipio</th>\n",
       "      <th>estu_inst_municipio</th>\n",
       "      <th>estu_inst_departamento</th>\n",
       "      <th>estu_cod_mcpio_presentacion</th>\n",
       "      <th>mod_razona_cuantitat_punt</th>\n",
       "      <th>mod_lectura_critica_punt</th>\n",
       "      <th>mod_competen_ciudada_punt</th>\n",
       "      <th>mod_ingles_punt</th>\n",
       "      <th>mod_comuni_escrita_punt</th>\n",
       "    </tr>\n",
       "  </thead>\n",
       "  <tbody>\n",
       "    <tr>\n",
       "      <th>0</th>\n",
       "      <td>NaN</td>\n",
       "      <td>NaN</td>\n",
       "      <td>NaN</td>\n",
       "      <td>NaN</td>\n",
       "      <td>NaN</td>\n",
       "      <td>NaN</td>\n",
       "      <td>NaN</td>\n",
       "      <td>NaN</td>\n",
       "      <td>NaN</td>\n",
       "      <td>NaN</td>\n",
       "      <td>...</td>\n",
       "      <td>UNIVERSIDAD</td>\n",
       "      <td>50001</td>\n",
       "      <td>VILLAVICENCIO</td>\n",
       "      <td>META</td>\n",
       "      <td>NaN</td>\n",
       "      <td>183</td>\n",
       "      <td>132</td>\n",
       "      <td>126</td>\n",
       "      <td>146</td>\n",
       "      <td>NaN</td>\n",
       "    </tr>\n",
       "    <tr>\n",
       "      <th>1</th>\n",
       "      <td>NaN</td>\n",
       "      <td>NaN</td>\n",
       "      <td>NaN</td>\n",
       "      <td>NaN</td>\n",
       "      <td>NaN</td>\n",
       "      <td>NaN</td>\n",
       "      <td>NaN</td>\n",
       "      <td>NaN</td>\n",
       "      <td>NaN</td>\n",
       "      <td>NaN</td>\n",
       "      <td>...</td>\n",
       "      <td>UNIVERSIDAD</td>\n",
       "      <td>8001</td>\n",
       "      <td>BARRANQUILLA</td>\n",
       "      <td>ATLANTICO</td>\n",
       "      <td>NaN</td>\n",
       "      <td>182</td>\n",
       "      <td>197</td>\n",
       "      <td>195</td>\n",
       "      <td>217</td>\n",
       "      <td>NaN</td>\n",
       "    </tr>\n",
       "    <tr>\n",
       "      <th>2</th>\n",
       "      <td>SB11201220353778</td>\n",
       "      <td>SB11201220353778</td>\n",
       "      <td>EK201620000561</td>\n",
       "      <td>20,122</td>\n",
       "      <td>NaN</td>\n",
       "      <td>11</td>\n",
       "      <td>11,001</td>\n",
       "      <td>BOGOTA</td>\n",
       "      <td>49</td>\n",
       "      <td>54</td>\n",
       "      <td>...</td>\n",
       "      <td>INSTITUCIÓN UNIVERSITARIA</td>\n",
       "      <td>11001</td>\n",
       "      <td>BOGOTÁ D.C.</td>\n",
       "      <td>BOGOTA</td>\n",
       "      <td>NaN</td>\n",
       "      <td>163</td>\n",
       "      <td>184</td>\n",
       "      <td>165</td>\n",
       "      <td>160</td>\n",
       "      <td>NaN</td>\n",
       "    </tr>\n",
       "    <tr>\n",
       "      <th>3</th>\n",
       "      <td>NaN</td>\n",
       "      <td>NaN</td>\n",
       "      <td>NaN</td>\n",
       "      <td>NaN</td>\n",
       "      <td>NaN</td>\n",
       "      <td>NaN</td>\n",
       "      <td>NaN</td>\n",
       "      <td>NaN</td>\n",
       "      <td>NaN</td>\n",
       "      <td>NaN</td>\n",
       "      <td>...</td>\n",
       "      <td>UNIVERSIDAD</td>\n",
       "      <td>76001</td>\n",
       "      <td>CALI</td>\n",
       "      <td>VALLE</td>\n",
       "      <td>NaN</td>\n",
       "      <td>139</td>\n",
       "      <td>186</td>\n",
       "      <td>185</td>\n",
       "      <td>223</td>\n",
       "      <td>NaN</td>\n",
       "    </tr>\n",
       "    <tr>\n",
       "      <th>4</th>\n",
       "      <td>NaN</td>\n",
       "      <td>NaN</td>\n",
       "      <td>NaN</td>\n",
       "      <td>NaN</td>\n",
       "      <td>NaN</td>\n",
       "      <td>NaN</td>\n",
       "      <td>NaN</td>\n",
       "      <td>NaN</td>\n",
       "      <td>NaN</td>\n",
       "      <td>NaN</td>\n",
       "      <td>...</td>\n",
       "      <td>UNIVERSIDAD</td>\n",
       "      <td>25175</td>\n",
       "      <td>CHÍA</td>\n",
       "      <td>CUNDINAMARCA</td>\n",
       "      <td>NaN</td>\n",
       "      <td>117</td>\n",
       "      <td>175</td>\n",
       "      <td>149</td>\n",
       "      <td>213</td>\n",
       "      <td>NaN</td>\n",
       "    </tr>\n",
       "  </tbody>\n",
       "</table>\n",
       "<p>5 rows × 68 columns</p>\n",
       "</div>"
      ],
      "text/plain": [
       "  estu_consecutivo_bdsaber11    llave_saber_11 llave_saber_pro  \\\n",
       "0                        NaN               NaN             NaN   \n",
       "1                        NaN               NaN             NaN   \n",
       "2           SB11201220353778  SB11201220353778  EK201620000561   \n",
       "3                        NaN               NaN             NaN   \n",
       "4                        NaN               NaN             NaN   \n",
       "\n",
       "   periodo_bdsaber11  punt_global_bdsaber11  cole_cod_depto_ubicacion  \\\n",
       "0                NaN                    NaN                       NaN   \n",
       "1                NaN                    NaN                       NaN   \n",
       "2             20,122                    NaN                        11   \n",
       "3                NaN                    NaN                       NaN   \n",
       "4                NaN                    NaN                       NaN   \n",
       "\n",
       "   cole_cod_mcpio_ubicacion cole_depto_ubicacion  \\\n",
       "0                       NaN                  NaN   \n",
       "1                       NaN                  NaN   \n",
       "2                    11,001               BOGOTA   \n",
       "3                       NaN                  NaN   \n",
       "4                       NaN                  NaN   \n",
       "\n",
       "   recaf_punt_sociales_ciudadanas  recaf_punt_ingles  ...  \\\n",
       "0                             NaN                NaN  ...   \n",
       "1                             NaN                NaN  ...   \n",
       "2                              49                 54  ...   \n",
       "3                             NaN                NaN  ...   \n",
       "4                             NaN                NaN  ...   \n",
       "\n",
       "     inst_caracter_academico  estu_inst_codmunicipio  estu_inst_municipio  \\\n",
       "0                UNIVERSIDAD                   50001        VILLAVICENCIO   \n",
       "1                UNIVERSIDAD                    8001         BARRANQUILLA   \n",
       "2  INSTITUCIÓN UNIVERSITARIA                   11001          BOGOTÁ D.C.   \n",
       "3                UNIVERSIDAD                   76001                 CALI   \n",
       "4                UNIVERSIDAD                   25175                 CHÍA   \n",
       "\n",
       "   estu_inst_departamento  estu_cod_mcpio_presentacion  \\\n",
       "0                    META                          NaN   \n",
       "1               ATLANTICO                          NaN   \n",
       "2                  BOGOTA                          NaN   \n",
       "3                   VALLE                          NaN   \n",
       "4            CUNDINAMARCA                          NaN   \n",
       "\n",
       "   mod_razona_cuantitat_punt  mod_lectura_critica_punt  \\\n",
       "0                        183                       132   \n",
       "1                        182                       197   \n",
       "2                        163                       184   \n",
       "3                        139                       186   \n",
       "4                        117                       175   \n",
       "\n",
       "   mod_competen_ciudada_punt  mod_ingles_punt  mod_comuni_escrita_punt  \n",
       "0                        126              146                      NaN  \n",
       "1                        195              217                      NaN  \n",
       "2                        165              160                      NaN  \n",
       "3                        185              223                      NaN  \n",
       "4                        149              213                      NaN  \n",
       "\n",
       "[5 rows x 68 columns]"
      ]
     },
     "execution_count": 12,
     "metadata": {},
     "output_type": "execute_result"
    }
   ],
   "source": [
    "print(data.shape)\n",
    "data.head()"
   ]
  },
  {
   "cell_type": "markdown",
   "id": "ca43b7d3",
   "metadata": {},
   "source": [
    "**Calcular Nuevas columnas** \n",
    "- Diferencia entre el periodo del Saber Pro y el Saber11\n",
    "    - Para el cálculo del VA, el ICFES utiliza una diferencia de 4-8 años entre la evaluación del Saber 11 y el Saber Pro para los programas distintos a medicina. Medicina tiene un rango de 4-9 años\n",
    "     "
   ]
  },
  {
   "cell_type": "code",
   "execution_count": 13,
   "id": "915d58ad",
   "metadata": {},
   "outputs": [],
   "source": [
    "data[\"dif_periodos\"] = data[\"periodo_bdsaberpro\"]- data[\"periodo_bdsaber11\"]\n",
    "data['anio_presentacion_sbpro'] = data['periodo_bdsaberpro']//10\n",
    "data['anio_presentacion_sb11'] = data['periodo_bdsaber11']//10"
   ]
  },
  {
   "cell_type": "code",
   "execution_count": 14,
   "id": "6b0c9ab5",
   "metadata": {},
   "outputs": [
    {
     "data": {
      "text/html": [
       "<div>\n",
       "<style scoped>\n",
       "    .dataframe tbody tr th:only-of-type {\n",
       "        vertical-align: middle;\n",
       "    }\n",
       "\n",
       "    .dataframe tbody tr th {\n",
       "        vertical-align: top;\n",
       "    }\n",
       "\n",
       "    .dataframe thead th {\n",
       "        text-align: right;\n",
       "    }\n",
       "</style>\n",
       "<table border=\"1\" class=\"dataframe\">\n",
       "  <thead>\n",
       "    <tr style=\"text-align: right;\">\n",
       "      <th></th>\n",
       "      <th>periodo_bdsaberpro</th>\n",
       "      <th>periodo_bdsaber11</th>\n",
       "      <th>dif_periodos</th>\n",
       "      <th>anio_presentacion_sbpro</th>\n",
       "      <th>anio_presentacion_sb11</th>\n",
       "    </tr>\n",
       "  </thead>\n",
       "  <tbody>\n",
       "    <tr>\n",
       "      <th>90344</th>\n",
       "      <td>20163</td>\n",
       "      <td>NaN</td>\n",
       "      <td>NaN</td>\n",
       "      <td>2016</td>\n",
       "      <td>NaN</td>\n",
       "    </tr>\n",
       "    <tr>\n",
       "      <th>479808</th>\n",
       "      <td>20173</td>\n",
       "      <td>NaN</td>\n",
       "      <td>NaN</td>\n",
       "      <td>2017</td>\n",
       "      <td>NaN</td>\n",
       "    </tr>\n",
       "    <tr>\n",
       "      <th>1752045</th>\n",
       "      <td>20231</td>\n",
       "      <td>NaN</td>\n",
       "      <td>NaN</td>\n",
       "      <td>2023</td>\n",
       "      <td>NaN</td>\n",
       "    </tr>\n",
       "    <tr>\n",
       "      <th>1685771</th>\n",
       "      <td>20225</td>\n",
       "      <td>20,172</td>\n",
       "      <td>53</td>\n",
       "      <td>2022</td>\n",
       "      <td>2,017</td>\n",
       "    </tr>\n",
       "    <tr>\n",
       "      <th>1325028</th>\n",
       "      <td>20212</td>\n",
       "      <td>NaN</td>\n",
       "      <td>NaN</td>\n",
       "      <td>2021</td>\n",
       "      <td>NaN</td>\n",
       "    </tr>\n",
       "  </tbody>\n",
       "</table>\n",
       "</div>"
      ],
      "text/plain": [
       "         periodo_bdsaberpro  periodo_bdsaber11  dif_periodos  \\\n",
       "90344                 20163                NaN           NaN   \n",
       "479808                20173                NaN           NaN   \n",
       "1752045               20231                NaN           NaN   \n",
       "1685771               20225             20,172            53   \n",
       "1325028               20212                NaN           NaN   \n",
       "\n",
       "         anio_presentacion_sbpro  anio_presentacion_sb11  \n",
       "90344                       2016                     NaN  \n",
       "479808                      2017                     NaN  \n",
       "1752045                     2023                     NaN  \n",
       "1685771                     2022                   2,017  \n",
       "1325028                     2021                     NaN  "
      ]
     },
     "execution_count": 14,
     "metadata": {},
     "output_type": "execute_result"
    }
   ],
   "source": [
    "data[['periodo_bdsaberpro',\"periodo_bdsaber11\",\"dif_periodos\",'anio_presentacion_sbpro','anio_presentacion_sb11']].sample(5)"
   ]
  },
  {
   "cell_type": "code",
   "execution_count": 15,
   "id": "5fb3dde6",
   "metadata": {},
   "outputs": [],
   "source": [
    "data = data.sort_values(by=\"periodo_bdsaber11\").reset_index(drop=True)"
   ]
  },
  {
   "cell_type": "code",
   "execution_count": 16,
   "id": "08cb0e6d",
   "metadata": {},
   "outputs": [],
   "source": [
    "#Guardamos la base de datos consolidada en el subdirectorio BD\n",
    "data.to_csv(\"../../data/BD/saber11_nacional_saberpro_bogota_region.csv\",index=False)\n",
    "data.to_pickle(\"../../data/BD/saber11_nacional_saberpro_bogota_region.pkl\")"
   ]
  },
  {
   "cell_type": "code",
   "execution_count": 31,
   "id": "de963095",
   "metadata": {},
   "outputs": [],
   "source": [
    "sb11.to_pickle(\"../../data/SABER11_cleaned/base_sb11.pkl\")\n",
    "sbpro.to_pickle(\"../../data/SABERPRO_cleaned/base_sbpro.pkl\")"
   ]
  }
 ],
 "metadata": {
  "kernelspec": {
   "display_name": "Python 3 (ipykernel)",
   "language": "python",
   "name": "python3"
  },
  "language_info": {
   "codemirror_mode": {
    "name": "ipython",
    "version": 3
   },
   "file_extension": ".py",
   "mimetype": "text/x-python",
   "name": "python",
   "nbconvert_exporter": "python",
   "pygments_lexer": "ipython3",
   "version": "3.13.5"
  }
 },
 "nbformat": 4,
 "nbformat_minor": 5
}
