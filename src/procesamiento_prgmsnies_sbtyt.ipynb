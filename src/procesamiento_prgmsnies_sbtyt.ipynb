{
 "cells": [
  {
   "cell_type": "markdown",
   "id": "7e9cde7d",
   "metadata": {},
   "source": [
    "Cuardeno para procesar los programas snies\n",
    "https://hecaa.mineducacion.gov.co/consultaspublicas/programas"
   ]
  },
  {
   "cell_type": "markdown",
   "id": "1a4207a9",
   "metadata": {},
   "source": [
    "### Constantes y Librerias "
   ]
  },
  {
   "cell_type": "code",
   "execution_count": 1,
   "id": "24260a40",
   "metadata": {},
   "outputs": [],
   "source": [
    "import os\n",
    "import glob\n",
    "import pandas as pd\n",
    "from unidecode import unidecode\n",
    "import numpy as np\n",
    "import csv"
   ]
  },
  {
   "cell_type": "markdown",
   "id": "c7acf980",
   "metadata": {},
   "source": []
  },
  {
   "cell_type": "code",
   "execution_count": 4,
   "id": "0496c627",
   "metadata": {},
   "outputs": [],
   "source": [
    "programas = pd.read_excel(\"../data/SNIES_CINE_raw/programas.xlsx\")"
   ]
  },
  {
   "cell_type": "code",
   "execution_count": 5,
   "id": "14728a53",
   "metadata": {},
   "outputs": [],
   "source": [
    "programas_bogota = pd.read_excel(\"../data/SNIES_CINE_raw/programas_bogota_nbc_cine.xlsx\")"
   ]
  },
  {
   "cell_type": "code",
   "execution_count": 6,
   "id": "5be1967b",
   "metadata": {},
   "outputs": [
    {
     "data": {
      "text/plain": [
       "(30034, 39)"
      ]
     },
     "execution_count": 6,
     "metadata": {},
     "output_type": "execute_result"
    }
   ],
   "source": [
    "programas.shape"
   ]
  },
  {
   "cell_type": "code",
   "execution_count": 7,
   "id": "f9e5b330",
   "metadata": {},
   "outputs": [
    {
     "data": {
      "text/plain": [
       "(8204, 39)"
      ]
     },
     "execution_count": 7,
     "metadata": {},
     "output_type": "execute_result"
    }
   ],
   "source": [
    "programas_bogota.shape"
   ]
  },
  {
   "cell_type": "code",
   "execution_count": null,
   "id": "0178a943",
   "metadata": {},
   "outputs": [],
   "source": []
  },
  {
   "cell_type": "code",
   "execution_count": null,
   "id": "6e2da1b1",
   "metadata": {},
   "outputs": [],
   "source": []
  }
 ],
 "metadata": {
  "kernelspec": {
   "display_name": "mainenv",
   "language": "python",
   "name": "python3"
  },
  "language_info": {
   "codemirror_mode": {
    "name": "ipython",
    "version": 3
   },
   "file_extension": ".py",
   "mimetype": "text/x-python",
   "name": "python",
   "nbconvert_exporter": "python",
   "pygments_lexer": "ipython3",
   "version": "3.10.12"
  }
 },
 "nbformat": 4,
 "nbformat_minor": 5
}
