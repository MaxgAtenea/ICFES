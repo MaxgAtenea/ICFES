{
 "cells": [
  {
   "cell_type": "markdown",
   "id": "7e9cde7d",
   "metadata": {},
   "source": [
    "Cuardeno para procesar los programas snies\n",
    "https://hecaa.mineducacion.gov.co/consultaspublicas/programas"
   ]
  },
  {
   "cell_type": "markdown",
   "id": "1a4207a9",
   "metadata": {},
   "source": [
    "### Constantes y Librerias "
   ]
  },
  {
   "cell_type": "code",
   "execution_count": 1,
   "id": "24260a40",
   "metadata": {},
   "outputs": [],
   "source": [
    "import pandas as pd\n",
    "from unidecode import unidecode\n",
    "import unicodedata\n",
    "from rapidfuzz import process, fuzz\n",
    "import re\n",
    "\n",
    "import constants"
   ]
  },
  {
   "cell_type": "markdown",
   "id": "69bfb38b",
   "metadata": {},
   "source": [
    "### Funciones predefinidas"
   ]
  },
  {
   "cell_type": "code",
   "execution_count": 2,
   "id": "78115be0",
   "metadata": {},
   "outputs": [],
   "source": [
    "def quitar_tildes(texto):\n",
    "    if pd.isna(texto):\n",
    "        return texto\n",
    "    # Convertir a unicode normalizado sin acentos\n",
    "    texto = unicodedata.normalize('NFKD', str(texto))\n",
    "    texto = ''.join([c for c in texto if not unicodedata.combining(c)])\n",
    "    return texto"
   ]
  },
  {
   "cell_type": "code",
   "execution_count": 3,
   "id": "c0708754",
   "metadata": {},
   "outputs": [],
   "source": [
    "def limpiar_texto(texto):\n",
    "    if pd.isna(texto):\n",
    "        return texto\n",
    "    # Convertir a string\n",
    "    texto = str(texto)\n",
    "    # Eliminar comillas dobles\n",
    "    texto = texto.replace('\"', '')\n",
    "    # Eliminar backslashes\n",
    "    texto = texto.replace('\\\\', '')\n",
    "    # Eliminar espacios extra\n",
    "    texto = ' '.join(texto.split())\n",
    "    # Eliminar tildes y acentos\n",
    "    texto = quitar_tildes(texto) \n",
    "    # Capitalizar tipo título\n",
    "    texto = texto.title()\n",
    "    \n",
    "    return texto"
   ]
  },
  {
   "cell_type": "code",
   "execution_count": 4,
   "id": "61f49c4e",
   "metadata": {},
   "outputs": [],
   "source": [
    "def limpiar_texto_dataframe(df):\n",
    "    # Limpiar el texto de las columnas tipo object (strings)\n",
    "    for col in df.select_dtypes(include='object').columns:\n",
    "        df[col] = df[col].apply(limpiar_texto)\n",
    "\n",
    "    return df"
   ]
  },
  {
   "cell_type": "code",
   "execution_count": 5,
   "id": "8266245e",
   "metadata": {},
   "outputs": [],
   "source": [
    "def limpiar_nombres_columnas(df):\n",
    "    df.columns = df.columns.str.lower()\n",
    "    df.columns = [quitar_tildes(col) for col in df.columns]\n",
    "    \n",
    "    return df"
   ]
  },
  {
   "cell_type": "code",
   "execution_count": 6,
   "id": "3a241636",
   "metadata": {},
   "outputs": [],
   "source": [
    "def normalizar_texto(texto):\n",
    "    if pd.isna(texto):\n",
    "        return \"\"\n",
    "    texto = str(texto).lower()\n",
    "    texto = unicodedata.normalize('NFKD', texto).encode('ascii', 'ignore').decode('utf-8')  # quitar tildes\n",
    "    texto = re.sub(r'[\\W_]+', ' ', texto)  # eliminar puntuación y guiones, dejar solo letras/números\n",
    "    texto = re.sub(r'\\s+', ' ', texto).strip()  # eliminar espacios múltiples\n",
    "    return texto"
   ]
  },
  {
   "cell_type": "code",
   "execution_count": 7,
   "id": "1185dac6",
   "metadata": {},
   "outputs": [],
   "source": [
    "def unir_por_similitud(programas, municipios, col_prog='municipio_oferta_programa', col_mpio='nombre_municipio', threshold=90):\n",
    "    \"\"\"\n",
    "    Realiza un join difuso entre los DataFrames 'programas' y 'municipios',\n",
    "    comparando textos similares entre dos columnas, usando RapidFuzz (WRatio).\n",
    "\n",
    "    Parámetros:\n",
    "        programas (DataFrame): DataFrame principal (ej. programas académicos).\n",
    "        municipios (DataFrame): DataFrame de referencia (ej. nombres estándar de municipios).\n",
    "        col_prog (str): Columna de 'programas' a comparar.\n",
    "        col_mpio (str): Columna de 'municipios' a comparar.\n",
    "        threshold (int): Similitud mínima (0–100) para considerar un match (default: 90).\n",
    "\n",
    "    Retorna:\n",
    "        DataFrame resultante con las filas unidas según similitud textual.\n",
    "    \"\"\"\n",
    "    \n",
    "    # Normalizar columnas\n",
    "    programas['__match_key'] = programas[col_prog].apply(normalizar_texto)\n",
    "    municipios['__match_key'] = municipios[col_mpio].apply(normalizar_texto)\n",
    "\n",
    "    resultados = []\n",
    "\n",
    "    for val in programas['__match_key'].dropna().unique():\n",
    "        match = process.extractOne(val, municipios['__match_key'].dropna().unique(), scorer=fuzz.WRatio)\n",
    "        \n",
    "        if match and match[1] >= threshold:\n",
    "            prog_filtrado = programas[programas['__match_key'] == val]\n",
    "            mpio_filtrado = municipios[municipios['__match_key'] == match[0]]\n",
    "\n",
    "            # Ajuste para asegurar coincidencia de clave\n",
    "            prog_filtrado = prog_filtrado.assign(__match_key=match[0])\n",
    "\n",
    "            combinado = prog_filtrado.merge(mpio_filtrado, on='__match_key')\n",
    "            resultados.append(combinado)\n",
    "\n",
    "    # Eliminar columna auxiliar\n",
    "    return pd.concat(resultados, ignore_index=True).drop(columns='__match_key') if resultados else pd.DataFrame()"
   ]
  },
  {
   "cell_type": "code",
   "execution_count": 8,
   "id": "d756b868",
   "metadata": {},
   "outputs": [],
   "source": [
    "def filtrar_programas(df):\n",
    "    \"\"\"\n",
    "    Filtra el DataFrame para conservar solo los programas:\n",
    "    - Con estado 'Activo'\n",
    "    - De nivel de formación 'Universitario'\n",
    "    - De nivel académico 'Pregrado'\n",
    "    \n",
    "    Parámetros:\n",
    "        df (pd.DataFrame): El DataFrame original.\n",
    "        \n",
    "    Retorna:\n",
    "        pd.DataFrame: El DataFrame filtrado.\n",
    "    \"\"\"\n",
    "    return df[\n",
    "        (df['estado_programa'] == \"Activo\") &\n",
    "        ((df['nivel_de_formacion'] == \"Formacion Tecnica Profesional\") | (df['nivel_de_formacion'] == \"Tecnologico\")) &\n",
    "        (df['nivel_academico'] == \"Pregrado\")\n",
    "    ]"
   ]
  },
  {
   "cell_type": "code",
   "execution_count": 9,
   "id": "7c53d445",
   "metadata": {},
   "outputs": [],
   "source": [
    "def filtrar_departamentos(df, departamentos):\n",
    "    \"\"\"\n",
    "    Filtra el DataFrame por una lista de departamentos.\n",
    "    \n",
    "    Parámetros:\n",
    "        df (pd.DataFrame): DataFrame original.\n",
    "        departamentos (list): Lista de departamentos a filtrar.\n",
    "        \n",
    "    Retorna:\n",
    "        pd.DataFrame: DataFrame filtrado.\n",
    "    \"\"\"\n",
    "    return df[df['departamento_oferta_programa'].isin(departamentos)]\n"
   ]
  },
  {
   "cell_type": "markdown",
   "id": "ba3ad79a",
   "metadata": {},
   "source": [
    "### Lectura de los datos"
   ]
  },
  {
   "cell_type": "code",
   "execution_count": 10,
   "id": "760d4d9d",
   "metadata": {},
   "outputs": [],
   "source": [
    "programas = pd.read_excel(\"../data/SNIES_CINE_raw/programas_nivel_nacional.xlsx\")\n",
    "programas = limpiar_nombres_columnas(programas)\n",
    "programas = programas[constants.columnas_base_snies]\n",
    "programas = limpiar_texto_dataframe(programas)"
   ]
  },
  {
   "cell_type": "code",
   "execution_count": 11,
   "id": "55031ea1",
   "metadata": {},
   "outputs": [
    {
     "data": {
      "text/html": [
       "<div>\n",
       "<style scoped>\n",
       "    .dataframe tbody tr th:only-of-type {\n",
       "        vertical-align: middle;\n",
       "    }\n",
       "\n",
       "    .dataframe tbody tr th {\n",
       "        vertical-align: top;\n",
       "    }\n",
       "\n",
       "    .dataframe thead th {\n",
       "        text-align: right;\n",
       "    }\n",
       "</style>\n",
       "<table border=\"1\" class=\"dataframe\">\n",
       "  <thead>\n",
       "    <tr style=\"text-align: right;\">\n",
       "      <th></th>\n",
       "      <th>codigo_institucion</th>\n",
       "      <th>codigo_institucion_padre</th>\n",
       "      <th>nombre_institucion</th>\n",
       "      <th>estado_institucion</th>\n",
       "      <th>caracter_academico</th>\n",
       "      <th>codigo_snies_del_programa</th>\n",
       "      <th>nombre_del_programa</th>\n",
       "      <th>titulo_otorgado</th>\n",
       "      <th>estado_programa</th>\n",
       "      <th>cine_f_2013_ac_campo_amplio</th>\n",
       "      <th>...</th>\n",
       "      <th>nivel_academico</th>\n",
       "      <th>nivel_de_formacion</th>\n",
       "      <th>modalidad</th>\n",
       "      <th>numero_creditos</th>\n",
       "      <th>numero_periodos_de_duracion</th>\n",
       "      <th>periodicidad</th>\n",
       "      <th>departamento_oferta_programa</th>\n",
       "      <th>municipio_oferta_programa</th>\n",
       "      <th>costo_matricula_estud_nuevos</th>\n",
       "      <th>reconocimiento_del_ministerio</th>\n",
       "    </tr>\n",
       "  </thead>\n",
       "  <tbody>\n",
       "    <tr>\n",
       "      <th>0</th>\n",
       "      <td>1101</td>\n",
       "      <td>1101</td>\n",
       "      <td>Universidad Nacional De Colombia</td>\n",
       "      <td>Activa</td>\n",
       "      <td>Universidad</td>\n",
       "      <td>19</td>\n",
       "      <td>Administracion De Empresas</td>\n",
       "      <td>Administrador(A) De Empresas</td>\n",
       "      <td>Activo</td>\n",
       "      <td>Administracion De Empresas Y Derecho</td>\n",
       "      <td>...</td>\n",
       "      <td>Pregrado</td>\n",
       "      <td>Universitario</td>\n",
       "      <td>Presencial</td>\n",
       "      <td>164.0</td>\n",
       "      <td>10.0</td>\n",
       "      <td>Semestral</td>\n",
       "      <td>Bogota, D.C.</td>\n",
       "      <td>Bogota, D.C.</td>\n",
       "      <td>NaN</td>\n",
       "      <td>Acreditacion De Alta Calidad</td>\n",
       "    </tr>\n",
       "    <tr>\n",
       "      <th>1</th>\n",
       "      <td>1101</td>\n",
       "      <td>1101</td>\n",
       "      <td>Universidad Nacional De Colombia</td>\n",
       "      <td>Activa</td>\n",
       "      <td>Universidad</td>\n",
       "      <td>13</td>\n",
       "      <td>Antropologia</td>\n",
       "      <td>Antropologo(A)</td>\n",
       "      <td>Activo</td>\n",
       "      <td>Arte Y Humanidades</td>\n",
       "      <td>...</td>\n",
       "      <td>Pregrado</td>\n",
       "      <td>Universitario</td>\n",
       "      <td>Presencial</td>\n",
       "      <td>122.0</td>\n",
       "      <td>9.0</td>\n",
       "      <td>Semestral</td>\n",
       "      <td>Bogota, D.C.</td>\n",
       "      <td>Bogota, D.C.</td>\n",
       "      <td>NaN</td>\n",
       "      <td>Acreditacion De Alta Calidad</td>\n",
       "    </tr>\n",
       "    <tr>\n",
       "      <th>2</th>\n",
       "      <td>1101</td>\n",
       "      <td>1101</td>\n",
       "      <td>Universidad Nacional De Colombia</td>\n",
       "      <td>Activa</td>\n",
       "      <td>Universidad</td>\n",
       "      <td>30</td>\n",
       "      <td>Arquitectura</td>\n",
       "      <td>Arquitecto(A)</td>\n",
       "      <td>Activo</td>\n",
       "      <td>Ingenieria, Industria Y Construccion</td>\n",
       "      <td>...</td>\n",
       "      <td>Pregrado</td>\n",
       "      <td>Universitario</td>\n",
       "      <td>Presencial</td>\n",
       "      <td>179.0</td>\n",
       "      <td>10.0</td>\n",
       "      <td>Semestral</td>\n",
       "      <td>Bogota, D.C.</td>\n",
       "      <td>Bogota, D.C.</td>\n",
       "      <td>NaN</td>\n",
       "      <td>Acreditacion De Alta Calidad</td>\n",
       "    </tr>\n",
       "    <tr>\n",
       "      <th>3</th>\n",
       "      <td>1101</td>\n",
       "      <td>1101</td>\n",
       "      <td>Universidad Nacional De Colombia</td>\n",
       "      <td>Activa</td>\n",
       "      <td>Universidad</td>\n",
       "      <td>2497</td>\n",
       "      <td>Artes Plasticas</td>\n",
       "      <td>Maestro En Artes Plasticas</td>\n",
       "      <td>Activo</td>\n",
       "      <td>Arte Y Humanidades</td>\n",
       "      <td>...</td>\n",
       "      <td>Pregrado</td>\n",
       "      <td>Universitario</td>\n",
       "      <td>Presencial</td>\n",
       "      <td>166.0</td>\n",
       "      <td>10.0</td>\n",
       "      <td>Semestral</td>\n",
       "      <td>Bogota, D.C.</td>\n",
       "      <td>Bogota, D.C.</td>\n",
       "      <td>NaN</td>\n",
       "      <td>Acreditacion De Alta Calidad</td>\n",
       "    </tr>\n",
       "    <tr>\n",
       "      <th>4</th>\n",
       "      <td>1101</td>\n",
       "      <td>1101</td>\n",
       "      <td>Universidad Nacional De Colombia</td>\n",
       "      <td>Activa</td>\n",
       "      <td>Universidad</td>\n",
       "      <td>31</td>\n",
       "      <td>Biologia</td>\n",
       "      <td>Biologo(A)</td>\n",
       "      <td>Activo</td>\n",
       "      <td>Ciencias Naturales, Matematicas Y Estadistica</td>\n",
       "      <td>...</td>\n",
       "      <td>Pregrado</td>\n",
       "      <td>Universitario</td>\n",
       "      <td>Presencial</td>\n",
       "      <td>163.0</td>\n",
       "      <td>10.0</td>\n",
       "      <td>Semestral</td>\n",
       "      <td>Bogota, D.C.</td>\n",
       "      <td>Bogota, D.C.</td>\n",
       "      <td>NaN</td>\n",
       "      <td>Acreditacion De Alta Calidad</td>\n",
       "    </tr>\n",
       "  </tbody>\n",
       "</table>\n",
       "<p>5 rows × 24 columns</p>\n",
       "</div>"
      ],
      "text/plain": [
       "   codigo_institucion  codigo_institucion_padre  \\\n",
       "0                1101                      1101   \n",
       "1                1101                      1101   \n",
       "2                1101                      1101   \n",
       "3                1101                      1101   \n",
       "4                1101                      1101   \n",
       "\n",
       "                 nombre_institucion estado_institucion caracter_academico  \\\n",
       "0  Universidad Nacional De Colombia             Activa        Universidad   \n",
       "1  Universidad Nacional De Colombia             Activa        Universidad   \n",
       "2  Universidad Nacional De Colombia             Activa        Universidad   \n",
       "3  Universidad Nacional De Colombia             Activa        Universidad   \n",
       "4  Universidad Nacional De Colombia             Activa        Universidad   \n",
       "\n",
       "   codigo_snies_del_programa         nombre_del_programa  \\\n",
       "0                         19  Administracion De Empresas   \n",
       "1                         13                Antropologia   \n",
       "2                         30                Arquitectura   \n",
       "3                       2497             Artes Plasticas   \n",
       "4                         31                    Biologia   \n",
       "\n",
       "                titulo_otorgado estado_programa  \\\n",
       "0  Administrador(A) De Empresas          Activo   \n",
       "1                Antropologo(A)          Activo   \n",
       "2                 Arquitecto(A)          Activo   \n",
       "3    Maestro En Artes Plasticas          Activo   \n",
       "4                    Biologo(A)          Activo   \n",
       "\n",
       "                     cine_f_2013_ac_campo_amplio  ... nivel_academico  \\\n",
       "0           Administracion De Empresas Y Derecho  ...        Pregrado   \n",
       "1                             Arte Y Humanidades  ...        Pregrado   \n",
       "2           Ingenieria, Industria Y Construccion  ...        Pregrado   \n",
       "3                             Arte Y Humanidades  ...        Pregrado   \n",
       "4  Ciencias Naturales, Matematicas Y Estadistica  ...        Pregrado   \n",
       "\n",
       "  nivel_de_formacion   modalidad numero_creditos numero_periodos_de_duracion  \\\n",
       "0      Universitario  Presencial           164.0                        10.0   \n",
       "1      Universitario  Presencial           122.0                         9.0   \n",
       "2      Universitario  Presencial           179.0                        10.0   \n",
       "3      Universitario  Presencial           166.0                        10.0   \n",
       "4      Universitario  Presencial           163.0                        10.0   \n",
       "\n",
       "  periodicidad departamento_oferta_programa  municipio_oferta_programa  \\\n",
       "0    Semestral                 Bogota, D.C.               Bogota, D.C.   \n",
       "1    Semestral                 Bogota, D.C.               Bogota, D.C.   \n",
       "2    Semestral                 Bogota, D.C.               Bogota, D.C.   \n",
       "3    Semestral                 Bogota, D.C.               Bogota, D.C.   \n",
       "4    Semestral                 Bogota, D.C.               Bogota, D.C.   \n",
       "\n",
       "   costo_matricula_estud_nuevos reconocimiento_del_ministerio  \n",
       "0                           NaN  Acreditacion De Alta Calidad  \n",
       "1                           NaN  Acreditacion De Alta Calidad  \n",
       "2                           NaN  Acreditacion De Alta Calidad  \n",
       "3                           NaN  Acreditacion De Alta Calidad  \n",
       "4                           NaN  Acreditacion De Alta Calidad  \n",
       "\n",
       "[5 rows x 24 columns]"
      ]
     },
     "execution_count": 11,
     "metadata": {},
     "output_type": "execute_result"
    }
   ],
   "source": [
    "programas.head()"
   ]
  },
  {
   "cell_type": "code",
   "execution_count": 12,
   "id": "16699c67",
   "metadata": {},
   "outputs": [
    {
     "data": {
      "text/plain": [
       "(30034, 24)"
      ]
     },
     "execution_count": 12,
     "metadata": {},
     "output_type": "execute_result"
    }
   ],
   "source": [
    "programas.shape"
   ]
  },
  {
   "cell_type": "markdown",
   "id": "789fbbe2",
   "metadata": {},
   "source": [
    "### Filtrar por Bogota-Region"
   ]
  },
  {
   "cell_type": "code",
   "execution_count": 13,
   "id": "19ed0c57",
   "metadata": {},
   "outputs": [],
   "source": [
    "municipios_bogota_region = pd.read_csv(\"../data/Municipios_cleaned/municipios.csv\")"
   ]
  },
  {
   "cell_type": "code",
   "execution_count": 14,
   "id": "99ca904d",
   "metadata": {},
   "outputs": [
    {
     "name": "stdout",
     "output_type": "stream",
     "text": [
      "Programas en Bogota Region 8673\n"
     ]
    }
   ],
   "source": [
    "lista_deptos = [\"Bogota, D.C.\", \"Cundinamarca\"]\n",
    "\n",
    "programas = filtrar_departamentos(programas, lista_deptos)\n",
    "programas = unir_por_similitud(programas.copy(), municipios_bogota_region)\n",
    "print(f\"Programas en Bogota Region {programas.shape[0]}\")"
   ]
  },
  {
   "cell_type": "markdown",
   "id": "033cfd02",
   "metadata": {},
   "source": [
    "### Filtrar por programas tecnologicos o tecnicos profesionales activos y de pregrado"
   ]
  },
  {
   "cell_type": "code",
   "execution_count": 15,
   "id": "01937beb",
   "metadata": {},
   "outputs": [
    {
     "name": "stdout",
     "output_type": "stream",
     "text": [
      "Programas Tecnologicos o Tecnicos Profesionales en Bogota Region 849\n"
     ]
    }
   ],
   "source": [
    "programas = filtrar_programas(programas)\n",
    "print(f\"Programas Tecnologicos o Tecnicos Profesionales en Bogota Region {programas.shape[0]}\")"
   ]
  },
  {
   "cell_type": "markdown",
   "id": "01a88f68",
   "metadata": {},
   "source": [
    "\n",
    "### Guardar Dataframe"
   ]
  },
  {
   "cell_type": "code",
   "execution_count": 20,
   "id": "88905185",
   "metadata": {},
   "outputs": [],
   "source": [
    "#Guardar el dataframe como un archivo csv en la carpeta SNIES_CINE_cleaned\n",
    "programas.to_csv(\"../data/SNIES_CINE_cleaned/base_cine_tyt.csv\", index=False)"
   ]
  }
 ],
 "metadata": {
  "kernelspec": {
   "display_name": "mainenv",
   "language": "python",
   "name": "python3"
  },
  "language_info": {
   "codemirror_mode": {
    "name": "ipython",
    "version": 3
   },
   "file_extension": ".py",
   "mimetype": "text/x-python",
   "name": "python",
   "nbconvert_exporter": "python",
   "pygments_lexer": "ipython3",
   "version": "3.10.12"
  }
 },
 "nbformat": 4,
 "nbformat_minor": 5
}
