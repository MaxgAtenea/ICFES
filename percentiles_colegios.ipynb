{
 "cells": [
  {
   "cell_type": "code",
   "execution_count": null,
   "metadata": {
    "colab": {
     "base_uri": "https://localhost:8080/"
    },
    "id": "3FdLFoka76No",
    "outputId": "675a2d7b-f238-44fe-bb70-0bf18e7d5abd"
   },
   "outputs": [],
   "source": [
    "!pip install fuzzywuzzy[speedup]"
   ]
  },
  {
   "cell_type": "code",
   "execution_count": null,
   "metadata": {
    "id": "hA2s-Ky5nqpl"
   },
   "outputs": [],
   "source": [
    "import pandas as pd\n",
    "from fuzzywuzzy import fuzz\n",
    "from fuzzywuzzy import process"
   ]
  },
  {
   "cell_type": "code",
   "execution_count": null,
   "metadata": {
    "id": "GFlZR2eSrTJg"
   },
   "outputs": [],
   "source": [
    "columns_icfes = [\n",
    "    'periodo',\n",
    "    'cole_cod_mcpio_ubicacion',\n",
    "    'cole_naturaleza',\n",
    "    'cole_nombre_sede',\n",
    "    'cole_nombre_establecimiento',\n",
    "    'cole_cod_dane_sede',\n",
    "    'cole_cod_dane_establecimiento',\n",
    "    'percentil_global',\n",
    "    'punt_global'\n",
    "]\n",
    "\n",
    "columns_colegio = [\n",
    "    \"NOMBRE_SEDE_EDUCATIVA\",\n",
    "    \"MOMBRE_LOCALIDAD\"\n",
    "]"
   ]
  },
  {
   "cell_type": "code",
   "execution_count": null,
   "metadata": {
    "colab": {
     "base_uri": "https://localhost:8080/"
    },
    "id": "XJsZ1NbVoBRE",
    "outputId": "029ff95a-7639-415e-9029-aa1d10630be7"
   },
   "outputs": [],
   "source": [
    "data_icfes = pd.read_csv(\"../data/SABER11_cleaned/base_sb11.csv\")\n",
    "data_icfes = data_icfes[columns_icfes]\n",
    "\n",
    "data_colegios = pd.read_excel(\"../data/COLEGIOS/info_colegios.xlsx\")\n",
    "data_colegios = data_colegios.rename(columns={\"MOMBRE_LOCALIDAD\": \"NOMBRE_LOCALIDAD\"})"
   ]
  },
  {
   "cell_type": "code",
   "execution_count": null,
   "metadata": {
    "colab": {
     "base_uri": "https://localhost:8080/",
     "height": 206
    },
    "id": "G-34OmI_57LB",
    "outputId": "f13e9ffd-7d73-474f-a7e1-49d5f9c699cb"
   },
   "outputs": [],
   "source": [
    "data_colegios.head()"
   ]
  },
  {
   "cell_type": "code",
   "execution_count": null,
   "metadata": {
    "colab": {
     "base_uri": "https://localhost:8080/"
    },
    "id": "G0S-tw5b8sAp",
    "outputId": "753f1255-29ab-4d4e-c02e-b4d569c1c3be"
   },
   "outputs": [],
   "source": [
    "data_icfes.periodo.unique()"
   ]
  },
  {
   "cell_type": "code",
   "execution_count": null,
   "metadata": {
    "id": "3mFIE2BXoqe4"
   },
   "outputs": [],
   "source": [
    "data_filtered = data_icfes[\n",
    "    (data_icfes['cole_cod_mcpio_ubicacion']==11001) &\n",
    "    (data_icfes['periodo'].isin([20232,20242])) &\n",
    "    (data_icfes[\"percentil_global\"]>=99) &\n",
    "    (data_icfes['percentil_global']<=100) &\n",
    "    (data_icfes['cole_naturaleza'].isin([\"OFICIAL\"]))\n",
    "]"
   ]
  },
  {
   "cell_type": "code",
   "execution_count": null,
   "metadata": {
    "colab": {
     "base_uri": "https://localhost:8080/"
    },
    "id": "CFT1s1aC8eSC",
    "outputId": "cf1ef324-2efd-48f6-a68f-bd4be43ff0f0"
   },
   "outputs": [],
   "source": [
    "data_filtered.periodo.unique()"
   ]
  },
  {
   "cell_type": "code",
   "execution_count": null,
   "metadata": {
    "colab": {
     "base_uri": "https://localhost:8080/",
     "height": 356
    },
    "id": "w_F8kuXv1j98",
    "outputId": "7917d84a-13d6-42d2-b71c-61d3b27bcc6e"
   },
   "outputs": [],
   "source": [
    "# Copias de los nombres para buscar\n",
    "names_to_match = data_filtered['cole_nombre_sede'].dropna().unique()\n",
    "names_base = data_colegios['NOMBRE_SEDE_EDUCATIVA'].dropna().unique()\n",
    "\n",
    "# Crear un mapeo con los matches más cercanos\n",
    "matches = []\n",
    "for name in names_to_match:\n",
    "    match, score = process.extractOne(name, names_base, scorer=fuzz.token_sort_ratio)\n",
    "    matches.append({'cole_nombre_sede': name, 'NOMBRE_SEDE_EDUCATIVA': match, 'similarity': score})\n",
    "\n",
    "# Crear un DataFrame con los matches\n",
    "match_df = pd.DataFrame(matches)\n",
    "\n",
    "# Filtrar por un umbral de similitud (por ejemplo, >= 80)\n",
    "match_df = match_df[match_df['similarity'] >= 80]\n",
    "\n",
    "# Hacer el merge con los DataFrames originales\n",
    "data_filtered_matched = pd.merge(data_filtered, match_df, on='cole_nombre_sede', how='left')\n",
    "result = pd.merge(data_filtered_matched, data_colegios, on='NOMBRE_SEDE_EDUCATIVA', how='left')"
   ]
  },
  {
   "cell_type": "code",
   "execution_count": null,
   "metadata": {
    "colab": {
     "base_uri": "https://localhost:8080/",
     "height": 211
    },
    "id": "Y5NYhIUpqm8L",
    "outputId": "e8e4ddb9-def6-4c87-8a4a-ee94681ab14c"
   },
   "outputs": [],
   "source": [
    "# Agrupar\n",
    "percentil_summary = result|.groupby(\n",
    "    [\"periodo\", \"cole_nombre_establecimiento\", \"cole_nombre_sede\", \"percentil_global\"]\n",
    ").agg(\n",
    "    {\n",
    "        \"cole_cod_mcpio_ubicacion\": \"first\",\n",
    "        \"cole_naturaleza\": \"first\",\n",
    "        \"cole_cod_dane_sede\": \"first\",\n",
    "        \"cole_cod_dane_establecimiento\": \"first\",\n",
    "        \"NOMBRE_LOCALIDAD\": \"first\",\n",
    "        \"punt_global\": \"max\"\n",
    "    }\n",
    ").reset_index()\n",
    "\n",
    "# Reordenar columnas\n",
    "ordered_columns = [\n",
    "    \"periodo\",\n",
    "    \"percentil_global\",\n",
    "    \"cole_cod_mcpio_ubicacion\",\n",
    "    \"cole_naturaleza\",\n",
    "    \"NOMBRE_LOCALIDAD\",\n",
    "    \"cole_nombre_establecimiento\",\n",
    "    \"cole_nombre_sede\",\n",
    "    \"cole_cod_dane_sede\",\n",
    "    \"cole_cod_dane_establecimiento\",\n",
    "    \"punt_global\"\n",
    "]\n",
    "\n",
    "percentil_summary = percentil_summary[ordered_columns]\n",
    "\n",
    "percentil_summary.to_csv(\"../data/COLEGIOS/percentiles_por_colegio.csv\")"
   ]
  }
 ],
 "metadata": {
  "colab": {
   "provenance": []
  },
  "kernelspec": {
   "display_name": "Python 3 (ipykernel)",
   "language": "python",
   "name": "python3"
  },
  "language_info": {
   "codemirror_mode": {
    "name": "ipython",
    "version": 3
   },
   "file_extension": ".py",
   "mimetype": "text/x-python",
   "name": "python",
   "nbconvert_exporter": "python",
   "pygments_lexer": "ipython3",
   "version": "3.10.12"
  }
 },
 "nbformat": 4,
 "nbformat_minor": 4
}
