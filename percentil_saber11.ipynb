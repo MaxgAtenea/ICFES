{
 "cells": [
  {
   "cell_type": "code",
   "execution_count": 1,
   "id": "ea23c939-d2c9-44cc-9cce-9d107f25c901",
   "metadata": {},
   "outputs": [],
   "source": [
    "import pandas as pd\n",
    "import csv"
   ]
  },
  {
   "cell_type": "markdown",
   "id": "bce0993d-ffa6-411c-a796-cd9f2acbdc7a",
   "metadata": {},
   "source": [
    "### CONSTANTES"
   ]
  },
  {
   "cell_type": "code",
   "execution_count": 2,
   "id": "9492a0b8-fcf9-4d8b-a4c4-904297e57a1c",
   "metadata": {},
   "outputs": [],
   "source": [
    "RUTA_SABER11 = \"data/SABER11_cleaned/\""
   ]
  },
  {
   "cell_type": "markdown",
   "id": "7bc4d769-3c1d-4854-813f-d47ea888f245",
   "metadata": {},
   "source": [
    "### Lectura Saber Pro"
   ]
  },
  {
   "cell_type": "code",
   "execution_count": null,
   "id": "efec2a66-a53e-4ed3-b7ab-7e18d3666c16",
   "metadata": {},
   "outputs": [],
   "source": [
    "sb11 = (\n",
    "    pd.read_csv(\n",
    "        RUTA_SABER11 + \"base_sb11.csv\",\n",
    "        sep=\",\",\n",
    "        engine=\"python\",\n",
    "        encoding=\"utf-8\",\n",
    "        quoting=csv.QUOTE_NONE\n",
    "    )\n",
    "    .rename(columns=str.lower)\n",
    ")#[LLAVE_ICFES + COLUMNAS_ICFES]"
   ]
  },
  {
   "cell_type": "code",
   "execution_count": null,
   "id": "4cac4f5d-9d48-4deb-8aca-08200b497566",
   "metadata": {},
   "outputs": [],
   "source": []
  }
 ],
 "metadata": {
  "kernelspec": {
   "display_name": "Python 3 (ipykernel)",
   "language": "python",
   "name": "python3"
  },
  "language_info": {
   "codemirror_mode": {
    "name": "ipython",
    "version": 3
   },
   "file_extension": ".py",
   "mimetype": "text/x-python",
   "name": "python",
   "nbconvert_exporter": "python",
   "pygments_lexer": "ipython3",
   "version": "3.10.12"
  }
 },
 "nbformat": 4,
 "nbformat_minor": 5
}
